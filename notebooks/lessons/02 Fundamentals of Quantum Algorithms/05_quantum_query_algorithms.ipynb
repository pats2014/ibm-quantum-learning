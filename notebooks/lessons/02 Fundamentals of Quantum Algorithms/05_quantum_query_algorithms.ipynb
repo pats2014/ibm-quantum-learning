{
 "cells": [
  {
   "cell_type": "markdown",
   "id": "e69eb5b4",
   "metadata": {},
   "source": [
    "# Quantum query algorithms <a id=\"quantum-query-algorithms\"></a>\n",
    "\n",
    "## Table of Contents\n",
    "\n",
    "- [Introduction](#introduction)\n",
    "- [The query model of computation](#the-query-model-of-computation)\n",
    "    - [High-level description](#high-level-description)\n",
    "    - [Examples of query problems](#examples-of-query-problems)\n",
    "    - [Query gates](#query-gates)\n",
    "- [Deutsch's algorithm](#deutschs-algorithm)\n",
    "  - [Quantum circuit description](#quantum-circuit-description)\n",
    "  - [Analysis](#analysis)\n",
    "  - [Further remarks on the phase kickback](#further-remarks-on-the-phase-kickback)\n",
    "  - [Implementation in Qiskit](#implementation-in-qiskit)\n",
    "- [The Deutsch-Jozsa algorithm](#the-deutsch-jozsa-algorithm)\n",
    "  - [The Deutsch-Jozsa problem](#the-deutsch-jozsa-problem)\n",
    "  - [The Bernstein-Vazirani problem](#the-bernstein-vazirani-problem)\n",
    "- [Simon's algorithm](#simons-algorithm)\n",
    "  - [Simon's problem](#simons-problem)\n",
    "  - [Quantum circuit description](#quantum-circuit-description-2)\n",
    "  - [Analysis](#analysis-2)\n",
    "  - [Implementation](#implementation)"
   ]
  },
  {
   "cell_type": "markdown",
   "id": "37413b63",
   "metadata": {},
   "source": [
    "## [Introduction](#introduction)\n",
    "\n",
    "This course investigates computational advantages offered by quantum information — or what we can do better with quantum computers than we can with ordinary classical computers. Our focus will be on what we can do with a single quantum computer, as opposed to a distributed setting where multiple quantum computers interact over a network, for instance. (There are quantum advantages to be found in distributed settings, where communication and cryptography come into play, but they're outside of the scope of this course.)\n",
    "\n",
    "Let's begin with a natural question: What advantages might a quantum computer potentially offer?\n",
    "\n",
    "The most important advantage is that a quantum computer might provide faster solutions to some computational problems. Time is a precious resource. And it is this potential — that quantum computers may allow us to solve certain computational problems that classical computers are too slow to solve — that has driven quantum computing research for the past few decades. This will be our primary focus.\n",
    "\n",
    "Other computational resources besides time can also be considered, such as the amount computer memory required to perform computations, which is typically referred to as the space required for computations. But, as it turns out, quantum computers have a limited potential to offer advantages in space usage over classical computers — and classical memory happens to be quite a bit less expensive than quantum memory — so we won't consider it further in this course.\n",
    "\n",
    "One thing that quantum computers cannot do is to provide solutions to computational problems that classical computers cannot solve irrespective of the resources required. For example, the famous halting problem formulated by Alan Turing in the 1930s cannot be solved (or decided using more precise terminology) by a classical computer, and so it follows that it can't be solved by a quantum computer either. This is because quantum computers can be simulated by classical computers, so any computational problem that can be solved by a quantum computer can also be solved by a classical computer (though the classical computer might take much, much longer).\n",
    "\n",
    "While the time required to solve problems will be our main concern in this course, we'll deviate slightly from this focus for the purposes of this first lesson. What we'll do is to formulate a simple algorithmic framework — known as the query model — and explore the advantages that quantum computers offer within this framework. The query model of computation is like a petri dish for quantum algorithmic ideas. It's rigid and unnatural, in the sense that it doesn't accurately represent the sorts of computational problems we generally care about in practice, but it has nevertheless proved to be incredibly useful as a tool for developing quantum algorithmic techniques, including ones that power the most well-known quantum algorithms (such as Shor's factoring algorithm). It also happens to be a very useful framework for explaining quantum algorithmic techniques.\n",
    "\n",
    "After introducing the query model itself, we'll discuss the very first quantum algorithm discovered, which is Deutsch's algorithm, along with an extension of Deutsch's algorithm known as the Deutsch-Jozsa algorithm. These algorithms demonstrate quantifiable advantages of quantum over classical computers within the context of the query mode. We'll then discuss a quantum algorithm known as Simon's algorithm, which offers a more robust and satisfying advantage of quantum over classical computations, for reasons that will be explained when we get to it."
   ]
  },
  {
   "attachments": {
    "query-computation.png": {
     "image/png": "[encoded data removed]"
    },
    "standard-computation.png": {
     "image/png": "[encoded data removed]"
    }
   },
   "cell_type": "markdown",
   "id": "345539fc",
   "metadata": {},
   "source": [
    "## [The query model of computation](#the-query-model-of-computation)\n",
    "### [High-level description](#high-level-description)\n",
    "\n",
    "When we model computations in mathematical terms, we typically have in mind the sort of process represented by the following figure, where information is provided as input, a computation takes place, and output is produced.\n",
    "\n",
    "![standard-computation.png](attachment:standard-computation.png)\n",
    "\n",
    "While it is true that the computers we use today continuously receive input and produce output, essentially interacting with both us and with other computers in a way not reflected by the figure, the intention is not to represent the ongoing operation of computers. Rather, it is to create a simple abstraction of computation, focusing on isolated computational tasks. For example, the input might encode a number, a vector, a matrix, a graph, a description of a molecule, or something more complicated, while the output encodes a solution to the computational task we have in mind. The key point is that the input is provided to the computation, usually in the form of a binary string, with no part of it being hidden.\n",
    "\n",
    "In the query model of computation, on the other hand, the entire input is not provided to the computation in this way. Rather, the input is made available in the form of a function, which the computation accesses by making queries. Alternatively, we may view that computations in the query model have random access to bits (or segments of bits) of the input.\n",
    "\n",
    "![query-computation.png](attachment:query-computation.png)\n",
    "\n",
    "We often refer to the input as being provided by an oracle or black box in the context of the query model. Both terms suggest that a complete description of the input is hidden from the computation, with the only way to access it being to ask questions. It is as if we're consulting the Oracle at Delphi about the input: she won't tell us everything she knows, she only answers specific questions. The term black box makes sense especially when we think about the input as being represented by a function: we cannot look inside the function and understand how it works, we can only evaluate it on arguments we select.\n",
    "\n",
    "We're going to be working exclusively with binary strings in this lesson, as opposed to strings containing different symbols, so let's write $\\Sigma = \\{0, 1\\}$ hereafter to refer to the binary alphabet for convenience. We'll be thinking about different computational problems, with some simple examples described shortly, but for all of them the input will be represented by a function taking the form\n",
    "\n",
    "$$\n",
    "f : \\Sigma^n \\rightarrow \\Sigma^m\n",
    "$$\n",
    "\n",
    "for two positive integers $n$ and $m$. Naturally, we could choose a different name in place of $f$, but we'll stick with $f$ throughout the lesson.\n",
    "\n",
    "To say that a computation makes a *query* means that some string $x \\in \\Sigma^n$ is selected, and then the string $f(x) \\in \\Sigma^m$ is made available. The precise way that this works for quantum algorithms will be discussed shortly — we need to make sure that this is possible to do with a unitary quantum operation allowing queries to be made in superposition — but for now we can think about it intuitively at a high level.\n",
    "\n",
    "Finally, the way that we'll measure efficiency of query algorithms is simple: we'll count the number of queries they require. This is related to the time required to perform a computation, but it's not exactly the same because we're ignoring the time required for operations other than the queries, and we're also treating the queries as if they each have unit cost. We could take the operations besides the queries into account if we wanted to (and this is sometimes done), but restricting our attention just to the number of queries helps to keep things simple.\n"
   ]
  },
  {
   "cell_type": "markdown",
   "id": "82e07e12",
   "metadata": {},
   "source": [
    "### [Examples of query problems](#examples-of-query-problems)\n",
    "Here are a few simple examples of query problems.\n",
    "\n",
    "– **OR**. The input function takes the form $f : \\Sigma^n \\rightarrow \\Sigma$ (so $m = 1$ for this problem). The task is to output 1 if there exists a string $x \\in \\Sigma^n$ for which $f(x) = 1$, and to output 0 if there is no such string. If we think about the function $f$ as representing a sequence of $2^n$ bits to which we have random access, the problem is to compute the OR of these bits.\n",
    "\n",
    "– **Parity**. The input function again takes the form $f : \\Sigma^n \\rightarrow \\Sigma$. The task is to determine whether the number of strings $x \\in \\Sigma^n$ for which $f(x) = 1$ is even or odd. To be precise, the required output is 0 if the set $\\{x \\in \\Sigma^n : f(x) = 1\\}$ has an even number of elements and 1 if it has an odd number of elements. If we think about the function $f$ as representing a sequence of $2^n$ bits to which we have random access, the problem is to compute the parity (or exclusive-OR) of these bits.\n",
    "\n",
    "– **Minimum**. The input function takes the form $f : \\Sigma^n \\rightarrow \\Sigma^m$ for any choices of positive integers $n$ and $m$. The required output is the string $y \\in \\{f(x) : x \\in \\Sigma^n\\}$ that comes first in the lexicographic (i.e., dictionary) ordering of $\\Sigma^m$. If we think about the function $f$ as representing a sequence of $2^n$ integers encoded as strings of length $m$ in binary notation to which we have random access, the problem is to compute the minimum of these integers.\n",
    "\n",
    "Sometimes we also consider query problems where we have a *promise* on the input. What this means is that we're given some sort of guarantee on the input, and we're not responsible for what happens when this guarantee is not met. Another way to describe this type of problem is to say that some input functions (the ones for which the promise is not satisfied) are considered as \"don't care\" inputs. No requirements at all are placed on algorithms when they're given \"don't care\" inputs.\n",
    "\n",
    "Here's one example of a problem with a promise:\n",
    "\n",
    "– **Unique search**. The input function takes the form $f : \\Sigma^n \\rightarrow \\Sigma$, and we are *promised* that there is exactly one string $z \\in \\Sigma^n$ for which $f(z) = 1$, with $f(x) = 0$ for all strings $x \\ne z$. The task is to find this unique string $z$.\n",
    "\n",
    "All four of the examples just described are natural, in the sense that they're easy to describe and we can imagine a variety of situations or contexts in which they might arise.\n",
    "\n",
    "In contrast, some query problems aren't \"natural\" like this at all. In fact, in the study of the query model, we sometimes come up with very complicated and highly contrived problems where it's difficult to imagine that anyone would ever actually want to solve them in practice. This doesn't mean that the problems aren't interesting, though! Sometimes things that seem contrived or unnatural at first can produce unexpected clues or inspire new ideas. Shor's quantum algorithm for factoring, which was inspired by Simon's algorithm, is a great example. It's also an important part of the study of the query model to look for extremes, which can shed light on the potential and the limitations of quantum computing.\n",
    "\n"
   ]
  },
  {
   "attachments": {
    "classical-parity.png": {
     "image/png": "[encoded data removed]"
    },
    "classical-query-gate.png": {
     "image/png": "[encoded data removed]"
    },
    "unitary-query-gate.png": {
     "image/png": "[encoded data removed]"
    }
   },
   "cell_type": "markdown",
   "id": "07cd774d",
   "metadata": {},
   "source": [
    "### [Query gates](#query-gates)\n",
    "When we're describing computations with circuits, queries are made by special gates called query gates. The simplest way to define query gates for classical Boolean circuits is to simply allow them to compute the input function $f$ directly, as the following figure suggests.\n",
    "\n",
    "![classical-query-gate.png](attachment:classical-query-gate.png)\n",
    "\n",
    "When a Boolean circuit is created for a query problem, the input function $f$ is accessed through these gates, and the number of queries that the circuit makes is simply the number of query gates that appear in the circuit. The input wires of the Boolean circuit itself are initialized to fixed values, which should be considered as part of the algorithm (as opposed to being inputs to the problem).\n",
    "\n",
    "For example, here's a Boolean circuit with classical query gates that solves the parity problem described above for a function of the form $f : \\Sigma \\rightarrow \\Sigma:$\n",
    "\n",
    "![classical-parity.png](attachment:classical-parity.png)\n",
    "\n",
    "This algorithm makes two queries because there are two query gates. The way it works is that the function $f$ is queried on the two possible inputs, $0$ and $1$ and the results are plugged into a Boolean circuit that computes the XOR. (This particular circuit appeared as an example of a Boolean circuit in the [Quantum circuits lesson](3_quantum_cicuits.ipynb) of the Basics of quantum information course (lessons 1 though 4))\n",
    "\n",
    "For quantum circuits, this definition of query gates doesn't work, because these gates will be non-unitary for some choices of the function $f$ So, what we do instead is to define unitary query gates that operate as this figure suggests on standard basis states:\n",
    "\n",
    "![unitary-query-gate.png](attachment:unitary-query-gate.png)\n",
    "\n",
    "Here, our assumption is that $x \\in \\Sigma^n$ and $y \\in \\Sigma^m$ are arbitrary strings. Note that the notation $y \\oplus f(x)$ refers to the *bitwise exclusive OR* of two strings, which have length $m$ in this case. For example, $001 \\oplus 101 = 100$.\n",
    "\n",
    "Intuitively speaking, what the gate $U_f$ does (for any chosen function $f$) is to echo the top input string $x$ and XOR the function value $f(x)$ onto the bottom input string $y$, which is a unitary operation for every choice for the function $f$. To be more precise, as a matrix $U_f$ is always a *permutation matrix*, meaning a matrix with a single 1 in each row and each column, with all other entries being 0. Applying a permutation matrix to a vector simply shuffles the entries of the vector (hence the term *permutation matrix*), and therefore does not change that vector's Euclidean norm — revealing that permutation matrices are always unitary.\n",
    "\n",
    "Notice that when we analyze query algorithms by simply counting the number of queries that a query algorithm makes, we're completely ignoring the difficulty of physically constructing the query gates (for both the classical and quantum versions just described). Intuitively speaking, the construction of the query gates is part of the preparation of the input, not part of finding a solution. That might seem unreasonable — but we must keep in mind that we're not trying to describe practical computing or fully account for the resources required. Rather, we're defining a theoretical model that helps to shed light on the potential advantages of quantum computing. We'll have more to say about this point in the lesson following this one when we turn our attention to a more standard model of computation where inputs are given explicitly to circuits as binary strings.\n"
   ]
  },
  {
   "cell_type": "markdown",
   "id": "f7361300",
   "metadata": {},
   "source": [
    "## [Deutsch's algorithm](#deutschs-algorithm)\n",
    "\n",
    "Deutsch's algorithm solves the parity problem described above for the special case that $n = 1$. In the context of quantum computing this problem is sometimes referred to as *Deutsch's problem*, and we'll follow that nomenclature in this lesson — but really it's just the simplest nontrivial version of the parity problem.\n",
    "\n",
    "To be precise, the input is represented by a function $f : \\Sigma \\rightarrow \\Sigma$ from one bit to one bit. There are 4 such functions:\n",
    "\n",
    "| $a$ | $f_1(a)$ | &nbsp;&nbsp;&nbsp;&nbsp;| $a$ | $f_2(a)$ | &nbsp;&nbsp;&nbsp;&nbsp;| $a$ | $f_3(a)$ | &nbsp;&nbsp;&nbsp;&nbsp;| $a$ | $f_4(a)$ |\n",
    "|----:|---------:|:-----------------------:|----:|---------:|:-----------------------:|----:|---------:|:-----------------------:|----:|---------:|\n",
    "|  0  |    0     |                         |  0  |    0     |                         |  0  |    1     |                         |  0  |    1     |\n",
    "|  1  |    0     |                         |  1  |    1     |                         |  1  |    0     |                         |  1  |    1     |\n",
    "\n",
    "The first and last of these functions are **constant** and the middle two are **balanced**, meaning that the two possible output values for the function occur the same number of times as we range over the inputs. Deutsch's problem is to determine which of these two categories the input function belongs to: constant or balanced.\n",
    "\n",
    "> **Deutsch's problem**  \n",
    "> Input: a function $f : \\{0, 1\\} \\rightarrow \\{0, 1\\}$  \n",
    "> Output: 0 if $f$ is constant, 1 if $f$ is balanced\n",
    "\n",
    "If we view the input function $f$ in Deutsch's problem as representing random access to a string, we're thinking about a two-bit string: $f(0)f(1)$.\n",
    "\n",
    "| function | string |\n",
    "|----------|--------|\n",
    "| $f_1$    |   00   |\n",
    "| $f_2$    |   01   |\n",
    "| $f_3$    |   10   |\n",
    "| $f_4$    |   11   |\n",
    "\n",
    "When viewed in this way, Deutsch's problem is to compute the parity (or, equivalently, the exclusive-OR) of the two bits.\n",
    "\n",
    "Every classical query algorithm that correctly solves this problem must query both bits: $f(0)$ and $f(1)$. If we learn that $f(1) = 1$, for instance, the answer could still be 0 or 1, depending on whether $f(0) = 1$ or $f(0) = 0$, respectively. Every other case is similar; knowing just one of the two bits doesn't provide any information at all about their parity. So, the Boolean circuit described in the previous section is the best we can do in terms of the number of queries required to solve this problem.\n"
   ]
  },
  {
   "attachments": {
    "Deutsch-circuit.png": {
     "image/png": "[encoded data removed]"
    }
   },
   "cell_type": "markdown",
   "id": "7c122a73",
   "metadata": {},
   "source": [
    "### [Quantum circuit description](#quantum-circuit-description)\n",
    "Deutsch's algorithm solves Deutsch's problem using a single query, therefore providing a quantifiable advantage of quantum over classical computations. This may be a modest advantage — one query as opposed to two — but we have to start somewhere. Scientific advancements often have seemingly humble origins.\n",
    "\n",
    "Here is a quantum circuit that describes Deutsch's algorithm:\n",
    "\n",
    "![Deutsch-circuit.png](attachment:Deutsch-circuit.png)"
   ]
  },
  {
   "cell_type": "code",
   "execution_count": 2,
   "id": "2a9d2710",
   "metadata": {},
   "outputs": [
    {
     "data": {
      "image/png": "[encoded data removed]",
      "text/plain": [
       "<Figure size 454.517x284.278 with 1 Axes>"
      ]
     },
     "metadata": {},
     "output_type": "display_data"
    }
   ],
   "source": [
    "from qiskit import QuantumCircuit\n",
    "# Create a quantum circuit with 2 qubits and 1 classical bit\n",
    "qc = QuantumCircuit(2, 1)\n",
    "# Apply a Hadamard gate to both qubits\n",
    "qc.h(0)\n",
    "qc.h(1)\n",
    "\n",
    "# Apply the oracle (U_f) - this is problem-specific and depends on the function f\n",
    "# For example, if f(x) = x, the oracle can be represented as a CNOT gate\n",
    "qc.cx(0, 1)\n",
    "\n",
    "# Apply a Hadamard gate to the first qubit again\n",
    "qc.h(0)\n",
    "\n",
    "# Measure the first qubit\n",
    "qc.measure(0, 0)\n",
    "\n",
    "# Draw the circuit\n",
    "display(qc.draw(output=\"mpl\"))"
   ]
  },
  {
   "attachments": {
    "Deutsch-circuit-states.png": {
     "image/png": "[encoded data removed]"
    }
   },
   "cell_type": "markdown",
   "id": "ea944b80",
   "metadata": {},
   "source": [
    "### [Analysis](#analysis)\n",
    "To analyze Deutsch's algorithm, we will trace through the action of the circuit above and identify the states of the qubits at the times suggested by this figure:\n",
    "\n",
    "![Deutsch-circuit-states.png](attachment:Deutsch-circuit-states.png)\n",
    "\n",
    "Here, the initial state is  \n",
    "$$\n",
    "|\\pi_0\\rangle = |1\\rangle\\,|0\\rangle,\n",
    "$$  \n",
    "and the two Hadamard operations on the left-hand side of the circuit transform this state to\n",
    "\n",
    "$$\n",
    "|\\pi_1\\rangle = |-\\rangle\\,|+\\rangle\n",
    "= \\frac{1}{2}\\bigl(|0\\rangle - |1\\rangle\\bigr)\\,|0\\rangle\n",
    "+ \\frac{1}{2}\\bigl(|0\\rangle - |1\\rangle\\bigr)\\,|1\\rangle.\n",
    "$$\n",
    "\n",
    "As always, we're following Qiskit's ordering convention, which puts the top qubit to the right and the bottom qubit to the left.\n",
    "\n",
    "Next, the $U_f$ gate is performed. According to the definition of the $U_f$ gate, the value of the function $f$ for the classical state of the top/rightmost qubit is XORed onto the bottom/leftmost qubit, which transforms $|\\pi_1\\rangle$ into\n",
    "\n",
    "$$\n",
    "|\\pi_2\\rangle\n",
    "= \\tfrac12\\bigl(|0 \\oplus f(0)\\rangle - |1 \\oplus f(0)\\rangle\\bigr)\\,|0\\rangle\n",
    "+ \\tfrac12\\bigl(|0 \\oplus f(1)\\rangle - |1 \\oplus f(1)\\rangle\\bigr)\\,|1\\rangle.\n",
    "$$\n",
    "\n",
    "We can simplify this expression by observing the formula\n",
    "\n",
    "$$\n",
    "|0 \\oplus a\\rangle - |1 \\oplus a\\rangle\n",
    "= (-1)^a \\bigl(|0\\rangle - |1\\rangle\\bigr),\n",
    "$$\n",
    "\n",
    "which holds for both possible values $a\\in\\Sigma$. More explicitly the 2 cases:\n",
    "\n",
    "- For $a=0$:  \n",
    "  $$\n",
    "  |0 \\oplus 0\\rangle - |1 \\oplus 0\\rangle\n",
    "  = |0\\rangle - |1\\rangle = (-1)^0\\bigl(|0\\rangle - |1\\rangle\\bigr).\n",
    "  $$\n",
    "- For $a=1$:  \n",
    "  $$\n",
    "  |0 \\oplus 1\\rangle - |1 \\oplus 1\\rangle\n",
    "  = |1\\rangle - |0\\rangle = -\\bigl(|0\\rangle - |1\\rangle\\bigr)\n",
    "  = (-1)^1\\bigl(|0\\rangle - |1\\rangle\\bigr).\n",
    "  $$\n",
    "\n",
    "Thus we can rewrite $|\\pi_2\\rangle$ as\n",
    "\n",
    "$$\n",
    "|\\pi_2\\rangle\n",
    "= \\tfrac12(-1)^{f(0)}\\bigl(|0\\rangle - |1\\rangle\\bigr)\\,|0\\rangle\n",
    "+ \\tfrac12(-1)^{f(1)}\\bigl(|0\\rangle - |1\\rangle\\bigr)\\,|1\\rangle\n",
    "= |-\\rangle \\;\\frac{(-1)^{f(0)}|0\\rangle + (-1)^{f(1)}|1\\rangle}{\\sqrt{2}}.\n",
    "$$\n",
    "\n",
    "Something interesting just happened!  Although the action of the $U_f$ gate on standard basis states leaves the top/rightmost qubit alone and XORs the function value onto the bottom/leftmost qubit, here we see that the state of the top/rightmost qubit has changed (in general) while the state of the bottom/leftmost qubit remains the same — specifically being in the $|-\\rangle$ state before and after the $U_f$ gate is performed.  This phenomenon is known as the **phase kickback**, and we will have more to say about it shortly.\n",
    "\n",
    "With one final simplification (pulling the global factor $(-1)^{f(0)}$ outside the sum), we obtain:\n",
    "\n",
    "$$\n",
    "|\\pi_2\\rangle\n",
    "= (-1)^{f(0)}\\,|-\\rangle\n",
    "\\;\\frac{|0\\rangle + (-1)^{\\,f(0)\\oplus f(1)}\\,|1\\rangle}{\\sqrt{2}}\n",
    "= \n",
    "\\begin{cases}\n",
    "(-1)^{f(0)}\\,|-\\rangle\\,|+\\rangle \n",
    "& \\text{if }f(0)\\oplus f(1) = 0,\\\\[6pt]\n",
    "(-1)^{f(0)}\\,|-\\rangle\\,|-\\rangle \n",
    "& \\text{if }f(0)\\oplus f(1) = 1.\n",
    "\\end{cases}\n",
    "$$\n",
    "\n",
    "Notice that in this final expression, the exponent is $f(0)\\oplus f(1)$ in the exponent of $-1$ as opposed to $f(1)-f(0)$,which is what we may expect from a purely algebraic viewpoint, but we obtain the same value either way. This is becaise the value $k$, $(-1)^k$ depends only on whether $k$ is even or odd—so both viewpoints agree.\n",
    "\n",
    "Applying the final Hadamard gate to the top qubit leaves us with the state:\n",
    "\n",
    "$$\n",
    "|\\pi_3\\rangle =\n",
    "\\begin{cases}\n",
    "(-1)^{f(0)}\\,|-\\rangle|0\\rangle & \\text{if } f(0)\\oplus f(1)=0,\\\\\n",
    "(-1)^{f(0)}\\,|-\\rangle|1\\rangle & \\text{if } f(0)\\oplus f(1)=1,\n",
    "\\end{cases}\n",
    "$$\n",
    "\n",
    "which leads to the correct outcome with probability 1 when the right/topmost qubit is measured.\n",
    "\n"
   ]
  },
  {
   "cell_type": "markdown",
   "id": "7257b3e1",
   "metadata": {},
   "source": [
    "## [Further remarks on the phase kickback](#further-remarks-on-the-phase-kickback)\n",
    "\n",
    "Before moving on, let's look at the analysis above from a slightly different angle that may shed some light on the phase kickback phenomenon.\n",
    "\n",
    "First, notice that the following formula works for all choices of bits $b,c \\in \\Sigma$ :\n",
    "\n",
    "$$\n",
    "|b \\oplus c\\rangle \\;=\\; X^c \\,\\lvert b\\rangle.\n",
    "$$\n",
    "\n",
    "This can be verified by checking it for the two possible values $c=0$ and $c=1$:\n",
    "\n",
    "$$\n",
    "\\begin{aligned}\n",
    "|b \\oplus 0\\rangle &= \\lvert b\\rangle = I\\,\\lvert b\\rangle = X^0\\,\\lvert b\\rangle,\\\\\n",
    "|b \\oplus 1\\rangle &= \\lvert \\neg b\\rangle = X\\,\\lvert b\\rangle = X^1\\,\\lvert b\\rangle.\n",
    "\\end{aligned}\n",
    "$$\n",
    "\n",
    "Using this formula, we see that\n",
    "\n",
    "$$\n",
    "U_f\\bigl(\\lvert b\\rangle\\lvert a\\rangle\\bigr)\n",
    "= \\lvert b \\oplus f(a)\\rangle\\,\\lvert a\\rangle\n",
    "= \\bigl(X^{f(a)}\\lvert b\\rangle\\bigr)\\,\\lvert a\\rangle\n",
    "$$\n",
    "\n",
    "for every choice of bits $a,b \\in \\Sigma$. Because this formula is true for $b=0$ and $b=1$, by linearity we get\n",
    "\n",
    "$$\n",
    "U_f\\bigl(\\lvert \\psi\\rangle\\lvert a\\rangle\\bigr)\n",
    "= \\bigl(X^{f(a)}\\lvert \\psi\\rangle\\bigr)\\,\\lvert a\\rangle\n",
    "$$\n",
    "\n",
    "for all qubit state vectors $\\lvert \\psi\\rangle$, and therefore\n",
    "\n",
    "$$\n",
    "U_f\\bigl(\\lvert -\\rangle\\lvert a\\rangle\\bigr)\n",
    "= \\bigl(X^{f(a)}\\lvert -\\rangle\\bigr)\\,\\lvert a\\rangle\n",
    "= (-1)^{f(a)}\\,\\lvert -\\rangle\\,\\lvert a\\rangle.\n",
    "$$\n",
    "\n",
    "The key that makes this work is that $X\\lvert -\\rangle = -\\lvert -\\rangle$. In mathematical terms, the vector $\\lvert -\\rangle$ is an *eigenvector* of the matrix $X$ having eigenvalue $-1$. We'll discuss eigenvectors and eigenvalues in greater detail in the upcoming lesson on [Phase estimation and factoring](7_phase_estimation_and_factoring.ipynb), where the phase kickback phenomenon is generalized to other unitary operations.\n",
    "\n",
    "Keeping in mind that scalars float freely through tensor products, we find an alternative way of reasoning how the operation $U_f$ transforms $\\lvert \\pi_1\\rangle$ into $\\lvert \\pi_2\\rangle$ in the analysis above:\n",
    "\n",
    "$$\n",
    "\\begin{aligned}\n",
    "\\lvert \\pi_2\\rangle\n",
    "&= U_f\\bigl(\\lvert -\\rangle\\lvert +\\rangle\\bigr)\\\\\n",
    "&= \\tfrac{1}{\\sqrt{2}}\\;U_f\\bigl(\\lvert -\\rangle\\lvert 0\\rangle\\bigr)\n",
    "+ \\tfrac{1}{\\sqrt{2}}\\;U_f\\bigl(\\lvert -\\rangle\\lvert 1\\rangle\\bigr)\\\\\n",
    "&= \\lvert -\\rangle\\;\\frac{(-1)^{f(0)}\\lvert 0\\rangle + (-1)^{f(1)}\\lvert 1\\rangle}{\\sqrt{2}}.\n",
    "\\end{aligned}\n",
    "$$"
   ]
  },
  {
   "cell_type": "markdown",
   "id": "02582083",
   "metadata": {},
   "source": [
    "### [Implementation in Qiskit](#implementation-in-qiskit)\n",
    "Now let's see how we can implement Deutsch's algorithm in Qiskit. We'll start with a version check and then perform the imports required just for this implementation. For the implementations of other algorithms that follows, we'll perform the required imports separately for the sake of greater modularity."
   ]
  },
  {
   "cell_type": "code",
   "execution_count": 16,
   "id": "ab5fd09d",
   "metadata": {},
   "outputs": [
    {
     "name": "stdout",
     "output_type": "stream",
     "text": [
      "2.0.0\n"
     ]
    }
   ],
   "source": [
    "from qiskit import __version__\n",
    "print(__version__)"
   ]
  },
  {
   "cell_type": "code",
   "execution_count": 17,
   "id": "b30d8ba1",
   "metadata": {},
   "outputs": [],
   "source": [
    "from qiskit import QuantumCircuit\n",
    "from qiskit_aer import AerSimulator"
   ]
  },
  {
   "cell_type": "markdown",
   "id": "30951060",
   "metadata": {},
   "source": [
    "First we'll define a quantum circuit that implements a query gate for one of the four functions $f_1, f_2, f_3 or f_4$ from one bit to one bit described previously. As we already mentioned, the implementation of query gates is not really a part of Deutsch's algorithm itself; here we're essentially just showing one way to prepare the input, in the form of a circuit implementation of a query gate."
   ]
  },
  {
   "cell_type": "code",
   "execution_count": 18,
   "id": "924d5a70",
   "metadata": {},
   "outputs": [],
   "source": [
    "def deutsch_function(case: int):\n",
    "    # This function generates a quantum circuit for one of the 4 functions\n",
    "    # from one bit to one bit\n",
    "\n",
    "    if case not in [1, 2, 3, 4]:\n",
    "        raise ValueError(\"`case` must be 1, 2, 3, or 4.\")\n",
    "\n",
    "    f = QuantumCircuit(2)\n",
    "    if case in [2, 3]:\n",
    "        f.cx(0, 1)\n",
    "    if case in [3, 4]:\n",
    "        f.x(1)\n",
    "    return f"
   ]
  },
  {
   "cell_type": "code",
   "execution_count": null,
   "id": "293654f3",
   "metadata": {},
   "outputs": [
    {
     "data": {
      "image/png": "[encoded data removed]",
      "text/plain": [
       "<Figure size 287.294x200.667 with 1 Axes>"
      ]
     },
     "metadata": {},
     "output_type": "display_data"
    }
   ],
   "source": [
    "# We can see what each circuit looks like using the draw method. Here's the circuit for the function f_3:\n",
    "# Deutsch's algorithm for the function f_3\n",
    "display(deutsch_function(3).draw(output=\"mpl\"))"
   ]
  },
  {
   "cell_type": "markdown",
   "id": "768fb482",
   "metadata": {},
   "source": [
    "Next we will create the actual quantum circuit for Deutsch's algorithm, substituting the query gate with a quantum circuit implementation given as an argument. Shortly we'll plug in one of the four circuits defined by the function `deutsch_function` we defined earlier. Barriers are included to show the visual separation between the query gate implementation and the rest of the circuit."
   ]
  },
  {
   "cell_type": "code",
   "execution_count": 20,
   "id": "11e561e5",
   "metadata": {},
   "outputs": [],
   "source": [
    "def compile_circuit(function: QuantumCircuit):\n",
    "    # Compiles a circuit for use in Deutsch's algorithm.\n",
    "\n",
    "    n = function.num_qubits - 1\n",
    "    qc = QuantumCircuit(n + 1, n)\n",
    "\n",
    "    qc.x(n)\n",
    "    qc.h(range(n + 1))\n",
    "\n",
    "    qc.barrier()\n",
    "    qc.compose(function, inplace=True)\n",
    "    qc.barrier()\n",
    "\n",
    "    qc.h(range(n))\n",
    "    qc.measure(range(n), range(n))\n",
    "\n",
    "    return qc"
   ]
  },
  {
   "cell_type": "code",
   "execution_count": 21,
   "id": "2426fe24",
   "metadata": {},
   "outputs": [
    {
     "data": {
      "image/png": "[encoded data removed]",
      "text/plain": [
       "<Figure size 788.961x284.278 with 1 Axes>"
      ]
     },
     "metadata": {},
     "output_type": "display_data"
    }
   ],
   "source": [
    "# Now we can compile the circuit for f_3 and draw it:\n",
    "display(compile_circuit(deutsch_function(3)).draw(output=\"mpl\"))"
   ]
  },
  {
   "cell_type": "markdown",
   "id": "40bf2651",
   "metadata": {},
   "source": [
    "Finally, we'll create a function that runs the circuit just defined one time and outputs the appropriate result: \"constant\" or \"balanced.\""
   ]
  },
  {
   "cell_type": "code",
   "execution_count": 23,
   "id": "433c3205",
   "metadata": {},
   "outputs": [],
   "source": [
    "# Finally, we can run the circuit using the AerSimulator backend:\n",
    "def deutsch_algorithm(function: QuantumCircuit):\n",
    "    # Determine if a one-bit function is constant or balanced.\n",
    "\n",
    "    qc = compile_circuit(function)\n",
    "\n",
    "    result = AerSimulator().run(qc, shots=1, memory=True).result()\n",
    "    measurements = result.get_memory()\n",
    "    if measurements[0] == \"0\":\n",
    "        return \"constant\"\n",
    "    return \"balanced\""
   ]
  },
  {
   "cell_type": "code",
   "execution_count": 26,
   "id": "bc8691c2",
   "metadata": {},
   "outputs": [
    {
     "name": "stdout",
     "output_type": "stream",
     "text": [
      "f_1 is constant\n",
      "f_2 is balanced\n",
      "f_3 is balanced\n",
      "f_4 is constant\n"
     ]
    }
   ],
   "source": [
    "for i in range(1, 5):\n",
    "    print(f\"f_{i} is {deutsch_algorithm(deutsch_function(i))}\")"
   ]
  },
  {
   "attachments": {
    "Deutsch-Jozsa.png": {
     "image/png": "[encoded data removed]"
    }
   },
   "cell_type": "markdown",
   "id": "ecbbc4b2",
   "metadata": {},
   "source": [
    "## [The Deutsch-Jozsa algorithm](#the-deutsch-jozsa-algorithm)\n",
    "Deutsch's algorithm outperforms all classical algorithms for a query problem, but the advantage is quite modest: one query versus two. The Deutsch-Josza algorithm extends this advantage — and, in fact, it can be used to solve a couple of different query problems. Here's a quantum circuit description of the Deutsch-Jozsa algorithm. (An additional classical post-processing step, not shown in the figure, may also be required depending on the specific problem being solved.)\n",
    "\n",
    "![Deutsch-Jozsa.png](attachment:Deutsch-Jozsa.png)\n",
    "\n",
    "Of course, we haven't actually discussed what problems this algorithm solves; that's done in the subsections that follow."
   ]
  },
  {
   "cell_type": "markdown",
   "id": "b6c3ab40",
   "metadata": {},
   "source": [
    "### [The Deutsch-Jozsa problem](#the-deutsch-jozsa-problem)\n",
    "\n",
    "We'll begin with the query problem the Deutsch-Josza algorithm was originally intended to solve, which is known as the Deutsch-Jozsa problem. The input function takes the form $f: \\Sigma^n \\rightarrow \\Sigma$ for an arbitary positive integer $n$. Like Deutsch's problem, the task is to output $0$ if $f$ is constant and $1$ if $f$ is balanced, which again means that the number of the input strings on which the function takes the value $0$ is equial to the number of the input strings on which the function takes tha value $1$.\n",
    "\n",
    "Notice that, when $n$ is larger than $1$, there are functions of the form $f: \\Sigma^n \\rightarrow \\Sigma$ that are neither constant nor balanced. For example, the function $f: \\Sigma^2 \\rightarrow \\Sigma$ defined as:\n",
    "\n",
    "$$\n",
    "\\begin{aligned}\n",
    "f(00) = 0\\\\\n",
    "f(01) = 0\\\\\n",
    "f(10) = 0\\\\\n",
    "f(11) = 1\n",
    "\\end{aligned}\n",
    "$$\n",
    "\n",
    "falls into neither of these two categories. For the Deutsch-Jozsa problem, we simply don't worry about functions like this — they're considered to be \"don't care\" inputs. That is, for this problem we have a promise that\n",
    "\n",
    "> **Deutsch-Jozsa problem**  \n",
    "> Input: a function $f : \\{0, 1\\}^n \\rightarrow \\{0, 1\\}$  \n",
    "> Promise: $f$ is constant or balanced\n",
    "> Output: 0 if $f$ is constant, 1 if $f$ is balanced\n",
    "\n",
    "The Deutsch-Jozsa algorithm, with its single query, solves this problem in the following sense: if every one of the $n$ measurement outcomes is $0$ then the function $f$ is constant; and otherwise, if at least one of the measurement outcomes is $1$, then the function $f$ is balanced. Another wat to say this is that the cicuit described above is followed by a classical post-processing step in which the OR of the measirement outcomes is computed to produce the output.\n",
    "\n",
    "#### Algorithm Analysis\n",
    "\n",
    "To analyze the performance of the Deutsch-Jozsa algorithm for the Deutsch-Jozsa problem, it's helpful to begin by thinking about the action of a single layer of Hadamard gates. A Hadamard operation can be expressed as a matrix in the usual way,\n",
    "\n",
    "$$\n",
    "H = \\begin{pmatrix}\n",
    "\\tfrac{1}{\\sqrt{2}} & \\tfrac{1}{\\sqrt{2}} \\\\[6pt]\n",
    "\\tfrac{1}{\\sqrt{2}} & -\\tfrac{1}{\\sqrt{2}}\n",
    "\\end{pmatrix},\n",
    "$$\n",
    "\n",
    "but we can also express this operation in terms of its action on standard basis states:\n",
    "\n",
    "$$\n",
    "H\\lvert 0\\rangle = \\tfrac{1}{\\sqrt{2}}\\lvert 0\\rangle + \\tfrac{1}{\\sqrt{2}}\\lvert 1\\rangle,\\\\\n",
    "H\\lvert 1\\rangle = \\tfrac{1}{\\sqrt{2}}\\lvert 0\\rangle - \\tfrac{1}{\\sqrt{2}}\\lvert 1\\rangle.\n",
    "$$\n",
    "\n",
    "These two equations can be combined into a single formula,\n",
    "\n",
    "$$\n",
    "H\\lvert a\\rangle = \\tfrac{1}{\\sqrt{2}}\\lvert 0\\rangle + \\tfrac{1}{\\sqrt{2}}(-1)^a\\lvert 1\\rangle\n",
    "= \\tfrac{1}{\\sqrt{2}}\\sum_{b\\in\\{0,1\\}}(-1)^{ab}\\lvert b\\rangle,\n",
    "$$\n",
    "\n",
    "which is true for both choices of $a \\in \\Sigma$.\n",
    "\n",
    "Now suppose that instead of just a single qubit we have $n qubits, and a Hadamard operation is performed on each. The combined operation on the $n$ qubits is described by the tensor product $H \\otimes \\cdots \\otimes H$ (n times), which we write as $H^{\\otimes n}$ for succinctness and clarity. Using the formula from above, followed by expanding and then simplifying, we can express the action of this combined operation on the standard basis states of $n$ qubits like this:\n",
    "$$\n",
    "[\n",
    "\\begin{aligned}\n",
    "H^{\\otimes n}\\lvert x_{n-1}\\cdots x_1 x_0\\rangle\n",
    "&= \\bigl(H\\lvert x_{n-1}\\rangle\\bigr)\\otimes\\cdots\\otimes\\bigl(H\\lvert x_0\\rangle\\bigr)\\\\\n",
    "&= \\Bigl(\\tfrac{1}{\\sqrt{2}}\\sum_{y_{n-1}\\in\\Sigma}(-1)^{x_{n-1}y_{n-1}}\\lvert y_{n-1}\\rangle\\Bigr)\\otimes\\cdots\\otimes\\Bigl(\\tfrac{1}{\\sqrt{2}}\\sum_{y_0\\in\\Sigma}(-1)^{x_0y_0}\\lvert y_0\\rangle\\Bigr)\\\\\n",
    "&= \\tfrac{1}{2^{n/2}}\\sum_{y_{n-1},\\dots,y_0\\in\\Sigma}(-1)^{x_{n-1}y_{n-1} + \\cdots + x_0y_0}\\lvert y_{n-1}\\cdots y_0\\rangle.\n",
    "\\end{aligned}\n",
    "]\n",
    "$$\n",
    "Here, by the way, we're writing binary strings of length $n$ as $x_{n-1}\\cdots x_0$ and $y_{n-1}\\cdots y_0$, following the same numbering convention used in Qiskit.\n",
    "\n",
    "This formula provides us with a useful tool for analyzing the quantum circuit above. After the first layer of Hadamard gates is performed, the state of the $n+1$ qubits (including the leftmost/bottom qubit, which is treated separately from the rest) is\n",
    "\n",
    "$$\n",
    "\\bigl(H\\lvert 1\\rangle\\bigr)\\,\\bigl(H^{\\otimes n}\\lvert 0\\cdots0\\rangle\\bigr)\n",
    "= \\lvert -\\rangle \\otimes \\tfrac{1}{\\sqrt{2^n}}\\sum_{x_{n-1},\\dots,x_0\\in\\Sigma}\\lvert x_{n-1}\\cdots x_0\\rangle.\n",
    "$$\n",
    "\n",
    "When the $U_f$ operation is performed, this state is transformed into\n",
    "\n",
    "$[\n",
    "|-\\rangle \\,\\otimes\\, \\frac{1}{\\sqrt{2^n}}\n",
    "\\sum_{x_{n-1}\\cdots x_0\\in\\Sigma^n}\n",
    "(-1)^{\\,f(x_{n-1}\\cdots x_0)}\\bigl|x_{n-1}\\cdots x_0\\bigr\\rangle\n",
    "]$\n",
    "\n",
    "through exactly the same phase kick-back phenomenon that we saw in the analysis of Deutsch’s algorithm.\n",
    "\n",
    "Then the second layer of Hadamard gates is performed, which (by the same formula as above) transforms this state into\n",
    "\n",
    "$$[\n",
    "|-\\rangle \\,\\otimes\\, \\frac{1}{2^n}\n",
    "\\sum_{x_{n-1}\\cdots x_0\\in\\Sigma^n}\n",
    "\\sum_{y_{n-1}\\cdots y_0\\in\\Sigma^n}\n",
    "(-1)^{\\,f(x_{n-1}\\cdots x_0)\\;+\\;x_{n-1}y_{n-1}+\\cdots+x_{0}y_{0}}\n",
    "\\bigl|y_{n-1}\\cdots y_{0}\\bigr\\rangle.\n",
    "]$$\n",
    "\n",
    "This expression looks somewhat complicated, and little can be concluded about the probabilities to obtain different measurement outcomes without more information about the function $f$.\n",
    "\n",
    "Fortunately, we just need to know the probability that every one of the measurement outcomes is 0 — because that’s the probability that the algorithm determines that $f$ is constant — and this probability has a simple formula:\n",
    "\n",
    "$$[\n",
    "\\left\\lvert\n",
    "\\frac{1}{2^n}\n",
    "\\sum_{x_{n-1}\\cdots x_0\\in\\Sigma^n}\n",
    "(-1)^{\\,f(x_{n-1}\\cdots x_0)}\n",
    "\\right\\rvert^2\n",
    "=\n",
    "\\begin{cases}\n",
    "1 & \\text{if } f \\text{ is constant},\\\\[6pt]\n",
    "0 & \\text{if } f \\text{ is balanced}.\n",
    "\\end{cases}\n",
    "]$$\n",
    "\n",
    "In greater detail, if $f$ is constant, then either $f(x_{n-1}\\cdots x_0)=0$ for every string $x_{n-1}\\cdots x_0$, in which case the value of the sum is $2^n$, or $f(x_{n-1}\\cdots x_0)=1$ for every string $x_{n-1}\\cdots x_0$, in which case the value of the sum is $-2^n$. Dividing by $2^n$ and taking the square of the absolute value yields 1.\n",
    "\n",
    "If, on the other hand, $f$ is balanced, then $f$ takes the value 0 on half of the strings $x_{n-1}\\cdots x_0$ and the value 1 on the other half, so the +1 terms and –1 terms in the sum cancel and we're left with the value 0.\n",
    "\n",
    "So, we conclude that the algorithm operates correctly provided that the promise is fulfilled.\n",
    "\n",
    "#### Classical Difficulty\n",
    "\n",
    "The Deutsch-Jozsa algorithm works 100% of the time, always giving us the correct answer when the promise is met, and requires a single query. How does this compare with classical query algorithms for the Deutsch-Jozsa problem?\n",
    "\n",
    "First, any deterministic classical algorithm that correctly solves the Deutsch-Jozsa problem must make exponentially many queries: $2^{n-1}+1$ queries are required in the worst case. The reasoning is that, if a deterministic algorithm queries $f$ on $2^{n-1}+1$ or fewer diferent strings and obtains the same function value every time, then both answers are still possinle. The function might be constant or ir mught be balanced but though bad luck the queries all happen to reurn the same funtion value. The second possibility might seem unlinkly, but for deterministic algorithms there is no randomness or uncertainty - so they weilll fail systematically on certain functions. We therefore have significant advantage of quantum over classical algorithms in this regard.\n",
    "\n",
    "There is a catch, however which is tha probabilitic caslical algorithms can salve the Deutsch-Jozsa problem with very high probability using just a few queries. In partcualr, if we simply choose a few different strings of lenth $n$ randomly, and query $f$ on those strings, it is unlinkly that we will get the same funtion value for all of them when $f$ is balanced. To be specific, if we choose $k$ input strings $x^1,...,x^k \\in \\Sigma^n$ uniformly at randome, evaluae $f(x^1),...,f(x^k)$ and answer $0$ if the funtion calues are all the same and $1$ if not, then we will always be correct when $f$ is constant, and wrong in the case that $f$ is balanced with probability just $2^{-k+1}$. If we take $k=11$, for instance this algorithm will answer correctly with the probability greater than $99.9%$.\n",
    "\n",
    "So for this reason we so still have a rather modest advantage of qunstum over clasical algorithms - but it is nevertheless a quantifiable advantage representing an imporvement over Deutsch's algorithm"
   ]
  },
  {
   "cell_type": "code",
   "execution_count": 29,
   "id": "f6ce4902",
   "metadata": {},
   "outputs": [],
   "source": [
    "# Implementation\n",
    "from qiskit import QuantumCircuit\n",
    "from qiskit_aer import AerSimulator\n",
    "import numpy as np"
   ]
  },
  {
   "cell_type": "markdown",
   "id": "70e5f97b",
   "metadata": {},
   "source": [
    "To implement the Deutsch-Jozsa algorithm in Qiskit, we'll start by defining a function `dj_query` that generates a quantum circuit implementing a query gate, for a randomly selected function satisfying the promise for the Deutsch-Jozsa problem. With a 50% chance, the function is constant, and with 50% change the function is balanced. For each of those two possibilities, the function is selected uniformly from the functions of that type. The argument is the number of input bits of the function."
   ]
  },
  {
   "cell_type": "code",
   "execution_count": 33,
   "id": "02628eb1",
   "metadata": {},
   "outputs": [],
   "source": [
    "def dj_query(num_qubits):\n",
    "    # Create a circuit implementing for a query gate for a random function\n",
    "    # satisfying the promise for the Deutsch-Jozsa problem.\n",
    "\n",
    "    qc = QuantumCircuit(num_qubits + 1)\n",
    "\n",
    "    if np.random.randint(0, 2):\n",
    "        # Flip output qubit with 50% chance\n",
    "        qc.x(num_qubits)\n",
    "    if np.random.randint(0, 2):\n",
    "        # return constant circuit with 50% chance\n",
    "        return qc\n",
    "\n",
    "    # Choose half the possible input strings\n",
    "    on_states = np.random.choice(\n",
    "        range(2**num_qubits),  # numbers to sample from\n",
    "        2**num_qubits // 2,  # number of samples\n",
    "        replace=False,  # makes sure states are only sampled once\n",
    "    )\n",
    "\n",
    "    def add_cx(qc, bit_string):\n",
    "        for qubit, bit in enumerate(reversed(bit_string)):\n",
    "            if bit == \"1\":\n",
    "                qc.x(qubit)\n",
    "        return qc\n",
    "\n",
    "    for state in on_states:\n",
    "        qc.barrier()  # Barriers are added to help visualize how the functions are created.\n",
    "        qc = add_cx(qc, f\"{state:0b}\")\n",
    "        qc.mcx(list(range(num_qubits)), num_qubits)\n",
    "        qc = add_cx(qc, f\"{state:0b}\")\n",
    "\n",
    "    qc.barrier()\n",
    "\n",
    "    return qc"
   ]
  },
  {
   "cell_type": "code",
   "execution_count": 34,
   "id": "22ccae6d",
   "metadata": {},
   "outputs": [
    {
     "data": {
      "image/png": "[encoded data removed]",
      "text/plain": [
       "<Figure size 1374.44x367.889 with 1 Axes>"
      ]
     },
     "metadata": {},
     "output_type": "display_data"
    }
   ],
   "source": [
    "display(dj_query(3).draw(output=\"mpl\"))"
   ]
  },
  {
   "cell_type": "code",
   "execution_count": 35,
   "id": "8446039f",
   "metadata": {},
   "outputs": [],
   "source": [
    "# Deutsch-Jozsa algorithm\n",
    "def compile_circuit(function: QuantumCircuit):\n",
    "    # Compiles a circuit for use in the Deutsch-Jozsa algorithm.\n",
    "\n",
    "    n = function.num_qubits - 1\n",
    "    qc = QuantumCircuit(n + 1, n)\n",
    "    qc.x(n)\n",
    "    qc.h(range(n + 1))\n",
    "    qc.compose(function, inplace=True)\n",
    "    qc.h(range(n))\n",
    "    qc.measure(range(n), range(n))\n",
    "    return qc"
   ]
  },
  {
   "cell_type": "code",
   "execution_count": 36,
   "id": "93d0029a",
   "metadata": {},
   "outputs": [],
   "source": [
    "def dj_algorithm(function: QuantumCircuit):\n",
    "    # Determine if a function is constant or balanced.\n",
    "\n",
    "    qc = compile_circuit(function)\n",
    "\n",
    "    result = AerSimulator().run(qc, shots=1, memory=True).result()\n",
    "    measurements = result.get_memory()\n",
    "    if \"1\" in measurements[0]:\n",
    "        return \"balanced\"\n",
    "    return \"constant\""
   ]
  },
  {
   "cell_type": "code",
   "execution_count": 37,
   "id": "5a357cfc",
   "metadata": {},
   "outputs": [
    {
     "data": {
      "image/png": "[encoded data removed]",
      "text/plain": [
       "<Figure size 1625.27x367.889 with 1 Axes>"
      ]
     },
     "metadata": {},
     "output_type": "display_data"
    },
    {
     "data": {
      "text/plain": [
       "'balanced'"
      ]
     },
     "metadata": {},
     "output_type": "display_data"
    }
   ],
   "source": [
    "# We can test our implementation by choosing a function randomly, displaying the quantum circuit implementation of a query gate for this function, and then running the Deutsch-Jozsa algorithm on that function.\n",
    "f = dj_query(3)\n",
    "display(f.draw(\"mpl\"))\n",
    "display(dj_algorithm(f))"
   ]
  },
  {
   "cell_type": "markdown",
   "id": "663e5b4b",
   "metadata": {},
   "source": [
    "## [The Bernstein-Vazirani problem](#the-bernstein-vazirani-problem)\n",
    "Next we'll discuss a problem known as the Bernstein-Vazirani problem. It's also called the Fourier sampling problem, although there are more general formulations of this problem that also go by that name.\n",
    "\n",
    "First let's introduce some notation. For any two binary strings $x = x_{n-1} ... x_0$ and $y_{n-1} ... y_0$ of length $n$, we define:\n",
    "\n",
    "$$\n",
    "x \\cdot y = x_{n-1}y_{n-1} \\;\\oplus\\;\\cdots\\;\\oplus\\;x_0y_0.\n",
    "$$\n",
    "\n",
    "We'll refer to this operation as the *binary dot product*. An alternative way to define it is like so:\n",
    "\n",
    "$$\n",
    "x \\cdot y =\n",
    "\\begin{cases}\n",
    "1 & \\text{if } x_{n-1}y_{n-1} + \\cdots + x_0y_0 \\text{ is odd},\\\\\n",
    "0 & \\text{if } x_{n-1}y_{n-1} + \\cdots + x_0y_0 \\text{ is even}.\n",
    "\\end{cases}\n",
    "$$\n",
    "\n",
    "Notice that this is a symmetric operation, meaning that the result doesn't change if we swap $x$ and $y$, so we're free to do that whenever it's convenient. Sometimes it's useful to think about the binary dot product $x \\cdot y$ as being the parity of the bits of $x$ in positions where the string $y$ has a 1, or equivalently, the parity of the bits of $y$ in positions where the string $x$ has a 1.\n",
    "\n",
    "With this notation in hand we can now define the Bernstein-Vazirani problem.\n",
    "\n",
    "> **Bernstein-Vazirani problem**  \n",
    "> Input: a function $f: \\{0,1\\}^n \\to \\{0,1\\}$\n",
    "\n",
    "> Promise: there exists a binary string $s = s_{n-1}\\cdots s_0$ for which $f(x) = s \\cdot x$ for all $x \\in \\Sigma^n$  \n",
    "> Output: the string $s$\n",
    "\n",
    "We don't actually need a new quantum algorithm for this problem; the Deutsch–Jozsa algorithm solves it. In the interest of clarity, let's refer to the quantum circuit from above, which doesn't include the classical post-processing step of computing the OR, as the *Deutsch–Jozsa circuit*.\n",
    "\n",
    "### Algorithm analysis\n",
    "\n",
    "To analyze how the Deutsch–Jozsa circuit works for a function satisfying the promise for the Bernstein-Vazirani problem, we'll begin with a quick observation. Using the binary dot product, we can alternatively describe the action of $n$ Hadamard gates on the standard basis states of $n$ qubits as follows:\n",
    "\n",
    "$$\n",
    "H^{\\otimes n}|x\\rangle = \\frac{1}{\\sqrt{2^n}} \\sum_{y\\in\\Sigma^n} (-1)^{x \\cdot y}|y\\rangle.\n",
    "$$\n",
    "\n",
    "Similar to what we saw when analyzing Deutsch's algorithm, this is because the value $(-1)^k$ for any integer $k$ depends only on whether $k$ is even or odd.\n",
    "\n",
    "Turning to the Deutsch–Jozsa circuit, after the first layer of Hadamard gates is performed, the state of the $n+1$ qubits is\n",
    "\n",
    "$$\n",
    "|-\\rangle \\otimes \\frac{1}{\\sqrt{2^n}} \\sum_{x\\in\\Sigma^n} |x\\rangle.\n",
    "$$\n",
    "\n",
    "The query gate is then performed, which (through the phase kickback phenomenon) transforms the state into\n",
    "\n",
    "$$\n",
    "|-\\rangle \\otimes \\frac{1}{\\sqrt{2^n}} \\sum_{x\\in\\Sigma^n} (-1)^{f(x)} |x\\rangle.\n",
    "$$\n",
    "\n",
    "Using our formula for the action of a layer of Hadamard gates, we see that the second layer of Hadamard gates then transforms this state into\n",
    "\n",
    "$$\n",
    "|-\\rangle \\otimes \\frac{1}{2^n}\n",
    "\\sum_{x\\in\\Sigma^n}\\;\\sum_{y\\in\\Sigma^n}(-1)^{f(x)+x\\cdot y}\\,|y\\rangle.\n",
    "$$\n",
    "\n",
    "Some simplifications can be made to this state, in the exponent of $-1$ inside the sum. We're promised that $f(x) = s\\cdot x$ for some string $s = s_{n-1}\\cdots s_0$, so we can express the state as\n",
    "\n",
    "$$\n",
    "|-\\rangle \\otimes \\frac{1}{2^n}\n",
    "\\sum_{x\\in\\Sigma^n}\\;\\sum_{y\\in\\Sigma^n}(-1)^{s\\cdot x + x\\cdot y}\\,|y\\rangle.\n",
    "$$\n",
    "\n",
    "Because $s\\cdot x$ and $x\\cdot y$ are binary values, we can replace the addition with an XOR — again because the only thing that matters for an integer in the exponent of $-1$ is whether it is even or odd. Making use of the symmetry of the binary dot product, we obtain this expression for the state:\n",
    "\n",
    "$$\n",
    "|-\\rangle \\otimes \\frac{1}{2^n}\n",
    "\\sum_{x\\in\\Sigma^n}\\;\\sum_{y\\in\\Sigma^n}(-1)^{(s\\cdot x)\\oplus(x\\cdot y)}\\,|y\\rangle.\n",
    "$$\n",
    "\n",
    "(Parentheses have been added for clarity, though they aren't really necessary because it's conventional to treat the binary dot product as having higher precedence than the exclusive-OR.)\n",
    "\n",
    "At this point we will make use of the following formula.\n",
    "\n",
    "$$\n",
    "(s\\cdot x)\\;\\oplus\\;(y\\cdot x)\\;=\\;(s\\oplus y)\\cdot x\n",
    "$$\n",
    "\n",
    "We can obtain the formula through a similar formula for bits,\n",
    "\n",
    "$$\n",
    "(a c)\\;\\oplus\\;(b c)\\;=\\;(a\\oplus b)\\,c,\n",
    "$$\n",
    "\n",
    "together with an expansion of the binary dot product and bitwise exclusive-OR:\n",
    "\n",
    "$$\n",
    "\\begin{aligned}\n",
    "(s\\cdot x)\\;\\oplus\\;(y\\cdot x)\n",
    "&=(s_{n-1}x_{n-1}\\oplus\\cdots\\oplus(s_0x_0))\\;\\oplus\\;(y_{n-1}x_{n-1}\\oplus\\cdots\\oplus(y_0x_0))\\\\\n",
    "&=(s_{n-1}\\oplus y_{n-1})x_{n-1}\\oplus\\cdots\\oplus(s_0\\oplus y_0)x_0\\\\\n",
    "&=(s\\oplus y)\\cdot x.\n",
    "\\end{aligned}\n",
    "$$\n",
    "\n",
    "This allows us to express the state of the circuit immediately prior to the measurements like this:\n",
    "\n",
    "$$\n",
    "|-\\rangle \\;\\otimes\\; \\frac{1}{2^n}\n",
    "\\sum_{x\\in\\Sigma^n}\\;\\sum_{y\\in\\Sigma^n}(-1)^{(s\\oplus y)\\cdot x}\\,|y\\rangle.\n",
    "$$\n",
    "\n",
    "The final step is to make use of yet another formula, which works for every binary string $z = z_{n-1}\\cdots z_0$:\n",
    "\n",
    "$$\n",
    "\\frac{1}{2^n}\\sum_{x\\in\\Sigma^n}(-1)^{\\,z\\cdot x}\n",
    "=\n",
    "\\begin{cases}\n",
    "1 & \\text{if } z = 0^n,\\\\\n",
    "0 & \\text{if } z \\neq 0^n,\n",
    "\\end{cases}\n",
    "$$\n",
    "\n",
    "Here we're using a simple notation for strings that we'll use several more times in the lesson: $0^n$ is the all-zero string of length $n$.\n",
    "\n",
    "A simple way to argue that this formula works is to consider the two cases separately. If $z = 0^n$, then $z\\cdot x = 0$ for every string $x \\in \\Sigma^n$, so the value of each term in the sum is 1, and we obtain 1 by summing and dividing by $2^n$. On the other hand, if any one of the bits of $z$ is equal to 1, then the binary dot product $z\\cdot x$ is equal to 0 for exactly half of the possible choices for $x\\in\\Sigma^n$ and 1 for the other half — because the value of the binary dot product $z\\cdot x$ flips (from 0 to 1 or from 1 to 0) if we flip any bit of $x$ in a position where $z$ has a 1.\n",
    "\n",
    "If we now apply this formula to simplify the state of the circuit prior to the measurements, we obtain\n",
    "\n",
    "$$\n",
    "|-\\rangle \\;\\otimes\\; \\frac{1}{2^n}\n",
    "\\sum_{x\\in\\Sigma^n}\\;\\sum_{y\\in\\Sigma^n}(-1)^{(s\\oplus y)\\cdot x}\\,|y\\rangle\n",
    "= |-\\rangle \\otimes |s\\rangle,\n",
    "$$\n",
    "\n",
    "owing to the fact that $s \\oplus y = 0^n$ if and only if $y = s$. Thus, the measurements reveal precisely the string $s$ we're looking for.\n",
    "\n"
   ]
  },
  {
   "cell_type": "markdown",
   "id": "37521f8f",
   "metadata": {},
   "source": [
    "#### Classical difficulty\n",
    "\n",
    "While the Deutsch–Jozsa circuit solves the Bernstein-Vazirani problem with a single query, any classical query algorithm must make at least $n$ queries to solve this problem. This can be reasoned through a so-called *information-theoretic* argument. Each classical query reveals a single bit of information about the solution, and there are $n$ bits of information that need to be uncovered. It is, in fact, possible to solve the Bernstein-Vazirani problem classically by querying the function on each of the $n$ strings having a single 1, in each possible position, and 0 for all other bits, which reveals the bits of $s$ one at a time. So, the advantage of quantum over classical algorithms for this problem is 1 query versus $n$ queries.\n",
    "\n"
   ]
  },
  {
   "cell_type": "markdown",
   "id": "6b49a56d",
   "metadata": {},
   "source": [
    "#### Implementation\n",
    "\n",
    "We've already implemented the Deutsch–Jozsa circuit above, and here we will make use of it to solve the Bernstein-Vazirani problem. First we'll define a function that implements a query gate for the Bernstein-Vazirani problem given any binary string $s$.\n"
   ]
  },
  {
   "cell_type": "code",
   "execution_count": 39,
   "id": "77e6c3c6",
   "metadata": {},
   "outputs": [
    {
     "data": {
      "image/png": "[encoded data removed]",
      "text/plain": [
       "<Figure size 371.107x451.5 with 1 Axes>"
      ]
     },
     "metadata": {},
     "output_type": "display_data"
    }
   ],
   "source": [
    "def bv_query(s):\n",
    "    # Create a quantum circuit implementing a query gate for the\n",
    "    # Bernstein-Vazirani problem.\n",
    "\n",
    "    qc = QuantumCircuit(len(s) + 1)\n",
    "    for index, bit in enumerate(reversed(s)):\n",
    "        if bit == \"1\":\n",
    "            qc.cx(index, len(s))\n",
    "    return qc\n",
    "\n",
    "display(bv_query(\"1011\").draw(output=\"mpl\"))"
   ]
  },
  {
   "cell_type": "markdown",
   "id": "a08fbb5a",
   "metadata": {},
   "source": [
    "Now we can create a function that runs the Deutsch-Jozsa circuit on the function, using the compile_circuit function that was defined previously."
   ]
  },
  {
   "cell_type": "code",
   "execution_count": null,
   "id": "ac162064",
   "metadata": {},
   "outputs": [
    {
     "data": {
      "text/plain": [
       "'1011'"
      ]
     },
     "metadata": {},
     "output_type": "display_data"
    }
   ],
   "source": [
    "# Bernstein-Vazirani algorithm\n",
    "def bv_algorithm(function: QuantumCircuit):\n",
    "    qc = compile_circuit(function)\n",
    "    result = AerSimulator().run(qc, shots=1, memory=True).result()\n",
    "    return result.get_memory()[0]\n",
    "\n",
    "display(bv_algorithm(bv_query(\"1011\")))"
   ]
  },
  {
   "cell_type": "markdown",
   "id": "34196b24",
   "metadata": {},
   "source": [
    "#### Remark on nomenclature\n",
    "In the context of the Bernstein-Vazirani problem, it is common that the Deutsch-Jozsa algorithm is referred to as the \"Bernstein-Vazirani algorithm.\" This is slightly misleading, because the algorithm is the Deutsch-Jozsa algorithm, as Bernstein and Vazirani clearly stated in their work.\n",
    "\n",
    "What Bernstein and Vazirani did after showing that the Deutsch-Jozsa algorithm solves the Bernstein-Vazirani problem (as it is stated above) was to define a much more complicated problem, known as the recursive Fourier sampling problem. This is a highly contrived problem where solutions to different instances of the problem effectively unlock new levels of the problem arranged in a tree-like structure. The Bernstein-Vazirani problem is essentially just the base case of this more complicated problem.\n",
    "\n",
    "The recursive Fourier sampling problem was the first known example of a query problem where quantum algorithms have a so-called super-polynomial advantage over probabilistic algorithms, thereby surpassing the advantage of quantum over classical offered by the Deutsch-Jozsa algorithm. Intuitively speaking, the recursive version of the problem amplifies the \n",
    "$1$ versus $n$ advantage of quantum algorithms to something much larger. The most challenging aspect of the mathematical analysis establishing this advantage is showing that classical query algorithms can't solve the problem without making lots of queries. This is quite typical; for many problems it can be very difficult to rule out creative classical approaches that solve them efficiently.\n",
    "\n",
    "Simon's problem, and the algorithm for it described in the next section, does provide a much simpler example of a super-polynomial (and, in fact, exponential) advantage of quantum over classical algorithms, and for this reason the recursive Fourier sampling problem is less often discussed. It is, nevertheless, an interesting computational problem in its own right."
   ]
  },
  {
   "cell_type": "markdown",
   "id": "1777dbed",
   "metadata": {},
   "source": [
    "## [Simon's algorithm](#simons-algorithm)\n",
    "\n",
    "Simon’s algorithm is a quantum query algorithm for a problem known as Simon’s problem. This is a promise problem with a flavor similar to the Deutsch–Jozsa and Bernstein–Vazirani problems, but the specifics are different. Simon’s algorithm is significant because it provides an **exponential** advantage of quantum over classical (including probabilistic) algorithms, and the technique it uses inspired Peter Shor’s discovery of an efficient quantum algorithm for integer factorization."
   ]
  },
  {
   "cell_type": "markdown",
   "id": "c5b70b39",
   "metadata": {},
   "source": [
    "### [Simon's problem](#simons-problem)\n",
    "\n",
    "The input function for Simon’s problem takes the form\n",
    "\n",
    "$$\n",
    "f : \\Sigma^n \\to \\Sigma^m\n",
    "$$\n",
    "\n",
    "for positive integers $n$ and $m$. We could restrict our attention to the case $m = n$ in the interest of simplicity, but there’s little to be gained in making this assumption — Simon’s algorithm and its analysis are basically the same either way.\n",
    "\n",
    "> **Simon’s problem**  \n",
    "> Input: a function $f : \\Sigma^n \\to \\Sigma^n$  \n",
    "> Promise: there exists a string $s \\in \\Sigma^n$ such that $[f(x) = f(y)] \\iff [(x = y) \\lor (x \\oplus s = y)]$ for all $x,y \\in \\Sigma^n$  \n",
    "> Output: the string $s$\n",
    "\n",
    "We’ll unpack the promise to better understand what says momentarily, but first let’s be clear that it requires that $f$ has a very special structure — so most functions won’t satisfy this promise. It’s also fitting to acknowledge that this problem isn’t intended to have practical importance. Rather, it’s a somewhat artificial problem tailor-made to be easy for quantum computers and hard for classical computers.\n",
    "\n",
    "There are two main cases: the first case is that $s$ is the all-zero string $0^n$, and the second case is that $s$ is not the all-zero string.\n",
    "\n",
    "– **Case 1: $s = 0^n$.** If $s$ is the all-zero string, then we can simplify the if and only if statement in the promise so that it reads $[f(x) = f(y)] \\iff [x = y]$. This condition is true for all strings $x,y \\in \\Sigma^n$ if and only if $f$ is a one-to-one function.\n",
    "\n",
    "– **Case 2: $s \\neq 0^n$.** If $s$ is not the all-zero string, then the promise being satisfied for this string implies that $f$ is **two-to-one**, meaning that for every possible output string of $f$, there are exactly two input strings that cause $f$ to output that string. Moreover, these two input strings must take the form $x$ and $x \\oplus s$ for some string $x$.\n",
    "\n",
    "It’s important to recognize that there can only be one string $s$ that works if the promise is met, so there’s always a unique correct answer for functions that satisfy the promise.\n",
    "\n",
    "Here’s an example of a function taking the form $f : \\Sigma^3 \\to \\Sigma^5$ that satisfies the promise for the string $s = 011$.\n",
    "\n",
    "$$\n",
    "\\begin{aligned}\n",
    "f(000) &= 10011 \\\\\n",
    "f(001) &= 00101 \\\\\n",
    "f(010) &= 00101 \\\\\n",
    "f(011) &= 10011 \\\\\n",
    "f(100) &= 11010 \\\\\n",
    "f(101) &= 00001 \\\\\n",
    "f(110) &= 00001 \\\\\n",
    "f(111) &= 11010 \\\\\n",
    "\\end{aligned}\n",
    "$$\n",
    "\n",
    "There are 8 different input strings and 4 different output strings, each of which occurs twice — so this is a two-to-one function.\n",
    "Moreover, for any two different input strings that produce the same output string, we see that the bitwise XOR of these two input strings is equal to $011$, which is equivalent to saying that either one of them equals the other XORed with $s$.\n",
    "\n",
    "Notice that the only thing that matters about the actual output strings is whether they’re the same or different for different choices of input strings. For instance, in the example above, there are four strings (10011, 00101, 00001, and 11010) that appear as outputs of $f$. We could replace these four strings with different strings, so long as they’re all distinct, and the correct solution $s = 011$ would not change.\n",
    "\n"
   ]
  },
  {
   "attachments": {
    "Simon.png": {
     "image/png": "[encoded data removed]"
    }
   },
   "cell_type": "markdown",
   "id": "83ee9ccd",
   "metadata": {},
   "source": [
    "### [Quantum circuit description](#quantum-circuit-description-2)\n",
    "\n",
    "Here's a quantum circuit diagram representing Simon's algorithm.\n",
    "\n",
    "![Simon.png](attachment:Simon.png)\n",
    "\n",
    "To be clear, there are $n$ qubits on the top that are acted upon by Hadamard gates and $m$ qubits on the bottom that go directly into the query gate. It looks very similar to the algorithms we’ve already discussed in the lesson, but this time there’s no phase kickback; the bottom $m$ qubits all go into the query gate in the state $|0\\rangle$.\n",
    "\n",
    "To solve Simon’s problem using this circuit will actually require several independent runs of it followed by a classical post-processing step, which will be described later after the behavior of the circuit is analyzed.\n",
    "\n"
   ]
  },
  {
   "cell_type": "markdown",
   "id": "b25db386",
   "metadata": {},
   "source": [
    "### [Analysis](#analysis-2)\n",
    "\n",
    "\n",
    "The analysis of Simon’s algorithm begins along similar lines to the Deutsch–Jozsa algorithm. After the first layer of Hadamard gates is performed on the top $n$ qubits, the state becomes\n",
    "\n",
    "$$\n",
    "\\frac{1}{\\sqrt{2^n}} \\sum_{x\\in\\Sigma^n} |0^m\\rangle|x\\rangle.\n",
    "$$\n",
    "\n",
    "When the $U_f$ is performed, the output of the function $f$ is XORed onto the all-zero state of the bottom $m$ qubits, so the state becomes\n",
    "\n",
    "$$\n",
    "\\frac{1}{\\sqrt{2^n}} \\sum_{x\\in\\Sigma^n} |f(x)\\rangle|x\\rangle.\n",
    "$$\n",
    "\n",
    "When the second layer of Hadamard gates is performed, we obtain the following state by using the same formula for the action of a layer of Hadamard gates as before.\n",
    "\n",
    "$$\n",
    "\\frac{1}{2^n} \\sum_{x\\in\\Sigma^n} \\sum_{y\\in\\Sigma^n} (-1)^{x\\cdot y}|f(x)\\rangle|y\\rangle.\n",
    "$$\n",
    "\n",
    "At this point the analysis diverges from the ones for the previous algorithms in this lesson. We’re interested in the probability for the measurements to result in each possible string $y \\in \\Sigma^n$. Through the rules for analyzing measurements described in the [Multiple systems](2_multiple_systems.ipynb) lesson of *Basics of quantum information*, we find that the probability $p(y)$ to obtain the string $y$ is equal to\n",
    "\n",
    "$$\n",
    "p(y) = \\left| \\frac{1}{2^n} \\sum_{x\\in\\Sigma^n} (-1)^{x\\cdot y} \\llbracket f(x) = z \\rrbracket \\right|^2.\n",
    "$$\n",
    "\n",
    "To get a better handle on these probabilities, we’ll need just a bit more notation and terminology. First, the *range* of the function $f$ is the set containing all of its output strings.\n",
    "\n",
    "$$\n",
    "\\text{range}(f) = \\{f(x) : x \\in \\Sigma^n\\}\n",
    "$$\n",
    "\n",
    "Second, for each string $z \\in \\text{range}(f)$, we express the set of all input strings that cause the function to evaluate to this output string $z$ as $f^{-1}(\\{z\\})$.\n",
    "\n",
    "$$\n",
    "f^{-1}(\\{z\\}) = \\{x \\in \\Sigma^n : f(x) = z\\}\n",
    "$$\n",
    "\n",
    "The set $f^{-1}(\\{z\\})$ is known as the *preimage* of $\\{z\\}$ under $f$. We can define the preimage under $f$ of any set in place of $\\{z\\}$ in an analogous way — it’s the set of all elements that $f$ maps to that set. (This notation should not be confused with the *inverse* of the function $f$, which may not exist. The fact that the argument on the left-hand side is the set $\\{z\\}$ rather than the element $z$ is the clue that allows us to avoid this confusion.)\n",
    "\n",
    "Using this notation, we can split up the sum in our expression for the probabilities above to obtain\n",
    "\n",
    "$$\n",
    "p(y) = \\left| \\frac{1}{2^n} \\sum_{z \\in \\text{range}(f)} \\left( \\sum_{x \\in f^{-1}(\\{z\\})} (-1)^{x\\cdot y} \\right) |z\\rangle \\right|^2.\n",
    "$$\n",
    "\n",
    "Every string $z \\in \\Sigma^n$ is represented exactly once by the two summations — we're basically just putting these strings into separate buckets depending on which output string $z = f(x)$ they produce when we evaluate the function $f$, and then summing separately over all the buckets.\n",
    "\n",
    "We can now evaluate the Euclidean norm squared to obtain\n",
    "\n",
    "$$\n",
    "p(y) = \\frac{1}{2^{2n}} \\sum_{z \\in \\text{range}(f)} \\left| \\sum_{x \\in f^{-1}(\\{z\\})} (-1)^{x\\cdot y} \\right|^2.\n",
    "$$\n",
    "\n",
    "To simplify these probabilities further, let’s take a look at the value\n",
    "\n",
    "$$\n",
    "\\left| \\sum_{x \\in f^{-1}(\\{z\\})} (-1)^{x\\cdot y} \\right|^2 \\tag{1}\n",
    "$$\n",
    "\n",
    "for an arbitrary selection of $z \\in \\text{range}(f)$.\n",
    "\n",
    "If it happens to be the case that $s = 0^n$, then $f$ is a one-to-one function and there’s always just a single element $x \\in f^{-1}(\\{z\\})$, for every $z \\in \\text{range}(f)$. The value of the expression (1) is 1 in this case.\n",
    "\n",
    "If, on the other hand, $s \\neq 0^n$, then there are exactly two strings in the set $f^{-1}(\\{z\\})$. To be precise, if we choose $w \\in f^{-1}(\\{z\\})$ to be any one of these two strings, then the other string must be $w \\oplus s$ by the promise in Simon’s problem. Using this observation we can simply (1) as follows.\n",
    "\n",
    "$$\n",
    "\\begin{aligned}\n",
    "\\left| \\sum_{x \\in f^{-1}(\\{z\\})} (-1)^{x\\cdot y} \\right|^2\n",
    "&= \\left| (-1)^{w\\cdot y} + (-1)^{(w \\oplus s)\\cdot y} \\right|^2 \\\\\n",
    "&= \\left| (-1)^{w\\cdot y} \\left( 1 + (-1)^{s\\cdot y} \\right) \\right|^2 \\\\\n",
    "&= \\left| 1 + (-1)^{s\\cdot y} \\right|^2 \\\\\n",
    "&=\n",
    "\\begin{cases}\n",
    "4 & \\text{if } y \\cdot s = 0 \\\\\n",
    "0 & \\text{if } y \\cdot s = 1\n",
    "\\end{cases}\n",
    "\\end{aligned}\n",
    "$$\n",
    "\n",
    "So, it turns out that the value (1) is independent of the specific choice of $z \\in \\text{range}(f)$ in both cases.\n",
    "\n",
    "We can now finish off the analysis by looking at the same two cases as before separately.\n",
    "\n",
    "– **Case 1: $s = 0^n$.** In this case the function $f$ is one-to-one, so there are $2^n$ strings $z \\in \\text{range}(f)$, and we obtain\n",
    "\n",
    "$$\n",
    "p(y) = \\frac{1}{2^{2n}} \\cdot 2^n = \\frac{1}{2^n}.\n",
    "$$\n",
    "\n",
    "In words, the measurements result in a string $y \\in \\Sigma^n$ chosen uniformly at random.\n",
    "\n",
    "– **Case 2: $s \\ne 0^n$.** In this case $f$ is two-to-one, so there are $2^{n-1}$ elements in $\\text{range}(f)$. Using the formula from above we conclude that the probability to measure each $y \\in \\Sigma^n$ is\n",
    "\n",
    "$$\n",
    "p(y) = \\frac{1}{2^{2n}} \\sum_{z\\in\\text{range}(f)} \\left| \\sum_{x\\in f^{-1}(\\{z\\})} (-1)^{x\\cdot y} \\right|^2\n",
    "= \\begin{cases}\n",
    "\\frac{1}{2^{n-1}} & \\text{if } y \\cdot s = 0 \\\\\n",
    "0 & \\text{if } y \\cdot s = 1\n",
    "\\end{cases}\n",
    "$$\n",
    "\n",
    "In words, we obtain a string chosen uniformly at random from the set $\\{y \\in \\Sigma^n : y \\cdot s = 0\\}$, which contains $2^{n-1}$ strings.  \n",
    "Because $s \\ne 0^n$, exactly half of the binary strings of length $n$ have binary dot product 1 with $s$ and the other have binary dot product 0 with $s$, as we already observed in the analysis of the Deutsch–Jozsa algorithm for the Bernstein–Vazirani problem.\n",
    "\n",
    "#### Classical post-processing\n",
    "\n",
    "We now know what the probabilities are for the possible measurement outcomes when we run the quantum circuit for Simon's algorithm. Is this enough information to determine $s$?\n",
    "\n",
    "The answer is yes, provided that we're willing to repeat the process several times and accept that it could fail with some probability (which we can make very small by running the circuit enough times). The essential idea is that each execution of the circuit provides us with statistical evidence concerning $s$, and we can use that evidence to find $s$ with very high probability if we run the circuit sufficiently many times.\n",
    "\n",
    "Let's suppose that we run the circuit independently $k$ times, for $k = n + 10$. There's nothing special about this particular number of iterations — we could take $k$ to be larger (or smaller) depending on the probability of failure we're willing to tolerate, as we will see. Choosing $k = n + 10$ will ensure that we have greater than a 99.9% chance to recover $s$.\n",
    "\n",
    "By running the circuit $k$ times, we obtain strings $y^1,\\dots,y^k \\in \\Sigma^n$. To be clear, the superscripts here are part of the names of these strings, not exponents or indexes to their bits, so we have\n",
    "\n",
    "$$\n",
    "\\begin{aligned}\n",
    "y^1 &= y^1_{n-1}\\cdots y^1_0 \\\\\n",
    "y^2 &= y^2_{n-1}\\cdots y^2_0 \\\\\n",
    "&\\;\\;\\vdots \\\\\n",
    "y^k &= y^k_{n-1}\\cdots y^k_0\n",
    "\\end{aligned}\n",
    "$$\n",
    "\n",
    "We now form a matrix $M$ having $k$ rows and $n$ columns by taking the bits of these strings as binary-valued entries.\n",
    "\n",
    "$$\n",
    "M = \\begin{pmatrix}\n",
    "y^1_{n-1} & \\cdots & y^1_0 \\\\\n",
    "y^2_{n-1} & \\cdots & y^2_0 \\\\\n",
    "\\vdots & \\ddots & \\vdots \\\\\n",
    "y^k_{n-1} & \\cdots & y^k_0\n",
    "\\end{pmatrix}\n",
    "$$\n",
    "\n",
    "Now, we don’t know what $s$ is at this point — our goal is to find the string $s$. But imagine for a moment that we do know the string $s$, and we form a column vector $\\mathbf{s}$ from the bits of the string $s = s_{n-1} \\cdots s_0$ as follows.\n",
    "\n",
    "Now, we don’t know what $s$ is at this point — our goal is to find this string. But imagine for a moment that we do know the string $s$, and we form a column vector $v$ from the bits of the string $s = s_{n-1} \\cdots s_0$ as follows.\n",
    "\n",
    "$$\n",
    "v = \\begin{pmatrix}\n",
    "s_{n-1} \\\\\n",
    "\\vdots \\\\\n",
    "s_0\n",
    "\\end{pmatrix}\n",
    "$$\n",
    "\n",
    "If we perform the matrix-vector multiplication $Mv$ modulo 2 — meaning that we perform the multiplication as usual and then take the remainder of the entries of the result after dividing by 2 — we obtain the all-zero vector.\n",
    "\n",
    "$$\n",
    "Mv = \\begin{pmatrix}\n",
    "y^1 \\cdot s \\\\\n",
    "y^2 \\cdot s \\\\\n",
    "\\vdots \\\\\n",
    "y^k \\cdot s\n",
    "\\end{pmatrix}\n",
    "=\n",
    "\\begin{pmatrix}\n",
    "0 \\\\\n",
    "0 \\\\\n",
    "\\vdots \\\\\n",
    "0\n",
    "\\end{pmatrix}\n",
    "$$\n",
    "\n",
    "That is, treated as a column vector $v$ as just described, the string $s$ will always be an element of the *null space* of the matrix $M$, provided that we do the arithmetic modulo 2. This is true in both the case that $s = 0^n$ and $s \\ne 0^n$. To be more precise, the all-zero vector is always in the null space of $M$, and it’s joined by the vector whose entries are the bits of $s$ in case $s \\ne 0^n$.\n",
    "\n",
    "The question remaining is whether there will be any other vectors in the null space of $M$ besides the ones corresponding to $0^n$ and $s$. The answer is that this becomes increasingly unlikely as $k$ increases — and if we choose $k = n + 10$, the null space of $M$ will contain no other vectors in addition to those corresponding to $0^n$ and $s$ with greater than 99.9% chance. More generally, if we replace $k = n + 10$ with $k = n + r$ for a arbitrary choice of a positive integer $r$, the probability that the vectors corresponding to $0^n$ and $s$ are alone in the null space of $M$ is at least $1 - 2^{-r}$.\n",
    "\n",
    "Using linear algebra, it is possible to efficiently calculate a description of the null space of $M$ modulo 2. Specifically, it can be done using *Gaussian elimination*, which works the same way when arithmetic is done modulo 2 as it does with real or complex numbers. So long as the vectors corresponding to $0^n$ and $s$ are alone in the null space of $M$, which happens with high probability, we can deduce $s$ from the results of this computation.\n",
    "\n",
    "## Classical difficulty\n",
    "\n",
    "How many queries does a *classical* query algorithm need to solve Simon’s problem? The answer is: a lot, in general.\n",
    "\n",
    "There are different precise statements that can be made about the classical difficulty of this problem, and here’s just one of them.  \n",
    "If we have any probabilistic query algorithm, and that algorithm makes fewer than $2^{n/2-1} - 1$ queries, which is a number of queries that’s *exponential* in $n$, then that algorithm will fail to solve Simon’s problem with probability at least $1/2$. Sometimes, proving impossibility results like this can be very challenging, but this one isn’t too difficult to prove through an elementary probabilistic analysis. Here, however, we’ll only briefly examine the basic intuition behind it.\n",
    "\n",
    "We’re trying to find the hidden string $s$, but so long as we don’t query the function on two strings having the same output value, we’ll get very limited information about $s$. Intuitively speaking, all we’ll learn is that the hidden string $s$ is not the exclusive-OR of any two distinct strings we’ve queried. And if we query fewer than $2^{n/2-1} - 1$ strings, then there will still be a lot of choices for $s$ that we haven’t ruled out. This isn’t a formal proof, it’s just the basic idea.\n",
    "\n",
    "So, in summary, Simon’s algorithm provides us with a striking advantage over classical algorithms within the query model. In particular, Simon’s algorithm solves Simon’s problem with a number of queries that’s *linear* in the number of input bits $n$ of the function, whereas any classical algorithm, even if it’s probabilistic, needs to make a number of queries that’s *exponential* in $n$ in order to solve Simon’s problem with a reasonable probability of success.\n"
   ]
  },
  {
   "cell_type": "markdown",
   "id": "33e495f4",
   "metadata": {},
   "source": []
  },
  {
   "cell_type": "markdown",
   "id": "3acc81fd",
   "metadata": {},
   "source": [
    "### [Implementation](#implementation)\n",
    "First let us take care of the required imports. Note that we'll be using the galois extension for NumPy to perform the null space computation, and you'll need to install it to run this code on your own if you haven't already."
   ]
  },
  {
   "cell_type": "code",
   "execution_count": 42,
   "id": "77f7a909",
   "metadata": {},
   "outputs": [],
   "source": [
    "from qiskit import QuantumCircuit\n",
    "from qiskit_aer import AerSimulator\n",
    "import numpy as np\n",
    "import galois"
   ]
  },
  {
   "cell_type": "markdown",
   "id": "6746e40f",
   "metadata": {},
   "source": [
    "To implement Simon's algorithm in Qiskit, we'll use the fact that we can convert unitary matrices into gates in Qiskit using the .unitary method. Specifically, we'll use this methodology to define a query gate for a randomly chosen function satisfying Simon's problem for a given string $s$"
   ]
  },
  {
   "cell_type": "code",
   "execution_count": 43,
   "id": "775b99af",
   "metadata": {},
   "outputs": [],
   "source": [
    "# Simon's algorithm\n",
    "# Simon's algorithm is a quantum algorithm for finding a hidden string s\n",
    "def simon_function(s: str):\n",
    "    # Create a QuantumCircuit implementing a query gate for Simon problem obeying the\n",
    "    # promise for the hidden string `s`\n",
    "\n",
    "    # The quantum circuit will have 2n qubits for n being the length of s\n",
    "    n = len(s)\n",
    "    qc = QuantumCircuit(2 * n)\n",
    "\n",
    "    # Define a random permutation of all n bit strings. This permutation will\n",
    "    # effectively hide the string s.\n",
    "    pi = np.random.permutation(2**n)\n",
    "\n",
    "    # Now we'll define a query gate explicitly. The idea is to first define a function\n",
    "    # g(x) = min{x,x ^ s}, which is a very simple function that satisfies the promise.\n",
    "    # (The operation ^ is the bitwise XOR.) Then we take f to be the composition of g\n",
    "    # and the random permutation pi. This gives us a random function satisfying the\n",
    "    # promise for s.\n",
    "\n",
    "    query_gate = np.zeros((4**n, 4**n))\n",
    "    for x in range(2**n):\n",
    "        for y in range(2**n):\n",
    "            z = y ^ pi[min(x, x ^ int(s, 2))]\n",
    "            query_gate[x + 2**n * z, x + 2**n * y] = 1\n",
    "\n",
    "    # Our circuit has just this one query gate\n",
    "    qc.unitary(query_gate, range(2 * n))\n",
    "    return qc"
   ]
  },
  {
   "cell_type": "code",
   "execution_count": 44,
   "id": "2df6e8c9",
   "metadata": {},
   "outputs": [],
   "source": [
    "# Next we'll define a function that runs the circuit in Simon's problem k times and reports the results\n",
    "def simon_measurements(problem: QuantumCircuit, k: int):\n",
    "    # This is the quantum part of Simon's algorithm. Given a `QuantumCircuit` that\n",
    "    # implements f, gets k measurement outcomes to be post-processed later.\n",
    "\n",
    "    n = problem.num_qubits // 2\n",
    "\n",
    "    qc = QuantumCircuit(2 * n, n)\n",
    "    qc.h(range(n))\n",
    "    qc.compose(problem, inplace=True)\n",
    "    qc.h(range(n))\n",
    "    qc.measure(range(n), range(n))\n",
    "\n",
    "    result = AerSimulator().run(qc, shots=k, memory=True).result()\n",
    "    return result.get_memory()"
   ]
  },
  {
   "cell_type": "code",
   "execution_count": 45,
   "id": "bba175a4",
   "metadata": {},
   "outputs": [
    {
     "data": {
      "text/plain": [
       "['00000',\n",
       " '00011',\n",
       " '10001',\n",
       " '10110',\n",
       " '00100',\n",
       " '00111',\n",
       " '11010',\n",
       " '10101',\n",
       " '01111',\n",
       " '01111',\n",
       " '00011',\n",
       " '11001']"
      ]
     },
     "metadata": {},
     "output_type": "display_data"
    }
   ],
   "source": [
    "# Running this function on a randomly chosen query gate generates k output strings. The length of the hidden string s can be increased, but keep in mind that the simulation we've built takes time exponential in the length of s — so don't run this code on too long of a string if you don't want to wait!\n",
    "display(simon_measurements(simon_function(\"10011\"),k=12))\n"
   ]
  },
  {
   "cell_type": "markdown",
   "id": "41be5863",
   "metadata": {},
   "source": [
    "We installed the galois extension because it has a built-in function for computing the null space modulo 2, which allows us to do the required postprocessing."
   ]
  },
  {
   "cell_type": "code",
   "execution_count": 46,
   "id": "99470e8b",
   "metadata": {},
   "outputs": [],
   "source": [
    "def simon_algorithm(problem: QuantumCircuit):\n",
    "    # Given a `QuantumCircuit` that implements a query gate for Simon problem, return\n",
    "    # the hidden string `s`.\n",
    "\n",
    "    # Quantum part: run the circuit defined previously k times and gather the measurement\n",
    "    # results. Replace +10 by +r for any nonnegative integer r depending on desired\n",
    "    # confidence.\n",
    "\n",
    "    measurements = simon_measurements(problem, k=problem.num_qubits // 2 + 10)\n",
    "\n",
    "    # Classical post-processing:\n",
    "\n",
    "    # 1. Convert measurements of form '11101' to 2D-array of integers\n",
    "    matrix = np.array([list(bitstring) for bitstring in measurements]).astype(int)\n",
    "\n",
    "    # 2. Interpret matrix as using arithmetic mod 2, and find null space\n",
    "    null_space = galois.GF(2)(matrix).null_space()\n",
    "\n",
    "    # 3. Convert back to a string\n",
    "    print(\"Guess for hidden string s: \")\n",
    "    if len(null_space) == 0:\n",
    "        # No non-trivial solution; `s` is all-zeros\n",
    "        return \"0\" * len(measurements[0])\n",
    "    return \"\".join(np.array(null_space[0]).astype(str))"
   ]
  },
  {
   "cell_type": "code",
   "execution_count": 47,
   "id": "87b7d34e",
   "metadata": {},
   "outputs": [
    {
     "name": "stdout",
     "output_type": "stream",
     "text": [
      "Guess for hidden string s: \n"
     ]
    },
    {
     "name": "stderr",
     "output_type": "stream",
     "text": [
      "OMP: Info #271: omp_set_nested routine deprecated, please use omp_set_max_active_levels instead.\n"
     ]
    },
    {
     "data": {
      "text/plain": [
       "'10011'"
      ]
     },
     "metadata": {},
     "output_type": "display_data"
    }
   ],
   "source": [
    "display(simon_algorithm(simon_function(\"10011\")))"
   ]
  },
  {
   "cell_type": "markdown",
   "id": "9f670618",
   "metadata": {},
   "source": []
  }
 ],
 "metadata": {
  "kernelspec": {
   "display_name": ".venv",
   "language": "python",
   "name": "python3"
  },
  "language_info": {
   "codemirror_mode": {
    "name": "ipython",
    "version": 3
   },
   "file_extension": ".py",
   "mimetype": "text/x-python",
   "name": "python",
   "nbconvert_exporter": "python",
   "pygments_lexer": "ipython3",
   "version": "3.13.3"
  }
 },
 "nbformat": 4,
 "nbformat_minor": 5
}
