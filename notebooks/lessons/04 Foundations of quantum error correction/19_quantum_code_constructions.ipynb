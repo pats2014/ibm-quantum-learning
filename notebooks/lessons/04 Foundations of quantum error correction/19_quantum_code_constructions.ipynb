{
 "cells": [
  {
   "cell_type": "markdown",
   "id": "637a8237",
   "metadata": {},
   "source": []
  },
  {
   "cell_type": "markdown",
   "id": "5075c02d",
   "metadata": {},
   "source": []
  },
  {
   "cell_type": "markdown",
   "id": "16ba3fea",
   "metadata": {},
   "source": []
  },
  {
   "cell_type": "markdown",
   "id": "f5ee43ed",
   "metadata": {},
   "source": []
  },
  {
   "cell_type": "markdown",
   "id": "51b680e2",
   "metadata": {},
   "source": []
  },
  {
   "cell_type": "markdown",
   "id": "f1acf9ee",
   "metadata": {},
   "source": []
  },
  {
   "cell_type": "markdown",
   "id": "46c0899b",
   "metadata": {},
   "source": []
  },
  {
   "cell_type": "markdown",
   "id": "497453d4",
   "metadata": {},
   "source": []
  },
  {
   "cell_type": "markdown",
   "id": "47704a29",
   "metadata": {},
   "source": []
  }
 ],
 "metadata": {
  "language_info": {
   "name": "python"
  }
 },
 "nbformat": 4,
 "nbformat_minor": 5
}
