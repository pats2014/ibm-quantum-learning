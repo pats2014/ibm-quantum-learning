{
 "cells": [
  {
   "cell_type": "markdown",
   "id": "c165c45c",
   "metadata": {},
   "source": []
  },
  {
   "cell_type": "markdown",
   "id": "93cbd8ce",
   "metadata": {},
   "source": []
  },
  {
   "cell_type": "markdown",
   "id": "50a2c48d",
   "metadata": {},
   "source": []
  }
 ],
 "metadata": {
  "language_info": {
   "name": "python"
  }
 },
 "nbformat": 4,
 "nbformat_minor": 5
}
