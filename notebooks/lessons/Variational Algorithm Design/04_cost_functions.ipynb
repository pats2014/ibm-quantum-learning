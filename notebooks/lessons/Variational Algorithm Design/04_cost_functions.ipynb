{
 "cells": [
  {
   "cell_type": "markdown",
   "id": "d5191731",
   "metadata": {},
   "source": [
    "# Cost Functions\n",
    "You need an IBM account to run this notebook\n",
    "During this lesson, we'll learn how to evaluate a *cost function*:\n",
    "\n",
    "- First, we'll learn about [Qiskit Runtime primitives](https://docs.quantum.ibm.com/guides/primitives).\n",
    "- Define a cost function $C(\\vec{\\theta})$. This is a problem-specific function that defines the problem’s goal for the optimizer to minimize (or maximize).\n",
    "- Defining a measurement strategy with the Qiskit Runtime primitives to [optimize speed vs accuracy](https://qiskit.org/documentation/partners/qiskit_ibm_runtime/).\n",
    "\n",
    "\n",
    "![alt text](../../../img/cost_function_workflow.svg)\n",
    "\n",
    "## Table of Contents\n",
    "\n",
    "1. [Primitives](#primitives)  \n",
    "   - [The Sampler Primitive](#the-sampler-primitive)  \n",
    "   - [The Estimator Primitive](#the-estimator-primitive)  \n",
    "   - [Guided Example to Calculate Expectation Values](#guided-example-to-calculate-expectation-values)  \n",
    "   - [Mathematical Rigor (Optional)](#mathematical-rigor-optional)  \n",
    "2. [Cost Functions](#cost-functions)  \n",
    "3. [Example Mapping to Non-physical Systems](#example-mapping-to-non-physical-systems)  \n",
    "4. [Measurement Strategy: Speed versus Accuracy](#measurement-strategy-speed-versus-accuracy)  \n",
    "5. [Error Suppression](#error-suppression)  \n",
    "6. [Error Mitigation](#error-mitigation)  \n",
    "   - [Twirled Readout Error Extinction (T-REx)](#twirled-readout-error-extinction-t-rex)  \n",
    "   - [Zero Noise Extrapolation](#zero-noise-extrapolation)  \n",
    "   - [Using Qiskit Runtime's Mitigation and Suppression Options](#using-qiskit-runtimes-mitigation-and-suppression-options)  \n",
    "7. [Summary](#summary)"
   ]
  },
  {
   "cell_type": "markdown",
   "id": "1ff3cffb",
   "metadata": {},
   "source": [
    "## Primitives\n",
    "\n",
    "All physical systems, whether classical or quantum, can exist in different states. For example, a car on a road can have a certain mass, position, speed, or acceleration that characterize its state. Similarly, quantum systems can also have different configurations or states, but they differ from classical systems in how we deal with measurements and state evolution. This leads to unique properties such as *superposition* and *entanglement* that are exclusive to quantum mechanics. Just like we can describe a car's state using physical properties like speed or acceleration, we can also describe the state of a quantum system using *observables*, which are mathematical objects.\n",
    "\n",
    "In quantum mechanics, states are represented by normalized complex column vectors, or *kets* ($|\\psi\\rangle$), and observables are hermitian linear operators ($\\hat{H} = \\hat{H}^\\dagger$) that act on the kets. An eigenvector ($|\\lambda\\rangle$) of an observable is known as an *eigenstate*. Measuring an observable for one of its eigenstates ($|\\lambda\\rangle$) will give us the corresponding eigenvalue ($\\lambda$) as readout.\n",
    "\n",
    "If you're wondering how to measure a quantum system and what you can measure, Qiskit offers two primitives that can help:\n",
    "\n",
    "- `Sampler`: Given a quantum state $|\\psi\\rangle$, this primitive obtains the probability of each possible computational basis state.\n",
    "- `Estimator`: Given a quantum observable $\\hat{H}$ and a state $|\\psi\\rangle$, this primitive computes the expected value of $\\hat{H}$.\n",
    "\n"
   ]
  },
  {
   "cell_type": "markdown",
   "id": "435070b6",
   "metadata": {},
   "source": [
    "### The Sampler Primitive\n",
    "\n",
    "The `Sampler` primitive calculates the probability of obtaining each possible state $|k\\rangle$ from the computational basis, given a quantum circuit that prepares the state $|\\psi\\rangle$. It calculates\n",
    "\n",
    "$$\n",
    "p_k = |\\langle k | \\psi \\rangle|^2 \\quad \\forall k \\in \\mathbb{Z}_2^n \\equiv \\{0, 1, \\cdots, 2^n - 1\\},\n",
    "$$\n",
    "\n",
    "where $n$ is the number of qubits, and $k$ the integer representation of any possible output binary string $\\{0,1\\}^n$ (i.e. integers base 2).\n",
    "\n",
    "Qiskit Runtime's `Sampler` runs the circuit multiple times on a quantum device, performing measurements on each run, and reconstructing the probability distribution from the recovered bit strings. The more runs (or *shots*) it performs, the more accurate the results will be, but this requires more time and quantum resources.\n",
    "\n",
    "However, since the number of possible outputs grows exponentially with the number of qubits $n$ (i.e. $2^n$), the number of shots will need to grow exponentially as well in order to capture a *dense* probability distribution. Therefore, `Sampler` is only efficient for *sparse* probability distributions; where the target state $|\\psi\\rangle$ must be expressible as a linear combination of the computational basis states, with the number of terms growing at most polynomially with the number of qubits:\n",
    "\n",
    "$$\n",
    "|\\psi\\rangle = \\sum_k^{\\text{Poly}(n)} w_k |k\\rangle.\n",
    "$$\n",
    "\n",
    "The `Sampler` can also be configured to retrieve probabilities from a subsection of the circuit, representing a subset of the total possible states."
   ]
  },
  {
   "cell_type": "markdown",
   "id": "45a40f76",
   "metadata": {},
   "source": [
    "### The Estimator Primitive\n",
    "\n",
    "\n",
    "The `Estimator` primitive calculates the expectation value of an observable $\\hat{H}$ for a quantum state $|\\psi\\rangle$; where the observable probabilities can be expressed as $p_\\lambda = |\\langle \\lambda | \\psi \\rangle|^2$, being $\\{|\\lambda\\rangle\\}$ the eigenstates of the observable $\\hat{H}$. The expectation value is then defined as the average of all possible outcomes $\\lambda$ (i.e. the eigenvalues of the observable) of a measurement of the state $|\\psi\\rangle$, weighted by the corresponding probabilities:\n",
    "\n",
    "$$\n",
    "\\langle \\hat{H} \\rangle_\\psi := \\sum_\\lambda p_\\lambda \\lambda = \\langle \\psi | \\hat{H} | \\psi \\rangle.\n",
    "$$\n",
    "\n",
    "\n",
    "However, calculating the expectation value of an observable is not always possible, as we often don't know its eigenbasis.  \n",
    "[Qiskit Runtime's `Estimator`](https://qiskit.org/documentation/partners/qiskit_ibm_runtime/) uses a complex algebraic process to estimate the expectation value on a real quantum device by breaking down the observable into a combination of other observables whose eigenbasis we do know.\n",
    "\n",
    "In simpler terms, `Estimator` breaks down any observable that it doesn’t know how to measure into simpler, measurable observables called *Pauli operators*.\n",
    "\n",
    "Any operator can be expressed as a combination of $4^n$ Pauli operators:\n",
    "\n",
    "$$\n",
    "\\hat{P}_k := \\sigma_{k_{n-1}} \\otimes \\cdots \\otimes \\sigma_{k_0} \\quad \\forall k \\in \\mathbb{Z}_4^n \\equiv \\{0, 1, \\cdots, 4^n - 1\\},\n",
    "$$\n",
    "\n",
    "such that\n",
    "\n",
    "$$\n",
    "\\hat{H} = \\sum_{k=0}^{4^n - 1} w_k \\hat{P}_k,\n",
    "$$\n",
    "\n",
    "where $n$ is the number of qubits, $k = k_{n-1} \\cdots k_0$ for $k_i \\in \\mathbb{Z}_4 \\equiv \\{0, 1, 2, 3\\}$ (i.e. integers base 4), and $(\\sigma_0, \\sigma_1, \\sigma_2, \\sigma_3) := (I, X, Y, Z)$.\n",
    "\n",
    "After performing this decomposition, `Estimator` derives a new circuit $V_k |\\psi\\rangle$ for each observable $\\hat{P}_k$ (i.e. from the original circuit), to effectively *diagonalize* the Pauli observable in the computational basis and measure it. We can easily measure Pauli observables because we know $V_k$ ahead of time, which is not the case generally for other observables.\n",
    "\n",
    "For each $\\hat{P}_k$, the `Estimator` runs the corresponding circuit on a quantum device multiple times, measures the output state in the computational basis, and calculates the probability $p_{kj}$ of obtaining each possible output $j$. It then looks for the eigenvalue $\\lambda_{kj}$ of $P_k$ corresponding to each output $j$, multiplies by $w_k$, and adds all the results together to obtain the expected value of the observable $\\hat{H}$ for the given state $|\\psi\\rangle$:\n",
    "\n",
    "$$\n",
    "\\langle \\hat{H} \\rangle_\\psi = \\sum_{k=0}^{4^n - 1} w_k \\sum_{j=0}^{2^n - 1} p_{kj} \\lambda_{kj}.\n",
    "$$\n",
    "\n",
    "Since calculating the expectation value of $4^n$ Paulis is impractical (i.e. exponentially growing), `Estimator` can only be efficient when a large amount of $w_k$ are zero (i.e. *sparse* Pauli decomposition instead of *dense*). Formally we say that, for this computation to be *efficiently solvable*, the number of non-zero terms has to grow at most polynomially with the number of qubits $n$:  \n",
    "$\\hat{H} = \\sum_k^{\\text{Poly}(n)} w_k \\hat{P}_k$.\n",
    "\n",
    "The reader may notice the implicit assumption that probability *sampling* also needs to be efficient as explained for `Sampler`, which means\n",
    "\n",
    "$$\n",
    "\\langle \\hat{H} \\rangle_\\psi = \\sum_k^{\\text{Poly}(n)} w_k \\sum_j^{\\text{Poly}(n)} p_{kj} \\lambda_{kj}.\n",
    "$$\n",
    "\n"
   ]
  },
  {
   "cell_type": "markdown",
   "id": "16200033",
   "metadata": {},
   "source": [
    "### Guided Example to Calculate Expectation Values\n",
    "\n",
    "Let's assume the single-qubit state $|+\\rangle := H |0\\rangle = \\frac{1}{\\sqrt{2}} (|0\\rangle + |1\\rangle)$, and observable\n",
    "\n",
    "$$\n",
    "\\hat{H} = \\begin{pmatrix} -1 & 2 \\\\ 2 & 1 \\end{pmatrix} = 2X - Z.\n",
    "$$\n",
    "\n",
    "With the following theoretical expectation value $\\langle \\hat{H} \\rangle_+ = \\langle + | \\hat{H} | + \\rangle = 2$.\n",
    "\n",
    "Since we do not know how to measure this observable, we cannot compute its expectation value directly, and we need to re-express it as  \n",
    "$\\langle \\hat{H} \\rangle_+ = 2 \\langle X \\rangle_+ - \\langle Z \\rangle_+$.  \n",
    "Which can be shown to evaluate to the same result by virtue of noting that $\\langle + | X | + \\rangle = 1$, and $\\langle + | Z | + \\rangle = 0$.\n",
    "\n",
    "Let’s see how to compute $\\langle X \\rangle_+$ and $\\langle Z \\rangle_+$ directly. Since $X$ and $Z$ do not commute (i.e. don’t share the same eigenbasis), they cannot be measured simultaneously, therefore we need the auxiliary circuits:\n"
   ]
  },
  {
   "cell_type": "code",
   "execution_count": 1,
   "id": "4c76bcfd",
   "metadata": {},
   "outputs": [
    {
     "data": {
      "image/png": "[encoded data removed]",
      "text/plain": [
       "<Figure size 185.453x117.056 with 1 Axes>"
      ]
     },
     "execution_count": 1,
     "metadata": {},
     "output_type": "execute_result"
    }
   ],
   "source": [
    "from qiskit import QuantumCircuit\n",
    "from qiskit.quantum_info import SparsePauliOp\n",
    "\n",
    "# The following code will work for any other initial single-qubit state and observable\n",
    "original_circuit = QuantumCircuit(1)\n",
    "original_circuit.h(0)\n",
    "\n",
    "H = SparsePauliOp([\"X\", \"Z\"], [2, -1])\n",
    "\n",
    "aux_circuits = []\n",
    "for pauli in H.paulis:\n",
    "    aux_circ = original_circuit.copy()\n",
    "    aux_circ.barrier()\n",
    "    if str(pauli) == \"X\":\n",
    "        aux_circ.h(0)\n",
    "    elif str(pauli) == \"Y\":\n",
    "        aux_circ.sdg(0)\n",
    "        aux_circ.h(0)\n",
    "    else:\n",
    "        aux_circ.id(0)\n",
    "    aux_circ.measure_all()\n",
    "    aux_circuits.append(aux_circ)\n",
    "\n",
    "original_circuit.draw(\"mpl\")"
   ]
  },
  {
   "cell_type": "code",
   "execution_count": 2,
   "id": "7df8c47a",
   "metadata": {},
   "outputs": [
    {
     "data": {
      "image/png": "[encoded data removed]",
      "text/plain": [
       "<Figure size 580.387x200.667 with 1 Axes>"
      ]
     },
     "execution_count": 2,
     "metadata": {},
     "output_type": "execute_result"
    }
   ],
   "source": [
    "# Auxiliary circuit for X\n",
    "aux_circuits[0].draw('mpl')"
   ]
  },
  {
   "cell_type": "code",
   "execution_count": 3,
   "id": "2281a0a0",
   "metadata": {},
   "outputs": [
    {
     "data": {
      "image/png": "[encoded data removed]",
      "text/plain": [
       "<Figure size 580.387x200.667 with 1 Axes>"
      ]
     },
     "execution_count": 3,
     "metadata": {},
     "output_type": "execute_result"
    }
   ],
   "source": [
    "# Auxiliary circuit for Z\n",
    "aux_circuits[1].draw('mpl')"
   ]
  },
  {
   "cell_type": "code",
   "execution_count": 4,
   "id": "069e47a5",
   "metadata": {},
   "outputs": [
    {
     "name": "stdout",
     "output_type": "stream",
     "text": [
      "Sampler results:\n",
      "  >> Expected value of X: 1.00000\n",
      "  >> Expected value of Z: -0.00420\n",
      "  >> Total expected value: 2.00420\n",
      "Estimator results:\n",
      "  >> Expected value of X: 1.00000\n",
      "  >> Expected value of Z: 0.00000\n",
      "  >> Total expected value: 2.00000\n"
     ]
    }
   ],
   "source": [
    "# We can now carry out the computation manually using Sampler and check the results on Estimator :\n",
    "from qiskit.primitives import StatevectorSampler, StatevectorEstimator\n",
    "from qiskit.result import QuasiDistribution\n",
    "from qiskit.circuit.library import IGate, ZGate, XGate, YGate\n",
    "import numpy as np\n",
    "\n",
    "\n",
    "## SAMPLER\n",
    "shots = 10000\n",
    "sampler = StatevectorSampler()\n",
    "job = sampler.run(aux_circuits, shots = shots)\n",
    "data_pub = job.result()[1].data\n",
    "bitstrings = data_pub.meas.get_bitstrings()\n",
    "counts = data_pub.meas.get_counts()\n",
    "quasi_dist = QuasiDistribution({outcome: freq / shots for outcome, freq in counts.items()})\n",
    "\n",
    "expvals = []\n",
    "for pauli in H.paulis:\n",
    "    val = 0\n",
    "    \n",
    "    if str(pauli) == \"I\":\n",
    "        Lambda = IGate().to_matrix().real\n",
    "    \n",
    "    if str(pauli) == \"X\":\n",
    "        Lambda = XGate().to_matrix().real\n",
    "        val += Lambda[0][1] * quasi_dist.get(1)\n",
    "        val += Lambda[1][0] * quasi_dist.get(0)\n",
    "    \n",
    "    if str(pauli) == \"Y\":\n",
    "        Lambda = XGate().to_matrix().real\n",
    "        val += Lambda[0][1] * 1.j * quasi_dist.get(1)\n",
    "        val += Lambda[1][0] * -1.j * quasi_dist.get(0)\n",
    "\n",
    "    if str(pauli) == \"Z\":\n",
    "        Lambda = ZGate().to_matrix().real\n",
    "        val += Lambda[0][0] * quasi_dist.get(0)\n",
    "        val += Lambda[1][1] * quasi_dist.get(1)\n",
    "    \n",
    "    expvals.append(val)\n",
    "\n",
    "print(\"Sampler results:\")\n",
    "for (pauli, expval) in zip(H.paulis, expvals):\n",
    "    print(f\"  >> Expected value of {str(pauli)}: {expval:.5f}\")\n",
    "\n",
    "total_expval = np.sum(H.coeffs * expvals).real\n",
    "print(f\"  >> Total expected value: {total_expval:.5f}\")\n",
    "\n",
    "## ESTIMATOR\n",
    "observables = [\n",
    "    *H.paulis,H\n",
    "]  # Note: run for individual Paulis as well as full observable H\n",
    "\n",
    "estimator = StatevectorEstimator()\n",
    "job = estimator.run([(original_circuit, observables)])\n",
    "estimator_expvals = job.result()[0].data.evs\n",
    "\n",
    "print(\"Estimator results:\")\n",
    "for (obs, expval) in zip(observables, estimator_expvals):\n",
    "    if obs is not H:\n",
    "        print(f\"  >> Expected value of {str(obs)}: {expval:.5f}\")\n",
    "    else:\n",
    "        print(f\"  >> Total expected value: {expval:.5f}\")"
   ]
  },
  {
   "cell_type": "markdown",
   "id": "27fea76b",
   "metadata": {},
   "source": [
    "### Mathematical Rigor (Optional)\n",
    "\n",
    "Expressing $|\\psi\\rangle$ with respect to the basis of eigenstates of $\\hat{H}$, $|\\psi\\rangle = \\sum_\\lambda a_\\lambda |\\lambda\\rangle$, it follows:\n",
    "\n",
    "$$\n",
    "\\begin{aligned}\n",
    "\\langle \\psi | \\hat{H} | \\psi \\rangle \n",
    "&= \\left( \\sum_{\\lambda'} a_{\\lambda'}^* \\langle \\lambda' | \\right) \\hat{H} \\left( \\sum_\\lambda a_\\lambda |\\lambda\\rangle \\right) \\\\\n",
    "&= \\sum_{\\lambda'} \\sum_\\lambda a_{\\lambda'}^* a_\\lambda \\langle \\lambda' | \\hat{H} | \\lambda \\rangle \\\\\n",
    "&= \\sum_{\\lambda'} \\sum_\\lambda a_{\\lambda'}^* a_\\lambda \\lambda \\langle \\lambda' | \\lambda \\rangle \\\\\n",
    "&= \\sum_{\\lambda'} \\sum_\\lambda a_{\\lambda'}^* a_\\lambda \\lambda \\cdot \\delta_{\\lambda, \\lambda'} \\\\\n",
    "&= \\sum_\\lambda |a_\\lambda|^2 \\lambda \\\\\n",
    "&= \\sum_\\lambda p_\\lambda \\lambda\n",
    "\\end{aligned}\n",
    "$$\n",
    "\n",
    "Since we do not know the eigenvalues or eigenstates of the target observable $\\hat{H}$, first we need to consider its diagonalization.  \n",
    "Given that $\\hat{H}$ is hermitian, there exists a unitary transformation $V$ such that $\\hat{H} = V^\\dagger \\Lambda V$, where $\\Lambda$ is the diagonal eigenvalue matrix, so $\\langle j | \\Lambda | k \\rangle = 0$ if $j \\ne k$, and $\\langle j | \\Lambda | j \\rangle = \\lambda_j$.\n",
    "\n",
    "This implies that the expected value can be rewritten as:\n",
    "\n",
    "$$\n",
    "\\begin{aligned}\n",
    "\\langle \\psi | \\hat{H} | \\psi \\rangle &= \\langle \\psi | V^\\dagger \\Lambda V | \\psi \\rangle \\\\\n",
    "&= \\langle \\psi | V^\\dagger \\left( \\sum_{j=0}^{2^n - 1} |j\\rangle \\langle j| \\right) \\Lambda \\left( \\sum_{k=0}^{2^n - 1} |k\\rangle \\langle k| \\right) V | \\psi \\rangle \\\\\n",
    "&= \\sum_{j=0}^{2^n - 1} \\sum_{k=0}^{2^n - 1} \\langle \\psi | V^\\dagger | j \\rangle \\langle j | \\Lambda | k \\rangle \\langle k | V | \\psi \\rangle \\\\\n",
    "&= \\sum_{j=0}^{2^n - 1} \\langle \\psi | V^\\dagger | j \\rangle \\langle j | \\Lambda | j \\rangle \\langle j | V | \\psi \\rangle \\\\\n",
    "&= \\sum_{j=0}^{2^n - 1} |\\langle j | V | \\psi \\rangle|^2 \\lambda_j\n",
    "\\end{aligned}\n",
    "$$\n",
    "\n",
    "Given that if a system is in the state $|\\phi\\rangle = V |\\psi\\rangle$ the probability of measuring $|j\\rangle$ is $p_j = |\\langle j | \\phi \\rangle|^2$, the above expected value can be expressed as:\n",
    "\n",
    "$$\n",
    "\\langle \\psi | \\hat{H} | \\psi \\rangle = \\sum_{j=0}^{2^n - 1} p_j \\lambda_j.\n",
    "$$\n",
    "\n",
    "It is very important to note that the probabilities are taken from the state $V |\\psi\\rangle$ instead of $|\\psi\\rangle$. This is why the matrix $V$ is absolutely necessary.\n",
    "\n",
    "You might be wondering how to obtain the matrix $V$ and the eigenvalues $\\Lambda$. If you already had the eigenvalues, then there would be no need to use a quantum computer since the goal of variational algorithms is to find these eigenvalues of $\\hat{H}$.\n",
    "\n",
    "Fortunately, there is a way around that: any $2^n \\times 2^n$ matrix can be written as a linear combination of $4^n$ tensor products of $n$ Pauli matrices and identities, all of which are both hermitian and unitary with known $V$ and $\\Lambda$. This is what Runtime’s `Estimator` does internally by decomposing any `Operator` object into a `SparsePauliOp`.\n",
    "\n",
    "Here are the Operators that can be used:\n",
    "\n",
    "| **Operator** | $\\sigma$                              | $V$                                                                                  | $\\Lambda$                                                   |\n",
    "|--------------|----------------------------------------|--------------------------------------------------------------------------------------|--------------------------------------------------------------|\n",
    "| $I$          | $\\sigma_0 = \\begin{pmatrix}1 & 0 \\\\ 0 & 1\\end{pmatrix}$ | $V_0 = I$                                                                       | $\\Lambda_0 = I = \\begin{pmatrix}1 & 0 \\\\ 0 & 1\\end{pmatrix}$ |\n",
    "| $X$          | $\\sigma_1 = \\begin{pmatrix}0 & 1 \\\\ 1 & 0\\end{pmatrix}$ | $V_1 = H = \\frac{1}{\\sqrt{2}} \\begin{pmatrix}1 & 1 \\\\ 1 & -1\\end{pmatrix}$     | $\\Lambda_1 = \\sigma_3 = \\begin{pmatrix}1 & 0 \\\\ 0 & -1\\end{pmatrix}$ |\n",
    "| $Y$          | $\\sigma_2 = \\begin{pmatrix}0 & -i \\\\ i & 0\\end{pmatrix}$ | $V_2 = HS^\\dagger = \\frac{1}{\\sqrt{2}} \\begin{pmatrix}1 & 1 \\\\ 1 & -1\\end{pmatrix} \\begin{pmatrix}1 & 0 \\\\ 0 & -i\\end{pmatrix} = \\frac{1}{\\sqrt{2}} \\begin{pmatrix}1 & -i \\\\ 1 & i\\end{pmatrix}$ | $\\Lambda_2 = \\sigma_3 = \\begin{pmatrix}1 & 0 \\\\ 0 & -1\\end{pmatrix}$ |\n",
    "| $Z$          | $\\sigma_3 = \\begin{pmatrix}1 & 0 \\\\ 0 & -1\\end{pmatrix}$ | $V_3 = I$                                                                       | $\\Lambda_3 = \\sigma_3 = \\begin{pmatrix}1 & 0 \\\\ 0 & -1\\end{pmatrix}$ |\n",
    "\n",
    "---\n",
    "\n",
    "So let’s rewrite $\\hat{H}$ with respect to the Paulis and identities:\n",
    "\n",
    "$$\n",
    "\\hat{H} = \\sum_{k_{n-1} = 0}^3 \\cdots \\sum_{k_0 = 0}^3 w_{k_{n-1}, \\ldots, k_0} \\sigma_{k_{n-1}} \\otimes \\cdots \\otimes \\sigma_{k_0} = \\sum_{k=0}^{4^n - 1} w_k \\hat{P}_k,\n",
    "$$\n",
    "\n",
    "where $k = \\sum_{i=0}^{n-1} 4^i k_i \\equiv k_{n-1} \\cdots k_0$ for $k_i \\in \\{0, 1, 2, 3\\}$ (i.e. base 4), and $\\hat{P}_k := \\sigma_{k_{n-1}} \\otimes \\cdots \\otimes \\sigma_{k_0}$.\n",
    "\n",
    "$$\n",
    "\\langle \\psi | \\hat{H} | \\psi \\rangle = \\sum_{k=0}^{4^n - 1} w_k \\sum_{j=0}^{2^n - 1} |\\langle j | V_k | \\psi \\rangle|^2 \\langle j | \\Lambda_k | j \\rangle = \\sum_{k=0}^{4^n - 1} w_k \\sum_{j=0}^{2^n - 1} p_{kj} \\lambda_{kj},\n",
    "$$\n",
    "\n",
    "where $V_k := V_{k_{n-1}} \\otimes \\cdots \\otimes V_{k_0}$ and $\\Lambda_k := \\Lambda_{k_{n-1}} \\otimes \\cdots \\otimes \\Lambda_{k_0}$ such that:  \n",
    "$\\hat{P}_k = V_k^\\dagger \\Lambda_k V_k$.\n",
    "\n"
   ]
  },
  {
   "cell_type": "markdown",
   "id": "136d74ac",
   "metadata": {},
   "source": [
    "## Cost Functions\n",
    "\n",
    "In general, cost functions are used to describe the goal of a problem and how well a trial state is performing with respect to that goal. This definition can be applied to various examples in chemistry, machine learning, finance, optimization, and so on.\n",
    "\n",
    "Let’s consider a simple example of finding the ground state of a system. Our objective is to minimize the expectation value of the observable representing energy (Hamiltonian $\\hat{H}$):\n",
    "\n",
    "$$\n",
    "\\min_{\\vec{\\theta}} \\langle \\psi(\\vec{\\theta}) | \\hat{H} | \\psi(\\vec{\\theta}) \\rangle\n",
    "$$\n",
    "\n",
    "We can use the `Estimator` to evaluate the expectation value and pass this value to an optimizer to minimize. If the optimization is successful, it will return a set of optimal parameter values $\\vec{\\theta}^*$, from which we will be able to construct the proposed solution state $|\\psi(\\vec{\\theta}^*)\\rangle$ and compute the observed expectation value as $C(\\vec{\\theta}^*)$.\n",
    "\n",
    "Notice how we will only be able to minimize the cost function for the limited set of states that we are considering. This leads us to two separate possibilities:\n",
    "\n",
    "- **Our ansatz does not define the solution state across the search space**: If this is the case, our optimizer will never find the solution, and we need to experiment with other ansatzes that might be able to represent our search space more accurately.\n",
    "- **Our optimizer is unable to find this valid solution**: Optimization can be globally defined and locally derailed. We’ll explore what this means in the later section.\n",
    "\n",
    "All in all, we will be performing a classical optimization loop but relying on the evaluation of the cost function to a quantum computer. From this perspective, one could think of the optimization as a purely classical endeavor where we call some black-box quantum oracle each time the optimizer needs to evaluate the cost function."
   ]
  },
  {
   "cell_type": "code",
   "execution_count": 5,
   "id": "ddfb7d96",
   "metadata": {},
   "outputs": [],
   "source": [
    "def cost_func_vqe(params, circuit, hamiltonian, estimator):\n",
    "    \"\"\"Return estimate of energy from estimator\n",
    "\n",
    "    Parameters:\n",
    "        params (ndarray): Array of ansatz parameters\n",
    "        ansatz (QuantumCircuit): Parameterized ansatz circuit\n",
    "        hamiltonian (SparsePauliOp): Operator representation of Hamiltonian\n",
    "        estimator (Estimator): Estimator primitive instance\n",
    "\n",
    "    Returns:\n",
    "        float: Energy estimate\n",
    "    \"\"\"\n",
    "    pub = (circuit, hamiltonian, params)\n",
    "    cost = estimator.run([pub]).result()[0].data.evs\n",
    "    return cost"
   ]
  },
  {
   "cell_type": "code",
   "execution_count": 6,
   "id": "6d05dd4f",
   "metadata": {},
   "outputs": [
    {
     "data": {
      "image/png": "[encoded data removed]",
      "text/plain": [
       "<Figure size 621.739x200.667 with 1 Axes>"
      ]
     },
     "execution_count": 6,
     "metadata": {},
     "output_type": "execute_result"
    }
   ],
   "source": [
    "from qiskit.circuit.library import TwoLocal\n",
    "\n",
    "observable = SparsePauliOp.from_list([(\"XX\", 1), (\"YY\", -3)])\n",
    "\n",
    "reference_circuit = QuantumCircuit(2)\n",
    "reference_circuit.x(0)\n",
    "\n",
    "variational_form = TwoLocal(\n",
    "    2,\n",
    "    rotation_blocks=[\"rz\", \"ry\"],\n",
    "    entanglement_blocks=\"cx\",\n",
    "    entanglement=\"linear\",\n",
    "    reps=1,\n",
    ")\n",
    "ansatz = reference_circuit.compose(variational_form)\n",
    "\n",
    "theta_list = (2 * np.pi * np.random.rand(1, 8)).tolist()\n",
    "ansatz.decompose().draw('mpl')"
   ]
  },
  {
   "cell_type": "markdown",
   "id": "7b0395e6",
   "metadata": {},
   "source": [
    "We will first carry this out using a simulator: the StatevectorEstimator. This is usually advisable for debugging, but we will immediately follow the debugging run with a calculation on real quantum hardware. Increasingly, problems of interest are no longer classically simulable without state-of-the-art supercomputing facilities."
   ]
  },
  {
   "cell_type": "code",
   "execution_count": 7,
   "id": "8a7ff0c7",
   "metadata": {},
   "outputs": [
    {
     "name": "stdout",
     "output_type": "stream",
     "text": [
      "[-0.01271685]\n"
     ]
    }
   ],
   "source": [
    "estimator = StatevectorEstimator()\n",
    "cost = cost_func_vqe(theta_list, ansatz, observable, estimator)\n",
    "print(cost)"
   ]
  },
  {
   "cell_type": "markdown",
   "id": "0faef140",
   "metadata": {},
   "source": [
    "We will now proceed with running on a real quantum computer. Note the syntax changes. The steps involving the pass_manager will be discussed further in the next example. One step of particular importance in variational algorithms is the use of a Qiskit Runtime session. Starting a session allows you to run multiple iterations of a variational algorithm without waiting in a new queue each time parameters are updated. This is important if queue times are long and/or many iterations are needed. Only partners in the IBM Quantum Network can use Runtime sessions. If you do not have access to sessions, you can reduce the number of iterations you submit at a given time, and save the most recent parameters for use in future runs. If you submit too many iterations or encounter queue times that are too long, you may encounter error code 1217, which refers to long delays between job submissions."
   ]
  },
  {
   "cell_type": "code",
   "execution_count": 8,
   "id": "f08b8c7d",
   "metadata": {},
   "outputs": [
    {
     "ename": "AccountNotFoundError",
     "evalue": "'Unable to find account.'",
     "output_type": "error",
     "traceback": [
      "\u001b[31m---------------------------------------------------------------------------\u001b[39m",
      "\u001b[31mAccountNotFoundError\u001b[39m                      Traceback (most recent call last)",
      "\u001b[36mCell\u001b[39m\u001b[36m \u001b[39m\u001b[32mIn[8]\u001b[39m\u001b[32m, line 9\u001b[39m\n\u001b[32m      5\u001b[39m \u001b[38;5;28;01mfrom\u001b[39;00m\u001b[38;5;250m \u001b[39m\u001b[34;01mqiskit\u001b[39;00m\u001b[34;01m.\u001b[39;00m\u001b[34;01mtranspiler\u001b[39;00m\u001b[34;01m.\u001b[39;00m\u001b[34;01mpreset_passmanagers\u001b[39;00m\u001b[38;5;250m \u001b[39m\u001b[38;5;28;01mimport\u001b[39;00m generate_preset_pass_manager\n\u001b[32m      7\u001b[39m \u001b[38;5;66;03m#Select the least busy backend:\u001b[39;00m\n\u001b[32m----> \u001b[39m\u001b[32m9\u001b[39m service = \u001b[43mQiskitRuntimeService\u001b[49m\u001b[43m(\u001b[49m\u001b[43mchannel\u001b[49m\u001b[43m=\u001b[49m\u001b[33;43m\"\u001b[39;49m\u001b[33;43mibm_quantum\u001b[39;49m\u001b[33;43m\"\u001b[39;49m\u001b[43m)\u001b[49m\n\u001b[32m     10\u001b[39m backend = service.least_busy(\n\u001b[32m     11\u001b[39m     operational=\u001b[38;5;28;01mTrue\u001b[39;00m, min_num_qubits=ansatz.num_qubits, simulator=\u001b[38;5;28;01mFalse\u001b[39;00m\n\u001b[32m     12\u001b[39m )\n\u001b[32m     13\u001b[39m \u001b[38;5;66;03m#Or get a specific backend:\u001b[39;00m\n\u001b[32m     14\u001b[39m \u001b[38;5;66;03m#backend = service.backend(\"ibm_cusco\")\u001b[39;00m\n\u001b[32m     15\u001b[39m \n\u001b[32m     16\u001b[39m \u001b[38;5;66;03m#Use a pass manager to transpile the circuit and observable for the specific backend being used:\u001b[39;00m\n",
      "\u001b[36mFile \u001b[39m\u001b[32m~/Desktop/Technology/Quantum/IBM Qiskit/.venv/lib/python3.13/site-packages/qiskit_ibm_runtime/qiskit_runtime_service.py:157\u001b[39m, in \u001b[36mQiskitRuntimeService.__init__\u001b[39m\u001b[34m(self, channel, token, url, filename, name, instance, proxies, verify, private_endpoint, url_resolver, region, plans_preference)\u001b[39m\n\u001b[32m    155\u001b[39m \u001b[38;5;28mself\u001b[39m._all_instances: List[Dict[\u001b[38;5;28mstr\u001b[39m, \u001b[38;5;28mstr\u001b[39m]] = []\n\u001b[32m    156\u001b[39m \u001b[38;5;28mself\u001b[39m._saved_instances: List[\u001b[38;5;28mstr\u001b[39m] = []\n\u001b[32m--> \u001b[39m\u001b[32m157\u001b[39m \u001b[38;5;28mself\u001b[39m._account = \u001b[38;5;28;43mself\u001b[39;49m\u001b[43m.\u001b[49m\u001b[43m_discover_account\u001b[49m\u001b[43m(\u001b[49m\n\u001b[32m    158\u001b[39m \u001b[43m    \u001b[49m\u001b[43mtoken\u001b[49m\u001b[43m=\u001b[49m\u001b[43mtoken\u001b[49m\u001b[43m,\u001b[49m\n\u001b[32m    159\u001b[39m \u001b[43m    \u001b[49m\u001b[43murl\u001b[49m\u001b[43m=\u001b[49m\u001b[43murl\u001b[49m\u001b[43m,\u001b[49m\n\u001b[32m    160\u001b[39m \u001b[43m    \u001b[49m\u001b[43minstance\u001b[49m\u001b[43m=\u001b[49m\u001b[43minstance\u001b[49m\u001b[43m,\u001b[49m\n\u001b[32m    161\u001b[39m \u001b[43m    \u001b[49m\u001b[43mchannel\u001b[49m\u001b[43m=\u001b[49m\u001b[43mchannel\u001b[49m\u001b[43m,\u001b[49m\n\u001b[32m    162\u001b[39m \u001b[43m    \u001b[49m\u001b[43mfilename\u001b[49m\u001b[43m=\u001b[49m\u001b[43mfilename\u001b[49m\u001b[43m,\u001b[49m\n\u001b[32m    163\u001b[39m \u001b[43m    \u001b[49m\u001b[43mname\u001b[49m\u001b[43m=\u001b[49m\u001b[43mname\u001b[49m\u001b[43m,\u001b[49m\n\u001b[32m    164\u001b[39m \u001b[43m    \u001b[49m\u001b[43mproxies\u001b[49m\u001b[43m=\u001b[49m\u001b[43mProxyConfiguration\u001b[49m\u001b[43m(\u001b[49m\u001b[43m*\u001b[49m\u001b[43m*\u001b[49m\u001b[43mproxies\u001b[49m\u001b[43m)\u001b[49m\u001b[43m \u001b[49m\u001b[38;5;28;43;01mif\u001b[39;49;00m\u001b[43m \u001b[49m\u001b[43mproxies\u001b[49m\u001b[43m \u001b[49m\u001b[38;5;28;43;01melse\u001b[39;49;00m\u001b[43m \u001b[49m\u001b[38;5;28;43;01mNone\u001b[39;49;00m\u001b[43m,\u001b[49m\n\u001b[32m    165\u001b[39m \u001b[43m    \u001b[49m\u001b[43mverify\u001b[49m\u001b[43m=\u001b[49m\u001b[43mverify\u001b[49m\u001b[43m,\u001b[49m\n\u001b[32m    166\u001b[39m \u001b[43m\u001b[49m\u001b[43m)\u001b[49m\n\u001b[32m    168\u001b[39m \u001b[38;5;28;01mif\u001b[39;00m private_endpoint \u001b[38;5;129;01mis\u001b[39;00m \u001b[38;5;129;01mnot\u001b[39;00m \u001b[38;5;28;01mNone\u001b[39;00m:\n\u001b[32m    169\u001b[39m     \u001b[38;5;28mself\u001b[39m._account.private_endpoint = private_endpoint\n",
      "\u001b[36mFile \u001b[39m\u001b[32m~/Desktop/Technology/Quantum/IBM Qiskit/.venv/lib/python3.13/site-packages/qiskit_ibm_runtime/qiskit_runtime_service.py:340\u001b[39m, in \u001b[36mQiskitRuntimeService._discover_account\u001b[39m\u001b[34m(self, token, url, instance, channel, filename, name, proxies, verify)\u001b[39m\n\u001b[32m    338\u001b[39m         \u001b[38;5;28;01mif\u001b[39;00m url:\n\u001b[32m    339\u001b[39m             logger.warning(\u001b[33m\"\u001b[39m\u001b[33mLoading default \u001b[39m\u001b[38;5;132;01m%s\u001b[39;00m\u001b[33m account. Input \u001b[39m\u001b[33m'\u001b[39m\u001b[33murl\u001b[39m\u001b[33m'\u001b[39m\u001b[33m is ignored.\u001b[39m\u001b[33m\"\u001b[39m, channel)\n\u001b[32m--> \u001b[39m\u001b[32m340\u001b[39m         account = \u001b[43mAccountManager\u001b[49m\u001b[43m.\u001b[49m\u001b[43mget\u001b[49m\u001b[43m(\u001b[49m\u001b[43mfilename\u001b[49m\u001b[43m=\u001b[49m\u001b[43mfilename\u001b[49m\u001b[43m,\u001b[49m\u001b[43m \u001b[49m\u001b[43mname\u001b[49m\u001b[43m=\u001b[49m\u001b[43mname\u001b[49m\u001b[43m,\u001b[49m\u001b[43m \u001b[49m\u001b[43mchannel\u001b[49m\u001b[43m=\u001b[49m\u001b[43mchannel\u001b[49m\u001b[43m)\u001b[49m\n\u001b[32m    341\u001b[39m \u001b[38;5;28;01melif\u001b[39;00m \u001b[38;5;28many\u001b[39m([token, url]):\n\u001b[32m    342\u001b[39m     \u001b[38;5;66;03m# Let's not infer based on these attributes as they may change in the future.\u001b[39;00m\n\u001b[32m    343\u001b[39m     \u001b[38;5;28;01mraise\u001b[39;00m \u001b[38;5;167;01mValueError\u001b[39;00m(\n\u001b[32m    344\u001b[39m         \u001b[33m\"\u001b[39m\u001b[33m'\u001b[39m\u001b[33mchannel\u001b[39m\u001b[33m'\u001b[39m\u001b[33m is required if \u001b[39m\u001b[33m'\u001b[39m\u001b[33mtoken\u001b[39m\u001b[33m'\u001b[39m\u001b[33m, or \u001b[39m\u001b[33m'\u001b[39m\u001b[33murl\u001b[39m\u001b[33m'\u001b[39m\u001b[33m is specified but \u001b[39m\u001b[33m'\u001b[39m\u001b[33mname\u001b[39m\u001b[33m'\u001b[39m\u001b[33m is not.\u001b[39m\u001b[33m\"\u001b[39m\n\u001b[32m    345\u001b[39m     )\n",
      "\u001b[36mFile \u001b[39m\u001b[32m~/Desktop/Technology/Quantum/IBM Qiskit/.venv/lib/python3.13/site-packages/qiskit_ibm_runtime/accounts/management.py:204\u001b[39m, in \u001b[36mAccountManager.get\u001b[39m\u001b[34m(cls, filename, name, channel)\u001b[39m\n\u001b[32m    201\u001b[39m     \u001b[38;5;28;01mif\u001b[39;00m account_name \u001b[38;5;129;01min\u001b[39;00m all_config:\n\u001b[32m    202\u001b[39m         \u001b[38;5;28;01mreturn\u001b[39;00m Account.from_saved_format(all_config[account_name])\n\u001b[32m--> \u001b[39m\u001b[32m204\u001b[39m \u001b[38;5;28;01mraise\u001b[39;00m AccountNotFoundError(\u001b[33m\"\u001b[39m\u001b[33mUnable to find account.\u001b[39m\u001b[33m\"\u001b[39m)\n",
      "\u001b[31mAccountNotFoundError\u001b[39m: 'Unable to find account.'"
     ]
    }
   ],
   "source": [
    "#Estimated usage: < 1 min. Benchmarked at 7 seconds on ibm_osaka, 5-23-24\n",
    "#Load necessary packages:\n",
    "\n",
    "from qiskit_ibm_runtime import QiskitRuntimeService, Session, EstimatorOptions, EstimatorV2 as Estimator\n",
    "from qiskit.transpiler.preset_passmanagers import generate_preset_pass_manager\n",
    "\n",
    "#Select the least busy backend:\n",
    "\n",
    "service = QiskitRuntimeService(channel=\"ibm_quantum\")\n",
    "backend = service.least_busy(\n",
    "    operational=True, min_num_qubits=ansatz.num_qubits, simulator=False\n",
    ")\n",
    "#Or get a specific backend:\n",
    "#backend = service.backend(\"ibm_cusco\")\n",
    "\n",
    "#Use a pass manager to transpile the circuit and observable for the specific backend being used:\n",
    "\n",
    "pm = generate_preset_pass_manager(backend=backend, optimization_level=1)\n",
    "isa_ansatz = pm.run(ansatz)\n",
    "isa_observable = observable.apply_layout(layout = isa_ansatz.layout)\n",
    "\n",
    "\n",
    "# Set estimator options\n",
    "estimator_options = EstimatorOptions(\n",
    "    resilience_level=1,\n",
    "    default_shots = 10_000\n",
    ")\n",
    "\n",
    "# Open a Runtime session:\n",
    "\n",
    "with Session(backend=backend) as session:\n",
    "    estimator = Estimator(mode=session, options = estimator_options)\n",
    "    cost = cost_func_vqe(theta_list, isa_ansatz, isa_observable, estimator)\n",
    "\n",
    "session.close()\n",
    "print(cost)"
   ]
  },
  {
   "cell_type": "markdown",
   "id": "7168ceee",
   "metadata": {},
   "source": [
    "Note that the values obtained from the two calculations above are very similar. Techniques for improving results will be discussed further below."
   ]
  },
  {
   "cell_type": "markdown",
   "id": "0d77fd30",
   "metadata": {},
   "source": [
    "## Example Mapping to Non-physical Systems\n",
    "\n",
    "The maximum cut (Max-Cut) problem is a combinatorial optimization problem that involves dividing the vertices of a graph into two disjoint sets such that the number of edges between the two sets is maximized. More formally, given an undirected graph $G=(V,E)$, where $V$ is the set of vertices and $E$ is the set of edges, the Max-Cut problem asks to partition the vertices into two disjoint subsets, $S$ and $T$, such that the number of edges with one endpoint in $S$ and the other in $T$ is maximized.\n",
    "\n",
    "We can apply Max-Cut to solve a various problems including: clustering, network design, phase transitions, etc. We'll start by creating a problem graph:"
   ]
  },
  {
   "cell_type": "code",
   "execution_count": 9,
   "id": "03b6ec7d",
   "metadata": {},
   "outputs": [
    {
     "data": {
      "image/png": "[encoded data removed]",
      "text/plain": [
       "<Figure size 640x480 with 1 Axes>"
      ]
     },
     "metadata": {},
     "output_type": "display_data"
    }
   ],
   "source": [
    "import rustworkx as rx\n",
    "from rustworkx.visualization import mpl_draw\n",
    "\n",
    "n = 4\n",
    "G = rx.PyGraph()\n",
    "G.add_nodes_from(range(n))\n",
    "# The edge syntax is (start, end, weight)\n",
    "edges = [(0, 1, 1.0), (0, 2, 1.0), (0, 3, 1.0), (1, 2, 1.0), (2, 3, 1.0)]\n",
    "G.add_edges_from(edges)\n",
    "\n",
    "mpl_draw(G, pos=rx.shell_layout(G), with_labels=True, edge_labels=str, node_color=\"#1192E8\")"
   ]
  },
  {
   "cell_type": "markdown",
   "id": "286b31c2",
   "metadata": {},
   "source": [
    "This problem can be expressed as a binary optimization problem. For each node $0 \\leq i < n$, where $n$ is the number of nodes of the graph (in this case $n = 4$), we will consider the binary variable $x_i$. This variable will have the value 1 if node $i$ is one of the groups that we'll label 1 and 0 if it's in the other group, that we'll label as 0. We will also denote as $w_{ij}$ (element $(i, j)$ of the adjacency matrix $w$) the weight of the edge that goes from node $i$ to node $j$. Because the graph is undirected, $w_{ij} = w_{ji}$. Then we can formulate our problem as maximizing the following cost function:\n",
    "\n",
    "$$\n",
    "\\begin{aligned}\n",
    "C(\\vec{x}) &= \\sum_{i,j=0}^{n} w_{ij} x_i (1 - x_j) \\\\\n",
    "&= \\sum_{i,j=0}^{n} w_{ij} x_i - \\sum_{i,j=0}^{n} w_{ij} x_i x_j \\\\\n",
    "&= \\sum_{i,j=0}^{n} w_{ij} x_i - \\sum_{i=0}^{n} \\sum_{j=0}^{i} 2 w_{ij} x_i x_j\n",
    "\\end{aligned}\n",
    "$$\n",
    "\n",
    "To solve this problem with a quantum computer, we are going to express the cost function as the expected value of an observable. However, the observables that Qiskit admits natively consist of Pauli operators, that have eigenvalues 1 and $-1$ instead of 0 and 1. That’s why we are going to make the following change of variable:\n",
    "\n",
    "Where $\\vec{x} = (x_0, x_1, \\cdots, x_{n-1})$. We can use the adjacency matrix $w$ to comfortably access the weights of all the edges. This will be used to obtain our cost function:\n",
    "\n",
    "$$\n",
    "z_i = 1 - 2x_i \\rightarrow x_i = \\frac{1 - z_i}{2}\n",
    "$$\n",
    "\n",
    "This implies that:\n",
    "\n",
    "$$\n",
    "\\begin{aligned}\n",
    "x_i = 0 &\\rightarrow z_i = 1 \\\\\n",
    "x_i = 1 &\\rightarrow z_i = -1\n",
    "\\end{aligned}\n",
    "$$\n",
    "\n",
    "So the new cost function we want to maximize is:\n",
    "\n",
    "$$\n",
    "\\begin{aligned}\n",
    "C(\\vec{z}) &= \\sum_{i,j=0}^{n} w_{ij} \\left( \\frac{1 - z_i}{2} \\right) \\left( \\frac{1 - z_j}{2} \\right) \\\\\n",
    "&= \\sum_{i,j=0}^{n} \\frac{w_{ij}}{4} - \\sum_{i,j=0}^{n} \\frac{w_{ij}}{4} z_i z_j \\\\\n",
    "&= \\sum_{i=0}^{n} \\sum_{j=0}^{i} \\frac{w_{ij}}{2} - \\sum_{i=0}^{n} \\sum_{j=0}^{i} \\frac{w_{ij}}{2} z_i z_j\n",
    "\\end{aligned}\n",
    "$$\n",
    "\n",
    "Moreover, the natural tendency of a quantum computer is to find minima (usually the lowest energy) instead of maxima so instead of maximizing $C(\\vec{z})$ we are going to minimize:\n",
    "\n",
    "$$\n",
    "-C(\\vec{z}) = \\sum_{i=0}^{n} \\sum_{j=0}^{i} \\frac{w_{ij}}{2} z_i z_j - \\sum_{i=0}^{n} \\sum_{j=0}^{i} \\frac{w_{ij}}{2}\n",
    "$$\n",
    "\n",
    "Now that we have a cost function to minimize whose variables can have the values $-1$ and $1$, we can make the following analogy with the Pauli $Z$:\n",
    "\n",
    "$$\n",
    "z_i = Z_i = \\underbrace{I \\otimes \\cdots \\otimes}_{n-1} \\underbrace{Z}_{i^{\\text{th}}} \\underbrace{\\otimes \\cdots \\otimes I}_{0^{\\text{th}}}\n",
    "$$\n",
    "\n",
    "In other words, the variable $z_i$ will be equivalent to a $Z$ gate acting on qubit $i$. Moreover:\n",
    "\n",
    "$$\n",
    "Z_i |x_{n-1} \\cdots x_0\\rangle = z_i |x_{n-1} \\cdots x_0\\rangle \\rightarrow \\langle x_{n-1} \\cdots x_0 | Z_i | x_{n-1} \\cdots x_0 \\rangle = z_i\n",
    "$$\n",
    "\n",
    "Then the observable we are going to consider is:\n",
    "\n",
    "$$\n",
    "\\hat{H} = \\sum_{i=0}^{n} \\sum_{j=0}^{i} \\frac{w_{ij}}{2} Z_i Z_j\n",
    "$$\n",
    "\n",
    "to which we will have to add the independent term afterwards:\n",
    "\n",
    "$$\n",
    "\\text{offset} = -\\sum_{i=0}^{n} \\sum_{j=0}^{i} \\frac{w_{ij}}{2}\n",
    "$$\n",
    "\n",
    "The operator is a linear combination of terms with $Z$ operators on nodes connected by an edge (recall that the 0th qubit is farthest right):  \n",
    "$IIZZ + IZIZ + IZZI + ZIIZ + ZZII$.  \n",
    "Once the operator is constructed, the ansatz for the QAOA algorithm can easily be built by using the `QAOAAnsatz` circuit from the Qiskit circuit library.\n",
    "\n"
   ]
  },
  {
   "cell_type": "code",
   "execution_count": 10,
   "id": "92525e84",
   "metadata": {},
   "outputs": [
    {
     "data": {
      "image/png": "[encoded data removed]",
      "text/plain": [
       "<Figure size 2210.55x785.944 with 1 Axes>"
      ]
     },
     "execution_count": 10,
     "metadata": {},
     "output_type": "execute_result"
    }
   ],
   "source": [
    "from qiskit.circuit.library import QAOAAnsatz\n",
    "from qiskit.quantum_info import SparsePauliOp\n",
    "\n",
    "hamiltonian = SparsePauliOp.from_list([\n",
    "    (\"IIZZ\", 1), (\"IZIZ\", 1), (\"IZZI\", 1), (\"ZIIZ\", 1), (\"ZZII\", 1)\n",
    "])\n",
    "\n",
    "\n",
    "ansatz = QAOAAnsatz(hamiltonian, reps=2)\n",
    "# Draw\n",
    "ansatz.decompose(reps=3).draw(\"mpl\")"
   ]
  },
  {
   "cell_type": "code",
   "execution_count": 11,
   "id": "ad387bc2",
   "metadata": {},
   "outputs": [
    {
     "name": "stdout",
     "output_type": "stream",
     "text": [
      "Offset: -2.5\n"
     ]
    }
   ],
   "source": [
    "# Sum the weights, and divide by 2\n",
    "\n",
    "offset = - sum(edge[2] for edge in edges) / 2\n",
    "print(f\"\"\"Offset: {offset}\"\"\")"
   ]
  },
  {
   "cell_type": "markdown",
   "id": "877b5dab",
   "metadata": {},
   "source": [
    "With the Runtime Estimator directly taking a Hamiltonian and parameterized ansatz, and returning the necessary energy, The cost function for a QAOA instance is quite simple:"
   ]
  },
  {
   "cell_type": "code",
   "execution_count": 12,
   "id": "acba38ac",
   "metadata": {},
   "outputs": [],
   "source": [
    "def cost_func(params, ansatz, hamiltonian, estimator):\n",
    "    \"\"\"Return estimate of energy from estimator\n",
    "\n",
    "    Parameters:\n",
    "        params (ndarray): Array of ansatz parameters\n",
    "        ansatz (QuantumCircuit): Parameterized ansatz circuit\n",
    "        hamiltonian (SparsePauliOp): Operator representation of Hamiltonian\n",
    "        estimator (Estimator): Estimator primitive instance\n",
    "\n",
    "    Returns:\n",
    "        float: Energy estimate\n",
    "    \"\"\"\n",
    "    pub = (ansatz, hamiltonian, params)\n",
    "    cost = estimator.run([pub]).result()[0].data.evs\n",
    "#    cost = estimator.run(ansatz, hamiltonian, parameter_values=params).result().values[0]\n",
    "    return cost"
   ]
  },
  {
   "cell_type": "code",
   "execution_count": 13,
   "id": "9d280c56",
   "metadata": {},
   "outputs": [
    {
     "name": "stdout",
     "output_type": "stream",
     "text": [
      "0.9193949539399506\n"
     ]
    }
   ],
   "source": [
    "import numpy as np\n",
    "\n",
    "x0 = 2 * np.pi * np.random.rand(ansatz.num_parameters)\n",
    "\n",
    "estimator = StatevectorEstimator()\n",
    "cost = cost_func_vqe(x0, ansatz, hamiltonian, estimator)\n",
    "print(cost)"
   ]
  },
  {
   "cell_type": "code",
   "execution_count": 14,
   "id": "a849e855",
   "metadata": {},
   "outputs": [
    {
     "ename": "NameError",
     "evalue": "name 'service' is not defined",
     "output_type": "error",
     "traceback": [
      "\u001b[31m---------------------------------------------------------------------------\u001b[39m",
      "\u001b[31mNameError\u001b[39m                                 Traceback (most recent call last)",
      "\u001b[36mCell\u001b[39m\u001b[36m \u001b[39m\u001b[32mIn[14]\u001b[39m\u001b[32m, line 9\u001b[39m\n\u001b[32m      5\u001b[39m \u001b[38;5;28;01mfrom\u001b[39;00m\u001b[38;5;250m \u001b[39m\u001b[34;01mqiskit_ibm_runtime\u001b[39;00m\u001b[38;5;250m \u001b[39m\u001b[38;5;28;01mimport\u001b[39;00m Session, EstimatorV2 \u001b[38;5;28;01mas\u001b[39;00m Estimator\n\u001b[32m      7\u001b[39m \u001b[38;5;66;03m#Select the least busy backend:\u001b[39;00m\n\u001b[32m----> \u001b[39m\u001b[32m9\u001b[39m backend = \u001b[43mservice\u001b[49m.least_busy(\n\u001b[32m     10\u001b[39m     operational=\u001b[38;5;28;01mTrue\u001b[39;00m, min_num_qubits=ansatz.num_qubits, simulator=\u001b[38;5;28;01mFalse\u001b[39;00m\n\u001b[32m     11\u001b[39m )\n\u001b[32m     13\u001b[39m \u001b[38;5;66;03m#Or get a specific backend:\u001b[39;00m\n\u001b[32m     14\u001b[39m \u001b[38;5;66;03m#backend = service.backend(\"ibm_cusco\")\u001b[39;00m\n\u001b[32m     15\u001b[39m \n\u001b[32m     16\u001b[39m \u001b[38;5;66;03m#Use a pass manager to transpile the circuit and observable for the specific backend being used:\u001b[39;00m\n\u001b[32m     18\u001b[39m pm = generate_preset_pass_manager(backend=backend, optimization_level=\u001b[32m1\u001b[39m)\n",
      "\u001b[31mNameError\u001b[39m: name 'service' is not defined"
     ]
    }
   ],
   "source": [
    "#Estimated usage: < 1 min, benchmarked at 6 seconds on ibm_osaka, 5-23-24\n",
    "#Load some necessary packages:\n",
    "\n",
    "from qiskit_ibm_runtime import QiskitRuntimeService\n",
    "from qiskit_ibm_runtime import Session, EstimatorV2 as Estimator\n",
    "\n",
    "#Select the least busy backend:\n",
    "\n",
    "backend = service.least_busy(\n",
    "    operational=True, min_num_qubits=ansatz.num_qubits, simulator=False\n",
    ")\n",
    "\n",
    "#Or get a specific backend:\n",
    "#backend = service.backend(\"ibm_cusco\")\n",
    "\n",
    "#Use a pass manager to transpile the circuit and observable for the specific backend being used:\n",
    "\n",
    "pm = generate_preset_pass_manager(backend=backend, optimization_level=1)\n",
    "isa_ansatz = pm.run(ansatz)\n",
    "isa_hamiltonian = hamiltonian.apply_layout(layout = isa_ansatz.layout)\n",
    "\n",
    "# Set estimator options\n",
    "estimator_options = EstimatorOptions(\n",
    "    resilience_level=1,\n",
    "    default_shots = 10_000\n",
    ")\n",
    "\n",
    "# Open a Runtime session:\n",
    "\n",
    "with Session(backend=backend) as session:\n",
    "    estimator = Estimator(mode=session, options = estimator_options)\n",
    "    cost = cost_func_vqe(x0, isa_ansatz, isa_hamiltonian, estimator)\n",
    "\n",
    "# Close session after done\n",
    "session.close()\n",
    "print(cost)"
   ]
  },
  {
   "cell_type": "markdown",
   "id": "13ddc278",
   "metadata": {},
   "source": [
    "We will revisit this example in Applications to explore how to leverage an optimizer to iterate through the search space. Generally speaking, this includes:\n",
    "\n",
    "- Leveraging an optimizer to find optimal parameters\n",
    "- Binding optimal parameters to the ansatz to find the eigenvalues\n",
    "- Translating the eigenvalues to our problem definition"
   ]
  },
  {
   "cell_type": "markdown",
   "id": "f40edad4",
   "metadata": {},
   "source": [
    "## Measurement Strategy: Speed versus Accuracy\n",
    "\n",
    "As mentioned, we are using a noisy quantum computer as a black-box oracle, where noise can make the retrieved values non-deterministic, leading to random fluctuations which, in turn, will harm — or even completely prevent — convergence of certain optimizers to a proposed solution. This is a general problem that we must address as we incrementally explore quantum utility and progress towards quantum advantage:\n",
    "\n",
    "![alt text](../../../img/cost_function_path_to_quantum_advantage.svg)\n",
    "\n",
    "We can use Qiskit Runtime Primitive's error suppression and error mitigation options to address noise and maximize the utility of today's quantum computers."
   ]
  },
  {
   "cell_type": "markdown",
   "id": "67db266f",
   "metadata": {},
   "source": [
    "## Error Suppression\n",
    "\n",
    "Error suppression refers to techniques used to optimize and transform a circuit during compilation in order to minimize errors. This is a basic error handling technique that usually results in some classical pre-processing overhead to the overall runtime. The overhead includes transpiling circuits to run on quantum hardware by:\n",
    "\n",
    "- Expressing the circuit using the native gates available on a quantum system\n",
    "- Mapping the virtual qubits to physical qubits\n",
    "- Adding SWAPs based on connectivity requirements\n",
    "- Optimizing 1Q and 2Q gates\n",
    "- Adding dynamical decoupling to idle qubits to prevent the effects of decoherence.\n",
    "\n",
    "Primitives allow for the use of error suppression techniques by setting the optimization_level option and selecting advanced transpilation options. In a later course, we will delve into different circuit construction methods to improve results, but for most cases, we recommend setting optimization_level=3 .\n",
    "\n",
    "We will visualize the value of increasing optimization in the transpilation process by looking at an example circuit with a simple ideal behavior.\n"
   ]
  },
  {
   "cell_type": "code",
   "execution_count": 15,
   "id": "7be78041",
   "metadata": {},
   "outputs": [
    {
     "data": {
      "image/png": "[encoded data removed]",
      "text/plain": [
       "<Figure size 454.517x200.667 with 1 Axes>"
      ]
     },
     "execution_count": 15,
     "metadata": {},
     "output_type": "execute_result"
    }
   ],
   "source": [
    "from qiskit.circuit import Parameter, QuantumCircuit\n",
    "from qiskit.quantum_info import SparsePauliOp\n",
    "\n",
    "theta = Parameter(\"theta\")\n",
    "\n",
    "qc = QuantumCircuit(2)\n",
    "qc.x(1)\n",
    "qc.h(0)\n",
    "qc.cp(theta, 0, 1)\n",
    "qc.h(0)\n",
    "observables = SparsePauliOp.from_list([(\"ZZ\", 1)])\n",
    "\n",
    "qc.draw(\"mpl\")"
   ]
  },
  {
   "cell_type": "markdown",
   "id": "af8bb9dc",
   "metadata": {},
   "source": [
    "The circuit above can yield sinusoidal expectation values of the observable given, provided we insert phases spanning an appropriate interval, such as $[0,2\\pi]$"
   ]
  },
  {
   "cell_type": "code",
   "execution_count": 16,
   "id": "71a8878e",
   "metadata": {},
   "outputs": [],
   "source": [
    "## Setup phases\n",
    "import numpy as np\n",
    "\n",
    "phases = np.linspace(0, 2*np.pi, 50)\n",
    "\n",
    "# phases need to be expressed as a list of lists in order to work\n",
    "individual_phases = [[phase] for phase in phases]"
   ]
  },
  {
   "cell_type": "markdown",
   "id": "3e367238",
   "metadata": {},
   "source": [
    "We can now use a pass manager to transpile the circuit into the \"instruction set architecture\" or ISA of the backend. This is a new requirement in Qiskit Runtime: all circuits submitted to a backend must conform to the constraints of the backend’s target, meaning they must be written in terms of the backend's ISA — i.e., the set of instructions the device can understand and execute. These target constraints are defined by factors like the device’s native basis gates, its qubit connectivity, and - when relevant - its pulse and other instruction timing specifications.\n",
    "\n",
    "Note that in the present case, we will do this twice: once with optimization_level = 0, and once with it set to 3. Each time we will use the Estimator primitive to estimate the expectation values of the observable at different values of phase."
   ]
  },
  {
   "cell_type": "code",
   "execution_count": 17,
   "id": "c242e64b",
   "metadata": {},
   "outputs": [
    {
     "ename": "NameError",
     "evalue": "name 'backend_sim' is not defined",
     "output_type": "error",
     "traceback": [
      "\u001b[31m---------------------------------------------------------------------------\u001b[39m",
      "\u001b[31mNameError\u001b[39m                                 Traceback (most recent call last)",
      "\u001b[36mCell\u001b[39m\u001b[36m \u001b[39m\u001b[32mIn[17]\u001b[39m\u001b[32m, line 4\u001b[39m\n\u001b[32m      1\u001b[39m \u001b[38;5;66;03m#Import estimator and specify that we are using the simulated backend:\u001b[39;00m\n\u001b[32m      3\u001b[39m \u001b[38;5;28;01mfrom\u001b[39;00m\u001b[38;5;250m \u001b[39m\u001b[34;01mqiskit_ibm_runtime\u001b[39;00m\u001b[38;5;250m \u001b[39m\u001b[38;5;28;01mimport\u001b[39;00m EstimatorV2 \u001b[38;5;28;01mas\u001b[39;00m Estimator\n\u001b[32m----> \u001b[39m\u001b[32m4\u001b[39m estimator = Estimator(mode = \u001b[43mbackend_sim\u001b[49m)\n\u001b[32m      6\u001b[39m circuit = qc\n\u001b[32m      8\u001b[39m \u001b[38;5;66;03m#Use a pass manager to transpile the circuit and observable for the backend being simulated.\u001b[39;00m\n\u001b[32m      9\u001b[39m \u001b[38;5;66;03m#Start with no optimization:\u001b[39;00m\n",
      "\u001b[31mNameError\u001b[39m: name 'backend_sim' is not defined"
     ]
    }
   ],
   "source": [
    "#Import estimator and specify that we are using the simulated backend:\n",
    "\n",
    "from qiskit_ibm_runtime import EstimatorV2 as Estimator\n",
    "estimator = Estimator(mode = backend_sim)\n",
    "\n",
    "circuit = qc\n",
    "\n",
    "#Use a pass manager to transpile the circuit and observable for the backend being simulated.\n",
    "#Start with no optimization:\n",
    "\n",
    "from qiskit.transpiler.preset_passmanagers import generate_preset_pass_manager\n",
    "\n",
    "pm = generate_preset_pass_manager(backend=backend_sim, optimization_level=0)\n",
    "isa_circuit = pm.run(circuit)\n",
    "isa_observables = observables.apply_layout(layout = isa_circuit.layout)\n",
    "\n",
    "noisy_exp_values = []\n",
    "pub = (isa_circuit, isa_observables, [individual_phases])\n",
    "cost = estimator.run([pub]).result()[0].data.evs\n",
    "noisy_exp_values = cost[0]\n",
    "\n",
    "#Repeat above steps, but now with optimization = 3:\n",
    "\n",
    "exp_values_with_opt_es = []\n",
    "pm = generate_preset_pass_manager(backend=backend_sim, optimization_level=3)\n",
    "isa_circuit = pm.run(circuit)\n",
    "isa_observables = observables.apply_layout(layout = isa_circuit.layout)\n",
    "\n",
    "pub = (isa_circuit, isa_observables, [individual_phases])\n",
    "cost = estimator.run([pub]).result()[0].data.evs\n",
    "exp_values_with_opt_es = cost[0]"
   ]
  },
  {
   "cell_type": "markdown",
   "id": "88ae128c",
   "metadata": {},
   "source": [
    "Finally, we can plot the results, and we see that the precision of the calculation was fairly good even without optimization, but it definitely improved by increasing optimization to level 3. Note that in deeper, more complicated circuits, the difference between optimization levels of 0 and 3 are likely to be more significant. This is a very simple circuit used as a toy model."
   ]
  },
  {
   "cell_type": "code",
   "execution_count": 18,
   "id": "13974188",
   "metadata": {},
   "outputs": [
    {
     "ename": "NameError",
     "evalue": "name 'noisy_exp_values' is not defined",
     "output_type": "error",
     "traceback": [
      "\u001b[31m---------------------------------------------------------------------------\u001b[39m",
      "\u001b[31mNameError\u001b[39m                                 Traceback (most recent call last)",
      "\u001b[36mCell\u001b[39m\u001b[36m \u001b[39m\u001b[32mIn[18]\u001b[39m\u001b[32m, line 3\u001b[39m\n\u001b[32m      1\u001b[39m \u001b[38;5;28;01mimport\u001b[39;00m\u001b[38;5;250m \u001b[39m\u001b[34;01mmatplotlib\u001b[39;00m\u001b[34;01m.\u001b[39;00m\u001b[34;01mpyplot\u001b[39;00m\u001b[38;5;250m \u001b[39m\u001b[38;5;28;01mas\u001b[39;00m\u001b[38;5;250m \u001b[39m\u001b[34;01mplt\u001b[39;00m\n\u001b[32m----> \u001b[39m\u001b[32m3\u001b[39m plt.plot(phases, \u001b[43mnoisy_exp_values\u001b[49m, \u001b[33m\"\u001b[39m\u001b[33mo\u001b[39m\u001b[33m\"\u001b[39m, label=\u001b[33m\"\u001b[39m\u001b[33mopt=0\u001b[39m\u001b[33m\"\u001b[39m)\n\u001b[32m      4\u001b[39m plt.plot(phases, exp_values_with_opt_es, \u001b[33m\"\u001b[39m\u001b[33mo\u001b[39m\u001b[33m\"\u001b[39m, label=\u001b[33m\"\u001b[39m\u001b[33mopt=3\u001b[39m\u001b[33m\"\u001b[39m)\n\u001b[32m      5\u001b[39m plt.plot(phases, \u001b[32m2\u001b[39m * np.sin(phases / \u001b[32m2\u001b[39m) ** \u001b[32m2\u001b[39m - \u001b[32m1\u001b[39m, label=\u001b[33m\"\u001b[39m\u001b[33mideal\u001b[39m\u001b[33m\"\u001b[39m)\n",
      "\u001b[31mNameError\u001b[39m: name 'noisy_exp_values' is not defined"
     ]
    }
   ],
   "source": [
    "import matplotlib.pyplot as plt\n",
    "\n",
    "plt.plot(phases, noisy_exp_values, \"o\", label=\"opt=0\")\n",
    "plt.plot(phases, exp_values_with_opt_es, \"o\", label=\"opt=3\")\n",
    "plt.plot(phases, 2 * np.sin(phases / 2) ** 2 - 1, label=\"ideal\")\n",
    "plt.ylabel(\"Expectation\")\n",
    "plt.legend()\n",
    "plt.show()"
   ]
  },
  {
   "cell_type": "markdown",
   "id": "7edcaf27",
   "metadata": {},
   "source": [
    "## Error Mitigation\n",
    "\n",
    "Error mitigation refers to techniques that allow users to reduce circuit errors by modeling the device noise at the time of execution. Typically, this results in quantum pre-processing overhead related to model training and classical post-processing overhead to mitigate errors in the raw results by using the generated model.\n",
    "\n",
    "The Qiskit Runtime primitive's resilience_level option specifies the amount of resilience to build against errors. Higher levels generate more accurate results at the expense of longer processing times due to quantum sampling overhead. Resilience levels can be used to configure the trade-off between cost and accuracy when applying error mitigation to your primitive query.\n",
    "\n",
    "When implementing any error mitigation technique, we expect the bias in our results to be reduced with respect to the previous, unmitigated bias. In some cases, the bias may even disappear. However, this comes at a cost. As we reduce the bias in our estimated quantities, the statistical variability will increase (that is, variance), which we can account for by further increasing the number of shots per circuit in our sampling process. This will introduce overhead beyond that needed to reduce the bias, so it is not done by default. We can easily opt-in to this behavior by adjusting the number of shots per circuit in options.executions.shots, as shown in the example below.\n",
    "\n",
    "![alt text](../../../img/cost_function_bias_variance_trade_off.svg)\n",
    "\n",
    "For this course, we will explore these error mitigation models at a high level to illustrate the error mitigation that Qiskit Runtime primitives can perform without requiring full implementation details."
   ]
  },
  {
   "cell_type": "markdown",
   "id": "430fa375",
   "metadata": {},
   "source": [
    "### Twirled Readout Error Extinction (T-REx)\n",
    "\n",
    "Twirled readout error extinction (T-REx) uses a technique known as Pauli twirling to reduce the noise introduced during the process of quantum measurement. This technique assumes no specific form of noise, which makes it very general and effective.\n",
    "\n",
    "Overall workflow:\n",
    "\n",
    "1. Acquire data for the zero state with randomized bit flips (Pauli X before measurement)\n",
    "2. Acquire data for the desired (noisy) state with randomized bit flips (Pauli X before measurement)\n",
    "3. Compute the special function for each data set, and divide.\n",
    "\n",
    "![alt text](../../../img/cost_function_trex_data_collection.svg)\n",
    "\n",
    "We can set this with `options.resilience_level = 1` , demonstrated in the example below.\n"
   ]
  },
  {
   "cell_type": "markdown",
   "id": "20fa635d",
   "metadata": {},
   "source": [
    "### Zero Noise Extrapolation\n",
    "\n",
    "Zero noise extrapolation (ZNE) works by first amplifying the noise in the circuit that is preparing the desired quantum state, obtaining measurements for several different levels of noise, and using those measurements to infer the noiseless result.\n",
    "\n",
    "Overall workflow:\n",
    "\n",
    "1. Amplify circuit noise for several noise factors\n",
    "2. Run every noise amplified circuit\n",
    "3. Extrapolate back to the zero noise limit\n",
    "\n",
    "![alt text](../../../img/cost_function_zne_stages.svg)\n",
    "\n",
    "We can set this with `options.resilience_level = 2`. We can optimize this further by exploring a variety of `noise_factors`, `noise_amplifiers`, and `extrapolators`, but this is outside the scope of this course. We encourage you to experiment with these options [as described here](https://qiskit.org/documentation/partners/qiskit_ibm_runtime/how_to/error-mitigation.html).\n",
    "\n",
    "Each method comes with its own associated overhead: a trade-off between the number of quantum computations needed (time) and the accuracy of our results:\n",
    "\n",
    "| Methods            | $R = 1$, T-REx       | $R = 2$, ZNE                        |\n",
    "|--------------------|----------------------|-------------------------------------|\n",
    "| Assumptions        | None                 | Ability to scale noise              |\n",
    "| Qubit overhead     | 1                    | 1                                   |\n",
    "| Sampling overhead  | 2                    | $N_{\\text{noise-factors}}$          |\n",
    "| Bias               | 0                    | $\\mathcal{O}(\\lambda^{N_{\\text{noise-factors}}})$ |\n",
    "\n"
   ]
  },
  {
   "cell_type": "markdown",
   "id": "3e1644dd",
   "metadata": {},
   "source": [
    "### Using Qiskit Runtime's Mitigation and Suppression Options\n",
    "\n",
    "Here’s how to calculate an expectation value while using error mitigation and suppression in Qiskit Runtime. We can make use of precisely the same circuit and observable as before, but this time keeping the optimization level fixed at level 2, and now tuning the *resilience* or the error mitigation technique(s) being used. This error mitigation process occurs multiple times throughout an optimization loop.\n",
    "\n",
    "We perform this part on real hardware, since error mitigation is not available on simulators.\n",
    "\n"
   ]
  },
  {
   "cell_type": "code",
   "execution_count": 19,
   "id": "781f3d0f",
   "metadata": {},
   "outputs": [
    {
     "ename": "NameError",
     "evalue": "name 'service' is not defined",
     "output_type": "error",
     "traceback": [
      "\u001b[31m---------------------------------------------------------------------------\u001b[39m",
      "\u001b[31mNameError\u001b[39m                                 Traceback (most recent call last)",
      "\u001b[36mCell\u001b[39m\u001b[36m \u001b[39m\u001b[32mIn[19]\u001b[39m\u001b[32m, line 14\u001b[39m\n\u001b[32m      4\u001b[39m \u001b[38;5;28;01mfrom\u001b[39;00m\u001b[38;5;250m \u001b[39m\u001b[34;01mqiskit_ibm_runtime\u001b[39;00m\u001b[38;5;250m \u001b[39m\u001b[38;5;28;01mimport\u001b[39;00m Options, Session, EstimatorOptions, EstimatorV2 \u001b[38;5;28;01mas\u001b[39;00m Estimator\n\u001b[32m      6\u001b[39m \u001b[38;5;66;03m# We select the least busy backend\u001b[39;00m\n\u001b[32m      7\u001b[39m \n\u001b[32m      8\u001b[39m \u001b[38;5;66;03m# Select the least busy backend\u001b[39;00m\n\u001b[32m   (...)\u001b[39m\u001b[32m     12\u001b[39m \n\u001b[32m     13\u001b[39m \u001b[38;5;66;03m# Or use a specific backend\u001b[39;00m\n\u001b[32m---> \u001b[39m\u001b[32m14\u001b[39m backend = \u001b[43mservice\u001b[49m.backend(\u001b[33m\"\u001b[39m\u001b[33mibm_cusco\u001b[39m\u001b[33m\"\u001b[39m)\n\u001b[32m     16\u001b[39m \u001b[38;5;66;03m#Initialize some variables to save the results from different runs:\u001b[39;00m\n\u001b[32m     18\u001b[39m exp_values_with_em0_es = []\n",
      "\u001b[31mNameError\u001b[39m: name 'service' is not defined"
     ]
    }
   ],
   "source": [
    "# Estimated usage: 8 minutes, benchmarked on ibm_sherbrooke, 5-23-24\n",
    "\n",
    "from qiskit_ibm_runtime import QiskitRuntimeService\n",
    "from qiskit_ibm_runtime import Options, Session, EstimatorOptions, EstimatorV2 as Estimator\n",
    "\n",
    "# We select the least busy backend\n",
    "\n",
    "# Select the least busy backend\n",
    "#backend = service.least_busy(\n",
    "#    operational=True, min_num_qubits=ansatz.num_qubits, simulator=False\n",
    "#)\n",
    "\n",
    "# Or use a specific backend\n",
    "backend = service.backend(\"ibm_cusco\")\n",
    "\n",
    "#Initialize some variables to save the results from different runs:\n",
    "\n",
    "exp_values_with_em0_es = []\n",
    "exp_values_with_em1_es = []\n",
    "exp_values_with_em2_es = []\n",
    "\n",
    "#Use a pass manager to optimize the circuit and observables for the backend chosen:\n",
    "\n",
    "pm = generate_preset_pass_manager(backend=backend, optimization_level=2)\n",
    "isa_circuit = pm.run(circuit)\n",
    "isa_observables = observables.apply_layout(layout = isa_circuit.layout)\n",
    "\n",
    "# Open a session and run with no error mitigation:\n",
    "\n",
    "estimator_options = EstimatorOptions(\n",
    "    resilience_level=0,\n",
    "    default_shots = 10_000\n",
    ")\n",
    "\n",
    "with Session(backend=backend) as session:\n",
    "\n",
    "\n",
    "    estimator = Estimator(mode=session, options = estimator_options)\n",
    "    \n",
    "    pub = (isa_circuit, isa_observables, [individual_phases])\n",
    "    cost = estimator.run([pub]).result()[0].data.evs\n",
    "\n",
    "session.close()\n",
    "\n",
    "exp_values_with_em0_es = cost[0]\n",
    "\n",
    "# Open a session and run with resilience = 1:\n",
    "\n",
    "estimator_options = EstimatorOptions(\n",
    "    resilience_level=1,\n",
    "    default_shots = 10_000\n",
    ")\n",
    "\n",
    "with Session(backend=backend) as session:\n",
    "\n",
    "    estimator = Estimator(mode=session, options = estimator_options)\n",
    "    \n",
    "    pub = (isa_circuit, isa_observables, [individual_phases])\n",
    "    cost = estimator.run([pub]).result()[0].data.evs\n",
    "\n",
    "session.close()\n",
    "\n",
    "exp_values_with_em1_es = cost[0]\n",
    "\n",
    "# Open a session and run with resilience = 2:\n",
    "\n",
    "estimator_options = EstimatorOptions(\n",
    "    resilience_level=2,\n",
    "    default_shots = 10_000\n",
    ")\n",
    "\n",
    "with Session(backend=backend) as session:\n",
    "\n",
    "    estimator = Estimator(mode=session, options = estimator_options)\n",
    "\n",
    "    pub = (isa_circuit, isa_observables, [individual_phases])\n",
    "    cost = estimator.run([pub]).result()[0].data.evs\n",
    "\n",
    "session.close()\n",
    "\n",
    "exp_values_with_em2_es = cost[0]"
   ]
  },
  {
   "cell_type": "markdown",
   "id": "37c36a40",
   "metadata": {},
   "source": [
    "As before, we can plot the resulting expectation values as a function of phase angle for the three levels of error mitigation used. With great difficulty, one can see that error mitigation improves the results slightly. Again, this effect is much more pronounced in deeper, more complicated circuits.\n"
   ]
  },
  {
   "cell_type": "code",
   "execution_count": 20,
   "id": "e526a8a7",
   "metadata": {},
   "outputs": [
    {
     "ename": "NameError",
     "evalue": "name 'exp_values_with_em0_es' is not defined",
     "output_type": "error",
     "traceback": [
      "\u001b[31m---------------------------------------------------------------------------\u001b[39m",
      "\u001b[31mNameError\u001b[39m                                 Traceback (most recent call last)",
      "\u001b[36mCell\u001b[39m\u001b[36m \u001b[39m\u001b[32mIn[20]\u001b[39m\u001b[32m, line 3\u001b[39m\n\u001b[32m      1\u001b[39m \u001b[38;5;28;01mimport\u001b[39;00m\u001b[38;5;250m \u001b[39m\u001b[34;01mmatplotlib\u001b[39;00m\u001b[34;01m.\u001b[39;00m\u001b[34;01mpyplot\u001b[39;00m\u001b[38;5;250m \u001b[39m\u001b[38;5;28;01mas\u001b[39;00m\u001b[38;5;250m \u001b[39m\u001b[34;01mplt\u001b[39;00m\n\u001b[32m----> \u001b[39m\u001b[32m3\u001b[39m plt.plot(phases, \u001b[43mexp_values_with_em0_es\u001b[49m, \u001b[33m\"\u001b[39m\u001b[33mo\u001b[39m\u001b[33m\"\u001b[39m, label=\u001b[33m\"\u001b[39m\u001b[33munmitigated\u001b[39m\u001b[33m\"\u001b[39m)\n\u001b[32m      4\u001b[39m plt.plot(phases, exp_values_with_em1_es, \u001b[33m\"\u001b[39m\u001b[33mo\u001b[39m\u001b[33m\"\u001b[39m, label=\u001b[33m\"\u001b[39m\u001b[33mresil = 1\u001b[39m\u001b[33m\"\u001b[39m)\n\u001b[32m      5\u001b[39m plt.plot(phases, exp_values_with_em2_es, \u001b[33m\"\u001b[39m\u001b[33mo\u001b[39m\u001b[33m\"\u001b[39m, label=\u001b[33m\"\u001b[39m\u001b[33mresil = 2\u001b[39m\u001b[33m\"\u001b[39m)\n",
      "\u001b[31mNameError\u001b[39m: name 'exp_values_with_em0_es' is not defined"
     ]
    }
   ],
   "source": [
    "import matplotlib.pyplot as plt\n",
    "\n",
    "plt.plot(phases, exp_values_with_em0_es, \"o\", label=\"unmitigated\")\n",
    "plt.plot(phases, exp_values_with_em1_es, \"o\", label=\"resil = 1\")\n",
    "plt.plot(phases, exp_values_with_em2_es, \"o\", label=\"resil = 2\")\n",
    "plt.plot(phases, 2 * np.sin(phases / 2) ** 2 - 1, label=\"ideal\")\n",
    "plt.ylabel(\"Expectation\")\n",
    "plt.legend()\n",
    "plt.show()"
   ]
  },
  {
   "cell_type": "markdown",
   "id": "85e07c55",
   "metadata": {},
   "source": [
    "## Summary\n",
    "\n",
    "With this lesson, you learned how to create a cost function:\n",
    "\n",
    "- Create a cost function\n",
    "- How to leverage Qiskit Runtime primitives to mitigate and suppression noise\n",
    "- How to define a measurement strategy to optimize speed vs accuracy\n",
    "\n",
    "Here's our high-level variational workload:\n",
    "\n",
    "![alt text](../../../img/cost_function_circuit.svg)"
   ]
  },
  {
   "cell_type": "code",
   "execution_count": 21,
   "id": "91e6050e",
   "metadata": {},
   "outputs": [
    {
     "name": "stdout",
     "output_type": "stream",
     "text": [
      "2.0.0\n",
      "0.40.1\n"
     ]
    }
   ],
   "source": [
    "import qiskit\n",
    "import qiskit_ibm_runtime\n",
    "print(qiskit.version.get_version_info())\n",
    "print(qiskit_ibm_runtime.version.get_version_info())"
   ]
  }
 ],
 "metadata": {
  "kernelspec": {
   "display_name": ".venv",
   "language": "python",
   "name": "python3"
  },
  "language_info": {
   "codemirror_mode": {
    "name": "ipython",
    "version": 3
   },
   "file_extension": ".py",
   "mimetype": "text/x-python",
   "name": "python",
   "nbconvert_exporter": "python",
   "pygments_lexer": "ipython3",
   "version": "3.13.3"
  }
 },
 "nbformat": 4,
 "nbformat_minor": 5
}
