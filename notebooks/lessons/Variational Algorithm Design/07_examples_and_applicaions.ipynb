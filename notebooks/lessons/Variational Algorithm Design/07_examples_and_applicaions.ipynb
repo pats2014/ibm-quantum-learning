{
 "cells": [
  {
   "cell_type": "markdown",
   "id": "2ebd0f4e",
   "metadata": {},
   "source": [
    "# Examples and Applications\n",
    "\n",
    "During this lesson, we'll explore some variational algorithm examples and how to apply them:\n",
    "\n",
    "- How to write a custom variational algorithm\n",
    "- How to apply a variational algorithm to find minimum eigenvalues\n",
    "- How to utilize variational algorithms to solve application use cases\n",
    "\n",
    "Note that the Qiskit patterns framework can be applied to all the problems we introduce here. However, to avoid repetition, we will only explicitly call out the framework steps in one example case, run on real hardware.\n",
    "\n",
    "## Table of Contents\n",
    "\n",
    "1. [Problem Definitions](#problem-definitions)  \n",
    "2. [Custom VQE](#custom-vqe)  \n",
    "   - [Experimenting to Improve Speed and Accuracy](#experimenting-to-improve-speed-and-accuracy)  \n",
    "   - [Add Reference State](#add-reference-state)  \n",
    "   - [Change Initial Point](#change-initial-point)  \n",
    "   - [Experimenting with Different Optimizers](#experimenting-with-different-optimizers)  \n",
    "3. [VQD Example](#vqd-example)  \n",
    "   - [Step 1: Map Classical Inputs to a Quantum Problem](#step-1-map-classical-inputs-to-a-quantum-problem)  \n",
    "   - [Change Betas](#change-betas)  \n",
    "   - [Step 2: Optimize Problem for Quantum Execution](#step-2-optimize-problem-for-quantum-execution)  \n",
    "   - [Step 3: Execute Using Qiskit Primitives](#step-3-execute-using-qiskit-primitives)  \n",
    "   - [Step 4: Post-process, Return Result in Classical Format](#step-4-post-process-return-result-in-classical-format)  \n",
    "4. [Quantum Chemistry: Ground State and Excited Energy Solver](#quantum-chemistry-ground-state-and-excited-energy-solver)  \n",
    "   - [Excited States](#excited-states)  \n",
    "   - [Real Hardware and a Final Cautionary Message](#real-hardware-and-a-final-cautionary-message)  \n",
    "5. [Optimization: Max-Cut](#optimization-max-cut)  \n",
    "6. [Summary](#summary)\n"
   ]
  },
  {
   "cell_type": "markdown",
   "id": "8da8f397",
   "metadata": {},
   "source": [
    "## Problem Definitions\n",
    "\n",
    "### Problem definitions\n",
    "\n",
    "Imagine that we want to use a variational algorithm to find the eigenvalue of the following observable:\n",
    "\n",
    "$$\n",
    "\\hat{O}_1 = 2II - 2XX + 3YY - 3ZZ,\n",
    "$$\n",
    "\n",
    "This observable has the following eigenvalues:\n",
    "\n",
    "$$\n",
    "\\left\\{\n",
    "\\begin{aligned}\n",
    "\\lambda_0 &= -6 \\\\\n",
    "\\lambda_1 &= 4 \\\\\n",
    "\\lambda_2 &= 4 \\\\\n",
    "\\lambda_3 &= 6\n",
    "\\end{aligned}\n",
    "\\right.\n",
    "$$\n",
    "\n",
    "And eigenstates:\n",
    "\n",
    "$$\n",
    "\\left\\{\n",
    "\\begin{aligned}\n",
    "|\\phi_0\\rangle &= \\frac{1}{\\sqrt{2}}(|00\\rangle + |11\\rangle) \\\\\n",
    "|\\phi_1\\rangle &= \\frac{1}{\\sqrt{2}}(|00\\rangle - |11\\rangle) \\\\\n",
    "|\\phi_2\\rangle &= \\frac{1}{\\sqrt{2}}(|01\\rangle - |10\\rangle) \\\\\n",
    "|\\phi_3\\rangle &= \\frac{1}{\\sqrt{2}}(|01\\rangle + |10\\rangle)\n",
    "\\end{aligned}\n",
    "\\right.\n",
    "$$\n"
   ]
  },
  {
   "cell_type": "code",
   "execution_count": 1,
   "id": "6e1fc9ad",
   "metadata": {},
   "outputs": [],
   "source": [
    "from qiskit.quantum_info import SparsePauliOp\n",
    "\n",
    "observable_1 = SparsePauliOp.from_list([(\"II\", 2), (\"XX\", -2), (\"YY\", 3), (\"ZZ\", -3)])"
   ]
  },
  {
   "cell_type": "markdown",
   "id": "f7dd2e5a",
   "metadata": {},
   "source": [
    "## Custom VQE\n",
    "\n",
    "We'll first explore how to construct a VQE instance manually to find the lowest eigenvalue for $\\hat{O}_1$. This will incorporate a variety of techniques that we have covered throughout this course.\n"
   ]
  },
  {
   "cell_type": "code",
   "execution_count": 2,
   "id": "654f81ce",
   "metadata": {},
   "outputs": [],
   "source": [
    "def cost_func_vqe(params, ansatz, hamiltonian, estimator):\n",
    "    \"\"\"Return estimate of energy from estimator\n",
    "\n",
    "    Parameters:\n",
    "        params (ndarray): Array of ansatz parameters\n",
    "        ansatz (QuantumCircuit): Parameterized ansatz circuit\n",
    "        hamiltonian (SparsePauliOp): Operator representation of Hamiltonian\n",
    "        estimator (Estimator): Estimator primitive instance\n",
    "\n",
    "    Returns:\n",
    "        float: Energy estimate\n",
    "    \"\"\"\n",
    "    pub = (ansatz, hamiltonian, params)\n",
    "    cost = estimator.run([pub]).result()[0].data.evs\n",
    "\n",
    "    return cost"
   ]
  },
  {
   "cell_type": "code",
   "execution_count": 3,
   "id": "8a36b225",
   "metadata": {},
   "outputs": [
    {
     "data": {
      "image/png": "[encoded data removed]",
      "text/plain": [
       "<Figure size 621.739x200.667 with 1 Axes>"
      ]
     },
     "execution_count": 3,
     "metadata": {},
     "output_type": "execute_result"
    }
   ],
   "source": [
    "from qiskit.circuit.library import TwoLocal\n",
    "from qiskit import QuantumCircuit\n",
    "\n",
    "import numpy as np\n",
    "\n",
    "reference_circuit = QuantumCircuit(2)\n",
    "reference_circuit.x(0)\n",
    "\n",
    "variational_form = TwoLocal(\n",
    "    2,\n",
    "    rotation_blocks=[\"rz\", \"ry\"],\n",
    "    entanglement_blocks=\"cx\",\n",
    "    entanglement=\"linear\",\n",
    "    reps=1,\n",
    ")\n",
    "raw_ansatz = reference_circuit.compose(variational_form)\n",
    "\n",
    "raw_ansatz.decompose().draw('mpl')"
   ]
  },
  {
   "cell_type": "code",
   "execution_count": 5,
   "id": "82027a43",
   "metadata": {},
   "outputs": [],
   "source": [
    "# We will start debugging on local simulators.\n",
    "from qiskit.primitives import StatevectorEstimator as Estimator\n",
    "from qiskit.primitives import StatevectorSampler as Sampler\n",
    "estimator = Estimator()\n",
    "sampler = Sampler()"
   ]
  },
  {
   "cell_type": "code",
   "execution_count": 4,
   "id": "bb504c78",
   "metadata": {},
   "outputs": [
    {
     "name": "stdout",
     "output_type": "stream",
     "text": [
      "[1. 1. 1. 1. 1. 1. 1. 1.]\n"
     ]
    }
   ],
   "source": [
    "# We now set an initial set of parameters:\n",
    "import numpy as np\n",
    "\n",
    "x0 = np.ones(raw_ansatz.num_parameters)\n",
    "print(x0)"
   ]
  },
  {
   "cell_type": "code",
   "execution_count": 6,
   "id": "a6108541",
   "metadata": {},
   "outputs": [
    {
     "name": "stdout",
     "output_type": "stream",
     "text": [
      "\n",
      "   Normal return from subroutine COBYLA\n",
      "\n",
      "   NFVALS =  136   F =-6.000000E+00    MAXCV = 0.000000E+00\n",
      "   X = 1.779032E+00   9.443488E-01   1.570750E+00   2.105188E-05   1.937654E+00\n",
      "       1.203965E+00   6.058825E-01   6.058508E-01\n"
     ]
    }
   ],
   "source": [
    "# We can minimize this cost function to calculate optimal parameters\n",
    "# SciPy minimizer routine\n",
    "from scipy.optimize import minimize\n",
    "import time\n",
    "\n",
    "start_time = time.time()\n",
    "\n",
    "result = minimize(cost_func_vqe, x0, args=(raw_ansatz, observable_1, estimator), method=\"COBYLA\", options={'maxiter': 1000, 'disp': True})\n",
    "\n",
    "end_time = time.time()\n",
    "execution_time = end_time - start_time"
   ]
  },
  {
   "cell_type": "code",
   "execution_count": 7,
   "id": "459b2ae5",
   "metadata": {},
   "outputs": [
    {
     "data": {
      "text/plain": [
       " message: Optimization terminated successfully.\n",
       " success: True\n",
       "  status: 1\n",
       "     fun: -5.999999988971089\n",
       "       x: [ 1.779e+00  9.443e-01  1.571e+00  2.105e-05  1.938e+00\n",
       "            1.204e+00  6.059e-01  6.059e-01]\n",
       "    nfev: 136\n",
       "   maxcv: 0.0"
      ]
     },
     "execution_count": 7,
     "metadata": {},
     "output_type": "execute_result"
    }
   ],
   "source": [
    "result"
   ]
  },
  {
   "cell_type": "code",
   "execution_count": 8,
   "id": "51eb8b57",
   "metadata": {},
   "outputs": [
    {
     "name": "stdout",
     "output_type": "stream",
     "text": [
      "Number of iterations: 136\n",
      "Time (s): 0.06483793258666992\n",
      "Percent error: 1.84e-09\n"
     ]
    }
   ],
   "source": [
    "# Because this toy problem uses only two qubits, we can check this by using NumPy's linear algebra eigensolver.\n",
    "from numpy.linalg import eigvalsh\n",
    "\n",
    "solution_eigenvalue = min(eigvalsh(observable_1.to_matrix()))\n",
    "\n",
    "print(f\"\"\"Number of iterations: {result.nfev}\"\"\")\n",
    "print(f\"\"\"Time (s): {execution_time}\"\"\")\n",
    "\n",
    "print(\n",
    "    f\"Percent error: {abs((result.fun - solution_eigenvalue)/solution_eigenvalue):.2e}\"\n",
    ")"
   ]
  },
  {
   "cell_type": "markdown",
   "id": "8dfe9117",
   "metadata": {},
   "source": [
    "As you can see, the result is extremely close to the ideal."
   ]
  },
  {
   "cell_type": "markdown",
   "id": "87556b30",
   "metadata": {},
   "source": [
    "### Experimenting to Improve Speed and Accuracy\n"
   ]
  },
  {
   "cell_type": "markdown",
   "id": "c4a82749",
   "metadata": {},
   "source": [
    "### Add Reference State\n",
    "\n",
    "In the previous example we have not used any reference operator $U_R$. Now let us think about how the ideal eigenstate  \n",
    "$\\frac{1}{\\sqrt{2}}(\\lvert 00\\rangle + \\lvert 11\\rangle)$ can be obtained. Consider the following circuit.\n",
    "\n"
   ]
  },
  {
   "cell_type": "code",
   "execution_count": 9,
   "id": "e1a1c098",
   "metadata": {},
   "outputs": [
    {
     "data": {
      "image/png": "[encoded data removed]",
      "text/plain": [
       "<Figure size 287.294x200.667 with 1 Axes>"
      ]
     },
     "execution_count": 9,
     "metadata": {},
     "output_type": "execute_result"
    }
   ],
   "source": [
    "from qiskit import QuantumCircuit\n",
    "\n",
    "ideal_qc = QuantumCircuit(2)\n",
    "ideal_qc.h(0)\n",
    "ideal_qc.cx(0, 1)\n",
    "\n",
    "ideal_qc.draw(\"mpl\")"
   ]
  },
  {
   "cell_type": "code",
   "execution_count": 10,
   "id": "ca83f708",
   "metadata": {},
   "outputs": [
    {
     "name": "stdout",
     "output_type": "stream",
     "text": [
      "Statevector([0.70710678+0.j, 0.        +0.j, 0.        +0.j,\n",
      "             0.70710678+0.j],\n",
      "            dims=(2, 2))\n"
     ]
    }
   ],
   "source": [
    "# We can quickly check that this circuit gives us the desired state.\n",
    "from qiskit.quantum_info import Statevector\n",
    "\n",
    "Statevector(ideal_qc)"
   ]
  },
  {
   "cell_type": "markdown",
   "id": "50a546a8",
   "metadata": {},
   "source": [
    "Now that we have seen how a circuit preparing the solution state looks like, it seems reasonable to use a Hadamard gate as a reference circuit, so that the full ansatz becomes:"
   ]
  },
  {
   "cell_type": "code",
   "execution_count": 11,
   "id": "5b1cc243",
   "metadata": {},
   "outputs": [
    {
     "data": {
      "image/png": "[encoded data removed]",
      "text/plain": [
       "<Figure size 788.961x200.667 with 1 Axes>"
      ]
     },
     "execution_count": 11,
     "metadata": {},
     "output_type": "execute_result"
    }
   ],
   "source": [
    "reference = QuantumCircuit(2)\n",
    "reference.h(0)\n",
    "# Include barrier to separate reference from variational form\n",
    "reference.barrier()\n",
    "\n",
    "ref_ansatz = raw_ansatz.decompose().compose(reference, front=True)\n",
    "\n",
    "ref_ansatz.draw(\"mpl\")"
   ]
  },
  {
   "cell_type": "markdown",
   "id": "40de5071",
   "metadata": {},
   "source": [
    "For this new circuit, the ideal solution could be reached with all the parameters set to 0, so this confirms that the choice of reference circuit is reasonable.\n",
    "\n",
    "Now let us compare the number of cost function evaluations, optimizer iterations and time taken with those of the previous attempt."
   ]
  },
  {
   "cell_type": "code",
   "execution_count": 12,
   "id": "127adef6",
   "metadata": {},
   "outputs": [],
   "source": [
    "import time\n",
    "\n",
    "start_time = time.time()\n",
    "\n",
    "ref_result = minimize(cost_func_vqe, x0, args=(ref_ansatz, observable_1, estimator), method=\"COBYLA\")\n",
    "\n",
    "end_time = time.time()\n",
    "execution_time = end_time - start_time"
   ]
  },
  {
   "cell_type": "code",
   "execution_count": 13,
   "id": "98c54dcf",
   "metadata": {},
   "outputs": [
    {
     "name": "stdout",
     "output_type": "stream",
     "text": [
      "-5.999999988971089\n"
     ]
    }
   ],
   "source": [
    "# Using our optimial parameters to calculate the minimum eigenvalue:\n",
    "experimental_min_eigenvalue_ref = cost_func_vqe(result.x, raw_ansatz, observable_1, estimator)\n",
    "print(experimental_min_eigenvalue_ref)"
   ]
  },
  {
   "cell_type": "code",
   "execution_count": 14,
   "id": "7b3e4902",
   "metadata": {},
   "outputs": [
    {
     "name": "stdout",
     "output_type": "stream",
     "text": [
      "ADDED REFERENCE STATE:\n",
      "Number of iterations: 136\n",
      "Time (s): 0.11112713813781738\n",
      "Percent error: 1.84e-09\n"
     ]
    }
   ],
   "source": [
    "print(\"ADDED REFERENCE STATE:\")\n",
    "print(f\"\"\"Number of iterations: {result.nfev}\"\"\")\n",
    "print(f\"\"\"Time (s): {execution_time}\"\"\")\n",
    "print(\n",
    "    f\"Percent error: {abs((experimental_min_eigenvalue_ref - solution_eigenvalue)/solution_eigenvalue):.2e}\"\n",
    ")"
   ]
  },
  {
   "cell_type": "markdown",
   "id": "e905ca3d",
   "metadata": {},
   "source": [
    "### Change initial point\n",
    "\n",
    "Now that we have seen the effect of adding the reference state, we will go into what happens when we choose different initial points $\\vec{\\theta}_0$. In particular we will use $\\vec{\\theta}_0 = (0, 0, 0, 0, 6, 0, 0, 0)$ and $\\vec{\\theta}_0 = (6, 6, 6, 6, 6, 6, 6, 6)$.\n",
    "\n",
    "Remember that, as discussed when the reference state was introduced, the ideal solution would be found when all the parameters are 0, so the first initial point should give fewer evaluations.\n"
   ]
  },
  {
   "cell_type": "code",
   "execution_count": 15,
   "id": "b49a2fee",
   "metadata": {},
   "outputs": [],
   "source": [
    "import time\n",
    "\n",
    "start_time = time.time()\n",
    "\n",
    "x0 = [0, 0, 0, 0, 6, 0, 0, 0]\n",
    "\n",
    "x0_1_result = minimize(cost_func_vqe, x0, args=(raw_ansatz, observable_1, estimator), method=\"COBYLA\")\n",
    "\n",
    "end_time = time.time()\n",
    "execution_time = end_time - start_time"
   ]
  },
  {
   "cell_type": "code",
   "execution_count": 16,
   "id": "d2c5c7f2",
   "metadata": {},
   "outputs": [
    {
     "name": "stdout",
     "output_type": "stream",
     "text": [
      "INITIAL POINT 1:\n",
      "Number of iterations: 124\n",
      "Time (s): 0.08193087577819824\n"
     ]
    }
   ],
   "source": [
    "print(\"INITIAL POINT 1:\")\n",
    "print(f\"\"\"Number of iterations: {x0_1_result.nfev}\"\"\")\n",
    "print(f\"\"\"Time (s): {execution_time}\"\"\")"
   ]
  },
  {
   "cell_type": "markdown",
   "id": "e9fdb74c",
   "metadata": {},
   "source": [
    "Adjusting inital point to $\\vec{\\theta}_0 = (6,6,6,6,6,6,6,6,6)$"
   ]
  },
  {
   "cell_type": "code",
   "execution_count": 17,
   "id": "f788a6bd",
   "metadata": {},
   "outputs": [],
   "source": [
    "import time\n",
    "\n",
    "start_time = time.time()\n",
    "\n",
    "x0 = 6 * np.ones(raw_ansatz.num_parameters)\n",
    "\n",
    "x0_2_result = minimize(cost_func_vqe, x0, args=(raw_ansatz, observable_1, estimator), method=\"COBYLA\")\n",
    "\n",
    "end_time = time.time()\n",
    "execution_time = end_time - start_time"
   ]
  },
  {
   "cell_type": "code",
   "execution_count": 18,
   "id": "0f2c0b90",
   "metadata": {},
   "outputs": [
    {
     "name": "stdout",
     "output_type": "stream",
     "text": [
      "INITIAL POINT 2:\n",
      "Number of iterations: 121\n",
      "Time (s): 0.08273983001708984\n"
     ]
    }
   ],
   "source": [
    "print(\"INITIAL POINT 2:\")\n",
    "print(f\"\"\"Number of iterations: {x0_2_result.nfev}\"\"\")\n",
    "print(f\"\"\"Time (s): {execution_time}\"\"\")"
   ]
  },
  {
   "cell_type": "markdown",
   "id": "8decf9f4",
   "metadata": {},
   "source": [
    "By experimenting with different initial points, you might be able to achieve convergence faster and with fewer function evaluations."
   ]
  },
  {
   "cell_type": "markdown",
   "id": "d3046c98",
   "metadata": {},
   "source": [
    "### Experimenting with Different Optimizers\n",
    "\n",
    "We can adjust the optimizer using SciPy minimize 's method argument, with more options found here. We originally used a constrained minimizer ( COBYLA ). In this example, we'll explore using an unconstrained minimizer ( BFGS ) instead\n"
   ]
  },
  {
   "cell_type": "markdown",
   "id": "4e71e21a",
   "metadata": {},
   "source": [
    "## VQD Example\n",
    "Here we implement the Qiskit patterns framework, explicitly.\n"
   ]
  },
  {
   "cell_type": "markdown",
   "id": "646077e1",
   "metadata": {},
   "source": [
    "\n",
    "\n",
    "### Step 1: Map classical inputs to a quantum problem\n",
    "\n",
    "Now instead of looking for only the lowest eigenvalue of our observables, we will look for all 4, (where $k = 4$).\n",
    "\n",
    "Remember that the cost functions of VQD are:\n",
    "\n",
    "$$\n",
    "C_\\ell(\\vec{\\theta}) := \\langle \\psi(\\vec{\\theta})| \\hat{H} | \\psi(\\vec{\\theta}) \\rangle + \\sum_{j=0}^{\\ell-1} \\beta_j |\\langle \\psi(\\vec{\\theta}) | \\psi(\\vec{\\theta}^{(j)}) \\rangle|^2 \\quad \\forall \\, \\ell \\in \\{1, \\cdots, k\\} = \\{1, \\cdots, 4\\}\n",
    "$$\n",
    "\n",
    "This is particularly important because a vector $\\vec{\\beta} = (\\beta_0, \\cdots, \\beta_{k-1})$ (in this case $(\\beta_0, \\beta_1, \\beta_2, \\beta_3)$) must be passed as an argument when we define the `VQD` object.\n",
    "\n",
    "Also, in Qiskit’s implementation of VQD, instead of considering the effective observables described in the previous notebook, the fidelities $|\\langle \\psi(\\vec{\\theta})|\\psi(\\vec{\\theta}^{(j)}) \\rangle|^2$ are calculated directly via the `ComputeUncompute` algorithm, that leverages a `Sampler` primitive to sample the probability of obtaining $|0\\rangle$ for the circuit $U_A^\\dagger(\\vec{\\theta}^{(j)}) U_A(\\vec{\\theta})$. This works precisely because this probability is:\n",
    "\n",
    "$$\n",
    "p_0 = | \\langle 0 | U_A^\\dagger(\\vec{\\theta}^{(j)}) U_A(\\vec{\\theta}) | 0 \\rangle |^2 \n",
    "= | \\langle 0 | U_A^\\dagger(\\vec{\\theta}^{(j)}) (U_A(\\vec{\\theta}) | 0 \\rangle) |^2 \n",
    "= | \\langle \\psi(\\vec{\\theta}^{(j)}) | \\psi(\\vec{\\theta}) \\rangle |^2\n",
    "$$\n"
   ]
  },
  {
   "cell_type": "code",
   "execution_count": 19,
   "id": "cd7ecf9f",
   "metadata": {},
   "outputs": [
    {
     "data": {
      "image/png": "[encoded data removed]",
      "text/plain": [
       "<Figure size 538.128x200.667 with 1 Axes>"
      ]
     },
     "execution_count": 19,
     "metadata": {},
     "output_type": "execute_result"
    }
   ],
   "source": [
    "from qiskit.circuit.library import TwoLocal\n",
    "\n",
    "ansatz = TwoLocal(2, rotation_blocks=[\"ry\", \"rz\"], entanglement_blocks=\"cz\", reps=1)\n",
    "\n",
    "ansatz.decompose().draw('mpl')"
   ]
  },
  {
   "cell_type": "markdown",
   "id": "a6385051",
   "metadata": {},
   "source": [
    "Let's start by examining the following observable:\n",
    "\n",
    "$$\n",
    "\\hat{O}_2 := 2II - 3XX + 2YY - 4ZZ\n",
    "$$\n",
    "\n",
    "This observable has the following eigenvalues:\n",
    "\n",
    "$$\n",
    "\\left\\{\n",
    "\\begin{aligned}\n",
    "\\lambda_0 &= -7 \\\\\n",
    "\\lambda_1 &= 3 \\\\\n",
    "\\lambda_2 &= 5 \\\\\n",
    "\\lambda_3 &= 7\n",
    "\\end{aligned}\n",
    "\\right\\}\n",
    "$$\n",
    "\n",
    "And eigenstates:\n",
    "\n",
    "$$\n",
    "\\left\\{\n",
    "\\begin{aligned}\n",
    "|\\phi_0\\rangle &= \\frac{1}{\\sqrt{2}}(|00\\rangle + |11\\rangle) \\\\\n",
    "|\\phi_1\\rangle &= \\frac{1}{\\sqrt{2}}(|00\\rangle - |11\\rangle) \\\\\n",
    "|\\phi_2\\rangle &= \\frac{1}{\\sqrt{2}}(|01\\rangle + |10\\rangle) \\\\\n",
    "|\\phi_3\\rangle &= \\frac{1}{\\sqrt{2}}(|01\\rangle - |10\\rangle)\n",
    "\\end{aligned}\n",
    "\\right\\}\n",
    "$$\n"
   ]
  },
  {
   "cell_type": "code",
   "execution_count": 20,
   "id": "f4f3bfa0",
   "metadata": {},
   "outputs": [],
   "source": [
    "from qiskit.quantum_info import SparsePauliOp\n",
    "\n",
    "observable_2 = SparsePauliOp.from_list([(\"II\", 2), (\"XX\", -3), (\"YY\", 2), (\"ZZ\", -4)])"
   ]
  },
  {
   "cell_type": "markdown",
   "id": "e47915c1",
   "metadata": {},
   "source": [
    "We'll be using the following function to calculate the overlap penalty. Note that this is still part of mapping the problem to quantum circuits. However, as discussed in the previous lesson, this function calculates the overlap between a current variational circuit and the optimized circuit from a previous, lower-energy/cost state obtained. The new circuit being generated also has to be transpiled to run on real hardware. We have seen this function before, used on a simulator. Here, we must already consider the transpiling and related optimization for when we use a real backend, hence the lines around \"if realbackend == 1\". This is mixing a bit of step 2, but we will call out step 2 explicitly, later."
   ]
  },
  {
   "cell_type": "code",
   "execution_count": 21,
   "id": "e12f82f0",
   "metadata": {},
   "outputs": [],
   "source": [
    "import numpy as np\n",
    "from qiskit.transpiler.preset_passmanagers import generate_preset_pass_manager\n",
    "\n",
    "def calculate_overlaps(ansatz, prev_circuits, parameters, sampler, realbackend,backend):\n",
    "\n",
    "    def create_fidelity_circuit(circuit_1, circuit_2):\n",
    "        if len(circuit_1.clbits) > 0:\n",
    "            circuit_1.remove_final_measurements()\n",
    "        if len(circuit_2.clbits) > 0:\n",
    "            circuit_2.remove_final_measurements()\n",
    "\n",
    "        circuit = circuit_1.compose(circuit_2.inverse())\n",
    "        circuit.measure_all()\n",
    "        return circuit\n",
    "    overlaps = []\n",
    "\n",
    "    for prev_circuit in prev_circuits:\n",
    "        fidelity_circuit = create_fidelity_circuit(ansatz, prev_circuit)\n",
    "        if realbackend == 1:\n",
    "            pm = generate_preset_pass_manager(backend=backend, optimization_level=3)\n",
    "            fidelity_circuit = pm.run(fidelity_circuit)\n",
    "        sampler_job = sampler.run([(fidelity_circuit, parameters)])\n",
    "        meas_data = sampler_job.result()[0].data.meas\n",
    "        \n",
    "        counts_0 = meas_data.get_int_counts().get(0, 0)\n",
    "        shots = meas_data.num_shots\n",
    "        overlap = counts_0/shots\n",
    "        overlaps.append(overlap)\n",
    "    \n",
    "    return np.array(overlaps)"
   ]
  },
  {
   "cell_type": "markdown",
   "id": "a5bcd19f",
   "metadata": {},
   "source": [
    "Now we add VQD's cost function. Note that compared to the previous lesson, we now have two additional arguments (\"realbackend\" and \"backend\") to help us with transpilation when we use real backends."
   ]
  },
  {
   "cell_type": "code",
   "execution_count": 22,
   "id": "1390ae2d",
   "metadata": {},
   "outputs": [],
   "source": [
    "def cost_func_vqd(parameters, ansatz, prev_states, step, betas, estimator, sampler, hamiltonian, realbackend, backend):\n",
    "\n",
    "    estimator_job = estimator.run([(ansatz, hamiltonian, [parameters])])\n",
    "\n",
    "    total_cost = 0\n",
    "\n",
    "    if step > 1:\n",
    "        overlaps = calculate_overlaps(ansatz, prev_states, parameters, sampler, realbackend, backend)\n",
    "        total_cost = np.sum([np.real(betas[state] * overlap) for state, overlap in enumerate(overlaps)])\n",
    "\n",
    "    estimator_result = estimator_job.result()[0]\n",
    "\n",
    "    value = estimator_result.data.evs[0] + total_cost\n",
    "\n",
    "    return value"
   ]
  },
  {
   "cell_type": "code",
   "execution_count": 23,
   "id": "33d8b3e4",
   "metadata": {},
   "outputs": [],
   "source": [
    "# Once again, we will use simulators for debugging, and then move on to real hardware.\n",
    "from qiskit.primitives import StatevectorSampler\n",
    "from qiskit.primitives import StatevectorEstimator\n",
    "\n",
    "sampler = StatevectorSampler(default_shots=4092)\n",
    "estimator = StatevectorEstimator()\n"
   ]
  },
  {
   "cell_type": "code",
   "execution_count": 27,
   "id": "8eec240f",
   "metadata": {},
   "outputs": [],
   "source": [
    "# Here we introduce the number of states we wish to calculate, the penalties, and a set of initial parameters, x0.\n",
    "from qiskit.quantum_info import SparsePauliOp\n",
    "import numpy as np\n",
    "\n",
    "k = 4\n",
    "betas = [50, 60, 40]\n",
    "x0 = np.ones(8)"
   ]
  },
  {
   "cell_type": "code",
   "execution_count": 25,
   "id": "b297d9e6",
   "metadata": {},
   "outputs": [
    {
     "name": "stdout",
     "output_type": "stream",
     "text": [
      " message: Optimization terminated successfully.\n",
      " success: True\n",
      "  status: 1\n",
      "     fun: -6.999999999993331\n",
      "       x: [ 1.571e+00  1.571e+00  1.993e+00  2.164e+00  1.020e+00\n",
      "            1.215e+00  1.693e+00  2.789e+00]\n",
      "    nfev: 192\n",
      "   maxcv: 0.0\n",
      " message: Optimization terminated successfully.\n",
      " success: True\n",
      "  status: 1\n",
      "     fun: 3.6999637825214435\n",
      "       x: [ 9.742e-01  1.023e+00  1.111e+00  1.304e+00  1.170e+00\n",
      "            1.246e+00  8.846e-01  1.068e+00]\n",
      "    nfev: 107\n",
      "   maxcv: 0.0\n",
      " message: Optimization terminated successfully.\n",
      " success: True\n",
      "  status: 1\n",
      "     fun: 5.561360736434458\n",
      "       x: [ 2.887e+00  2.702e+00  2.148e+00  7.797e-01  7.190e-01\n",
      "            2.129e+00  1.867e+00  4.877e-01]\n",
      "    nfev: 109\n",
      "   maxcv: 0.0\n",
      " message: Optimization terminated successfully.\n",
      " success: True\n",
      "  status: 1\n",
      "     fun: 6.6166040196971485\n",
      "       x: [ 2.954e+00  2.886e+00  5.394e-01  2.063e+00  2.359e+00\n",
      "            6.369e-01  4.616e-01  2.316e+00]\n",
      "    nfev: 125\n",
      "   maxcv: 0.0\n"
     ]
    }
   ],
   "source": [
    "# We will now test the algorithm using simulators:\n",
    "from scipy.optimize import minimize\n",
    "\n",
    "prev_states = []\n",
    "prev_opt_parameters = []\n",
    "eigenvalues = []\n",
    "\n",
    "realbackend = 0\n",
    "\n",
    "for step in range(1, k + 1):\n",
    "    \n",
    "    if step > 1:\n",
    "        prev_states.append(ansatz.assign_parameters(prev_opt_parameters))\n",
    "    \n",
    "    result = minimize(cost_func_vqd, x0, args=(ansatz, prev_states, step, betas, estimator, sampler, observable_2, realbackend, None), method=\"COBYLA\", options={'maxiter': 200, 'tol':0.000001})\n",
    "    print(result)\n",
    "\n",
    "    prev_opt_parameters = result.x\n",
    "    eigenvalues.append(result.fun)"
   ]
  },
  {
   "cell_type": "code",
   "execution_count": 26,
   "id": "95624d1f",
   "metadata": {},
   "outputs": [
    {
     "data": {
      "text/plain": [
       "[np.float64(-6.999999999993331),\n",
       " np.float64(3.6999637825214435),\n",
       " np.float64(5.561360736434458),\n",
       " np.float64(6.6166040196971485)]"
      ]
     },
     "execution_count": 26,
     "metadata": {},
     "output_type": "execute_result"
    }
   ],
   "source": [
    "eigenvalues"
   ]
  },
  {
   "cell_type": "markdown",
   "id": "6b7ae31c",
   "metadata": {},
   "source": [
    "These results are fairly close to the expected ones except for approximation error and global phase. We could adjust the tolerance on the classical optimizer and/or the penalties for statevector overlap to obtain more precise values."
   ]
  },
  {
   "cell_type": "code",
   "execution_count": 28,
   "id": "5a473e05",
   "metadata": {},
   "outputs": [
    {
     "name": "stdout",
     "output_type": "stream",
     "text": [
      "Percent error: 9.53e-13\n",
      "Percent error: 2.33e-01\n",
      "Percent error: 1.12e-01\n",
      "Percent error: 5.48e-02\n"
     ]
    }
   ],
   "source": [
    "solution_eigenvalues = [-7, 3, 5, 7]\n",
    "\n",
    "for index, experimental_eigenvalue in enumerate(eigenvalues):\n",
    "    solution_eigenvalue = solution_eigenvalues[index]\n",
    "    \n",
    "    print(\n",
    "        f\"Percent error: {abs((experimental_eigenvalue - solution_eigenvalue)/solution_eigenvalue):.2e}\"\n",
    "    )"
   ]
  },
  {
   "cell_type": "markdown",
   "id": "18a8970b",
   "metadata": {},
   "source": [
    "### Change Betas\n",
    "\n",
    "As mentioned in the previous lesson, the values of $\\vec{\\beta}$ should be bigger than the difference between eigenvalues. Let us see what happens when they do not satisfy that condition with $\\hat{O}_2$\n",
    "\n",
    "$$\n",
    "\\hat{O}_2 = 2II - 3XX + 2YY - 4ZZ\n",
    "$$\n",
    "\n",
    "with eigenvalues\n",
    "\n",
    "$$\n",
    "\\left\\{\n",
    "\\begin{aligned}\n",
    "\\lambda_0 &= -7 \\\\\n",
    "\\lambda_1 &= 3 \\\\\n",
    "\\lambda_2 &= 5 \\\\\n",
    "\\lambda_3 &= 7\n",
    "\\end{aligned}\n",
    "\\right\\}\n",
    "$$\n",
    "\n"
   ]
  },
  {
   "cell_type": "code",
   "execution_count": 29,
   "id": "d50fad96",
   "metadata": {},
   "outputs": [],
   "source": [
    "from qiskit.quantum_info import SparsePauliOp\n",
    "\n",
    "k = 4\n",
    "betas = np.ones(3)\n",
    "x0 = np.zeros(8)"
   ]
  },
  {
   "cell_type": "code",
   "execution_count": 30,
   "id": "28e5d666",
   "metadata": {},
   "outputs": [
    {
     "name": "stdout",
     "output_type": "stream",
     "text": [
      " message: Optimization terminated successfully.\n",
      " success: True\n",
      "  status: 1\n",
      "     fun: -6.999586475781003\n",
      "       x: [-1.562e+00  1.575e+00 -8.948e-03 -9.178e-03  7.737e-01\n",
      "           -7.961e-01  4.627e-02 -3.993e-02]\n",
      "    nfev: 175\n",
      "   maxcv: 0.0\n",
      " message: Optimization terminated successfully.\n",
      " success: True\n",
      "  status: 1\n",
      "     fun: -1.4789378876717092\n",
      "       x: [ 1.257e-03  2.362e-03  9.919e-01  2.244e-03  3.776e-03\n",
      "           -1.991e-03  5.355e-04 -1.916e-03]\n",
      "    nfev: 38\n",
      "   maxcv: 0.0\n",
      " message: Optimization terminated successfully.\n",
      " success: True\n",
      "  status: 1\n",
      "     fun: -0.4967932875891852\n",
      "       x: [-1.038e-02 -9.146e-03  9.275e-04  1.000e+00 -1.580e-02\n",
      "           -1.446e-02 -1.204e-01  1.246e-01]\n",
      "    nfev: 44\n",
      "   maxcv: 0.0\n",
      " message: Optimization terminated successfully.\n",
      " success: True\n",
      "  status: 1\n",
      "     fun: 0.5110807561380275\n",
      "       x: [ 5.235e-03 -1.973e-03  9.982e-01  9.986e-01 -3.779e-03\n",
      "           -1.722e-03 -5.979e-03  9.967e-01]\n",
      "    nfev: 41\n",
      "   maxcv: 0.0\n"
     ]
    }
   ],
   "source": [
    "from scipy.optimize import minimize\n",
    "\n",
    "prev_states = []\n",
    "prev_opt_parameters = []\n",
    "eigenvalues = []\n",
    "\n",
    "realbackend = 0\n",
    "\n",
    "for step in range(1, k + 1):\n",
    "    \n",
    "    if step > 1:\n",
    "        prev_states.append(ansatz.assign_parameters(prev_opt_parameters))\n",
    "    \n",
    "    result = minimize(cost_func_vqd, x0, args=(ansatz, prev_states, step, betas, estimator, sampler, observable_2, realbackend, None), method=\"COBYLA\", options = {'tol' : 0.01, 'maxiter': 200})\n",
    "    print(result)\n",
    "\n",
    "    prev_opt_parameters = result.x\n",
    "    eigenvalues.append(result.fun)"
   ]
  },
  {
   "cell_type": "code",
   "execution_count": 31,
   "id": "c8f53231",
   "metadata": {},
   "outputs": [
    {
     "name": "stdout",
     "output_type": "stream",
     "text": [
      "Percent error: 5.91e-05\n",
      "Percent error: 1.49e+00\n",
      "Percent error: 1.10e+00\n",
      "Percent error: 9.27e-01\n"
     ]
    }
   ],
   "source": [
    "solution_eigenvalues = [-7, 3, 5, 7]\n",
    "\n",
    "for index, experimental_eigenvalue in enumerate(eigenvalues):\n",
    "    solution_eigenvalue = solution_eigenvalues[index]\n",
    "    \n",
    "    print(\n",
    "        f\"Percent error: {abs((experimental_eigenvalue - solution_eigenvalue)/solution_eigenvalue):.2e}\"\n",
    "    )"
   ]
  },
  {
   "cell_type": "markdown",
   "id": "5bf7375d",
   "metadata": {},
   "source": [
    "This time, the optimizer returns the same state $\\lvert \\phi_0 \\rangle = \\frac{1}{\\sqrt{2}}(\\lvert 00 \\rangle + \\lvert 11 \\rangle)$ as a proposed solution to all eigenstates: which is clearly wrong. This happens because the betas were too small to penalize the minimum eigenstate in the successive cost functions. Therefore, it was not excluded from the effective search space in later iterations of the algorithm, and always chosen as the best possible solution.\n",
    "\n",
    "We recommend experimenting with the values of $\\vec{\\beta}$, and ensuring they are bigger than the difference between eigenvalues.\n"
   ]
  },
  {
   "cell_type": "markdown",
   "id": "937a9ee1",
   "metadata": {},
   "source": [
    "### Step 2: Optimize Problem for Quantum Execution\n",
    "\n",
    "To run this on real hardware, we must optimize the quantum circuits for our quantum computer of choice. For our purposes here, we will simply use the least-busy backend.\n"
   ]
  },
  {
   "cell_type": "code",
   "execution_count": 32,
   "id": "2047c968",
   "metadata": {},
   "outputs": [
    {
     "ename": "AccountNotFoundError",
     "evalue": "'Unable to find account.'",
     "output_type": "error",
     "traceback": [
      "\u001b[31m---------------------------------------------------------------------------\u001b[39m",
      "\u001b[31mAccountNotFoundError\u001b[39m                      Traceback (most recent call last)",
      "\u001b[36mCell\u001b[39m\u001b[36m \u001b[39m\u001b[32mIn[32]\u001b[39m\u001b[32m, line 7\u001b[39m\n\u001b[32m      3\u001b[39m \u001b[38;5;28;01mfrom\u001b[39;00m\u001b[38;5;250m \u001b[39m\u001b[34;01mqiskit_ibm_runtime\u001b[39;00m\u001b[38;5;250m \u001b[39m\u001b[38;5;28;01mimport\u001b[39;00m Session, EstimatorOptions\n\u001b[32m      4\u001b[39m \u001b[38;5;28;01mfrom\u001b[39;00m\u001b[38;5;250m \u001b[39m\u001b[34;01mqiskit_ibm_runtime\u001b[39;00m\u001b[38;5;250m \u001b[39m\u001b[38;5;28;01mimport\u001b[39;00m QiskitRuntimeService\n\u001b[32m----> \u001b[39m\u001b[32m7\u001b[39m service = \u001b[43mQiskitRuntimeService\u001b[49m\u001b[43m(\u001b[49m\u001b[43mchannel\u001b[49m\u001b[43m=\u001b[49m\u001b[33;43m'\u001b[39;49m\u001b[33;43mibm_quantum\u001b[39;49m\u001b[33;43m'\u001b[39;49m\u001b[43m)\u001b[49m\n\u001b[32m      8\u001b[39m backend = service.least_busy(operational=\u001b[38;5;28;01mTrue\u001b[39;00m, simulator=\u001b[38;5;28;01mFalse\u001b[39;00m)\n\u001b[32m      9\u001b[39m \u001b[38;5;66;03m# Or use a specific backend\u001b[39;00m\n\u001b[32m     10\u001b[39m \u001b[38;5;66;03m#backend = service.backend(\"ibm_cusco\")\u001b[39;00m\n",
      "\u001b[36mFile \u001b[39m\u001b[32m~/Desktop/Technology/Quantum/IBM Qiskit/.venv/lib/python3.13/site-packages/qiskit_ibm_runtime/qiskit_runtime_service.py:157\u001b[39m, in \u001b[36mQiskitRuntimeService.__init__\u001b[39m\u001b[34m(self, channel, token, url, filename, name, instance, proxies, verify, private_endpoint, url_resolver, region, plans_preference)\u001b[39m\n\u001b[32m    155\u001b[39m \u001b[38;5;28mself\u001b[39m._all_instances: List[Dict[\u001b[38;5;28mstr\u001b[39m, \u001b[38;5;28mstr\u001b[39m]] = []\n\u001b[32m    156\u001b[39m \u001b[38;5;28mself\u001b[39m._saved_instances: List[\u001b[38;5;28mstr\u001b[39m] = []\n\u001b[32m--> \u001b[39m\u001b[32m157\u001b[39m \u001b[38;5;28mself\u001b[39m._account = \u001b[38;5;28;43mself\u001b[39;49m\u001b[43m.\u001b[49m\u001b[43m_discover_account\u001b[49m\u001b[43m(\u001b[49m\n\u001b[32m    158\u001b[39m \u001b[43m    \u001b[49m\u001b[43mtoken\u001b[49m\u001b[43m=\u001b[49m\u001b[43mtoken\u001b[49m\u001b[43m,\u001b[49m\n\u001b[32m    159\u001b[39m \u001b[43m    \u001b[49m\u001b[43murl\u001b[49m\u001b[43m=\u001b[49m\u001b[43murl\u001b[49m\u001b[43m,\u001b[49m\n\u001b[32m    160\u001b[39m \u001b[43m    \u001b[49m\u001b[43minstance\u001b[49m\u001b[43m=\u001b[49m\u001b[43minstance\u001b[49m\u001b[43m,\u001b[49m\n\u001b[32m    161\u001b[39m \u001b[43m    \u001b[49m\u001b[43mchannel\u001b[49m\u001b[43m=\u001b[49m\u001b[43mchannel\u001b[49m\u001b[43m,\u001b[49m\n\u001b[32m    162\u001b[39m \u001b[43m    \u001b[49m\u001b[43mfilename\u001b[49m\u001b[43m=\u001b[49m\u001b[43mfilename\u001b[49m\u001b[43m,\u001b[49m\n\u001b[32m    163\u001b[39m \u001b[43m    \u001b[49m\u001b[43mname\u001b[49m\u001b[43m=\u001b[49m\u001b[43mname\u001b[49m\u001b[43m,\u001b[49m\n\u001b[32m    164\u001b[39m \u001b[43m    \u001b[49m\u001b[43mproxies\u001b[49m\u001b[43m=\u001b[49m\u001b[43mProxyConfiguration\u001b[49m\u001b[43m(\u001b[49m\u001b[43m*\u001b[49m\u001b[43m*\u001b[49m\u001b[43mproxies\u001b[49m\u001b[43m)\u001b[49m\u001b[43m \u001b[49m\u001b[38;5;28;43;01mif\u001b[39;49;00m\u001b[43m \u001b[49m\u001b[43mproxies\u001b[49m\u001b[43m \u001b[49m\u001b[38;5;28;43;01melse\u001b[39;49;00m\u001b[43m \u001b[49m\u001b[38;5;28;43;01mNone\u001b[39;49;00m\u001b[43m,\u001b[49m\n\u001b[32m    165\u001b[39m \u001b[43m    \u001b[49m\u001b[43mverify\u001b[49m\u001b[43m=\u001b[49m\u001b[43mverify\u001b[49m\u001b[43m,\u001b[49m\n\u001b[32m    166\u001b[39m \u001b[43m\u001b[49m\u001b[43m)\u001b[49m\n\u001b[32m    168\u001b[39m \u001b[38;5;28;01mif\u001b[39;00m private_endpoint \u001b[38;5;129;01mis\u001b[39;00m \u001b[38;5;129;01mnot\u001b[39;00m \u001b[38;5;28;01mNone\u001b[39;00m:\n\u001b[32m    169\u001b[39m     \u001b[38;5;28mself\u001b[39m._account.private_endpoint = private_endpoint\n",
      "\u001b[36mFile \u001b[39m\u001b[32m~/Desktop/Technology/Quantum/IBM Qiskit/.venv/lib/python3.13/site-packages/qiskit_ibm_runtime/qiskit_runtime_service.py:340\u001b[39m, in \u001b[36mQiskitRuntimeService._discover_account\u001b[39m\u001b[34m(self, token, url, instance, channel, filename, name, proxies, verify)\u001b[39m\n\u001b[32m    338\u001b[39m         \u001b[38;5;28;01mif\u001b[39;00m url:\n\u001b[32m    339\u001b[39m             logger.warning(\u001b[33m\"\u001b[39m\u001b[33mLoading default \u001b[39m\u001b[38;5;132;01m%s\u001b[39;00m\u001b[33m account. Input \u001b[39m\u001b[33m'\u001b[39m\u001b[33murl\u001b[39m\u001b[33m'\u001b[39m\u001b[33m is ignored.\u001b[39m\u001b[33m\"\u001b[39m, channel)\n\u001b[32m--> \u001b[39m\u001b[32m340\u001b[39m         account = \u001b[43mAccountManager\u001b[49m\u001b[43m.\u001b[49m\u001b[43mget\u001b[49m\u001b[43m(\u001b[49m\u001b[43mfilename\u001b[49m\u001b[43m=\u001b[49m\u001b[43mfilename\u001b[49m\u001b[43m,\u001b[49m\u001b[43m \u001b[49m\u001b[43mname\u001b[49m\u001b[43m=\u001b[49m\u001b[43mname\u001b[49m\u001b[43m,\u001b[49m\u001b[43m \u001b[49m\u001b[43mchannel\u001b[49m\u001b[43m=\u001b[49m\u001b[43mchannel\u001b[49m\u001b[43m)\u001b[49m\n\u001b[32m    341\u001b[39m \u001b[38;5;28;01melif\u001b[39;00m \u001b[38;5;28many\u001b[39m([token, url]):\n\u001b[32m    342\u001b[39m     \u001b[38;5;66;03m# Let's not infer based on these attributes as they may change in the future.\u001b[39;00m\n\u001b[32m    343\u001b[39m     \u001b[38;5;28;01mraise\u001b[39;00m \u001b[38;5;167;01mValueError\u001b[39;00m(\n\u001b[32m    344\u001b[39m         \u001b[33m\"\u001b[39m\u001b[33m'\u001b[39m\u001b[33mchannel\u001b[39m\u001b[33m'\u001b[39m\u001b[33m is required if \u001b[39m\u001b[33m'\u001b[39m\u001b[33mtoken\u001b[39m\u001b[33m'\u001b[39m\u001b[33m, or \u001b[39m\u001b[33m'\u001b[39m\u001b[33murl\u001b[39m\u001b[33m'\u001b[39m\u001b[33m is specified but \u001b[39m\u001b[33m'\u001b[39m\u001b[33mname\u001b[39m\u001b[33m'\u001b[39m\u001b[33m is not.\u001b[39m\u001b[33m\"\u001b[39m\n\u001b[32m    345\u001b[39m     )\n",
      "\u001b[36mFile \u001b[39m\u001b[32m~/Desktop/Technology/Quantum/IBM Qiskit/.venv/lib/python3.13/site-packages/qiskit_ibm_runtime/accounts/management.py:204\u001b[39m, in \u001b[36mAccountManager.get\u001b[39m\u001b[34m(cls, filename, name, channel)\u001b[39m\n\u001b[32m    201\u001b[39m     \u001b[38;5;28;01mif\u001b[39;00m account_name \u001b[38;5;129;01min\u001b[39;00m all_config:\n\u001b[32m    202\u001b[39m         \u001b[38;5;28;01mreturn\u001b[39;00m Account.from_saved_format(all_config[account_name])\n\u001b[32m--> \u001b[39m\u001b[32m204\u001b[39m \u001b[38;5;28;01mraise\u001b[39;00m AccountNotFoundError(\u001b[33m\"\u001b[39m\u001b[33mUnable to find account.\u001b[39m\u001b[33m\"\u001b[39m)\n",
      "\u001b[31mAccountNotFoundError\u001b[39m: 'Unable to find account.'"
     ]
    }
   ],
   "source": [
    "from qiskit_ibm_runtime import SamplerV2 as Sampler\n",
    "from qiskit_ibm_runtime import EstimatorV2 as Estimator\n",
    "from qiskit_ibm_runtime import Session, EstimatorOptions\n",
    "from qiskit_ibm_runtime import QiskitRuntimeService\n",
    "\n",
    "\n",
    "service = QiskitRuntimeService(channel='ibm_quantum')\n",
    "backend = service.least_busy(operational=True, simulator=False)\n",
    "# Or use a specific backend\n",
    "#backend = service.backend(\"ibm_cusco\")\n",
    "print(backend)"
   ]
  },
  {
   "cell_type": "markdown",
   "id": "4b4f04bc",
   "metadata": {},
   "source": [
    "We will transpile our circuit using a preset pass manager and optimization level 3."
   ]
  },
  {
   "cell_type": "code",
   "execution_count": 33,
   "id": "b42aaad7",
   "metadata": {},
   "outputs": [
    {
     "ename": "NameError",
     "evalue": "name 'backend' is not defined",
     "output_type": "error",
     "traceback": [
      "\u001b[31m---------------------------------------------------------------------------\u001b[39m",
      "\u001b[31mNameError\u001b[39m                                 Traceback (most recent call last)",
      "\u001b[36mCell\u001b[39m\u001b[36m \u001b[39m\u001b[32mIn[33]\u001b[39m\u001b[32m, line 3\u001b[39m\n\u001b[32m      1\u001b[39m \u001b[38;5;28;01mfrom\u001b[39;00m\u001b[38;5;250m \u001b[39m\u001b[34;01mqiskit\u001b[39;00m\u001b[34;01m.\u001b[39;00m\u001b[34;01mtranspiler\u001b[39;00m\u001b[34;01m.\u001b[39;00m\u001b[34;01mpreset_passmanagers\u001b[39;00m\u001b[38;5;250m \u001b[39m\u001b[38;5;28;01mimport\u001b[39;00m generate_preset_pass_manager\n\u001b[32m----> \u001b[39m\u001b[32m3\u001b[39m pm = generate_preset_pass_manager(backend=\u001b[43mbackend\u001b[49m, optimization_level=\u001b[32m3\u001b[39m)\n\u001b[32m      4\u001b[39m isa_ansatz = pm.run(ansatz)\n\u001b[32m      5\u001b[39m isa_observable = observable_2.apply_layout(layout = isa_ansatz.layout)\n",
      "\u001b[31mNameError\u001b[39m: name 'backend' is not defined"
     ]
    }
   ],
   "source": [
    "from qiskit.transpiler.preset_passmanagers import generate_preset_pass_manager\n",
    "\n",
    "pm = generate_preset_pass_manager(backend=backend, optimization_level=3)\n",
    "isa_ansatz = pm.run(ansatz)\n",
    "isa_observable = observable_2.apply_layout(layout = isa_ansatz.layout)"
   ]
  },
  {
   "cell_type": "markdown",
   "id": "3d1bc2dc",
   "metadata": {},
   "source": [
    "### Step 3: Execute Using Qiskit Primitives\n",
    "\n",
    "Taking care to reset our betas to sufficiently high values, we can now run our calculation on real quantum hardware.\n"
   ]
  },
  {
   "cell_type": "code",
   "execution_count": null,
   "id": "954cde62",
   "metadata": {},
   "outputs": [],
   "source": [
    "#Estimated compute resource usage: 25 minutes. Benchmarked at 24 min, 30 s on ibm_nazca on 5-30-24\n",
    "\n",
    "k = 2\n",
    "betas = [30, 50, 80]\n",
    "x0 = np.zeros(8)\n",
    "\n",
    "real_prev_states = []\n",
    "real_prev_opt_parameters = []\n",
    "real_eigenvalues = []\n",
    "\n",
    "realbackend = 1\n",
    "\n",
    "estimator_options = EstimatorOptions(\n",
    "    resilience_level=1,\n",
    "    default_shots = 10_000\n",
    ")\n",
    "\n",
    "with Session(backend=backend) as session:\n",
    "\n",
    "    estimator = Estimator(mode=session, options = estimator_options)\n",
    "    sampler = Sampler(mode = session)\n",
    "    \n",
    "    for step in range(1, k + 1):\n",
    "    \n",
    "        if step > 1:\n",
    "            real_prev_states.append(isa_ansatz.assign_parameters(prev_opt_parameters))\n",
    "    \n",
    "        result = minimize(cost_func_vqd, x0, args=(isa_ansatz, real_prev_states, step, betas, estimator, sampler, isa_observable, realbackend, backend), method=\"COBYLA\", options = {'maxiter':200})\n",
    "        print(result)\n",
    "\n",
    "        real_prev_opt_parameters = result.x\n",
    "        real_eigenvalues.append(result.fun)\n",
    "\n",
    "session.close()\n",
    "print(real_eigenvalues)"
   ]
  },
  {
   "cell_type": "markdown",
   "id": "2708406d",
   "metadata": {},
   "source": [
    "### Step 4: Post-process, Return Result in Classical Format\n",
    "\n",
    "Our output is structurally similar to what has been dicussed in previous lessons and examples. But there is something problematic in the results above, from which we can derive a cautionary message for the context of excited states. To limit computing time used on this learning example, we set a maximum number of iterations for classical optimizer that was potentially too low: 200 iterations. A previous calculation above, on a simulator, failed to converge in 200 iterations. Here, ours did converge... but to what tolerance? We have not specified a tolerance for COBYLA to consider itself \"converged\". A glance at the function value and comparison with previous runs tells us that COBYLA was not close to converging to the precision we require.\n",
    "\n",
    "There is another issue: the energy of the first excited state appears to be lower than the energy of the ground state! See if you can explain how this could happen. Hint: it is related to the convergence point we just addressed. This behavior is explained in detail below after VQD is applied to the H2 molecule.\n"
   ]
  },
  {
   "cell_type": "markdown",
   "id": "140044de",
   "metadata": {},
   "source": [
    "## Quantum Chemistry: Ground State and Excited Energy Solver\n",
    "\n",
    "Our objective is to minimize the expectation value of the observable representing energy (Hamiltonian $\\hat{\\mathcal{H}}$):\n",
    "\n",
    "$$\n",
    "\\min_{\\vec{\\theta}} \\langle \\psi(\\vec{\\theta}) | \\hat{\\mathcal{H}} | \\psi(\\vec{\\theta}) \\rangle\n",
    "$$\n"
   ]
  },
  {
   "cell_type": "code",
   "execution_count": 34,
   "id": "ed2aad1a",
   "metadata": {},
   "outputs": [
    {
     "data": {
      "image/png": "[encoded data removed]",
      "text/plain": [
       "<Figure size 1039.79x200.667 with 1 Axes>"
      ]
     },
     "execution_count": 34,
     "metadata": {},
     "output_type": "execute_result"
    }
   ],
   "source": [
    "from qiskit.quantum_info import SparsePauliOp\n",
    "from qiskit.circuit.library import EfficientSU2\n",
    "\n",
    "H2_op = SparsePauliOp.from_list(\n",
    "    [\n",
    "        (\"II\", -1.052373245772859),\n",
    "        (\"IZ\", 0.39793742484318045),\n",
    "        (\"ZI\", -0.39793742484318045),\n",
    "        (\"ZZ\", -0.01128010425623538),\n",
    "        (\"XX\", 0.18093119978423156),\n",
    "    ]\n",
    ")\n",
    "\n",
    "chem_ansatz = EfficientSU2(H2_op.num_qubits)\n",
    "\n",
    "chem_ansatz.decompose().draw(\"mpl\")"
   ]
  },
  {
   "cell_type": "code",
   "execution_count": 35,
   "id": "6f84c965",
   "metadata": {},
   "outputs": [],
   "source": [
    "from qiskit.circuit.library import TwoLocal\n",
    "from qiskit import QuantumCircuit\n",
    "\n",
    "\n",
    "def cost_func_vqe(params, ansatz, hamiltonian, estimator):\n",
    "    \"\"\"Return estimate of energy from estimator\n",
    "\n",
    "    Parameters:\n",
    "        params (ndarray): Array of ansatz parameters\n",
    "        ansatz (QuantumCircuit): Parameterized ansatz circuit\n",
    "        hamiltonian (SparsePauliOp): Operator representation of Hamiltonian\n",
    "        estimator (Estimator): Estimator primitive instance\n",
    "\n",
    "    Returns:\n",
    "        float: Energy estimate\n",
    "    \"\"\"\n",
    "    pub = (ansatz, hamiltonian, params)\n",
    "    cost = estimator.run([pub]).result()[0].data.evs\n",
    "#    cost = estimator.run(ansatz, hamiltonian, parameter_values=params).result().values[0]\n",
    "    return cost"
   ]
  },
  {
   "cell_type": "code",
   "execution_count": null,
   "id": "de46d752",
   "metadata": {},
   "outputs": [],
   "source": [
    "# We now set an initial set of parameters:\n",
    "import numpy as np\n",
    "\n",
    "x0 = np.ones(chem_ansatz.num_parameters)"
   ]
  },
  {
   "cell_type": "code",
   "execution_count": 36,
   "id": "e7bd18a6",
   "metadata": {},
   "outputs": [],
   "source": [
    "# We can minimize this cost function to calculate optimal parameters, and we can check our code first by using a local simulator.\n",
    "from qiskit.primitives import StatevectorEstimator as Estimator\n",
    "from qiskit.primitives import StatevectorSampler as Sampler\n",
    "estimator = Estimator()\n",
    "sampler = Sampler()"
   ]
  },
  {
   "cell_type": "code",
   "execution_count": 37,
   "id": "bccdd7a9",
   "metadata": {},
   "outputs": [
    {
     "ename": "ValueError",
     "evalue": "Length of ('θ[0]', 'θ[1]', 'θ[2]', 'θ[3]', 'θ[4]', 'θ[5]', 'θ[6]', 'θ[7]', 'θ[8]', 'θ[9]', 'θ[10]', 'θ[11]', 'θ[12]', 'θ[13]', 'θ[14]', 'θ[15]') inconsistent with last dimension of [0. 0. 0. 0. 0. 0. 0. 0.]",
     "output_type": "error",
     "traceback": [
      "\u001b[31m---------------------------------------------------------------------------\u001b[39m",
      "\u001b[31mValueError\u001b[39m                                Traceback (most recent call last)",
      "\u001b[36mCell\u001b[39m\u001b[36m \u001b[39m\u001b[32mIn[37]\u001b[39m\u001b[32m, line 7\u001b[39m\n\u001b[32m      3\u001b[39m \u001b[38;5;28;01mimport\u001b[39;00m\u001b[38;5;250m \u001b[39m\u001b[34;01mtime\u001b[39;00m\n\u001b[32m      5\u001b[39m start_time = time.time()\n\u001b[32m----> \u001b[39m\u001b[32m7\u001b[39m result = \u001b[43mminimize\u001b[49m\u001b[43m(\u001b[49m\u001b[43mcost_func_vqe\u001b[49m\u001b[43m,\u001b[49m\u001b[43m \u001b[49m\u001b[43mx0\u001b[49m\u001b[43m,\u001b[49m\u001b[43m \u001b[49m\u001b[43margs\u001b[49m\u001b[43m=\u001b[49m\u001b[43m(\u001b[49m\u001b[43mchem_ansatz\u001b[49m\u001b[43m,\u001b[49m\u001b[43m \u001b[49m\u001b[43mH2_op\u001b[49m\u001b[43m,\u001b[49m\u001b[43m \u001b[49m\u001b[43mestimator\u001b[49m\u001b[43m)\u001b[49m\u001b[43m,\u001b[49m\u001b[43m \u001b[49m\u001b[43mmethod\u001b[49m\u001b[43m=\u001b[49m\u001b[33;43m\"\u001b[39;49m\u001b[33;43mCOBYLA\u001b[39;49m\u001b[33;43m\"\u001b[39;49m\u001b[43m)\u001b[49m\n\u001b[32m      9\u001b[39m end_time = time.time()\n\u001b[32m     10\u001b[39m execution_time = end_time - start_time\n",
      "\u001b[36mFile \u001b[39m\u001b[32m~/Desktop/Technology/Quantum/IBM Qiskit/.venv/lib/python3.13/site-packages/scipy/optimize/_minimize.py:744\u001b[39m, in \u001b[36mminimize\u001b[39m\u001b[34m(fun, x0, args, method, jac, hess, hessp, bounds, constraints, tol, callback, options)\u001b[39m\n\u001b[32m    741\u001b[39m     res = _minimize_tnc(fun, x0, args, jac, bounds, callback=callback,\n\u001b[32m    742\u001b[39m                         **options)\n\u001b[32m    743\u001b[39m \u001b[38;5;28;01melif\u001b[39;00m meth == \u001b[33m'\u001b[39m\u001b[33mcobyla\u001b[39m\u001b[33m'\u001b[39m:\n\u001b[32m--> \u001b[39m\u001b[32m744\u001b[39m     res = \u001b[43m_minimize_cobyla\u001b[49m\u001b[43m(\u001b[49m\u001b[43mfun\u001b[49m\u001b[43m,\u001b[49m\u001b[43m \u001b[49m\u001b[43mx0\u001b[49m\u001b[43m,\u001b[49m\u001b[43m \u001b[49m\u001b[43margs\u001b[49m\u001b[43m,\u001b[49m\u001b[43m \u001b[49m\u001b[43mconstraints\u001b[49m\u001b[43m,\u001b[49m\u001b[43m \u001b[49m\u001b[43mcallback\u001b[49m\u001b[43m=\u001b[49m\u001b[43mcallback\u001b[49m\u001b[43m,\u001b[49m\n\u001b[32m    745\u001b[39m \u001b[43m                           \u001b[49m\u001b[43mbounds\u001b[49m\u001b[43m=\u001b[49m\u001b[43mbounds\u001b[49m\u001b[43m,\u001b[49m\u001b[43m \u001b[49m\u001b[43m*\u001b[49m\u001b[43m*\u001b[49m\u001b[43moptions\u001b[49m\u001b[43m)\u001b[49m\n\u001b[32m    746\u001b[39m \u001b[38;5;28;01melif\u001b[39;00m meth == \u001b[33m'\u001b[39m\u001b[33mcobyqa\u001b[39m\u001b[33m'\u001b[39m:\n\u001b[32m    747\u001b[39m     res = _minimize_cobyqa(fun, x0, args, bounds, constraints, callback,\n\u001b[32m    748\u001b[39m                            **options)\n",
      "\u001b[36mFile \u001b[39m\u001b[32m~/Desktop/Technology/Quantum/IBM Qiskit/.venv/lib/python3.13/site-packages/scipy/optimize/_cobyla_py.py:35\u001b[39m, in \u001b[36msynchronized.<locals>.wrapper\u001b[39m\u001b[34m(*args, **kwargs)\u001b[39m\n\u001b[32m     32\u001b[39m \u001b[38;5;129m@functools\u001b[39m.wraps(func)\n\u001b[32m     33\u001b[39m \u001b[38;5;28;01mdef\u001b[39;00m\u001b[38;5;250m \u001b[39m\u001b[34mwrapper\u001b[39m(*args, **kwargs):\n\u001b[32m     34\u001b[39m     \u001b[38;5;28;01mwith\u001b[39;00m _module_lock:\n\u001b[32m---> \u001b[39m\u001b[32m35\u001b[39m         \u001b[38;5;28;01mreturn\u001b[39;00m \u001b[43mfunc\u001b[49m\u001b[43m(\u001b[49m\u001b[43m*\u001b[49m\u001b[43margs\u001b[49m\u001b[43m,\u001b[49m\u001b[43m \u001b[49m\u001b[43m*\u001b[49m\u001b[43m*\u001b[49m\u001b[43mkwargs\u001b[49m\u001b[43m)\u001b[49m\n",
      "\u001b[36mFile \u001b[39m\u001b[32m~/Desktop/Technology/Quantum/IBM Qiskit/.venv/lib/python3.13/site-packages/scipy/optimize/_cobyla_py.py:278\u001b[39m, in \u001b[36m_minimize_cobyla\u001b[39m\u001b[34m(fun, x0, args, constraints, rhobeg, tol, maxiter, disp, catol, callback, bounds, **unknown_options)\u001b[39m\n\u001b[32m    275\u001b[39m \u001b[38;5;28;01mdef\u001b[39;00m\u001b[38;5;250m \u001b[39m\u001b[34m_jac\u001b[39m(x, *args):\n\u001b[32m    276\u001b[39m     \u001b[38;5;28;01mreturn\u001b[39;00m \u001b[38;5;28;01mNone\u001b[39;00m\n\u001b[32m--> \u001b[39m\u001b[32m278\u001b[39m sf = \u001b[43m_prepare_scalar_function\u001b[49m\u001b[43m(\u001b[49m\u001b[43mfun\u001b[49m\u001b[43m,\u001b[49m\u001b[43m \u001b[49m\u001b[43mx0\u001b[49m\u001b[43m,\u001b[49m\u001b[43m \u001b[49m\u001b[43margs\u001b[49m\u001b[43m=\u001b[49m\u001b[43margs\u001b[49m\u001b[43m,\u001b[49m\u001b[43m \u001b[49m\u001b[43mjac\u001b[49m\u001b[43m=\u001b[49m\u001b[43m_jac\u001b[49m\u001b[43m)\u001b[49m\n\u001b[32m    280\u001b[39m \u001b[38;5;28;01mdef\u001b[39;00m\u001b[38;5;250m \u001b[39m\u001b[34mcalcfc\u001b[39m(x, con):\n\u001b[32m    281\u001b[39m     f = sf.fun(x)\n",
      "\u001b[36mFile \u001b[39m\u001b[32m~/Desktop/Technology/Quantum/IBM Qiskit/.venv/lib/python3.13/site-packages/scipy/optimize/_optimize.py:291\u001b[39m, in \u001b[36m_prepare_scalar_function\u001b[39m\u001b[34m(fun, x0, jac, args, bounds, epsilon, finite_diff_rel_step, hess)\u001b[39m\n\u001b[32m    287\u001b[39m     bounds = (-np.inf, np.inf)\n\u001b[32m    289\u001b[39m \u001b[38;5;66;03m# ScalarFunction caches. Reuse of fun(x) during grad\u001b[39;00m\n\u001b[32m    290\u001b[39m \u001b[38;5;66;03m# calculation reduces overall function evaluations.\u001b[39;00m\n\u001b[32m--> \u001b[39m\u001b[32m291\u001b[39m sf = \u001b[43mScalarFunction\u001b[49m\u001b[43m(\u001b[49m\u001b[43mfun\u001b[49m\u001b[43m,\u001b[49m\u001b[43m \u001b[49m\u001b[43mx0\u001b[49m\u001b[43m,\u001b[49m\u001b[43m \u001b[49m\u001b[43margs\u001b[49m\u001b[43m,\u001b[49m\u001b[43m \u001b[49m\u001b[43mgrad\u001b[49m\u001b[43m,\u001b[49m\u001b[43m \u001b[49m\u001b[43mhess\u001b[49m\u001b[43m,\u001b[49m\n\u001b[32m    292\u001b[39m \u001b[43m                    \u001b[49m\u001b[43mfinite_diff_rel_step\u001b[49m\u001b[43m,\u001b[49m\u001b[43m \u001b[49m\u001b[43mbounds\u001b[49m\u001b[43m,\u001b[49m\u001b[43m \u001b[49m\u001b[43mepsilon\u001b[49m\u001b[43m=\u001b[49m\u001b[43mepsilon\u001b[49m\u001b[43m)\u001b[49m\n\u001b[32m    294\u001b[39m \u001b[38;5;28;01mreturn\u001b[39;00m sf\n",
      "\u001b[36mFile \u001b[39m\u001b[32m~/Desktop/Technology/Quantum/IBM Qiskit/.venv/lib/python3.13/site-packages/scipy/optimize/_differentiable_functions.py:223\u001b[39m, in \u001b[36mScalarFunction.__init__\u001b[39m\u001b[34m(self, fun, x0, args, grad, hess, finite_diff_rel_step, finite_diff_bounds, epsilon)\u001b[39m\n\u001b[32m    220\u001b[39m     finite_diff_options[\u001b[33m\"\u001b[39m\u001b[33mas_linear_operator\u001b[39m\u001b[33m\"\u001b[39m] = \u001b[38;5;28;01mTrue\u001b[39;00m\n\u001b[32m    222\u001b[39m \u001b[38;5;66;03m# Initial function evaluation\u001b[39;00m\n\u001b[32m--> \u001b[39m\u001b[32m223\u001b[39m \u001b[38;5;28;43mself\u001b[39;49m\u001b[43m.\u001b[49m\u001b[43m_update_fun\u001b[49m\u001b[43m(\u001b[49m\u001b[43m)\u001b[49m\n\u001b[32m    225\u001b[39m \u001b[38;5;66;03m# Initial gradient evaluation\u001b[39;00m\n\u001b[32m    226\u001b[39m \u001b[38;5;28mself\u001b[39m._wrapped_grad, \u001b[38;5;28mself\u001b[39m._ngev = _wrapper_grad(\n\u001b[32m    227\u001b[39m     grad,\n\u001b[32m    228\u001b[39m     fun=\u001b[38;5;28mself\u001b[39m._wrapped_fun,\n\u001b[32m    229\u001b[39m     args=args,\n\u001b[32m    230\u001b[39m     finite_diff_options=finite_diff_options\n\u001b[32m    231\u001b[39m )\n",
      "\u001b[36mFile \u001b[39m\u001b[32m~/Desktop/Technology/Quantum/IBM Qiskit/.venv/lib/python3.13/site-packages/scipy/optimize/_differentiable_functions.py:295\u001b[39m, in \u001b[36mScalarFunction._update_fun\u001b[39m\u001b[34m(self)\u001b[39m\n\u001b[32m    293\u001b[39m \u001b[38;5;28;01mdef\u001b[39;00m\u001b[38;5;250m \u001b[39m\u001b[34m_update_fun\u001b[39m(\u001b[38;5;28mself\u001b[39m):\n\u001b[32m    294\u001b[39m     \u001b[38;5;28;01mif\u001b[39;00m \u001b[38;5;129;01mnot\u001b[39;00m \u001b[38;5;28mself\u001b[39m.f_updated:\n\u001b[32m--> \u001b[39m\u001b[32m295\u001b[39m         fx = \u001b[38;5;28;43mself\u001b[39;49m\u001b[43m.\u001b[49m\u001b[43m_wrapped_fun\u001b[49m\u001b[43m(\u001b[49m\u001b[38;5;28;43mself\u001b[39;49m\u001b[43m.\u001b[49m\u001b[43mx\u001b[49m\u001b[43m)\u001b[49m\n\u001b[32m    296\u001b[39m         \u001b[38;5;28;01mif\u001b[39;00m fx < \u001b[38;5;28mself\u001b[39m._lowest_f:\n\u001b[32m    297\u001b[39m             \u001b[38;5;28mself\u001b[39m._lowest_x = \u001b[38;5;28mself\u001b[39m.x\n",
      "\u001b[36mFile \u001b[39m\u001b[32m~/Desktop/Technology/Quantum/IBM Qiskit/.venv/lib/python3.13/site-packages/scipy/optimize/_differentiable_functions.py:21\u001b[39m, in \u001b[36m_wrapper_fun.<locals>.wrapped\u001b[39m\u001b[34m(x)\u001b[39m\n\u001b[32m     17\u001b[39m ncalls[\u001b[32m0\u001b[39m] += \u001b[32m1\u001b[39m\n\u001b[32m     18\u001b[39m \u001b[38;5;66;03m# Send a copy because the user may overwrite it.\u001b[39;00m\n\u001b[32m     19\u001b[39m \u001b[38;5;66;03m# Overwriting results in undefined behaviour because\u001b[39;00m\n\u001b[32m     20\u001b[39m \u001b[38;5;66;03m# fun(self.x) will change self.x, with the two no longer linked.\u001b[39;00m\n\u001b[32m---> \u001b[39m\u001b[32m21\u001b[39m fx = \u001b[43mfun\u001b[49m\u001b[43m(\u001b[49m\u001b[43mnp\u001b[49m\u001b[43m.\u001b[49m\u001b[43mcopy\u001b[49m\u001b[43m(\u001b[49m\u001b[43mx\u001b[49m\u001b[43m)\u001b[49m\u001b[43m,\u001b[49m\u001b[43m \u001b[49m\u001b[43m*\u001b[49m\u001b[43margs\u001b[49m\u001b[43m)\u001b[49m\n\u001b[32m     22\u001b[39m \u001b[38;5;66;03m# Make sure the function returns a true scalar\u001b[39;00m\n\u001b[32m     23\u001b[39m \u001b[38;5;28;01mif\u001b[39;00m \u001b[38;5;129;01mnot\u001b[39;00m np.isscalar(fx):\n",
      "\u001b[36mCell\u001b[39m\u001b[36m \u001b[39m\u001b[32mIn[35]\u001b[39m\u001b[32m, line 18\u001b[39m, in \u001b[36mcost_func_vqe\u001b[39m\u001b[34m(params, ansatz, hamiltonian, estimator)\u001b[39m\n\u001b[32m      6\u001b[39m \u001b[38;5;250m    \u001b[39m\u001b[33;03m\"\"\"Return estimate of energy from estimator\u001b[39;00m\n\u001b[32m      7\u001b[39m \n\u001b[32m      8\u001b[39m \u001b[33;03m    Parameters:\u001b[39;00m\n\u001b[32m   (...)\u001b[39m\u001b[32m     15\u001b[39m \u001b[33;03m        float: Energy estimate\u001b[39;00m\n\u001b[32m     16\u001b[39m \u001b[33;03m    \"\"\"\u001b[39;00m\n\u001b[32m     17\u001b[39m     pub = (ansatz, hamiltonian, params)\n\u001b[32m---> \u001b[39m\u001b[32m18\u001b[39m     cost = \u001b[43mestimator\u001b[49m\u001b[43m.\u001b[49m\u001b[43mrun\u001b[49m\u001b[43m(\u001b[49m\u001b[43m[\u001b[49m\u001b[43mpub\u001b[49m\u001b[43m]\u001b[49m\u001b[43m)\u001b[49m.result()[\u001b[32m0\u001b[39m].data.evs\n\u001b[32m     19\u001b[39m \u001b[38;5;66;03m#    cost = estimator.run(ansatz, hamiltonian, parameter_values=params).result().values[0]\u001b[39;00m\n\u001b[32m     20\u001b[39m     \u001b[38;5;28;01mreturn\u001b[39;00m cost\n",
      "\u001b[36mFile \u001b[39m\u001b[32m~/Desktop/Technology/Quantum/IBM Qiskit/.venv/lib/python3.13/site-packages/qiskit/primitives/statevector_estimator.py:140\u001b[39m, in \u001b[36mStatevectorEstimator.run\u001b[39m\u001b[34m(self, pubs, precision)\u001b[39m\n\u001b[32m    138\u001b[39m \u001b[38;5;28;01mif\u001b[39;00m precision \u001b[38;5;129;01mis\u001b[39;00m \u001b[38;5;28;01mNone\u001b[39;00m:\n\u001b[32m    139\u001b[39m     precision = \u001b[38;5;28mself\u001b[39m._default_precision\n\u001b[32m--> \u001b[39m\u001b[32m140\u001b[39m coerced_pubs = [\u001b[43mEstimatorPub\u001b[49m\u001b[43m.\u001b[49m\u001b[43mcoerce\u001b[49m\u001b[43m(\u001b[49m\u001b[43mpub\u001b[49m\u001b[43m,\u001b[49m\u001b[43m \u001b[49m\u001b[43mprecision\u001b[49m\u001b[43m)\u001b[49m \u001b[38;5;28;01mfor\u001b[39;00m pub \u001b[38;5;129;01min\u001b[39;00m pubs]\n\u001b[32m    142\u001b[39m job = PrimitiveJob(\u001b[38;5;28mself\u001b[39m._run, coerced_pubs)\n\u001b[32m    143\u001b[39m job._submit()\n",
      "\u001b[36mFile \u001b[39m\u001b[32m~/Desktop/Technology/Quantum/IBM Qiskit/.venv/lib/python3.13/site-packages/qiskit/primitives/containers/estimator_pub.py:155\u001b[39m, in \u001b[36mEstimatorPub.coerce\u001b[39m\u001b[34m(cls, pub, precision)\u001b[39m\n\u001b[32m    153\u001b[39m     \u001b[38;5;28;01mif\u001b[39;00m \u001b[38;5;129;01mnot\u001b[39;00m \u001b[38;5;28misinstance\u001b[39m(values, (BindingsArray, Mapping)):\n\u001b[32m    154\u001b[39m         values = {\u001b[38;5;28mtuple\u001b[39m(circuit.parameters): values}\n\u001b[32m--> \u001b[39m\u001b[32m155\u001b[39m     parameter_values = \u001b[43mBindingsArray\u001b[49m\u001b[43m.\u001b[49m\u001b[43mcoerce\u001b[49m\u001b[43m(\u001b[49m\u001b[43mvalues\u001b[49m\u001b[43m)\u001b[49m\n\u001b[32m    156\u001b[39m \u001b[38;5;28;01melse\u001b[39;00m:\n\u001b[32m    157\u001b[39m     parameter_values = \u001b[38;5;28;01mNone\u001b[39;00m\n",
      "\u001b[36mFile \u001b[39m\u001b[32m~/Desktop/Technology/Quantum/IBM Qiskit/.venv/lib/python3.13/site-packages/qiskit/primitives/containers/bindings_array.py:302\u001b[39m, in \u001b[36mBindingsArray.coerce\u001b[39m\u001b[34m(cls, bindings_array)\u001b[39m\n\u001b[32m    300\u001b[39m     bindings_array = \u001b[38;5;28mcls\u001b[39m()\n\u001b[32m    301\u001b[39m \u001b[38;5;28;01melif\u001b[39;00m \u001b[38;5;28misinstance\u001b[39m(bindings_array, _Mapping):\n\u001b[32m--> \u001b[39m\u001b[32m302\u001b[39m     bindings_array = \u001b[38;5;28;43mcls\u001b[39;49m\u001b[43m(\u001b[49m\u001b[43mdata\u001b[49m\u001b[43m=\u001b[49m\u001b[43mbindings_array\u001b[49m\u001b[43m)\u001b[49m\n\u001b[32m    303\u001b[39m \u001b[38;5;28;01melif\u001b[39;00m \u001b[38;5;28misinstance\u001b[39m(bindings_array, BindingsArray):\n\u001b[32m    304\u001b[39m     \u001b[38;5;28;01mreturn\u001b[39;00m bindings_array\n",
      "\u001b[36mFile \u001b[39m\u001b[32m~/Desktop/Technology/Quantum/IBM Qiskit/.venv/lib/python3.13/site-packages/qiskit/primitives/containers/bindings_array.py:132\u001b[39m, in \u001b[36mBindingsArray.__init__\u001b[39m\u001b[34m(self, data, shape)\u001b[39m\n\u001b[32m    129\u001b[39m \u001b[38;5;28mself\u001b[39m._shape = _infer_shape(\u001b[38;5;28mself\u001b[39m._data) \u001b[38;5;28;01mif\u001b[39;00m shape \u001b[38;5;129;01mis\u001b[39;00m \u001b[38;5;28;01mNone\u001b[39;00m \u001b[38;5;28;01melse\u001b[39;00m shape_tuple(shape)\n\u001b[32m    130\u001b[39m \u001b[38;5;28mself\u001b[39m._num_parameters = \u001b[38;5;28;01mNone\u001b[39;00m\n\u001b[32m--> \u001b[39m\u001b[32m132\u001b[39m \u001b[38;5;28;43mself\u001b[39;49m\u001b[43m.\u001b[49m\u001b[43mvalidate\u001b[49m\u001b[43m(\u001b[49m\u001b[43m)\u001b[49m\n",
      "\u001b[36mFile \u001b[39m\u001b[32m~/Desktop/Technology/Quantum/IBM Qiskit/.venv/lib/python3.13/site-packages/qiskit/primitives/containers/bindings_array.py:314\u001b[39m, in \u001b[36mBindingsArray.validate\u001b[39m\u001b[34m(self)\u001b[39m\n\u001b[32m    312\u001b[39m val = \u001b[38;5;28mself\u001b[39m._data[parameters] = _standardize_shape(val, \u001b[38;5;28mself\u001b[39m._shape)\n\u001b[32m    313\u001b[39m \u001b[38;5;28;01mif\u001b[39;00m \u001b[38;5;28mlen\u001b[39m(parameters) != val.shape[-\u001b[32m1\u001b[39m]:\n\u001b[32m--> \u001b[39m\u001b[32m314\u001b[39m     \u001b[38;5;28;01mraise\u001b[39;00m \u001b[38;5;167;01mValueError\u001b[39;00m(\n\u001b[32m    315\u001b[39m         \u001b[33mf\u001b[39m\u001b[33m\"\u001b[39m\u001b[33mLength of \u001b[39m\u001b[38;5;132;01m{\u001b[39;00mparameters\u001b[38;5;132;01m}\u001b[39;00m\u001b[33m inconsistent with last dimension of \u001b[39m\u001b[38;5;132;01m{\u001b[39;00mval\u001b[38;5;132;01m}\u001b[39;00m\u001b[33m\"\u001b[39m\n\u001b[32m    316\u001b[39m     )\n",
      "\u001b[31mValueError\u001b[39m: Length of ('θ[0]', 'θ[1]', 'θ[2]', 'θ[3]', 'θ[4]', 'θ[5]', 'θ[6]', 'θ[7]', 'θ[8]', 'θ[9]', 'θ[10]', 'θ[11]', 'θ[12]', 'θ[13]', 'θ[14]', 'θ[15]') inconsistent with last dimension of [0. 0. 0. 0. 0. 0. 0. 0.]"
     ]
    }
   ],
   "source": [
    "# SciPy minimizer routine\n",
    "from scipy.optimize import minimize\n",
    "import time\n",
    "\n",
    "start_time = time.time()\n",
    "\n",
    "result = minimize(cost_func_vqe, x0, args=(chem_ansatz, H2_op, estimator), method=\"COBYLA\")\n",
    "\n",
    "end_time = time.time()\n",
    "execution_time = end_time - start_time\n",
    "\n",
    "result"
   ]
  },
  {
   "cell_type": "markdown",
   "id": "0ed06fa3",
   "metadata": {},
   "source": [
    "The minimum value of the cost function (-1.857...) is the ground state energy of the H2 molecule, in units of hartrees."
   ]
  },
  {
   "cell_type": "markdown",
   "id": "fdace1db",
   "metadata": {},
   "source": [
    "### Excited States\n",
    "\n",
    "We can also leverage VQD to solve for $k=2$ total states (the ground state and the first excited state).\n"
   ]
  },
  {
   "cell_type": "code",
   "execution_count": 39,
   "id": "d5234068",
   "metadata": {},
   "outputs": [],
   "source": [
    "from qiskit.quantum_info import SparsePauliOp\n",
    "import numpy as np\n",
    "\n",
    "k = 2\n",
    "betas = [33, 33]\n",
    "#x0 = np.zeros(ansatz.num_parameters)\n",
    "x0=[ 1.164e+00, -2.438e-01,  9.358e-04,  6.745e-02,  1.990e+00,   9.810e-02,  6.154e-01,  5.454e-01]"
   ]
  },
  {
   "cell_type": "code",
   "execution_count": 40,
   "id": "564de045",
   "metadata": {},
   "outputs": [
    {
     "name": "stdout",
     "output_type": "stream",
     "text": [
      " message: Optimization terminated successfully.\n",
      " success: True\n",
      "  status: 1\n",
      "     fun: -1.857266808049185\n",
      "       x: [ 1.164e+00 -2.434e-01  8.477e-04  6.731e-02  1.989e+00\n",
      "            9.870e-02  6.153e-01  5.453e-01]\n",
      "    nfev: 50\n",
      "   maxcv: 0.0\n",
      " message: Optimization terminated successfully.\n",
      " success: True\n",
      "  status: 1\n",
      "     fun: -1.0626367383783342\n",
      "       x: [ 2.558e+00  1.287e+00  1.082e+00 -4.870e-01  3.417e+00\n",
      "            1.351e+00  6.752e-01  2.583e-01]\n",
      "    nfev: 129\n",
      "   maxcv: 0.0\n"
     ]
    }
   ],
   "source": [
    "# We'll add our overlap calculation:\n",
    "from scipy.optimize import minimize\n",
    "\n",
    "prev_states = []\n",
    "prev_opt_parameters = []\n",
    "eigenvalues = []\n",
    "\n",
    "realbackend = 0\n",
    "\n",
    "for step in range(1, k + 1):\n",
    "    \n",
    "    if step > 1:\n",
    "        prev_states.append(ansatz.assign_parameters(prev_opt_parameters))\n",
    "    \n",
    "    result = minimize(cost_func_vqd, x0, args=(ansatz, prev_states, step, betas, estimator, sampler, H2_op, realbackend, None), method=\"COBYLA\", options = {'tol': 0.001, 'maxiter': 2000})\n",
    "    print(result)\n",
    "\n",
    "    prev_opt_parameters = result.x\n",
    "    eigenvalues.append(result.fun)"
   ]
  },
  {
   "cell_type": "code",
   "execution_count": 41,
   "id": "4d2b0ee0",
   "metadata": {},
   "outputs": [
    {
     "data": {
      "text/plain": [
       "[np.float64(-1.857266808049185), np.float64(-1.0626367383783342)]"
      ]
     },
     "execution_count": 41,
     "metadata": {},
     "output_type": "execute_result"
    }
   ],
   "source": [
    "eigenvalues"
   ]
  },
  {
   "cell_type": "markdown",
   "id": "d41e2954",
   "metadata": {},
   "source": [
    "### Real Hardware and a Final Cautionary Message\n",
    "\n",
    "To run this on real hardware, we must optimize the quantum circuits for our quantum computer of choice. For our purposes here, we will simply use the least-busy backend.\n"
   ]
  },
  {
   "cell_type": "code",
   "execution_count": null,
   "id": "f17b2a54",
   "metadata": {},
   "outputs": [],
   "source": [
    "from qiskit_ibm_runtime import SamplerV2 as Sampler\n",
    "from qiskit_ibm_runtime import EstimatorV2 as Estimator\n",
    "from qiskit_ibm_runtime import Session, EstimatorOptions\n",
    "from qiskit_ibm_runtime import QiskitRuntimeService\n",
    "\n",
    "\n",
    "service = QiskitRuntimeService(channel='ibm_quantum')\n",
    "backend = service.least_busy(operational=True, simulator=False)"
   ]
  },
  {
   "cell_type": "code",
   "execution_count": null,
   "id": "d5a56160",
   "metadata": {},
   "outputs": [],
   "source": [
    "# We will use a preset pass manager for transpilation, and we will maximally optimize our circuit using optimization level 3.\n",
    "from qiskit.transpiler.preset_passmanagers import generate_preset_pass_manager\n",
    "\n",
    "pm = generate_preset_pass_manager(backend=backend, optimization_level=3)\n",
    "isa_ansatz = pm.run(ansatz)\n",
    "isa_observable = H2_op.apply_layout(layout = isa_ansatz.layout)"
   ]
  },
  {
   "cell_type": "markdown",
   "id": "e87187bb",
   "metadata": {},
   "source": [
    "Because VQD is highly iterative, we will carry out all steps inside a Runtime session, such that our jobs will only be queued at the beginning, and not between every parameter update. Nothing else changes about the syntax for the cost function or estimator."
   ]
  },
  {
   "cell_type": "code",
   "execution_count": 42,
   "id": "1eacb15c",
   "metadata": {},
   "outputs": [],
   "source": [
    "x0=[ 1.306e+00, -2.284e-01,  6.913e-02, -2.530e-02,  1.849e+00,\n",
    "            7.433e-02,  6.366e-01,  5.600e-01]"
   ]
  },
  {
   "cell_type": "code",
   "execution_count": 43,
   "id": "915ce5a2",
   "metadata": {},
   "outputs": [
    {
     "ename": "NameError",
     "evalue": "name 'backend' is not defined",
     "output_type": "error",
     "traceback": [
      "\u001b[31m---------------------------------------------------------------------------\u001b[39m",
      "\u001b[31mNameError\u001b[39m                                 Traceback (most recent call last)",
      "\u001b[36mCell\u001b[39m\u001b[36m \u001b[39m\u001b[32mIn[43]\u001b[39m\u001b[32m, line 14\u001b[39m\n\u001b[32m      7\u001b[39m realbackend = \u001b[32m1\u001b[39m\n\u001b[32m      9\u001b[39m estimator_options = EstimatorOptions(\n\u001b[32m     10\u001b[39m     resilience_level=\u001b[32m1\u001b[39m,\n\u001b[32m     11\u001b[39m     default_shots = \u001b[32m4096\u001b[39m\n\u001b[32m     12\u001b[39m )\n\u001b[32m---> \u001b[39m\u001b[32m14\u001b[39m \u001b[38;5;28;01mwith\u001b[39;00m Session(backend=\u001b[43mbackend\u001b[49m) \u001b[38;5;28;01mas\u001b[39;00m session:\n\u001b[32m     16\u001b[39m     estimator = Estimator(mode=session)\n\u001b[32m     17\u001b[39m     sampler = Sampler(mode = session)\n",
      "\u001b[31mNameError\u001b[39m: name 'backend' is not defined"
     ]
    }
   ],
   "source": [
    "#Estimated hardware usage: 20 min benchmarked on ibm_nazca on 5-30-24\n",
    "\n",
    "real_prev_states = []\n",
    "real_prev_opt_parameters = []\n",
    "real_eigenvalues = []\n",
    "\n",
    "realbackend = 1\n",
    "\n",
    "estimator_options = EstimatorOptions(\n",
    "    resilience_level=1,\n",
    "    default_shots = 4096\n",
    ")\n",
    "\n",
    "with Session(backend=backend) as session:\n",
    "\n",
    "    estimator = Estimator(mode=session)\n",
    "    sampler = Sampler(mode = session)\n",
    "    \n",
    "    for step in range(1, k + 1):\n",
    "    \n",
    "        if step > 1:\n",
    "            real_prev_states.append(isa_ansatz.assign_parameters(real_prev_opt_parameters))\n",
    "    \n",
    "        result = minimize(cost_func_vqd, x0, args=(isa_ansatz, real_prev_states, step, betas, estimator, sampler, isa_observable, realbackend, backend), method=\"COBYLA\", options = {'tol': 0.001, 'maxiter':300})\n",
    "        print(result)\n",
    "\n",
    "        real_prev_opt_parameters = result.x\n",
    "        real_eigenvalues.append(result.fun)\n",
    "\n",
    "session.close()\n",
    "print(real_eigenvalues)"
   ]
  },
  {
   "cell_type": "markdown",
   "id": "70401c6e",
   "metadata": {},
   "source": [
    "The ground state energy obtained (-1.83 hartrees) is not too far from the correct value (-1.85 hartrees). However, the excited state energy is quite a bit off. This is similar to the erroneous behavior we saw earlier in this lesson. The energy reported for the excited state is nearly the same as that for the ground state. In the previous case, we even saw an excited state energy that was lower than the reported ground state energy.\n",
    "\n",
    "It is not possible for a variational calculation to yield an energy that is lower than the true ground state energy. In the earlier instance, the ground state energy we obtained was not very close to the true ground state. Since we did not obtain the true ground state energy in that case, there is no contradiction. In the present case, the ground state energy was fairly close to the correct value, and yet the excited state energy seems strangely close to that same value.\n",
    "\n",
    "To understand better how this happened, recall that the way we find an excited state is by requiring that the variational state be orthogonal to the ground state (using the overlap circuits and penalty terms). If we fail to obtain an accurate ground state energy (or are off by a few percent), then we also fail to obtain an accurate ground state vector! So when we require that the excited state be orthogonal to the first state we found, we were not imposing orthogonality with the true ground state, but rather with some approximation of it (sometimes a poor approximation of it). Thus, the excited state was not forced to be orthogonal to the true ground state, and our energy estimates for the excited states were actually quite close to the ground state energy.\n",
    "\n",
    "This will always be a concern in VQD. But in principle, this can be corrected by increasing the maximum number of iterations for the classical optimizer, imposing lower tolerance for the classical optimizer, and possibly also trying a different ansatz if we are habitually missing the true ground state. As we have seen, one may also need to modify the overlap penalties (betas). But that is really a separate issue. No penalty for overlap will keep you away from the true ground state, if you haven't found a very good estimate of the true ground state for the overlap circuit."
   ]
  },
  {
   "cell_type": "markdown",
   "id": "b8d8a810",
   "metadata": {},
   "source": [
    "## Optimization: Max-Cut\n",
    "\n",
    "The maximum cut (Max-Cut) problem is a combinatorial optimization problem that involves dividing the vertices of a graph into two disjoint sets such that the number of edges between the two sets is maximized. More formally, given an undirected graph \n",
    "$G = (V, E)$, where $V$ is the set of vertices and $E$ is the set of edges, the Max-Cut problem asks to partition the vertices into two disjoint subsets, $S$ and $T$, such that the number of edges with one endpoint in $S$ and the other in $T$ is maximized.\n",
    "\n",
    "We can apply Max-Cut to solve a various problems including: clustering, network design, phase transitions, etc. We’ll start by creating a problem graph:\n",
    "\n"
   ]
  },
  {
   "cell_type": "code",
   "execution_count": 44,
   "id": "3f0a1fb8",
   "metadata": {},
   "outputs": [
    {
     "data": {
      "image/png": "[encoded data removed]",
      "text/plain": [
       "<Figure size 640x480 with 1 Axes>"
      ]
     },
     "metadata": {},
     "output_type": "display_data"
    }
   ],
   "source": [
    "import rustworkx as rx\n",
    "from rustworkx.visualization import mpl_draw\n",
    "\n",
    "n = 4\n",
    "G = rx.PyGraph()\n",
    "G.add_nodes_from(range(n))\n",
    "# The edge syntax is (start, end, weight)\n",
    "edges = [(0, 1, 1.0), (0, 2, 1.0), (0, 3, 1.0), (1, 2, 1.0), (2, 3, 1.0)]\n",
    "G.add_edges_from(edges)\n",
    "\n",
    "mpl_draw(G, pos=rx.shell_layout(G), with_labels=True, edge_labels=str, node_color=\"#1192E8\")"
   ]
  },
  {
   "cell_type": "markdown",
   "id": "551c8f18",
   "metadata": {},
   "source": [
    "This problem can be expressed as a binary optimization problem. For each node $0 \\leq i < n$, where $n$ is the number of nodes of the graph (in this case $n=4$), we will consider the binary variable $x_i$. This variable will have the value 1 if node $i$ is in one of the groups that we’ll label 1 and 0 if it’s in the other group, that we’ll label as 0. We will also denote as $w_{ij}$ (element $(i, j)$ of the adjacency matrix $w$) the weight of the edge that goes from node $i$ to node $j$. Because the graph is undirected, $w_{ij} = w_{ji}$. Then we can formulate our problem as maximizing the following cost function:\n",
    "\n",
    "$$\n",
    "\\begin{aligned}\n",
    "C(\\vec{x}) &= \\sum_{i,j=0}^{n} w_{ij} x_i(1 - x_j) \\\\\n",
    "&= \\sum_{i,j=0}^{n} w_{ij} x_i - \\sum_{i,j=0}^{n} w_{ij} x_i x_j \\\\\n",
    "&= \\sum_{i=0}^{n} w_{ij} x_i - \\sum_{i=0}^{n} \\sum_{j=0}^{i} 2w_{ij} x_i x_j\n",
    "\\end{aligned}\n",
    "$$\n",
    "\n",
    "To solve this problem with a quantum computer, we are going to express the cost function as the expected value of an observable. However, the observables that Qiskit admits natively consist of Pauli operators, that have eigenvalues 1 and -1 instead of 0 and 1. That’s why we are going to make the following change of variable:\n",
    "\n",
    "Where $\\vec{x} = (x_0, x_1, \\cdots, x_{n-1})$. We can use the adjacency matrix $w$ to comfortably access the weights of all the edges. This will be used to obtain our cost function:\n",
    "\n",
    "$$\n",
    "z_i = 1 - 2x_i \\Rightarrow x_i = \\frac{1 - z_i}{2}\n",
    "$$\n",
    "\n",
    "This implies that:\n",
    "\n",
    "$$\n",
    "\\begin{aligned}\n",
    "x_i = 0 &\\Rightarrow z_i = 1 \\\\\n",
    "x_i = 1 &\\Rightarrow z_i = -1\n",
    "\\end{aligned}\n",
    "$$\n",
    "\n",
    "So the new cost function we want to maximize is:\n",
    "\n",
    "$$\n",
    "\\begin{aligned}\n",
    "C(\\vec{z}) &= \\sum_{i,j=0}^{n} w_{ij} \\left(\\frac{1 - z_i}{2}\\right)\\left(\\frac{1 - z_j}{2}\\right) \\\\\n",
    "&= \\sum_{i,j=0}^{n} \\frac{w_{ij}}{4} - \\sum_{i,j=0}^{n} \\frac{w_{ij}}{4} z_i z_j \\\\\n",
    "&= \\sum_{i=0}^{n} \\sum_{j=0}^{n} \\frac{w_{ij}}{2} - \\sum_{i=0}^{n} \\sum_{j=0}^{i} \\frac{w_{ij}}{2} z_i z_j\n",
    "\\end{aligned}\n",
    "$$\n",
    "\n",
    "Moreover, the natural tendency of a quantum computer is to find minima (usually the lowest energy) instead of maxima, so instead of maximizing $C(\\vec{z})$ we are going to minimize:\n",
    "\n",
    "$$\n",
    "-C(\\vec{z}) = \\sum_{i=0}^{n} \\sum_{j=0}^{n} \\frac{w_{ij}}{2} z_i z_j - \\sum_{i=0}^{n} \\sum_{j=0}^{n} \\frac{w_{ij}}{2}\n",
    "$$\n",
    "\n",
    "Now that we have a cost function to minimize whose variables can have the values $-1$ and $1$, we can make the following analogy with the Pauli $Z$:\n",
    "\n",
    "$$\n",
    "z_i = Z_i = \\underbrace{I \\otimes \\cdots \\otimes Z}_{i} \\otimes \\cdots \\otimes I\n",
    "$$\n",
    "\n",
    "In other words, the variable $z_i$ will be equivalent to a $Z$ gate acting on qubit $i$. Moreover:\n",
    "\n",
    "$$\n",
    "Z_i |x_{n-1} \\cdots x_0\\rangle = z_i |x_{n-1} \\cdots x_0\\rangle \\Rightarrow \\langle x_{n-1} \\cdots x_0| Z_i |x_{n-1} \\cdots x_0\\rangle = z_i\n",
    "$$\n",
    "\n",
    "Then the observable we are going to consider is:\n",
    "\n",
    "$$\n",
    "\\hat{H} = \\sum_{i=0}^{n} \\sum_{j=0}^{i} \\frac{w_{ij}}{2} Z_i Z_j\n",
    "$$\n",
    "\n",
    "to which we will have to add the independent term afterwards:\n",
    "\n",
    "$$\n",
    "\\texttt{offset} = - \\sum_{i=0}^{n} \\sum_{j=0}^{i} \\frac{w_{ij}}{2}\n",
    "$$\n",
    "\n",
    "The operator is a linear combination of terms with $Z$ operators on nodes connected by an edge (recall that the 0th qubit is farthest right):  \n",
    "$IIZZ + IZIZ + IZZI + ZIIZ + ZZII$.\n",
    "\n",
    "Once the operator is constructed, the ansatz for the QAOA algorithm can easily be built by using the `QAOAAnsatz` circuit from the Qiskit circuit library.\n"
   ]
  },
  {
   "cell_type": "code",
   "execution_count": 45,
   "id": "576fed25",
   "metadata": {},
   "outputs": [
    {
     "data": {
      "image/png": "[encoded data removed]",
      "text/plain": [
       "<Figure size 2210.55x785.944 with 1 Axes>"
      ]
     },
     "execution_count": 45,
     "metadata": {},
     "output_type": "execute_result"
    }
   ],
   "source": [
    "from qiskit.circuit.library import QAOAAnsatz\n",
    "from qiskit.quantum_info import SparsePauliOp\n",
    "\n",
    "max_hamiltonian = SparsePauliOp.from_list([\n",
    "    (\"IIZZ\", 1), (\"IZIZ\", 1), (\"IZZI\", 1), (\"ZIIZ\", 1), (\"ZZII\", 1)\n",
    "])\n",
    "\n",
    "\n",
    "max_ansatz = QAOAAnsatz(max_hamiltonian, reps=2)\n",
    "# Draw\n",
    "max_ansatz.decompose(reps=3).draw(\"mpl\")"
   ]
  },
  {
   "cell_type": "code",
   "execution_count": 46,
   "id": "037566bd",
   "metadata": {},
   "outputs": [
    {
     "name": "stdout",
     "output_type": "stream",
     "text": [
      "Offset: -2.5\n"
     ]
    }
   ],
   "source": [
    "# Sum the weights, and divide by 2\n",
    "\n",
    "offset = - sum(edge[2] for edge in edges) / 2\n",
    "print(f\"\"\"Offset: {offset}\"\"\")"
   ]
  },
  {
   "cell_type": "code",
   "execution_count": 47,
   "id": "b56d9476",
   "metadata": {},
   "outputs": [],
   "source": [
    "def cost_func(params, ansatz, hamiltonian, estimator):\n",
    "    \"\"\"Return estimate of energy from estimator\n",
    "\n",
    "    Parameters:\n",
    "        params (ndarray): Array of ansatz parameters\n",
    "        ansatz (QuantumCircuit): Parameterized ansatz circuit\n",
    "        hamiltonian (SparsePauliOp): Operator representation of Hamiltonian\n",
    "        estimator (Estimator): Estimator primitive instance\n",
    "\n",
    "    Returns:\n",
    "        float: Energy estimate\n",
    "    \"\"\"\n",
    "    pub = (ansatz, hamiltonian, params)\n",
    "    cost = estimator.run([pub]).result()[0].data.evs\n",
    "#    cost = estimator.run(ansatz, hamiltonian, parameter_values=params).result().values[0]\n",
    "    return cost"
   ]
  },
  {
   "cell_type": "code",
   "execution_count": null,
   "id": "bbe20da9",
   "metadata": {},
   "outputs": [
    {
     "name": "stdout",
     "output_type": "stream",
     "text": [
      "[3.46221579 5.10882197 0.03075299 5.04413676]\n"
     ]
    }
   ],
   "source": [
    "# We now set an initial set of random parameters:\n",
    "import numpy as np\n",
    "\n",
    "x0 = 2 * np.pi * np.random.rand(max_ansatz.num_parameters)\n",
    "print(x0)"
   ]
  },
  {
   "cell_type": "markdown",
   "id": "60dacbdf",
   "metadata": {},
   "source": [
    "Any classical optimizer can be used to minimize the cost function. On a real quantum system, an optimizer designed for non-smooth cost function landscapes usually does better. Here we use the COBYLA routine from SciPy via the minimize function.\n",
    "\n",
    "Because we are iteratively executing many calls to Runtime, we make use of a Session in order to execute all calls within a single block. Moreover, for QAOA, the solution is encoded in the output distribution of the ansatz circuit bound with the optimal parameters from the minimization. Therefore, we will need a Sampler primitive as well, and will instantiate it with the same Session\n",
    "\n",
    "And run our minimization routine:"
   ]
  },
  {
   "cell_type": "code",
   "execution_count": 49,
   "id": "f97c94aa",
   "metadata": {},
   "outputs": [
    {
     "name": "stdout",
     "output_type": "stream",
     "text": [
      " message: Optimization terminated successfully.\n",
      " success: True\n",
      "  status: 1\n",
      "     fun: -1.8698124695764218\n",
      "       x: [ 4.481e+00  4.901e+00  3.137e-01  5.475e+00]\n",
      "    nfev: 204\n",
      "   maxcv: 0.0\n"
     ]
    }
   ],
   "source": [
    "result = minimize(cost_func, x0, args=(max_ansatz, max_hamiltonian, estimator), method=\"COBYLA\")\n",
    "print(result)"
   ]
  },
  {
   "cell_type": "markdown",
   "id": "499d1bbf",
   "metadata": {},
   "source": [
    "The solution vector of parameter angles ( x ), when plugged into the ansatz circuit, yields the graph partitioning that we were looking for."
   ]
  },
  {
   "cell_type": "code",
   "execution_count": 50,
   "id": "5260b87a",
   "metadata": {},
   "outputs": [
    {
     "name": "stdout",
     "output_type": "stream",
     "text": [
      "Eigenvalue: -1.8698124695764218\n",
      "Max-Cut Objective: -4.369812469576422\n"
     ]
    }
   ],
   "source": [
    "eigenvalue = cost_func(result.x, max_ansatz, max_hamiltonian, estimator)\n",
    "print(f\"\"\"Eigenvalue: {eigenvalue}\"\"\")\n",
    "print(f\"\"\"Max-Cut Objective: {eigenvalue + offset}\"\"\")"
   ]
  },
  {
   "cell_type": "code",
   "execution_count": 51,
   "id": "ae8307de",
   "metadata": {},
   "outputs": [],
   "source": [
    "from qiskit.result import QuasiDistribution\n",
    "from qiskit.primitives import StatevectorSampler\n",
    "sampler = StatevectorSampler()\n",
    "\n",
    "# Assign solution parameters to ansatz\n",
    "qc = max_ansatz.assign_parameters(result.x)\n",
    "\n",
    "# Add measurements to our circuit\n",
    "qc.measure_all()\n",
    "\n",
    "# Sample ansatz at optimal parameters\n",
    "#samp_dist = sampler.run(qc).result().quasi_dists[0]\n",
    "\n",
    "shots = 1024\n",
    "job = sampler.run([qc], shots = shots)"
   ]
  },
  {
   "cell_type": "code",
   "execution_count": 52,
   "id": "6fb8e194",
   "metadata": {},
   "outputs": [
    {
     "data": {
      "image/png": "[encoded data removed]",
      "text/plain": [
       "<Figure size 2252.61x953.167 with 1 Axes>"
      ]
     },
     "execution_count": 52,
     "metadata": {},
     "output_type": "execute_result"
    }
   ],
   "source": [
    "qc.decompose().draw('mpl')"
   ]
  },
  {
   "cell_type": "code",
   "execution_count": 53,
   "id": "7596ebf6",
   "metadata": {},
   "outputs": [
    {
     "ename": "NameError",
     "evalue": "name 'session' is not defined",
     "output_type": "error",
     "traceback": [
      "\u001b[31m---------------------------------------------------------------------------\u001b[39m",
      "\u001b[31mNameError\u001b[39m                                 Traceback (most recent call last)",
      "\u001b[36mCell\u001b[39m\u001b[36m \u001b[39m\u001b[32mIn[53]\u001b[39m\u001b[32m, line 8\u001b[39m\n\u001b[32m      5\u001b[39m probabilities = quasi_dist\n\u001b[32m      7\u001b[39m \u001b[38;5;66;03m# Close the session since we are now done with it\u001b[39;00m\n\u001b[32m----> \u001b[39m\u001b[32m8\u001b[39m \u001b[43msession\u001b[49m.close()\n",
      "\u001b[31mNameError\u001b[39m: name 'session' is not defined"
     ]
    }
   ],
   "source": [
    "data_pub = job.result()[0].data\n",
    "bitstrings = data_pub.meas.get_bitstrings()\n",
    "counts = data_pub.meas.get_counts()\n",
    "quasi_dist = QuasiDistribution({outcome: freq / shots for outcome, freq in counts.items()})\n",
    "probabilities = quasi_dist\n",
    "\n",
    "# Close the session since we are now done with it\n",
    "session.close()"
   ]
  },
  {
   "cell_type": "code",
   "execution_count": 54,
   "id": "55bb1da2",
   "metadata": {},
   "outputs": [
    {
     "data": {
      "image/png": "[encoded data removed]",
      "text/plain": [
       "<Figure size 700x500 with 1 Axes>"
      ]
     },
     "execution_count": 54,
     "metadata": {},
     "output_type": "execute_result"
    }
   ],
   "source": [
    "from qiskit.visualization import plot_distribution\n",
    "plot_distribution(counts)"
   ]
  },
  {
   "cell_type": "code",
   "execution_count": 55,
   "id": "8de8e391",
   "metadata": {},
   "outputs": [
    {
     "data": {
      "image/png": "[encoded data removed]",
      "text/plain": [
       "<Figure size 640x480 with 1 Axes>"
      ]
     },
     "metadata": {},
     "output_type": "display_data"
    }
   ],
   "source": [
    "binary_string = max(counts.items(), key=lambda kv: kv[1])[0]\n",
    "x = np.asarray([int(y) for y in reversed(list(binary_string))])\n",
    "\n",
    "colors = [\"r\" if x[i] == 0 else \"c\" for i in range(n)]\n",
    "mpl_draw(G, pos=rx.shell_layout(G), with_labels=True, edge_labels=str, node_color=colors)"
   ]
  },
  {
   "cell_type": "markdown",
   "id": "6386b4b4",
   "metadata": {},
   "source": [
    "## Summary\n",
    "\n",
    "With this lesson, you have learned:\n",
    "\n",
    "- How to write a custom variational algorithm\n",
    "- How to apply a variational algorithm to find minimum eigenvalues\n",
    "- How to utilize variational algorithms to solve application use cases"
   ]
  }
 ],
 "metadata": {
  "kernelspec": {
   "display_name": ".venv",
   "language": "python",
   "name": "python3"
  },
  "language_info": {
   "codemirror_mode": {
    "name": "ipython",
    "version": 3
   },
   "file_extension": ".py",
   "mimetype": "text/x-python",
   "name": "python",
   "nbconvert_exporter": "python",
   "pygments_lexer": "ipython3",
   "version": "3.13.3"
  }
 },
 "nbformat": 4,
 "nbformat_minor": 5
}
