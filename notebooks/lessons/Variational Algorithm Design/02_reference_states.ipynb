{
 "cells": [
  {
   "cell_type": "markdown",
   "id": "40b16789",
   "metadata": {},
   "source": [
    "# Reference States\n",
    "\n",
    "In this lesson, we will explore how we can initialize our system with a reference state to help our variational algorithm converge faster. First, we will learn how to construct a reference state manually, and then explore several standard options that can be used in a variational algorithm.\n",
    "\n",
    "## Table of Contents\n",
    "\n",
    "1. [Default State](#default-state)  \n",
    "2. [Classical Reference State](#classical-reference-state)  \n",
    "3. [Quantum Reference State](#quantum-reference-state)  \n",
    "4. [Constructing Reference States Using Template Circuits](#constructing-reference-states-using-template-circuits)  \n",
    "5. [Application-specific Reference States](#application-specific-reference-states)  \n",
    "6. [Quantum Machine Learning](#quantum-machine-learning)  \n",
    "7. [Summary](#summary)\n"
   ]
  },
  {
   "cell_type": "markdown",
   "id": "5e64803c",
   "metadata": {},
   "source": [
    "## Default State\n",
    "\n",
    "A *reference state* refers to the initial fixed start for our problem. To prepare a reference state, we need to apply the appropriate, non-parametrized unitary $U_R$ at the start of our quantum circuit, such that $|\\rho\\rangle = U_R |0\\rangle$. If you have an educated guess or datapoint from an existing optimal solution, the variational algorithm will likely converge faster if you use that as a starting point.\n",
    "\n",
    "The simplest possible reference state is the default state, where we use the starting state of an $n$-qubit quantum circuit: $|0\\rangle^{\\otimes n}$. For the default state, our unitary operator $U_R \\equiv I$. Due to its simplicity, the default state is a valid reference state used in many scenarios."
   ]
  },
  {
   "cell_type": "markdown",
   "id": "a52471f9",
   "metadata": {},
   "source": [
    "## Classical Reference State\n",
    "\n",
    "Suppose you have a 3-qubit system and you want to start in the state $|001\\rangle$ instead of the default state $|000\\rangle$. This is an example of a purely classical reference state, and to construct it, you simply need to apply an X gate to qubit 0 (following Qiskit's qubit ordering), as $|001\\rangle = X_0 |000\\rangle$.\n",
    "\n",
    "In this case, our unitary operator is $U_R \\equiv X_0$, which leads to the reference state $|\\rho\\rangle \\equiv |001\\rangle$.\n"
   ]
  },
  {
   "cell_type": "code",
   "execution_count": 1,
   "id": "fed2c4a4",
   "metadata": {},
   "outputs": [
    {
     "data": {
      "image/png": "[encoded data removed]",
      "text/plain": [
       "<Figure size 203.885x284.278 with 1 Axes>"
      ]
     },
     "execution_count": 1,
     "metadata": {},
     "output_type": "execute_result"
    }
   ],
   "source": [
    "from qiskit import QuantumCircuit\n",
    "\n",
    "qc = QuantumCircuit(3)\n",
    "qc.x(0)\n",
    "\n",
    "qc.draw(\"mpl\")"
   ]
  },
  {
   "cell_type": "markdown",
   "id": "10103af6",
   "metadata": {},
   "source": [
    "## Quantum Reference State\n",
    "\n",
    "Suppose you aim to start with a more complex state that involves superposition and/or entanglement, such as $\\frac{1}{\\sqrt{2}} (|100\\rangle + |111\\rangle)$.\n",
    "\n",
    "To obtain this state from $|000\\rangle$, one approach is to use a Hadamard gate on qubit 0 ($H_0$), a CNOT (CX) gate with qubit 0 as the control qubit and qubit 1 as the target qubit ($CNOT_{01}$), and finally an $X$ gate applied to qubit 2 ($X_2$).\n",
    "\n",
    "In this scenario, our unitary operator is $U_R \\equiv X_2 CNOT_{01} H_0 |000\\rangle$, and our reference state is $|\\rho\\rangle \\equiv \\frac{1}{\\sqrt{2}} (|100\\rangle + |111\\rangle)$."
   ]
  },
  {
   "cell_type": "code",
   "execution_count": 2,
   "id": "81276d06",
   "metadata": {},
   "outputs": [
    {
     "data": {
      "image/png": "[encoded data removed]",
      "text/plain": [
       "<Figure size 287.496x284.278 with 1 Axes>"
      ]
     },
     "execution_count": 2,
     "metadata": {},
     "output_type": "execute_result"
    }
   ],
   "source": [
    "qc = QuantumCircuit(3)\n",
    "qc.h(0)\n",
    "qc.cx(0, 1)\n",
    "qc.x(2)\n",
    "\n",
    "qc.draw(\"mpl\")"
   ]
  },
  {
   "cell_type": "markdown",
   "id": "10b31a3d",
   "metadata": {},
   "source": [
    "## Constructing Reference States Using Template Circuits\n",
    "\n",
    "We can also use various template circuits, such as \n",
    "`TwoLocal` which allows for expressing multiple tunable parameters and entanglements with ease. We will cover these template circuits in more detail in the next lesson, but we can use them for our reference states if we bind the parameters.:\n"
   ]
  },
  {
   "cell_type": "code",
   "execution_count": 3,
   "id": "7a920a91",
   "metadata": {},
   "outputs": [
    {
     "data": {
      "image/png": "[encoded data removed]",
      "text/plain": [
       "<Figure size 370.906x200.667 with 1 Axes>"
      ]
     },
     "execution_count": 3,
     "metadata": {},
     "output_type": "execute_result"
    }
   ],
   "source": [
    "from qiskit.circuit.library import TwoLocal\n",
    "from math import pi\n",
    "\n",
    "reference_circuit = TwoLocal(2, \"rx\", \"cz\", entanglement=\"linear\", reps=1)\n",
    "theta_list = [pi / 2, pi / 3, pi / 3, pi / 2]\n",
    "\n",
    "reference_circuit = reference_circuit.assign_parameters(theta_list)\n",
    "\n",
    "reference_circuit.decompose().draw(\"mpl\")"
   ]
  },
  {
   "cell_type": "markdown",
   "id": "0838b28c",
   "metadata": {},
   "source": [
    "## Application-specific Reference States\n"
   ]
  },
  {
   "cell_type": "markdown",
   "id": "3c938d5c",
   "metadata": {},
   "source": [
    "## Quantum Machine Learning\n",
    "In the context of a variational quantum classifier (VQC), the training data is encoded into a quantum state with a parameterized circuit known as a feature map, where each parameter value represents a data point from the training dataset. The ZZFeatureMap is a type of parameterized circuit that can be utilized to pass our data points (x) to this feature map.\n"
   ]
  },
  {
   "cell_type": "code",
   "execution_count": 4,
   "id": "08acd88a",
   "metadata": {},
   "outputs": [
    {
     "data": {
      "image/png": "[encoded data removed]",
      "text/plain": [
       "<Figure size 956.183x200.667 with 1 Axes>"
      ]
     },
     "execution_count": 4,
     "metadata": {},
     "output_type": "execute_result"
    }
   ],
   "source": [
    "from qiskit.circuit.library import ZZFeatureMap\n",
    "\n",
    "data = [0.1, 0.2]\n",
    "\n",
    "zz_feature_map_reference = ZZFeatureMap(feature_dimension=2, reps=2)\n",
    "zz_feature_map_reference = zz_feature_map_reference.assign_parameters(data)\n",
    "zz_feature_map_reference.decompose().draw(\"mpl\")"
   ]
  },
  {
   "cell_type": "markdown",
   "id": "6278e826",
   "metadata": {},
   "source": [
    "## Summary\n",
    "\n",
    "With this lesson, you learned how to initialize your system using:\n",
    "\n",
    "- Default reference state\n",
    "- Classical reference states\n",
    "- Quantum reference states\n",
    "- Application-specific reference states\n",
    "\n",
    "Our high-level variational workload looks as follows:\n",
    "\n",
    "![alt text](../../../img/reference_circuit.svg)\n",
    "\n",
    "While reference states are fixed, initial starting points, we can use a variational form to define an ansatz to represent a collection of parametrized states for our variational algorithm to explore."
   ]
  }
 ],
 "metadata": {
  "kernelspec": {
   "display_name": ".venv",
   "language": "python",
   "name": "python3"
  },
  "language_info": {
   "codemirror_mode": {
    "name": "ipython",
    "version": 3
   },
   "file_extension": ".py",
   "mimetype": "text/x-python",
   "name": "python",
   "nbconvert_exporter": "python",
   "pygments_lexer": "ipython3",
   "version": "3.13.3"
  }
 },
 "nbformat": 4,
 "nbformat_minor": 5
}
