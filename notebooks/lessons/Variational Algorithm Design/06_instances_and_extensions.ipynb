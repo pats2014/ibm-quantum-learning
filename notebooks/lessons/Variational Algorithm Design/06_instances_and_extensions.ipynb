{
 "cells": [
  {
   "cell_type": "markdown",
   "id": "f9567b60",
   "metadata": {},
   "source": [
    "# Instances and Extensions\n",
    "\n",
    "This chapter will cover several quantum variational algorithms, including:\n",
    "\n",
    "- [Variational Quantum Eigensolver (VQE)](https://arxiv.org/abs/1304.3061)\n",
    "- [Subspace Search VQE (SSVQE)](https://arxiv.org/abs/1810.09434)\n",
    "- [Variational Quantum Deflation (VQD)](https://arxiv.org/abs/1805.08138)\n",
    "- [Quantum Sampling Regression (QSR)](https://arxiv.org/pdf/2012.02338)\n",
    "\n",
    "By using these algorithms, we will learn about several design ideas that can be incorporated into custom variational algorithms, such as weights, penalties, oversampling, and undersampling. We encourage you to experiment with these concepts and share your findings with the community.\n",
    "\n",
    "The Qiskit patterns framework applies to all these algorithms - but we will explicitly call out the steps only in the first example.\n",
    "\n",
    "## Table of Contents\n",
    "\n",
    "1. [Variational Quantum Eigensolver (VQE)](#variational-quantum-eigensolver-vqe)  \n",
    "   - [Step 1: Map classical inputs to a quantum problem](#step-1-map-classical-inputs-to-a-quantum-problem)  \n",
    "   - [VQE's Theoretical Layout](#vqes-theoretical-layout)  \n",
    "   - [VQE Implementation](#vqe-implementation)  \n",
    "   - [Step 2: Optimize problem for quantum execution](#step-2-optimize-problem-for-quantum-execution)  \n",
    "   - [Step 3: Execute using Qiskit Runtime Primitives](#step-3-execute-using-qiskit-runtime-primitives)  \n",
    "   - [Step 4: Post-process, return result in classical format](#step-4-post-process-return-result-in-classical-format)  \n",
    "2. [Subspace Search VQE (SSVQE)](#subspace-search-vqe-ssvqe)  \n",
    "   - [SSVQE's Theoretical Layout](#ssvqes-theoretical-layout)  \n",
    "3. [Variational Quantum Deflation (VQD)](#variational-quantum-deflation-vqd)  \n",
    "   - [VQD's Theoretical Layout](#vqds-theoretical-layout)  \n",
    "   - [VQD's Implementation](#vqds-implementation)  \n",
    "4. [Quantum Sampling Regression (QSR)](#quantum-sampling-regression-qsr)  \n",
    "   - [QSR's Theoretical Layout](#qsrs-theoretical-layout)  \n",
    "5. [Summary](#summary)\n"
   ]
  },
  {
   "cell_type": "markdown",
   "id": "cb903098",
   "metadata": {},
   "source": [
    "## Variational Quantum Eigensolver (VQE)\n",
    "VQE is one of the most widely used variational quantum algorithms, setting up a template for other algorithms to build upon.\n",
    "\n",
    "![alt text](../../../img/instances_VQE.svg)"
   ]
  },
  {
   "cell_type": "markdown",
   "id": "c7f54c2f",
   "metadata": {},
   "source": [
    "### Step 1: Map classical inputs to a quantum problem\n"
   ]
  },
  {
   "cell_type": "markdown",
   "id": "4f08621e",
   "metadata": {},
   "source": [
    "\n",
    "\n",
    "### VQE’s theoretical layout\n",
    "\n",
    "VQE’s layout is simple:\n",
    "\n",
    "- Prepare reference operators $U_R$  \n",
    "  – We start from the state $|0\\rangle$ and go to the reference state $|\\rho\\rangle$\n",
    "- Apply the variational form $U_V(\\vec{\\theta}_{i,j})$ to create an ansatz $U_A(\\vec{\\theta}_{i,j})$  \n",
    "  – We go from the state $|\\rho\\rangle$ to $U_V(\\vec{\\theta}_{i,j})|\\rho\\rangle = |\\psi(\\vec{\\theta}_{i,j})\\rangle$\n",
    "- Bootstrap at $i = 0$ if we have a similar problem (typically found via classical simulation or sampling)  \n",
    "  – Each optimizer will be bootstrapped differently, resulting in an initial set of parameter vectors $\\Theta_0 := \\vec{\\theta}_{0,j} \\in \\mathcal{T}_{\\text{opt}}$ (e.g., from an initial point $\\vec{\\theta}_0$).\n",
    "- Evaluate the cost function $C(\\vec{\\theta}_{i,j}) := \\langle \\psi(\\vec{\\theta}) | \\hat{H} | \\psi(\\vec{\\theta}) \\rangle$ for all prepared states on a quantum computer.\n",
    "- Use a classical optimizer to select the next set of parameters $\\Theta_{i+1}$.\n",
    "- Repeat the process until convergence is reached.\n",
    "\n",
    "This is a simple classical optimization loop where we evaluate the cost function. Some optimizers may require multiple evaluations to calculate a gradient, determine the next iteration, or assess convergence.\n",
    "\n",
    "Here’s the example for the following observable:\n",
    "\n",
    "$$\n",
    "\\hat{O}_1 = 2II - 2XX + 3YY - 3ZZ\n",
    "$$\n",
    "\n"
   ]
  },
  {
   "cell_type": "markdown",
   "id": "28369bd1",
   "metadata": {},
   "source": [
    "### VQE Implementation\n"
   ]
  },
  {
   "cell_type": "code",
   "execution_count": 16,
   "id": "9c7a5ada",
   "metadata": {},
   "outputs": [
    {
     "data": {
      "image/png": "[encoded data removed]",
      "text/plain": [
       "<Figure size 621.739x200.667 with 1 Axes>"
      ]
     },
     "execution_count": 16,
     "metadata": {},
     "output_type": "execute_result"
    }
   ],
   "source": [
    "from qiskit import QuantumCircuit\n",
    "from qiskit.quantum_info import SparsePauliOp\n",
    "from qiskit.circuit.library import TwoLocal\n",
    "import numpy as np\n",
    "\n",
    "theta_list = (2 * np.pi * np.random.rand(1, 8)).tolist()\n",
    "observable=SparsePauliOp.from_list([(\"II\", 2), (\"XX\", -2), (\"YY\", 3), (\"ZZ\", -3)])\n",
    "\n",
    "reference_circuit = QuantumCircuit(2)\n",
    "reference_circuit.x(0)\n",
    "\n",
    "variational_form = TwoLocal(\n",
    "    2,\n",
    "    rotation_blocks=[\"rz\", \"ry\"],\n",
    "    entanglement_blocks=\"cx\",\n",
    "    entanglement=\"linear\",\n",
    "    reps=1,\n",
    ")\n",
    "ansatz = reference_circuit.compose(variational_form)\n",
    "\n",
    "ansatz.decompose().draw('mpl')"
   ]
  },
  {
   "cell_type": "code",
   "execution_count": 17,
   "id": "91ba82ea",
   "metadata": {},
   "outputs": [],
   "source": [
    "def cost_func_vqe(parameters, ansatz, hamiltonian, estimator):\n",
    "    \"\"\"Return estimate of energy from estimator\n",
    "\n",
    "    Parameters:\n",
    "        params (ndarray): Array of ansatz parameters\n",
    "        ansatz (QuantumCircuit): Parameterized ansatz circuit\n",
    "        hamiltonian (SparsePauliOp): Operator representation of Hamiltonian\n",
    "        estimator (Estimator): Estimator primitive instance\n",
    "\n",
    "    Returns:\n",
    "        float: Energy estimate\n",
    "    \"\"\"\n",
    "\n",
    "    estimator_job = estimator.run([(ansatz, hamiltonian, [parameters])])\n",
    "    estimator_result = estimator_job.result()[0]\n",
    "\n",
    "    cost = estimator_result.data.evs[0]\n",
    "    return cost"
   ]
  },
  {
   "cell_type": "code",
   "execution_count": 18,
   "id": "7b6e456f",
   "metadata": {},
   "outputs": [],
   "source": [
    "from qiskit.primitives import StatevectorEstimator\n",
    "estimator = StatevectorEstimator()"
   ]
  },
  {
   "cell_type": "code",
   "execution_count": 19,
   "id": "af37d0a3",
   "metadata": {},
   "outputs": [
    {
     "data": {
      "text/plain": [
       " message: Optimization terminated successfully.\n",
       " success: True\n",
       "  status: 1\n",
       "     fun: -5.999999988971089\n",
       "       x: [ 1.779e+00  9.443e-01  1.571e+00  2.105e-05  1.938e+00\n",
       "            1.204e+00  6.059e-01  6.059e-01]\n",
       "    nfev: 136\n",
       "   maxcv: 0.0"
      ]
     },
     "execution_count": 19,
     "metadata": {},
     "output_type": "execute_result"
    }
   ],
   "source": [
    "# We can use this cost function to calculate optimal parameters\n",
    "# SciPy minimizer routine\n",
    "from scipy.optimize import minimize\n",
    "\n",
    "x0 = np.ones(8)\n",
    "\n",
    "result = minimize(cost_func_vqe, x0, args=(ansatz, observable, estimator), method=\"COBYLA\")\n",
    "\n",
    "result"
   ]
  },
  {
   "cell_type": "markdown",
   "id": "7efc6d84",
   "metadata": {},
   "source": [
    "### Step 2: Optimize problem for quantum execution\n",
    "\n",
    "We will select the least-busy backend, and import the necessary components form qiskit_ibm_runtime.\n"
   ]
  },
  {
   "cell_type": "code",
   "execution_count": 20,
   "id": "11924217",
   "metadata": {},
   "outputs": [
    {
     "ename": "AccountNotFoundError",
     "evalue": "'Unable to find account.'",
     "output_type": "error",
     "traceback": [
      "\u001b[31m---------------------------------------------------------------------------\u001b[39m",
      "\u001b[31mAccountNotFoundError\u001b[39m                      Traceback (most recent call last)",
      "\u001b[36mCell\u001b[39m\u001b[36m \u001b[39m\u001b[32mIn[20]\u001b[39m\u001b[32m, line 7\u001b[39m\n\u001b[32m      3\u001b[39m \u001b[38;5;28;01mfrom\u001b[39;00m\u001b[38;5;250m \u001b[39m\u001b[34;01mqiskit_ibm_runtime\u001b[39;00m\u001b[38;5;250m \u001b[39m\u001b[38;5;28;01mimport\u001b[39;00m Session, EstimatorOptions\n\u001b[32m      4\u001b[39m \u001b[38;5;28;01mfrom\u001b[39;00m\u001b[38;5;250m \u001b[39m\u001b[34;01mqiskit_ibm_runtime\u001b[39;00m\u001b[38;5;250m \u001b[39m\u001b[38;5;28;01mimport\u001b[39;00m QiskitRuntimeService\n\u001b[32m----> \u001b[39m\u001b[32m7\u001b[39m service = \u001b[43mQiskitRuntimeService\u001b[49m\u001b[43m(\u001b[49m\u001b[43mchannel\u001b[49m\u001b[43m=\u001b[49m\u001b[33;43m'\u001b[39;49m\u001b[33;43mibm_quantum\u001b[39;49m\u001b[33;43m'\u001b[39;49m\u001b[43m)\u001b[49m\n\u001b[32m      8\u001b[39m backend = service.least_busy(operational=\u001b[38;5;28;01mTrue\u001b[39;00m, simulator=\u001b[38;5;28;01mFalse\u001b[39;00m)\n\u001b[32m      9\u001b[39m \u001b[38;5;28mprint\u001b[39m(backend)\n",
      "\u001b[36mFile \u001b[39m\u001b[32m~/Desktop/Technology/Quantum/IBM Qiskit/.venv/lib/python3.13/site-packages/qiskit_ibm_runtime/qiskit_runtime_service.py:157\u001b[39m, in \u001b[36mQiskitRuntimeService.__init__\u001b[39m\u001b[34m(self, channel, token, url, filename, name, instance, proxies, verify, private_endpoint, url_resolver, region, plans_preference)\u001b[39m\n\u001b[32m    155\u001b[39m \u001b[38;5;28mself\u001b[39m._all_instances: List[Dict[\u001b[38;5;28mstr\u001b[39m, \u001b[38;5;28mstr\u001b[39m]] = []\n\u001b[32m    156\u001b[39m \u001b[38;5;28mself\u001b[39m._saved_instances: List[\u001b[38;5;28mstr\u001b[39m] = []\n\u001b[32m--> \u001b[39m\u001b[32m157\u001b[39m \u001b[38;5;28mself\u001b[39m._account = \u001b[38;5;28;43mself\u001b[39;49m\u001b[43m.\u001b[49m\u001b[43m_discover_account\u001b[49m\u001b[43m(\u001b[49m\n\u001b[32m    158\u001b[39m \u001b[43m    \u001b[49m\u001b[43mtoken\u001b[49m\u001b[43m=\u001b[49m\u001b[43mtoken\u001b[49m\u001b[43m,\u001b[49m\n\u001b[32m    159\u001b[39m \u001b[43m    \u001b[49m\u001b[43murl\u001b[49m\u001b[43m=\u001b[49m\u001b[43murl\u001b[49m\u001b[43m,\u001b[49m\n\u001b[32m    160\u001b[39m \u001b[43m    \u001b[49m\u001b[43minstance\u001b[49m\u001b[43m=\u001b[49m\u001b[43minstance\u001b[49m\u001b[43m,\u001b[49m\n\u001b[32m    161\u001b[39m \u001b[43m    \u001b[49m\u001b[43mchannel\u001b[49m\u001b[43m=\u001b[49m\u001b[43mchannel\u001b[49m\u001b[43m,\u001b[49m\n\u001b[32m    162\u001b[39m \u001b[43m    \u001b[49m\u001b[43mfilename\u001b[49m\u001b[43m=\u001b[49m\u001b[43mfilename\u001b[49m\u001b[43m,\u001b[49m\n\u001b[32m    163\u001b[39m \u001b[43m    \u001b[49m\u001b[43mname\u001b[49m\u001b[43m=\u001b[49m\u001b[43mname\u001b[49m\u001b[43m,\u001b[49m\n\u001b[32m    164\u001b[39m \u001b[43m    \u001b[49m\u001b[43mproxies\u001b[49m\u001b[43m=\u001b[49m\u001b[43mProxyConfiguration\u001b[49m\u001b[43m(\u001b[49m\u001b[43m*\u001b[49m\u001b[43m*\u001b[49m\u001b[43mproxies\u001b[49m\u001b[43m)\u001b[49m\u001b[43m \u001b[49m\u001b[38;5;28;43;01mif\u001b[39;49;00m\u001b[43m \u001b[49m\u001b[43mproxies\u001b[49m\u001b[43m \u001b[49m\u001b[38;5;28;43;01melse\u001b[39;49;00m\u001b[43m \u001b[49m\u001b[38;5;28;43;01mNone\u001b[39;49;00m\u001b[43m,\u001b[49m\n\u001b[32m    165\u001b[39m \u001b[43m    \u001b[49m\u001b[43mverify\u001b[49m\u001b[43m=\u001b[49m\u001b[43mverify\u001b[49m\u001b[43m,\u001b[49m\n\u001b[32m    166\u001b[39m \u001b[43m\u001b[49m\u001b[43m)\u001b[49m\n\u001b[32m    168\u001b[39m \u001b[38;5;28;01mif\u001b[39;00m private_endpoint \u001b[38;5;129;01mis\u001b[39;00m \u001b[38;5;129;01mnot\u001b[39;00m \u001b[38;5;28;01mNone\u001b[39;00m:\n\u001b[32m    169\u001b[39m     \u001b[38;5;28mself\u001b[39m._account.private_endpoint = private_endpoint\n",
      "\u001b[36mFile \u001b[39m\u001b[32m~/Desktop/Technology/Quantum/IBM Qiskit/.venv/lib/python3.13/site-packages/qiskit_ibm_runtime/qiskit_runtime_service.py:340\u001b[39m, in \u001b[36mQiskitRuntimeService._discover_account\u001b[39m\u001b[34m(self, token, url, instance, channel, filename, name, proxies, verify)\u001b[39m\n\u001b[32m    338\u001b[39m         \u001b[38;5;28;01mif\u001b[39;00m url:\n\u001b[32m    339\u001b[39m             logger.warning(\u001b[33m\"\u001b[39m\u001b[33mLoading default \u001b[39m\u001b[38;5;132;01m%s\u001b[39;00m\u001b[33m account. Input \u001b[39m\u001b[33m'\u001b[39m\u001b[33murl\u001b[39m\u001b[33m'\u001b[39m\u001b[33m is ignored.\u001b[39m\u001b[33m\"\u001b[39m, channel)\n\u001b[32m--> \u001b[39m\u001b[32m340\u001b[39m         account = \u001b[43mAccountManager\u001b[49m\u001b[43m.\u001b[49m\u001b[43mget\u001b[49m\u001b[43m(\u001b[49m\u001b[43mfilename\u001b[49m\u001b[43m=\u001b[49m\u001b[43mfilename\u001b[49m\u001b[43m,\u001b[49m\u001b[43m \u001b[49m\u001b[43mname\u001b[49m\u001b[43m=\u001b[49m\u001b[43mname\u001b[49m\u001b[43m,\u001b[49m\u001b[43m \u001b[49m\u001b[43mchannel\u001b[49m\u001b[43m=\u001b[49m\u001b[43mchannel\u001b[49m\u001b[43m)\u001b[49m\n\u001b[32m    341\u001b[39m \u001b[38;5;28;01melif\u001b[39;00m \u001b[38;5;28many\u001b[39m([token, url]):\n\u001b[32m    342\u001b[39m     \u001b[38;5;66;03m# Let's not infer based on these attributes as they may change in the future.\u001b[39;00m\n\u001b[32m    343\u001b[39m     \u001b[38;5;28;01mraise\u001b[39;00m \u001b[38;5;167;01mValueError\u001b[39;00m(\n\u001b[32m    344\u001b[39m         \u001b[33m\"\u001b[39m\u001b[33m'\u001b[39m\u001b[33mchannel\u001b[39m\u001b[33m'\u001b[39m\u001b[33m is required if \u001b[39m\u001b[33m'\u001b[39m\u001b[33mtoken\u001b[39m\u001b[33m'\u001b[39m\u001b[33m, or \u001b[39m\u001b[33m'\u001b[39m\u001b[33murl\u001b[39m\u001b[33m'\u001b[39m\u001b[33m is specified but \u001b[39m\u001b[33m'\u001b[39m\u001b[33mname\u001b[39m\u001b[33m'\u001b[39m\u001b[33m is not.\u001b[39m\u001b[33m\"\u001b[39m\n\u001b[32m    345\u001b[39m     )\n",
      "\u001b[36mFile \u001b[39m\u001b[32m~/Desktop/Technology/Quantum/IBM Qiskit/.venv/lib/python3.13/site-packages/qiskit_ibm_runtime/accounts/management.py:204\u001b[39m, in \u001b[36mAccountManager.get\u001b[39m\u001b[34m(cls, filename, name, channel)\u001b[39m\n\u001b[32m    201\u001b[39m     \u001b[38;5;28;01mif\u001b[39;00m account_name \u001b[38;5;129;01min\u001b[39;00m all_config:\n\u001b[32m    202\u001b[39m         \u001b[38;5;28;01mreturn\u001b[39;00m Account.from_saved_format(all_config[account_name])\n\u001b[32m--> \u001b[39m\u001b[32m204\u001b[39m \u001b[38;5;28;01mraise\u001b[39;00m AccountNotFoundError(\u001b[33m\"\u001b[39m\u001b[33mUnable to find account.\u001b[39m\u001b[33m\"\u001b[39m)\n",
      "\u001b[31mAccountNotFoundError\u001b[39m: 'Unable to find account.'"
     ]
    }
   ],
   "source": [
    "from qiskit_ibm_runtime import SamplerV2 as Sampler\n",
    "from qiskit_ibm_runtime import EstimatorV2 as Estimator\n",
    "from qiskit_ibm_runtime import Session, EstimatorOptions\n",
    "from qiskit_ibm_runtime import QiskitRuntimeService\n",
    "\n",
    "\n",
    "service = QiskitRuntimeService(channel='ibm_quantum')\n",
    "backend = service.least_busy(operational=True, simulator=False)\n",
    "print(backend)"
   ]
  },
  {
   "cell_type": "markdown",
   "id": "7614354a",
   "metadata": {},
   "source": [
    "We will transpile the circuit using the preset pass manager with optimization level 3, and we will apply the corresponding layout to the observable."
   ]
  },
  {
   "cell_type": "code",
   "execution_count": null,
   "id": "a1e164fd",
   "metadata": {},
   "outputs": [
    {
     "ename": "NameError",
     "evalue": "name 'backend' is not defined",
     "output_type": "error",
     "traceback": [
      "\u001b[31m---------------------------------------------------------------------------\u001b[39m",
      "\u001b[31mNameError\u001b[39m                                 Traceback (most recent call last)",
      "\u001b[36mCell\u001b[39m\u001b[36m \u001b[39m\u001b[32mIn[6]\u001b[39m\u001b[32m, line 3\u001b[39m\n\u001b[32m      1\u001b[39m \u001b[38;5;28;01mfrom\u001b[39;00m\u001b[38;5;250m \u001b[39m\u001b[34;01mqiskit\u001b[39;00m\u001b[34;01m.\u001b[39;00m\u001b[34;01mtranspiler\u001b[39;00m\u001b[34;01m.\u001b[39;00m\u001b[34;01mpreset_passmanagers\u001b[39;00m\u001b[38;5;250m \u001b[39m\u001b[38;5;28;01mimport\u001b[39;00m generate_preset_pass_manager\n\u001b[32m----> \u001b[39m\u001b[32m3\u001b[39m pm = generate_preset_pass_manager(backend=\u001b[43mbackend\u001b[49m, optimization_level=\u001b[32m3\u001b[39m)\n\u001b[32m      4\u001b[39m isa_ansatz = pm.run(ansatz)\n\u001b[32m      5\u001b[39m isa_observable = observable.apply_layout(layout = isa_ansatz.layout)\n",
      "\u001b[31mNameError\u001b[39m: name 'backend' is not defined"
     ]
    }
   ],
   "source": [
    "from qiskit.transpiler.preset_passmanagers import generate_preset_pass_manager\n",
    "\n",
    "pm = generate_preset_pass_manager(backend=backend, optimization_level=3)\n",
    "isa_ansatz = pm.run(ansatz)\n",
    "isa_observable = observable.apply_layout(layout = isa_ansatz.layout)"
   ]
  },
  {
   "cell_type": "markdown",
   "id": "5f45e924",
   "metadata": {},
   "source": [
    "### Step 3: Execute using Qiskit Runtime Primitives\n",
    "\n",
    "We are now ready to run our calculation on IBM Quantum™ hardware. Because the cost function minimization is highly iterative, we will start a Runtime session. This way, we will only have to wait in a queue once. Once the job begins running, each iteration with updates to parameters will run immediately.\n"
   ]
  },
  {
   "cell_type": "code",
   "execution_count": null,
   "id": "045cf6e3",
   "metadata": {},
   "outputs": [
    {
     "ename": "NameError",
     "evalue": "name 'backend' is not defined",
     "output_type": "error",
     "traceback": [
      "\u001b[31m---------------------------------------------------------------------------\u001b[39m",
      "\u001b[31mNameError\u001b[39m                                 Traceback (most recent call last)",
      "\u001b[36mCell\u001b[39m\u001b[36m \u001b[39m\u001b[32mIn[7]\u001b[39m\u001b[32m, line 8\u001b[39m\n\u001b[32m      1\u001b[39m x0 = np.ones(\u001b[32m8\u001b[39m)\n\u001b[32m      3\u001b[39m estimator_options = EstimatorOptions(\n\u001b[32m      4\u001b[39m     resilience_level=\u001b[32m1\u001b[39m,\n\u001b[32m      5\u001b[39m     default_shots = \u001b[32m10_000\u001b[39m\n\u001b[32m      6\u001b[39m )\n\u001b[32m----> \u001b[39m\u001b[32m8\u001b[39m \u001b[38;5;28;01mwith\u001b[39;00m Session(backend=\u001b[43mbackend\u001b[49m) \u001b[38;5;28;01mas\u001b[39;00m session:\n\u001b[32m      9\u001b[39m     estimator = Estimator(mode=session, options = estimator_options)\n\u001b[32m     11\u001b[39m     result = minimize(cost_func_vqe, x0, args=(isa_ansatz, isa_observable, estimator), method=\u001b[33m\"\u001b[39m\u001b[33mCOBYLA\u001b[39m\u001b[33m\"\u001b[39m, options={\u001b[33m'\u001b[39m\u001b[33mmaxiter\u001b[39m\u001b[33m'\u001b[39m: \u001b[32m200\u001b[39m, \u001b[33m'\u001b[39m\u001b[33mdisp\u001b[39m\u001b[33m'\u001b[39m: \u001b[38;5;28;01mTrue\u001b[39;00m})\n",
      "\u001b[31mNameError\u001b[39m: name 'backend' is not defined"
     ]
    }
   ],
   "source": [
    "x0 = np.ones(8)\n",
    "\n",
    "estimator_options = EstimatorOptions(\n",
    "    resilience_level=1,\n",
    "    default_shots = 10_000\n",
    ")\n",
    "\n",
    "with Session(backend=backend) as session:\n",
    "    estimator = Estimator(mode=session, options = estimator_options)\n",
    "\n",
    "    result = minimize(cost_func_vqe, x0, args=(isa_ansatz, isa_observable, estimator), method=\"COBYLA\", options={'maxiter': 200, 'disp': True})\n",
    "session.close()\n",
    "print(result)"
   ]
  },
  {
   "cell_type": "markdown",
   "id": "23159c2f",
   "metadata": {},
   "source": [
    "### Step 4: Post-process, return result in classical format\n",
    "We can see that the minimization routine successfully terminated, meaning we reached the default tolerance of the COBYLA classical optimizer. If we require a more precise result, we can specify a smaller tolerance. This may indeed be the case, since the result was several percent off compared to the result obtained by the simulator above.\n",
    "\n",
    "The value of x obtained is the current best guess for the parameters that minimize the cost function. If iterating to obtain a higher precision, those values should be used in place of the x0 initially used (a vector of ones).\n",
    "\n",
    "Finally, we note that the function was evaluated 96 times in the process of optimization. That might be different from the number of optimization steps, since some optimizers require multiple function evaluations in a single step, such as when estimating a gradient.\n"
   ]
  },
  {
   "cell_type": "markdown",
   "id": "9e62cb5a",
   "metadata": {},
   "source": [
    "## Subspace Search VQE (SSVQE)\n",
    "\n",
    "[SSVQE](https://qiskit.org/textbook/ch-quantum-hardware/ssvqe.html) is a variant of VQE that allows obtaining the first $k$ eigenvalues of an observable $\\hat{H}$ with eigenvalues $\\{\\lambda_0, \\lambda_1, \\dots, \\lambda_{N-1}\\}$, where $N \\geq k$. Without loss of generality, we assume that $\\lambda_0 < \\lambda_1 < \\dots < \\lambda_{N-1}$. SSVQE introduces a new idea by adding weights to help prioritize optimizing for the term with the largest weight.\n",
    "\n",
    "\n",
    "![alt text](../../../img/instances_SSVQE.svg)\n",
    "\n",
    "To implement this algorithm, we need $k$ mutually orthogonal reference states $\\{|\\rho_j\\rangle\\}_{j=0}^{k-1}$, meaning $\\langle \\rho_j | \\rho_l \\rangle = \\delta_{jl}$ for $j, l < k$.  \n",
    "These states can be constructed using Pauli operators. The cost function of this algorithm is then:\n",
    "\n",
    "$$\n",
    "C(\\vec{\\theta}) := \\sum_{j=0}^{k-1} w_j \\langle \\rho_j | U_V^\\dagger(\\vec{\\theta}) \\hat{H} U_V(\\vec{\\theta}) | \\rho_j \\rangle \\\\\n",
    ":= \\sum_{j=0}^{k-1} w_j \\langle \\psi_j(\\vec{\\theta}) | \\hat{H} | \\psi_j(\\vec{\\theta}) \\rangle\n",
    "$$\n",
    "\n",
    "where $w_j$ is an arbitrary positive number such that if $j < l < k$ then $w_j > w_l$, and $U_V(\\vec{\\theta})$ is the user-defined variational form.\n",
    "\n",
    "The SSVQE algorithm relies on the fact that eigenstates corresponding to different eigenvalues are mutually orthogonal.  \n",
    "Specifically, the inner product of $U_V(\\vec{\\theta})|\\rho_j\\rangle$ and $U_V(\\vec{\\theta})|\\rho_l\\rangle$ can be expressed as:\n",
    "\n",
    "$$\n",
    "\\begin{aligned}\n",
    "\\langle \\rho_j | U_V^\\dagger(\\vec{\\theta}) U_V(\\vec{\\theta}) | \\rho_l \\rangle &= \\langle \\rho_j | I | \\rho_l \\rangle \\\\\n",
    "&= \\langle \\rho_j | \\rho_l \\rangle \\\\\n",
    "&= \\delta_{jl}\n",
    "\\end{aligned}\n",
    "$$\n",
    "\n",
    "The first equality holds because $U_V(\\vec{\\theta})$ is a quantum operator and is therefore unitary. The last equality holds because of the orthogonality of the reference states $|\\rho_j\\rangle$.  \n",
    "The fact that orthogonality is preserved through unitary transformations is deeply related to the principle of conservation of information, as expressed in quantum information science. Under this view, non-unitary transformations represent processes where information is either lost or injected.\n",
    "\n",
    "Weights $w_j$ help ensure that all the states are eigenstates. If the weights are sufficiently different, the term with the largest weight (i.e., $w_0$) will be given priority during optimization over the others.  \n",
    "As a result, the resulting state $U_V(\\vec{\\theta})|\\rho_0\\rangle$ will become the eigenstate corresponding to $\\lambda_0$.  \n",
    "Because $\\{U_V(\\vec{\\theta})|\\rho_j\\rangle\\}_{j=0}^{k-1}$ are mutually orthogonal, the remaining states will be orthogonal to it and, therefore, contained in the subspace corresponding to the eigenvalues $\\{\\lambda_1, \\dots, \\lambda_{N-1}\\}$.\n",
    "\n",
    "Applying the same argument to the rest of the terms, the next priority would then be the term with weight $w_1$, so $U_V(\\vec{\\theta})|\\rho_1\\rangle$ would be the eigenstate corresponding to $\\lambda_1$, and the other terms would be contained in the eigenspace of $\\{\\lambda_2, \\dots, \\lambda_{N-1}\\}$.\n",
    "\n",
    "By reasoning inductively, we deduce that $U_V(\\vec{\\theta})|\\rho_j\\rangle$ will be an approximate eigenstate of $\\lambda_j$ for $0 \\leq j < k$.\n",
    "\n"
   ]
  },
  {
   "cell_type": "markdown",
   "id": "0a0e563f",
   "metadata": {},
   "source": [
    "### SSVQE's Theoretical Layout\n",
    "\n",
    "SSVQE's can be summarized as follows:\n",
    "\n",
    "- Prepare several reference states by applying a unitary $U_R$ to different computational basis states  \n",
    "  – This algorithm requires the usage of $k$ mutually orthogonal reference states $\\{|\\rho_j\\rangle\\}_{j=0}^{k-1}$ such that $\\langle \\rho_j | \\rho_l \\rangle = \\delta_{jl}$ for $j, l < k$.\n",
    "- Apply the variational form $U_V(\\vec{\\theta}_{i,j})$ to each reference state, resulting in the following ansatz $U_A(\\vec{\\theta}_{i,j})$.\n",
    "- Bootstrap at $i = 0$ if a similar problem is available (usually found via classical simulation or sampling).\n",
    "- Evaluate the cost function $C(\\vec{\\theta}_{i,j}) := \\sum_{j=0}^{k-1} w_j \\langle \\psi_j(\\vec{\\theta}) | \\hat{H} | \\psi_j(\\vec{\\theta}) \\rangle$ for all prepared states on a quantum computer.  \n",
    "  – This can be separated into calculating the expectation value for an observable $\\langle \\psi_j(\\vec{\\theta}) | \\hat{H} | \\psi_j(\\vec{\\theta}) \\rangle$ and multiplying that result by $w_j$.\n",
    "- Afterward, the cost function returns the sum of all weighted expectation values.\n",
    "- Use a classical optimizer to determine the next set of parameters $\\Theta_{i+1}$.\n",
    "- Repeat the process until convergence is reached.\n",
    "\n",
    "You will be re-constructing SSVQE's cost function in the next assessment, but we have the following snippet to motivate your solution.\n"
   ]
  },
  {
   "cell_type": "code",
   "execution_count": null,
   "id": "dcd13f6c",
   "metadata": {},
   "outputs": [],
   "source": [
    "import numpy as np\n",
    "\n",
    "def cost_func_ssvqe(params, initialized_anastz_list, weights, ansatz, hamiltonian, estimator):\n",
    "    # \"\"\"Return estimate of energy from estimator\n",
    "\n",
    "    # Parameters:\n",
    "    #     params (ndarray): Array of ansatz parameters\n",
    "    #     initialized_anastz_list (list QuantumCircuit): Array of initialised ansatz with reference\n",
    "    #     weights (list): List of weights\n",
    "    #     ansatz (QuantumCircuit): Parameterized ansatz circuit\n",
    "    #     hamiltonian (SparsePauliOp): Operator representation of Hamiltonian\n",
    "    #     estimator (Estimator): Estimator primitive instance\n",
    "\n",
    "    # Returns:\n",
    "    #     float: Weighted energy estimate\n",
    "    # \"\"\"\n",
    "\n",
    "    energies = []\n",
    "\n",
    "    # Define SSVQE\n",
    "\n",
    "    weighted_energy_sum = np.dot(energies, weights)\n",
    "    return weighted_energy_sum"
   ]
  },
  {
   "cell_type": "markdown",
   "id": "a3ed804c",
   "metadata": {},
   "source": [
    "## Variational Quantum Deflation (VQD)\n",
    "\n",
    "[VQD](https://qiskit.org/textbook/ch-quantum-hardware/vqd.html) is an iterative method that extends VQE to obtain the first $k$ eigenvalues of an observable $\\hat{H}$ with eigenvalues $\\{\\lambda_0, \\lambda_1, \\dots, \\lambda_{N-1}\\}$, where $N \\geq k$, instead of only the first. For the rest of this section, we will assume, without loss of generality, that $\\lambda_0 \\leq \\lambda_1 \\leq \\dots \\leq \\lambda_{N-1}$. VQD introduces the notion of a penalty cost to guide the optimization process.\n",
    "\n",
    "![alt text](../../../img/instances_VQD.svg)\n",
    "\n",
    "VQD introduces a penalty term, denoted as $\\beta$, to balance the contribution of each overlap term to the cost. This penalty term serves to penalize the optimization process if orthogonality is not achieved. We impose this constraint because the eigenstates of an observable, or a Hermitian operator, corresponding to different eigenvalues are always mutually orthogonal, or can be made to be so in the case of degeneracy or repeated eigenvalues. Thus, by enforcing orthogonality with the eigenstate corresponding to $\\lambda_0$, we are effectively optimizing over the subspace that corresponds to the rest of the eigenvalues $\\{\\lambda_1, \\lambda_2, \\dots, \\lambda_{N-1}\\}$. Here, $\\lambda_1$ is the lowest eigenvalue from the rest of the eigenvalues and, therefore, the optimal solution of the new problem can be obtained using the variational theorem.\n",
    "\n",
    "The general idea behind VQD is to use VQE as usual to obtain the lowest eigenvalue $\\lambda_0 := C_0(\\vec{\\theta}) \\equiv C_{\\text{VQE}}(\\vec{\\theta})$ along with the corresponding (approximate) eigenstate $|\\psi(\\vec{\\theta}^0)\\rangle$ for some optimal parameter vector $\\vec{\\theta}^0$. Then, to obtain the next eigenvalue $\\lambda_1 > \\lambda_0$, instead of minimizing the cost function $C_0(\\vec{\\theta}) := \\langle \\psi(\\vec{\\theta}) | \\hat{H} | \\psi(\\vec{\\theta}) \\rangle$, we optimize:\n",
    "\n",
    "$$\n",
    "C_1(\\vec{\\theta}) := C_0(\\vec{\\theta}) + \\beta_0 | \\langle \\psi(\\vec{\\theta}) | \\psi(\\vec{\\theta}^0) \\rangle |^2\n",
    "$$\n",
    "\n",
    "The positive value $\\beta_0$ should ideally be greater than $\\lambda_1 - \\lambda_0$.\n",
    "\n",
    "This introduces a new cost function that can be viewed as a constrained problem, where we minimize  \n",
    "$C_{\\text{VQE}}(\\vec{\\theta}) = \\langle \\psi(\\vec{\\theta}) | \\hat{H} | \\psi(\\vec{\\theta}) \\rangle$  \n",
    "subject to the constraint that the state must be orthogonal to the previously obtained $|\\psi(\\vec{\\theta}^0)\\rangle$, with $\\beta_0$ acting as a penalty term if the constraint is not satisfied.\n",
    "\n",
    "Alternatively, this new problem can be interpreted as running VQE on the new observable:\n",
    "\n",
    "$$\n",
    "\\hat{H}_1 := \\hat{H} + \\beta_0 |\\psi(\\vec{\\theta}^0)\\rangle \\langle \\psi(\\vec{\\theta}^0)| \\quad \\Rightarrow \\quad C_1(\\vec{\\theta}) = \\langle \\psi(\\vec{\\theta}) | \\hat{H}_1 | \\psi(\\vec{\\theta}) \\rangle\n",
    "$$\n",
    "\n",
    "Assuming that the solution to the new problem is $|\\psi(\\vec{\\theta}^1)\\rangle$, the expected value of $\\hat{H}$ (not $\\hat{H}_1$) should be  \n",
    "$\\langle \\psi(\\vec{\\theta}^1) | \\hat{H} | \\psi(\\vec{\\theta}^1) \\rangle = \\lambda_1$.\n",
    "\n",
    "To obtain the third eigenvalue $\\lambda_2$, the cost function to optimize is:\n",
    "\n",
    "$$\n",
    "C_2(\\vec{\\theta}) := C_1(\\vec{\\theta}) + \\beta_1 | \\langle \\psi(\\vec{\\theta}) | \\psi(\\vec{\\theta}^1) \\rangle |^2\n",
    "$$\n",
    "\n",
    "where $\\beta_1$ is a positive constant large enough to enforce orthogonality of the solution state to both $|\\psi(\\vec{\\theta}^0)\\rangle$ and $|\\psi(\\vec{\\theta}^1)\\rangle$.  \n",
    "This penalizes states in the search space that do not meet this requirement, effectively restricting the search space.  \n",
    "Thus, the optimal solution of the new problem should be the eigenstate corresponding to $\\lambda_2$.\n",
    "\n",
    "Like the previous case, this new problem can also be interpreted as VQE with the observable:\n",
    "\n",
    "$$\n",
    "\\hat{H}_2 := \\hat{H}_1 + \\beta_1 |\\psi(\\vec{\\theta}^1)\\rangle \\langle \\psi(\\vec{\\theta}^1)| \\quad \\Rightarrow \\quad C_2(\\vec{\\theta}) = \\langle \\psi(\\vec{\\theta}) | \\hat{H}_2 | \\psi(\\vec{\\theta}) \\rangle\n",
    "$$\n",
    "\n",
    "If the solution to this new problem is $|\\psi(\\vec{\\theta}^2)\\rangle$, the expected value of $\\hat{H}$ (not $\\hat{H}_2$) should be  \n",
    "$\\langle \\psi(\\vec{\\theta}^2) | \\hat{H} | \\psi(\\vec{\\theta}^2) \\rangle = \\lambda_2$.\n",
    "\n",
    "Analogously, to obtain the $k$-th eigenvalue $\\lambda_{k-1}$, you would minimize the cost function:\n",
    "\n",
    "$$\n",
    "C_{k-1}(\\vec{\\theta}) := C_{k-2}(\\vec{\\theta}) + \\beta_{k-2} | \\langle \\psi(\\vec{\\theta}) | \\psi(\\vec{\\theta}^{k-2}) \\rangle |^2\n",
    "$$\n",
    "\n",
    "Remember that we defined $\\vec{\\theta}^j$ such that $\\langle \\psi(\\vec{\\theta}^j) | \\hat{H} | \\psi(\\vec{\\theta}^j) \\rangle = \\lambda_j$ for all $j < k$.  \n",
    "This problem is equivalent to minimizing  \n",
    "$C(\\vec{\\theta}) = \\langle \\psi(\\vec{\\theta}) | \\hat{H} | \\psi(\\vec{\\theta}) \\rangle$  \n",
    "but with the constraint that the state must be orthogonal to $|\\psi(\\vec{\\theta}^j)\\rangle$, $\\forall j \\in \\{0, \\dots, k-1\\}$, thereby restricting the search space to the subspace corresponding to the eigenvalues $\\{\\lambda_{k-1}, \\dots, \\lambda_{N-1}\\}$.\n",
    "\n",
    "This problem is equivalent to a VQE with the observable:\n",
    "\n",
    "$$\n",
    "\\hat{H}_{k-1} := \\hat{H}_{k-2} + \\beta_{k-2} |\\psi(\\vec{\\theta}^{k-2})\\rangle \\langle \\psi(\\vec{\\theta}^{k-2})| \\quad \\Rightarrow \\quad C_{k-1}(\\vec{\\theta}) = \\langle \\psi(\\vec{\\theta}) | \\hat{H}_{k-1} | \\psi(\\vec{\\theta}) \\rangle\n",
    "$$\n",
    "\n",
    "As you can see from the process, to obtain the $k$-th eigenvalue, you need the (approximate) eigenstates of the previous $k - 1$ eigenvalues, so you would need to run VQE a total of $k$ times. Therefore, VQD’s cost function is as follows:\n",
    "\n",
    "$$\n",
    "C_k(\\vec{\\theta}) := \\langle \\psi(\\vec{\\theta}) | \\hat{H} | \\psi(\\vec{\\theta}) \\rangle + \\sum_{j=0}^{k-1} \\beta_j | \\langle \\psi(\\vec{\\theta}) | \\psi(\\vec{\\theta}^j) \\rangle |^2\n",
    "$$\n",
    "\n",
    "\n"
   ]
  },
  {
   "cell_type": "markdown",
   "id": "6724d5fd",
   "metadata": {},
   "source": [
    "### VQD's Theoretical Layout\n",
    "\n",
    "VQD’s layout can be summarized as follows:\n",
    "\n",
    "- Prepare a reference operator $U_R$\n",
    "- Apply variational form $U_V(\\vec{\\theta}_{i,j})$ to the reference state, creating the following ansatz $U_A(\\vec{\\theta}_{i,j})$\n",
    "- Bootstrap at $i = 0$ if we have a similar problem (typically found via classical simulation or sampling).\n",
    "- Evaluate the cost function $C_k(\\vec{\\theta})$, which involves computing $k$ excited states and an array of $\\beta$’s defining the overlap penalty for each overlap term.\n",
    "  - Calculate the expectation value for an observable $\\langle \\psi_j(\\vec{\\theta}) | \\hat{H} | \\psi_j(\\vec{\\theta}) \\rangle$ for each $k$\n",
    "  - Calculate the penalty $\\sum_{j=0}^{k-1} \\beta_j | \\langle \\psi(\\vec{\\theta}) | \\psi(\\vec{\\theta}^j) \\rangle |^2$\n",
    "  - The cost function should then return the sum of these two terms\n",
    "- Use a classical optimizer to choose the next set of parameters $\\Theta_{i+1}$.\n",
    "- Repeat this process until convergence is reached."
   ]
  },
  {
   "cell_type": "markdown",
   "id": "9cf58e0b",
   "metadata": {},
   "source": [
    "### VQD's Implementation\n",
    "\n",
    "For this implementation, we'll create a function for an overlap penalty. This penalty will be used in the cost function at each iteration. This process will be repeated for each excited state."
   ]
  },
  {
   "cell_type": "code",
   "execution_count": null,
   "id": "4658666d",
   "metadata": {},
   "outputs": [
    {
     "data": {
      "image/png": "[encoded data removed]",
      "text/plain": [
       "<Figure size 538.128x200.667 with 1 Axes>"
      ]
     },
     "execution_count": 9,
     "metadata": {},
     "output_type": "execute_result"
    }
   ],
   "source": [
    "from qiskit.circuit.library import TwoLocal\n",
    "\n",
    "ansatz = TwoLocal(2, rotation_blocks=[\"ry\", \"rz\"], entanglement_blocks=\"cz\", reps=1)\n",
    "\n",
    "ansatz.decompose().draw('mpl')"
   ]
  },
  {
   "cell_type": "markdown",
   "id": "ffe35dfd",
   "metadata": {},
   "source": [
    "First, we'll setup a function that calculates the state fidelity -- a percentage of overlap between two states that we'll use as a penalty for VQD:"
   ]
  },
  {
   "cell_type": "code",
   "execution_count": null,
   "id": "33d184b8",
   "metadata": {},
   "outputs": [],
   "source": [
    "import numpy as np\n",
    "\n",
    "def calculate_overlaps(ansatz, prev_circuits, parameters, sampler):\n",
    "\n",
    "    def create_fidelity_circuit(circuit_1, circuit_2):\n",
    "\n",
    "        \"\"\"\n",
    "        Constructs the list of fidelity circuits to be evaluated.\n",
    "        These circuits represent the state overlap between pairs of input circuits,\n",
    "        and their construction depends on the fidelity method implementations.\n",
    "        \"\"\"\n",
    "                \n",
    "        if len(circuit_1.clbits) > 0:\n",
    "            circuit_1.remove_final_measurements()\n",
    "        if len(circuit_2.clbits) > 0:\n",
    "            circuit_2.remove_final_measurements()\n",
    "\n",
    "        circuit = circuit_1.compose(circuit_2.inverse())\n",
    "        circuit.measure_all()\n",
    "        return circuit\n",
    "    overlaps = []\n",
    "\n",
    "    for prev_circuit in prev_circuits:\n",
    "        fidelity_circuit = create_fidelity_circuit(ansatz, prev_circuit)\n",
    "        sampler_job = sampler.run([(fidelity_circuit, parameters)])\n",
    "        meas_data = sampler_job.result()[0].data.meas\n",
    "        \n",
    "        counts_0 = meas_data.get_int_counts().get(0, 0)\n",
    "        shots = meas_data.num_shots\n",
    "        overlap = counts_0/shots\n",
    "        overlaps.append(overlap)\n",
    "    \n",
    "    return np.array(overlaps)"
   ]
  },
  {
   "cell_type": "markdown",
   "id": "bc12694e",
   "metadata": {},
   "source": [
    "It's time to write VQD's cost function. As before when we calculated only the ground state, we will determine the lowest energy state using the Estimator primitive. However, as described above, we will now add a penalty term to ensure orthogonality of higher-energy states. That is, for each new excited state, a penalty is added for any overlap between the current variational state and the lower-energy eigenstates already found."
   ]
  },
  {
   "cell_type": "code",
   "execution_count": null,
   "id": "5d9031f4",
   "metadata": {},
   "outputs": [],
   "source": [
    "def cost_func_vqd(parameters, ansatz, prev_states, step, betas, estimator, sampler, hamiltonian):\n",
    "\n",
    "    estimator_job = estimator.run([(ansatz, hamiltonian, [parameters])])\n",
    "\n",
    "    total_cost = 0\n",
    "\n",
    "    if step > 1:\n",
    "        overlaps = calculate_overlaps(ansatz, prev_states, parameters, sampler)\n",
    "        total_cost = np.sum([np.real(betas[state] * overlap) for state, overlap in enumerate(overlaps)])\n",
    "\n",
    "    estimator_result = estimator_job.result()[0]\n",
    "\n",
    "    value = estimator_result.data.evs[0] + total_cost\n",
    "\n",
    "    return value"
   ]
  },
  {
   "cell_type": "markdown",
   "id": "387b36ab",
   "metadata": {},
   "source": [
    "Note especially that the cost function above refers to the calculate_overlaps function, which actually creates a new quantum circuit. If we want to run on real hardware, that new circuit must also be transpiled, hopefully in an optimal way, to run on the backend we select. Note that transpilation has been built in to the calculate_overlaps or cost_func_vqd functions. Feel free to try modifying the code yourself to build in this additional (and conditional) transpilation - but this will also be done for you in the next lesson.\n",
    "\n",
    "In this lesson, we will run the VQD algorithm using the Statevector Sampler and Statevector Estimator:"
   ]
  },
  {
   "cell_type": "code",
   "execution_count": null,
   "id": "05100900",
   "metadata": {},
   "outputs": [],
   "source": [
    "from qiskit.primitives import StatevectorSampler as Sampler\n",
    "from qiskit.primitives import StatevectorEstimator as Estimator\n",
    "sampler = Sampler()\n",
    "estimator = Estimator()"
   ]
  },
  {
   "cell_type": "markdown",
   "id": "4c6c5843",
   "metadata": {},
   "source": [
    "We will introduce an observable to be estimated. In the next lesson we will add some physical context to this, like the excited state of a molecule. It may be helpful to think of this observable as the Hamiltonian of a system that can have excited states, even though this observable has not been chosen to match any particular molecule or atom."
   ]
  },
  {
   "cell_type": "code",
   "execution_count": null,
   "id": "5b3428da",
   "metadata": {},
   "outputs": [],
   "source": [
    "from qiskit.quantum_info import SparsePauliOp\n",
    "observable = SparsePauliOp.from_list([(\"II\", 2), (\"XX\", -2), (\"YY\", 3), (\"ZZ\", -3)])"
   ]
  },
  {
   "cell_type": "markdown",
   "id": "d1b9d075",
   "metadata": {},
   "source": [
    "Here, we set the total number of states we wish to calculate (ground state and excited states, k), and the penalties (betas) for overlap between statevectors that should be orthogonal. The consequences of choosing betas to be too high or too low will be explored a bit in the next lesson. For now, we will simply use those provided below. We will start by using all zeros as our parameters. In your own calculations, you may want to use more clever starting parameters based on your knowledge of the system or on previous calculations."
   ]
  },
  {
   "cell_type": "code",
   "execution_count": null,
   "id": "dc07aa88",
   "metadata": {},
   "outputs": [],
   "source": [
    "k = 3\n",
    "betas = [33, 33, 33]\n",
    "x0 = np.zeros(8)"
   ]
  },
  {
   "cell_type": "code",
   "execution_count": null,
   "id": "324b1fb5",
   "metadata": {},
   "outputs": [
    {
     "name": "stdout",
     "output_type": "stream",
     "text": [
      " message: Maximum number of function evaluations has been exceeded.\n",
      " success: False\n",
      "  status: 2\n",
      "     fun: -1.039866358265446\n",
      "       x: [-1.132e-01  9.052e-02  1.805e-02 -5.802e-08  2.986e-03\n",
      "           -1.387e-01 -5.869e-08 -1.152e-01]\n",
      "    nfev: 200\n",
      "   maxcv: 0.0\n",
      " message: Optimization terminated successfully.\n",
      " success: True\n",
      "  status: 1\n",
      "     fun: -1.0358656724353978\n",
      "       x: [ 1.416e-01 -1.408e-01  4.542e-01  1.151e-01  2.994e+00\n",
      "            3.189e+00  4.039e-01 -1.007e+00]\n",
      "    nfev: 174\n",
      "   maxcv: 0.0\n",
      " message: Optimization terminated successfully.\n",
      " success: True\n",
      "  status: 1\n",
      "     fun: 4.0159132862026\n",
      "       x: [ 1.416e+00  1.697e+00  6.044e-01  3.451e-01  2.673e+00\n",
      "           -1.141e+00 -7.029e-01  1.509e+00]\n",
      "    nfev: 93\n",
      "   maxcv: 0.0\n"
     ]
    }
   ],
   "source": [
    "from scipy.optimize import minimize\n",
    "\n",
    "prev_states = []\n",
    "prev_opt_parameters = []\n",
    "eigenvalues = []\n",
    "\n",
    "for step in range(1, k + 1):\n",
    "    \n",
    "    if step > 1:\n",
    "        prev_states.append(ansatz.assign_parameters(prev_opt_parameters))\n",
    "    \n",
    "    result = minimize(cost_func_vqd, x0, args=(ansatz, prev_states, step, betas, estimator, sampler, observable), method=\"COBYLA\", options={'maxiter': 200,})\n",
    "    print(result)\n",
    "\n",
    "    prev_opt_parameters = result.x\n",
    "    eigenvalues.append(result.fun)"
   ]
  },
  {
   "cell_type": "markdown",
   "id": "97d883d8",
   "metadata": {},
   "source": [
    "The values we obtained from the cost function are approximately -6.00, 4.02, and 5.61. The important thing about these results is that the function values are increasing. If we had obtained a first excited state that is lower in energy than our initial, unconstrained calculation of the ground state, that would have indicated an error somewhere in our code.\n",
    "\n",
    "The values of x are the parameters that yielded a statevector corresponding to each of these costs/energies.\n",
    "\n",
    "Finally, we note that all three minimizations converged to within the default tolerance of the classical optimizer (here COBYLA). They required 131, 110, and 90 function evaluations, respectively."
   ]
  },
  {
   "cell_type": "markdown",
   "id": "5d676ced",
   "metadata": {},
   "source": [
    "## Quantum Sampling Regression (QSR)\n",
    "\n",
    "One of the main issues with VQE is the multiple calls to a quantum computer that are required to obtain the parameters for each step, including\n",
    "$k, k−1$, etc. This is especially problematic when access to quantum devices is queued. While a \n",
    "`Session` can be used to group multiple iterative calls, an alternative approach is to use sampling. By utilizing more classical resources, we can complete the full optimization process in a single call. This is where Quantum Sampling Regression comes into play. Since access to quantum computers is still a low-offer/high-demand commodity, we find this trade-off to be both possible and convenient for many current studies. This approach harnesses all available classical capabilities while still capturing many of the inner workings and intrinsic properties of quantum computations that do not appear in simulation.\n",
    "\n",
    "![alt text](../../../img/instances_QSR.svg)\n",
    "\n",
    "The idea behind QSR is that the cost function $C(\\theta) := \\langle \\psi(\\theta) | \\hat{H} | \\psi(\\theta) \\rangle$ can be expressed as a Fourier series in the following manner:\n",
    "\n",
    "$$\n",
    "C(\\vec{\\theta}) := \\langle \\psi(\\vec{\\theta}) | \\hat{H} | \\psi(\\vec{\\theta}) \\rangle = a_0 + \\sum_{k=1}^{S} \\left[ a_k \\cos(k\\theta) + b_k \\sin(k\\theta) \\right]\n",
    "$$\n",
    "\n",
    "Depending on the periodicity and bandwidth of the original function, the set $S$ may be finite or infinite. For the purposes of this discussion, we will assume it is infinite. The next step is to sample the cost function $C(\\theta)$ multiple times in order to obtain the Fourier coefficients $\\{a_0, a_k, b_k\\}_{k=1}^S$. Specifically, since we have $2S + 1$ unknowns, we will need to sample the cost function $2S + 1$ times.\n",
    "\n",
    "If we then sample the cost function for $2S + 1$ parameter values $\\{\\theta_1, \\dots, \\theta_{2S+1}\\}$, we can obtain the following system:\n",
    "\n",
    "$$\n",
    "\\begin{pmatrix}\n",
    "1 & \\cos(\\theta_1) & \\sin(\\theta_1) & \\cos(2\\theta_1) & \\cdots & \\sin(S\\theta_1) \\\\\n",
    "1 & \\cos(\\theta_2) & \\sin(\\theta_2) & \\cos(2\\theta_2) & \\cdots & \\sin(S\\theta_2) \\\\\n",
    "\\vdots & \\vdots & \\vdots & \\vdots & \\ddots & \\vdots \\\\\n",
    "1 & \\cos(\\theta_{2S+1}) & \\sin(\\theta_{2S+1}) & \\cos(2\\theta_{2S+1}) & \\cdots & \\sin(S\\theta_{2S+1})\n",
    "\\end{pmatrix}\n",
    "\\begin{pmatrix}\n",
    "a_0 \\\\ a_1 \\\\ b_1 \\\\ a_2 \\\\ \\vdots \\\\ b_S\n",
    "\\end{pmatrix}\n",
    "=\n",
    "\\begin{pmatrix}\n",
    "C(\\theta_1) \\\\ C(\\theta_2) \\\\ \\vdots \\\\ C(\\theta_{2S+1})\n",
    "\\end{pmatrix},\n",
    "$$\n",
    "\n",
    "that we’ll rewrite as\n",
    "\n",
    "$$\n",
    "Fa = c.\n",
    "$$\n",
    "\n",
    "In practice, this system is generally not consistent because the cost function values $c$ are not exact. Therefore, it is usually a good idea to normalize them by multiplying them by $F^\\dagger$ on the left, which results in:\n",
    "\n",
    "$$\n",
    "F^\\dagger F a = F^\\dagger c.\n",
    "$$\n",
    "\n",
    "This new system is always consistent, and its solution is a least-squares solution to the original problem. If we have $k$ parameters instead of just one, and each parameter $\\theta^i$ has its own $S_i$ for $i \\in \\{1, \\dots, k\\}$, then the total number of samples required is:\n",
    "\n",
    "$$\n",
    "T = \\prod_{i=1}^{k}(2S_i + 1) \\leq \\prod_{i=1}^{k}(2S_{\\text{max}} + 1) = (2S_{\\text{max}} + 1)^n,\n",
    "$$\n",
    "\n",
    "where $S_{\\text{max}} = \\max_i(S_i)$. Furthermore, adjusting $S_{\\text{max}}$ as a tunable parameter (instead of inferring it) opens up new possibilities, such as:\n",
    "\n",
    "- **Oversampling**: to improve accuracy.  \n",
    "- **Undersampling**: to boost performance by reducing runtime overhead or eliminating local minima.\n"
   ]
  },
  {
   "cell_type": "markdown",
   "id": "6fb6dd19",
   "metadata": {},
   "source": [
    "### QSR’s Theoretical Layout\n",
    "\n",
    "QSR's layout can be summarized as follows:\n",
    "\n",
    "- Prepare reference operators $U_R$  \n",
    "  - We'll go from the state $|0\\rangle$ to the reference state $|\\rho\\rangle$\n",
    "- Apply the variational form $U_V(\\vec{\\theta}_{i,j})$ to create an ansatz $U_A(\\vec{\\theta}_{i,j})$\n",
    "- Determine the bandwidth associated with each parameter in the ansatz. A upper bound is sufficient.\n",
    "- Bootstrap at $i = 0$ if we have a similar problem (typically found via classical simulation or sampling)\n",
    "- Sample the cost function $C(\\vec{\\theta}) := a_0 + \\sum_{k=1}^{S}[a_k \\cos(k\\theta) + b_k \\sin(k\\theta)]$ at least $T$ times  \n",
    "  - $T = \\prod_{i=1}^{k}(2S_i + 1) \\leq \\prod_{i=1}^{k}(2S_{\\text{max}} + 1) = (2S_{\\text{max}} + 1)^n$\n",
    "  - Decide whether to oversample/undersample to balance speed vs accuracy by adjusting $T$.\n",
    "- Compute the Fourier coefficients from the samples (i.e., solve the normalized linear system of equations).\n",
    "- Solve for the global minimum of the resulting regression function on a classical machine.\n",
    "\n",
    "\n"
   ]
  },
  {
   "cell_type": "markdown",
   "id": "960a655e",
   "metadata": {},
   "source": [
    "## Summary\n",
    "\n",
    "\n",
    "With this lesson, you learned about multiple variational instances available:\n",
    "\n",
    "- General layout  \n",
    "- Introducing weights and penalties to adjust a cost function  \n",
    "- Exploring undersampling vs oversampling to trade-off speed vs accuracy  \n",
    "\n",
    "These ideas can be adapted to form a custom variational algorithm that fits your problem. We encourage you to share your results with the community. The next lesson will explore how to use a variational algorithm to solve an application."
   ]
  }
 ],
 "metadata": {
  "kernelspec": {
   "display_name": ".venv",
   "language": "python",
   "name": "python3"
  },
  "language_info": {
   "codemirror_mode": {
    "name": "ipython",
    "version": 3
   },
   "file_extension": ".py",
   "mimetype": "text/x-python",
   "name": "python",
   "nbconvert_exporter": "python",
   "pygments_lexer": "ipython3",
   "version": "3.13.3"
  }
 },
 "nbformat": 4,
 "nbformat_minor": 5
}
