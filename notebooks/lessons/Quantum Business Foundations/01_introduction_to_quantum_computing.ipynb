{
 "cells": [
  {
   "cell_type": "markdown",
   "id": "c9075e7b",
   "metadata": {},
   "source": [
    "# Introduction to quantum computing\n",
    "## Table of Contents\n",
    "\n",
    "1. [What Problems Could Quantum Computing Solve?](#what-problems-could-quantum-computing-solve)  \n",
    "2. [The Business Case for Quantum Computing](#the-business-case-for-quantum-computing)  \n",
    "3. [Potential Problem Classes for Quantum Computing](#potential-problem-classes-for-quantum-computing)  \n",
    "4. [The Path from Science to Systems](#the-path-from-science-to-systems)  \n",
    "5. [Key Takeaways](#key-takeaways)"
   ]
  },
  {
   "cell_type": "markdown",
   "id": "b7526cb0",
   "metadata": {},
   "source": [
    "## What Problems Could Quantum Computing Solve?\n",
    "\n",
    "Quantum computers, though once large lab experiments, are now commercially available cloud-based computing resources capable of performing calculations that can't be exactly simulated on classical computers. Enterprises are increasingly investigating how quantum computing may impact their industry. This training will introduce you to quantum computing and its potential business value. Additionally, this training will equip you to answer questions as you begin your quantum computing journey. IBM Quantum offers many resources for you to start learning about quantum computing, regardless of your role in your organization.\n",
    "\n",
    "- What problems could quantum computing solve?\n",
    "\n",
    "Quantum computing harnesses the laws of quantum mechanics to solve complex mathematical problems. When scientists and engineers encounter tough problems, they typically turn to supercomputers—large classical computers with thousands of central processing units (CPUs) and graphics processing units (GPUs). However, while classical supercomputers are very good at solving certain types of problems, they struggle to solve problems with many variables interacting in complicated ways. Quantum technology could help us push past these barriers of complexity to address important problems across industries worldwide.\n",
    "\n",
    "Let’s begin by watching this video on the types of problems quantum computers may solve, presented by Katie Pizzolato, Director of IBM Quantum Theory and Computational Science at IBM Quantum.\n",
    "\n",
    "Some areas considered particularly promising for quantum computing applications include:\n",
    "\n",
    "- **Simulation** - Simulation of physical or chemical systems which are already quantum mechanical in nature.\n",
    "- **Optimization** - Finding optimal solutions to complex problems, typically cast as minimizations problems.\n",
    "- **Data with complex structure** - Using quantum computing to explore new models in machine learning and data science."
   ]
  },
  {
   "cell_type": "markdown",
   "id": "51976811",
   "metadata": {},
   "source": [
    "## The Business Case for Quantum Computing\n",
    "\n",
    "Although quantum computing won’t replace conventional computers, it represents a new computing paradigm. A recent report by the IBM Institute for Business Value, The Quantum Decade, outlines major drivers for this next generation of computing. Consider these aspects in evaluating quantum for your business:\n",
    "\n",
    "Global priorities – As entire industries face greater uncertainty, business models are becoming more sensitive to and dependent on new technologies.\n",
    "\n",
    "The future of computing – The integration of quantum computing, AI, and classical computing into hybrid multi-cloud workflows will drive the most significant computing revolution in 60 years.\n",
    "\n",
    "The discovery-driven enterprise – Enterprises will evolve from analyzing data to discovering new ways to solve problems.\n",
    "\n",
    "Mounting pressure to solve exponential problems – Examples include discovery of new materials, developing drugs to tackle emerging diseases, and re-engineering supply chains for resilience.\n",
    "\n",
    "Quantum technology at a tipping point – With hardware and qubits scaling rapidly, it's never been more important for domain experts to participate in algorithm discovery. Circuits will increase in quality, capacity, and variety as new algorithms emerge.\n",
    "\n",
    "Quantum ecosystem scaling – Open innovation fosters collaborative learning. Practitioners and scientists must be trained to apply quantum computing to real-world problems, while physicists and engineers can create hardware and software informed by domain-specific expertise.\n",
    "\n",
    "Check your understanding\n",
    "Read the question below, think about your answer, then click the triangle to reveal the solution.\n",
    "\n",
    "True or false: Quantum computers will replace classical computers in the future.\n",
    "False. Quantum plus classical computers could soon outperform the use of classical computers alone in a meaningful task. The integration of quantum computing, AI, and classical computing into hybrid multi-cloud workflows will drive the most significant computing revolution. We call this vision of connected quantum and classical quantum-centric supercomputing.\n"
   ]
  },
  {
   "cell_type": "markdown",
   "id": "9a6952cc",
   "metadata": {},
   "source": [
    "## Potential Problem Classes for Quantum Computing\n",
    "\n",
    "For more detail about the computational complexity classes that Victoria introduced in the video above, check out this article. There you will learn more about a theoretical list of the problems that a quantum computer can easily solve called [BQP](https://medium.com/qiskit/what-can-a-quantum-computer-actually-do-4daed0691f6b) — bounded-error quantum polynomial time.\n"
   ]
  },
  {
   "cell_type": "markdown",
   "id": "5f82b490",
   "metadata": {},
   "source": [
    "## The Path from Science to Systems\n",
    "\n",
    "What makes quantum computing extraordinary is its capacity to solve today’s unsolvable problems, ultimately delivering business value. Quantum computing can explore these problems because it is based on quantum mechanics, which is the deepest explanation of reality available. Quantum computing exploits quantum mechanical phenomena to process information.\n",
    "\n",
    "While some may consider quantum computing an innovative area at the beginning of its life cycle, the reality is that the theory underlying quantum computing has been evolving since at least the 1970s. It is important to recognize some of the key milestones and breakthroughs over time, as what was previously measured in inches of progress has rapidly progressed from science to systems.\n",
    "\n",
    "\n",
    "| Year | Event Description |\n",
    "|-------|-------------------|\n",
    "| 1970 | Charles H. Bennett may have been the first person to write the phrase “quantum information theory” on February 24, 1970, while working as a research scientist at IBM. His note was a harbinger of the tremendous work by many others that would follow, leading the world onto the path toward quantum advantage. |\n",
    "| 1981 | Richard Feynman, a noted theoretical physicist, identified the potential for quantum computers as far back as 1981. At the first Conference on the Physics of Computation, organized by IBM and the Massachusetts Institute of Technology (MIT), he famously closed his keynote speech with the statement “[...] nature isn’t classical, dammit, and if you want to make a simulation of nature, you’d better make it quantum mechanical, and by golly it’s a wonderful problem, because it doesn’t look so easy.” [1] |\n",
    "| 1994 | In 1994, Peter Shor, a mathematician then at AT&T Bell Labs in New Jersey, proved that a fully functional quantum computer could do something remarkable: it could crack RSA encryption, a popular means of securing private communications. He showed that his quantum algorithm could do in minutes what might take a regular computer the lifetime of the universe to unravel. [2] |\n",
    "| 1996 | A year later, Lov Grover, also a Bell Labs scientist, came up with a quantum algorithm that would allow people to swiftly search unstructured databases. Scientists piled into the field, and advances in hardware soon followed the breakthroughs in code. [2] |\n",
    "| 1998 | The first experimental demonstration of a quantum algorithm was achieved in 1998. A working 2–qubit nuclear magnetic resonance (NMR) quantum computer was used to solve Deutsch’s problem by Jonathan A. Jones and Michele Mosca at Oxford University and shortly after by Isaac L. Chuang at IBM’s Almaden Research Center and Mark Kubinec and the University of California, Berkeley, together with coworkers at Stanford University and MIT. [3] |\n",
    "| 2001 | 2001 saw the first execution of Shor’s algorithm at IBM’s Almaden Research Center and Stanford University. The number 15 was factored using 1018 identical molecules, each containing seven active nuclear spins. [4] |\n",
    "| 2005 | By the mid–2000s, the research field had developed several types of superconducting qubits, each with its own advantages and drawbacks. In 2007, a team at Yale found a way to combine some of these approaches to overcome their individual shortcomings, naming the new design the “transmon qubit.” The transmon qubit would go on to be at the heart of many companies’ efforts to develop quantum computers, including IBM Quantum, Google AI, and Rigetti Computing. A member of the Yale team, Jay Gambetta, later became Vice President of Quantum Computing for IBM Research. |\n",
    "| 2016 | In May of 2016, IBM was the first company to launch a cloud quantum computing service that included real quantum computers, called IBM Quantum Experience. [5] |\n",
    "| 2017 | In March of 2017, IBM released Qiskit, an open-source quantum programming framework. [6] In December of 2017, the IBM Quantum Network was launched to establish a quantum computing commercial ecosystem. |\n",
    "| 2019 | IBM opened the Quantum Computation Center in New York, bringing the world’s largest fleet of quantum computers online. |\n",
    "| 2020 | In September of 2020, IBM released a development roadmap to go from the noisy, small-scale quantum computers of the day to the million-plus qubit quantum computers of the future. The roadmap lays the course for hitting a milestone of a 1,121 qubit quantum computer in the year 2023, 1,386+ qubits in 2024, and over 4,000 qubits in 2025. |\n",
    "| 2021 | In the spring of 2021, IBM announced the release of Qiskit Runtime, a containerized execution environment for quantum-classical programs that eliminated some of the largest bottlenecks to workload performance. [7] In November of 2021, IBM reached a major milestone in quantum computing when it broke the 100-qubit processor barrier with Eagle, a 127-qubit quantum processor. [9] |\n",
    "| 2022 | In April of 2022, IBM launched Qiskit Runtime primitives, simplifying the developer experience and enabling users to get more meaningful results from quantum computers. [10] In May of 2022, IBM released an updated roadmap that anticipates a coming era of quantum-centric supercomputing in which modularity and diverse communication techniques will increase computational capacity. [11] In November of 2022, IBM introduced their 433-qubit IBM Quantum Osprey processor — the largest to date using superconducting qubits. [12] In that same month, IBM also launched Dynamic Circuits — computational circuits that use quantum and classical resources to enable mid-circuit measurements and feed-forward operations [13] — and announced new resilience level options for Qiskit Runtime primitives that allow users to experiment with error suppression and mitigation tools. [14] IBM is taking steps toward realizing quantum-centric supercomputing by releasing advanced middleware including the Circuit Knitting Toolbox, in 2025. |\n",
    "| 2023 | The cover of Nature in June of 2023 featured a collaboration between IBM and UC Berkeley. Complex physical simulations were carried out by scientists with IBM Quantum on the 127-qubit IBM Quantum Eagle processor. The simulations were simultaneously run using state-of-the-art classical approximation methods on supercomputers located at Lawrence Berkeley National Lab and Purdue University. Eagle answers more accurate than the classical approximation methods, even in the regime beyond the capabilities of the brute force methods. |\n",
    "\n",
    "\n",
    "Click here to read the paper [Evidence for the utility of quantum computing before fault tolerance](https://www.nature.com/articles/s41586-023-06096-3)\n"
   ]
  },
  {
   "cell_type": "markdown",
   "id": "28c872f7",
   "metadata": {},
   "source": [
    "## Key Takeaways\n",
    "\n",
    "You can keep these key takeaways in mind:\n",
    "\n",
    "- Quantum computing represents a new computing paradigm that can work in unison with conventional computers.\n",
    "- It will enable us to understand our world differently and solve some previously intractable problems.\n",
    "- It has a history that has progressed over decades and has moved from theoretical science to systems accessible on the cloud.\n",
    "- While quantum computing cannot yet outperform methods in use today, organizations can take steps today to prepare for this fundamental change in computing."
   ]
  }
 ],
 "metadata": {
  "language_info": {
   "name": "python"
  }
 },
 "nbformat": 4,
 "nbformat_minor": 5
}
