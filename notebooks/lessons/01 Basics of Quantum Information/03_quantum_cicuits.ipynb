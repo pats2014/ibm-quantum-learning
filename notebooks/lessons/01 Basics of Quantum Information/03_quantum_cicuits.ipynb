{
 "cells": [
  {
   "cell_type": "markdown",
   "id": "7784125a",
   "metadata": {},
   "source": [
    "# Quantum Circuits\n",
    "\n",
    "\n",
    "Notes\n"
   ]
  },
  {
   "cell_type": "code",
   "execution_count": null,
   "id": "e90d1bd7",
   "metadata": {},
   "outputs": [
    {
     "name": "stdout",
     "output_type": "stream",
     "text": [
      "2.0.0\n"
     ]
    }
   ],
   "source": [
    "from qiskit import __version__\n",
    "print(__version__)"
   ]
  },
  {
   "cell_type": "code",
   "execution_count": 3,
   "id": "844acede",
   "metadata": {},
   "outputs": [],
   "source": [
    "# Importing necessary libraries\n",
    "from qiskit import QuantumCircuit, QuantumRegister, ClassicalRegister\n",
    "from qiskit.quantum_info import Operator\n",
    "from qiskit_aer import AerSimulator\n",
    "from qiskit.visualization import plot_histogram"
   ]
  },
  {
   "cell_type": "markdown",
   "id": "ab8d2bc1",
   "metadata": {},
   "source": [
    "We've seen some of these imports in the two previous lessons, but others are new. For now, let's just highlight that we will be using the Aer simulator to simulate quantum circuits.\n",
    "\n",
    "To begin, we can build the circuit above as follows, by defining a quantum circuit with one qubit and sequentially adding gates from left to right."
   ]
  },
  {
   "cell_type": "code",
   "execution_count": 4,
   "id": "c54d7566",
   "metadata": {},
   "outputs": [
    {
     "data": {
      "image/png": "[encoded data removed]",
      "text/plain": [
       "<Figure size 436.286x117.056 with 1 Axes>"
      ]
     },
     "metadata": {},
     "output_type": "display_data"
    }
   ],
   "source": [
    "circuit = QuantumCircuit(1)\n",
    "circuit.h(0)\n",
    "circuit.s(0)\n",
    "circuit.h(0)\n",
    "circuit.t(0)\n",
    "\n",
    "display(circuit.draw(output=\"mpl\"))"
   ]
  },
  {
   "cell_type": "markdown",
   "id": "67810bab",
   "metadata": {},
   "source": [
    "The default names for qubits in Qiskit are q0, q1, q2​, etc., and when there's just a single qubit, like in our example, the default name is \n",
    "q rather than q0. If we wish to choose our own name we can do this using the `QuantumRegister` class, which allows us to name a collection of qubits as treat it as a single object. Here we're doing this with just a single qubit."
   ]
  },
  {
   "cell_type": "code",
   "execution_count": 5,
   "id": "300d4a48",
   "metadata": {},
   "outputs": [
    {
     "data": {
      "image/png": "[encoded data removed]",
      "text/plain": [
       "<Figure size 437.882x117.056 with 1 Axes>"
      ]
     },
     "metadata": {},
     "output_type": "display_data"
    }
   ],
   "source": [
    "X = QuantumRegister(1, \"X\")\n",
    "circuit = QuantumCircuit(X)\n",
    "circuit.h(X)\n",
    "circuit.s(X)\n",
    "circuit.h(X)\n",
    "circuit.t(X)\n",
    "\n",
    "display(circuit.draw(output=\"mpl\"))"
   ]
  },
  {
   "attachments": {
    "ebit-circuit.png": {
     "image/png": "[encoded data removed]"
    }
   },
   "cell_type": "markdown",
   "id": "b4ddeb9e",
   "metadata": {},
   "source": [
    "Here's another example of a quantum circuit, this time with two qubits:\n",
    "\n",
    "![ebit-circuit.png](attachment:ebit-circuit.png)\n",
    "\n",
    "Quantum circuit that creates an ebit\n",
    "\n",
    "As always, the gate labeled H refers to a Hadamard operation, while the second gate is a controlled-NOT operation: the solid circle represents the control qubit and the circle resembling the symbol ⊕ denotes the target qubit.\n",
    "\n",
    "Before examining this circuit in greater detail and explaining what it does, it is imperative that we first clarify how qubits are ordered in quantum circuits. This connects with the convention that Qiskit uses for naming and ordering systems that was mentioned briefly in the previous lesson."
   ]
  },
  {
   "cell_type": "markdown",
   "id": "534dbba7",
   "metadata": {},
   "source": [
    "# Qiskit's Qubit Ordering Convention for Circuits\n",
    "\n",
    "In Qiskit, the **topmost** qubit in a circuit diagram has index `0` and corresponds to the **rightmost** position in a tuple of qubits (or in a string, Cartesian product, or tensor product corresponding to this tuple). The **second-from-top** qubit has index `1`, and corresponds to the position **second-from-right** in a tuple, and so on, down to the **bottommost** qubit, which has the highest index, and corresponds to the **leftmost** position in a tuple.\n",
    "\n",
    "In particular, Qiskit's default names for the qubits in an *n*-qubit circuit are represented by the *n*-tuple `(q_{n-1}, ..., q_0)`, with `q_0` being the qubit on the top and `q_{n−1}` on the bottom in quantum circuit diagrams.\n",
    "\n",
    "---\n",
    "\n",
    "Please be aware that this is a reversal of a more common convention for ordering qubits in circuits, and is a frequent source of confusion. Further information on this ordering convention can be found on the [Bit-ordering in Qiskit](https://docs.quantum.ibm.com/guides/bit-ordering) documentation page.\n",
    "\n",
    "Although we sometimes deviate from the specific default names `q_0, ..., q_{n-1}` used for qubits by Qiskit, we will always follow the ordering convention described above when interpreting circuit diagrams throughout this course. Thus, our interpretation of the circuit above is that it describes an operation on a pair of qubits `(X, Y)`. If the input to the circuit is a quantum state `|ψ⟩ ⊗ |ϕ⟩`, for instance, then this means that the lower qubit `X` starts in the state `|ψ⟩` and the upper qubit `Y` starts in the state `|ϕ⟩`.\n",
    "\n",
    "---\n",
    "\n",
    "To understand what the circuit does, we can go from left to right through its operations.\n",
    "\n",
    "1. The first operation is a Hadamard operation on Y:\n"
   ]
  },
  {
   "cell_type": "code",
   "execution_count": null,
   "id": "77c12977",
   "metadata": {},
   "outputs": [],
   "source": []
  },
  {
   "cell_type": "code",
   "execution_count": null,
   "id": "8bfea2e0",
   "metadata": {},
   "outputs": [],
   "source": []
  },
  {
   "cell_type": "code",
   "execution_count": null,
   "id": "a14e9a94",
   "metadata": {},
   "outputs": [],
   "source": []
  },
  {
   "cell_type": "code",
   "execution_count": null,
   "id": "d3c31d81",
   "metadata": {},
   "outputs": [],
   "source": []
  }
 ],
 "metadata": {
  "kernelspec": {
   "display_name": ".venv",
   "language": "python",
   "name": "python3"
  },
  "language_info": {
   "codemirror_mode": {
    "name": "ipython",
    "version": 3
   },
   "file_extension": ".py",
   "mimetype": "text/x-python",
   "name": "python",
   "nbconvert_exporter": "python",
   "pygments_lexer": "ipython3",
   "version": "3.13.2"
  }
 },
 "nbformat": 4,
 "nbformat_minor": 5
}
