{
 "cells": [
  {
   "cell_type": "markdown",
   "id": "3f36f5bb",
   "metadata": {},
   "source": [
    "# Multiple Systems\n",
    "\n",
    "## Cartesian Product\n",
    "The Cartesian product is a mathematical operation that returns a set (or product) of all possible ordered pairs from two or more sets. In the context of multiple systems, it is used to describe the combined state space of independent systems.\n",
    "\n",
    "## Probability States\n",
    "Probability states represent the likelihood of different outcomes in a probabilistic system. They are typically expressed as a probability distribution over a set of possible states.\n",
    "\n",
    "### Independence\n",
    "Independence refers to the property where the occurrence of one event or state does not affect the probability of another. In probabilistic systems, two events are independent if their joint probability equals the product of their individual probabilities. Entaglement is the lack of independence.\n",
    "\n",
    "## Measurements of probabilistic states\n",
    "Measurements of probabilistic states involve determining the probabilities of various outcomes in a system. This is often done by sampling or observing the system and analyzing the frequency of occurrences.\n",
    "\n",
    "## Operations on probabilistic States\n",
    "Operations on probabilistic states involve transformations that modify the probability distribution of a system. These operations can include scaling, normalization, or applying stochastic matrices.\n",
    "\n",
    "### Stochastic matrices\n",
    "A stochastic matrix is a square matrix used to describe the transitions of a Markov chain. Each entry in the matrix represents a probability, and the rows sum to 1. It is used to model operations on probabilistic states.\n",
    "\n",
    "## Quantum States\n",
    "Quantum states describe the state of a quantum system. They are represented mathematically by vectors in a complex Hilbert space and can exist in superpositions of multiple states.\n",
    "\n",
    "## Measurements of quantum states\n",
    "Measurements of quantum states involve observing a quantum system to extract information about its state. This process collapses the quantum state into one of its possible outcomes, based on probabilities defined by the state's wavefunction.\n",
    "\n",
    "## Unitary Operations\n",
    "Unitary operations are transformations in quantum mechanics that preserve the norm of quantum states. They are represented by unitary matrices and describe reversible evolution in a quantum system.\n",
    "\n",
    "### Bell States\n",
    "A Bell state is a specific type of quantum state that represents the simplest and most well-known examples of quantum entanglement. Bell states are maximally entangled two-qubit states and are defined as:\n",
    "\n",
    "\\[\n",
    "\\begin{aligned}\n",
    "\\lvert \\Phi^+ \\rangle &= \\frac{1}{\\sqrt{2}} (\\lvert 00 \\rangle + \\lvert 11 \\rangle), \\\\\n",
    "\\lvert \\Phi^- \\rangle &= \\frac{1}{\\sqrt{2}} (\\lvert 00 \\rangle - \\lvert 11 \\rangle), \\\\\n",
    "\\lvert \\Psi^+ \\rangle &= \\frac{1}{\\sqrt{2}} (\\lvert 01 \\rangle + \\lvert 10 \\rangle), \\\\\n",
    "\\lvert \\Psi^- \\rangle &= \\frac{1}{\\sqrt{2}} (\\lvert 01 \\rangle - \\lvert 10 \\rangle).\n",
    "\\end{aligned}\n",
    "\\]\n",
    "\n",
    "### Swap Operations\n",
    "Swap operations are a specific type of unitary operation that exchange the states of two quantum systems. They are used to rearrange or manipulate quantum states in multi-system setups."
   ]
  },
  {
   "cell_type": "code",
   "execution_count": 1,
   "id": "8d6be586",
   "metadata": {},
   "outputs": [
    {
     "name": "stdout",
     "output_type": "stream",
     "text": [
      "2.0.0\n"
     ]
    }
   ],
   "source": [
    "from qiskit import __version__\n",
    "print(__version__)"
   ]
  },
  {
   "cell_type": "code",
   "execution_count": 2,
   "id": "a45b519c",
   "metadata": {},
   "outputs": [],
   "source": [
    "from qiskit.quantum_info import Statevector, Operator\n",
    "from numpy import sqrt"
   ]
  },
  {
   "cell_type": "markdown",
   "id": "f1c203a3",
   "metadata": {},
   "source": [
    "## Tensor products\n",
    "The `Statevector` class has a `tensor` method, which returns the tensor product of that `Statevector` with another, given as an argument. The argument is interpreted as the tensor factor on the right.\n",
    "\n",
    "For example, below we create two state vectors representing ∣0⟩ and ∣1⟩, and use the tensor method to create a new vector,\n",
    "\n",
    "∣ψ⟩=∣0⟩⊗∣1⟩\n",
    "\n",
    "Notice here that we're using the from_label method to define the states ∣0⟩ and ∣1⟩, rather than defining them ourselves."
   ]
  },
  {
   "cell_type": "code",
   "execution_count": null,
   "id": "f10f7d7b",
   "metadata": {},
   "outputs": [
    {
     "data": {
      "text/latex": [
       "$$ |01\\rangle$$"
      ],
      "text/plain": [
       "<IPython.core.display.Latex object>"
      ]
     },
     "metadata": {},
     "output_type": "display_data"
    }
   ],
   "source": [
    "# 2 state vectors and a tensor product\n",
    "zero = Statevector.from_label(\"0\")\n",
    "one = Statevector.from_label(\"1\")\n",
    "psi = zero.tensor(one)\n",
    "display(psi.draw(\"latex\"))"
   ]
  },
  {
   "cell_type": "markdown",
   "id": "2f85d395",
   "metadata": {},
   "source": [
    "\\[\n",
    "\\begin{aligned}\n",
    "|+i\\rangle = \\frac{1}{\\sqrt{2}} |0\\rangle + \\frac{i}{\\sqrt{2}} |1\\rangle\n",
    "\\quad \\text{and} \\quad\n",
    "|-i\\rangle = \\frac{1}{\\sqrt{2}} |0\\rangle - \\frac{i}{\\sqrt{2}} |1\\rangle\n",
    "\\end{aligned}\n",
    "\\]\n"
   ]
  },
  {
   "cell_type": "markdown",
   "id": "c055b28b",
   "metadata": {},
   "source": [
    "Other allowed labels include \"+\" and \"-\" for the plus and minus states, as well as \"r\" and \"l\" (short for \"right\" and \"left\") for the states"
   ]
  },
  {
   "cell_type": "code",
   "execution_count": 4,
   "id": "515b73ca",
   "metadata": {},
   "outputs": [
    {
     "data": {
      "text/latex": [
       "$$\\frac{1}{2} |00\\rangle- \\frac{i}{2} |01\\rangle+\\frac{1}{2} |10\\rangle- \\frac{i}{2} |11\\rangle$$"
      ],
      "text/plain": [
       "<IPython.core.display.Latex object>"
      ]
     },
     "metadata": {},
     "output_type": "display_data"
    }
   ],
   "source": [
    "#  example, of the tensor product of ∣+⟩ and  ∣−i⟩\n",
    "plus = Statevector.from_label(\"+\")\n",
    "minus_i = Statevector.from_label(\"l\")\n",
    "phi = plus.tensor(minus_i)\n",
    "display(phi.draw(\"latex\"))"
   ]
  },
  {
   "cell_type": "code",
   "execution_count": 5,
   "id": "5c0b96df",
   "metadata": {},
   "outputs": [
    {
     "data": {
      "text/latex": [
       "$$\\frac{1}{2} |00\\rangle- \\frac{i}{2} |01\\rangle+\\frac{1}{2} |10\\rangle- \\frac{i}{2} |11\\rangle$$"
      ],
      "text/plain": [
       "<IPython.core.display.Latex object>"
      ]
     },
     "metadata": {},
     "output_type": "display_data"
    }
   ],
   "source": [
    "# An alternative is to use the ^ operation for tensor products, which naturally gives the same results.\n",
    "display((plus ^ minus_i).draw(\"latex\"))"
   ]
  },
  {
   "cell_type": "markdown",
   "id": "aefec33c",
   "metadata": {},
   "source": [
    "The `Operator` class also has a `tensor` method (as well as a `from_label` method), as we see in the following examples."
   ]
  },
  {
   "cell_type": "code",
   "execution_count": 10,
   "id": "ed32b7de",
   "metadata": {},
   "outputs": [
    {
     "name": "stdout",
     "output_type": "stream",
     "text": [
      "Hadamard\n"
     ]
    },
    {
     "data": {
      "text/latex": [
       "$$\n",
       "\n",
       "\\begin{bmatrix}\n",
       "\\frac{\\sqrt{2}}{2} & \\frac{\\sqrt{2}}{2}  \\\\\n",
       " \\frac{\\sqrt{2}}{2} & - \\frac{\\sqrt{2}}{2}  \\\\\n",
       " \\end{bmatrix}\n",
       "$$"
      ],
      "text/plain": [
       "<IPython.core.display.Latex object>"
      ]
     },
     "metadata": {},
     "output_type": "display_data"
    },
    {
     "name": "stdout",
     "output_type": "stream",
     "text": [
      "Identity\n"
     ]
    },
    {
     "data": {
      "text/latex": [
       "$$\n",
       "\n",
       "\\begin{bmatrix}\n",
       "1 & 0  \\\\\n",
       " 0 & 1  \\\\\n",
       " \\end{bmatrix}\n",
       "$$"
      ],
      "text/plain": [
       "<IPython.core.display.Latex object>"
      ]
     },
     "metadata": {},
     "output_type": "display_data"
    },
    {
     "name": "stdout",
     "output_type": "stream",
     "text": [
      "Pauli-X\n"
     ]
    },
    {
     "data": {
      "text/latex": [
       "$$\n",
       "\n",
       "\\begin{bmatrix}\n",
       "0 & 1  \\\\\n",
       " 1 & 0  \\\\\n",
       " \\end{bmatrix}\n",
       "$$"
      ],
      "text/plain": [
       "<IPython.core.display.Latex object>"
      ]
     },
     "metadata": {},
     "output_type": "display_data"
    }
   ],
   "source": [
    "# Hadamard, Identity and Pauli-X operators\n",
    "# The Hadamard operator is defined as:\n",
    "H = Operator.from_label(\"H\")\n",
    "# The Identity operator is defined as:\n",
    "I = Operator.from_label(\"I\")\n",
    "# The Pauli-X operator is defined as: (also known as NOT and bit-flip)\n",
    "X = Operator.from_label(\"X\")\n",
    "print(\"Hadamard\")\n",
    "display(H.draw(\"latex\"))\n",
    "print(\"Identity\")\n",
    "display(I.draw(\"latex\"))\n",
    "print(\"Pauli-X\")\n",
    "display(X.draw(\"latex\"))\n"
   ]
  },
  {
   "cell_type": "code",
   "execution_count": null,
   "id": "678e08af",
   "metadata": {},
   "outputs": [
    {
     "data": {
      "text/latex": [
       "$$\n",
       "\n",
       "\\begin{bmatrix}\n",
       "\\frac{\\sqrt{2}}{2} & 0 & \\frac{\\sqrt{2}}{2} & 0  \\\\\n",
       " 0 & \\frac{\\sqrt{2}}{2} & 0 & \\frac{\\sqrt{2}}{2}  \\\\\n",
       " \\frac{\\sqrt{2}}{2} & 0 & - \\frac{\\sqrt{2}}{2} & 0  \\\\\n",
       " 0 & \\frac{\\sqrt{2}}{2} & 0 & - \\frac{\\sqrt{2}}{2}  \\\\\n",
       " \\end{bmatrix}\n",
       "$$"
      ],
      "text/plain": [
       "<IPython.core.display.Latex object>"
      ]
     },
     "metadata": {},
     "output_type": "display_data"
    },
    {
     "data": {
      "text/latex": [
       "$$\n",
       "\n",
       "\\begin{bmatrix}\n",
       "0 & 1 & 0 & 0  \\\\\n",
       " 1 & 0 & 0 & 0  \\\\\n",
       " 0 & 0 & 0 & 1  \\\\\n",
       " 0 & 0 & 1 & 0  \\\\\n",
       " \\end{bmatrix}\n",
       "$$"
      ],
      "text/plain": [
       "<IPython.core.display.Latex object>"
      ]
     },
     "metadata": {},
     "output_type": "display_data"
    },
    {
     "data": {
      "text/latex": [
       "$$\n",
       "\n",
       "\\begin{bmatrix}\n",
       "0 & \\frac{\\sqrt{2}}{2} & 0 & 0 & 0 & \\frac{\\sqrt{2}}{2} & 0 & 0  \\\\\n",
       " \\frac{\\sqrt{2}}{2} & 0 & 0 & 0 & \\frac{\\sqrt{2}}{2} & 0 & 0 & 0  \\\\\n",
       " 0 & 0 & 0 & \\frac{\\sqrt{2}}{2} & 0 & 0 & 0 & \\frac{\\sqrt{2}}{2}  \\\\\n",
       " 0 & 0 & \\frac{\\sqrt{2}}{2} & 0 & 0 & 0 & \\frac{\\sqrt{2}}{2} & 0  \\\\\n",
       " 0 & \\frac{\\sqrt{2}}{2} & 0 & 0 & 0 & - \\frac{\\sqrt{2}}{2} & 0 & 0  \\\\\n",
       " \\frac{\\sqrt{2}}{2} & 0 & 0 & 0 & - \\frac{\\sqrt{2}}{2} & 0 & 0 & 0  \\\\\n",
       " 0 & 0 & 0 & \\frac{\\sqrt{2}}{2} & 0 & 0 & 0 & - \\frac{\\sqrt{2}}{2}  \\\\\n",
       " 0 & 0 & \\frac{\\sqrt{2}}{2} & 0 & 0 & 0 & - \\frac{\\sqrt{2}}{2} & 0  \\\\\n",
       " \\end{bmatrix}\n",
       "$$"
      ],
      "text/plain": [
       "<IPython.core.display.Latex object>"
      ]
     },
     "metadata": {},
     "output_type": "display_data"
    }
   ],
   "source": [
    "# Display the tensor products of the operators\n",
    "# The tensor product of the Hadamard operator and the Identity operator is:\n",
    "# H ⊗ I\n",
    "display(H.tensor(I).draw(\"latex\"))\n",
    "# The tensor product of the Identity operator and the Pauli-X operator is:\n",
    "# I ⊗ X\n",
    "display(I.tensor(X).draw(\"latex\"))\n",
    "# The tensor product of the Hadamard operator and the Pauli-X operator is:\n",
    "# H ⊗ I ⊗ X\n",
    "display(H.tensor(I).tensor(X).draw(\"latex\"))"
   ]
  },
  {
   "cell_type": "code",
   "execution_count": 12,
   "id": "23252abc",
   "metadata": {},
   "outputs": [
    {
     "data": {
      "text/latex": [
       "$$\n",
       "\n",
       "\\begin{bmatrix}\n",
       "0 & \\frac{\\sqrt{2}}{2} & 0 & 0 & 0 & \\frac{\\sqrt{2}}{2} & 0 & 0  \\\\\n",
       " \\frac{\\sqrt{2}}{2} & 0 & 0 & 0 & \\frac{\\sqrt{2}}{2} & 0 & 0 & 0  \\\\\n",
       " 0 & 0 & 0 & \\frac{\\sqrt{2}}{2} & 0 & 0 & 0 & \\frac{\\sqrt{2}}{2}  \\\\\n",
       " 0 & 0 & \\frac{\\sqrt{2}}{2} & 0 & 0 & 0 & \\frac{\\sqrt{2}}{2} & 0  \\\\\n",
       " 0 & \\frac{\\sqrt{2}}{2} & 0 & 0 & 0 & - \\frac{\\sqrt{2}}{2} & 0 & 0  \\\\\n",
       " \\frac{\\sqrt{2}}{2} & 0 & 0 & 0 & - \\frac{\\sqrt{2}}{2} & 0 & 0 & 0  \\\\\n",
       " 0 & 0 & 0 & \\frac{\\sqrt{2}}{2} & 0 & 0 & 0 & - \\frac{\\sqrt{2}}{2}  \\\\\n",
       " 0 & 0 & \\frac{\\sqrt{2}}{2} & 0 & 0 & 0 & - \\frac{\\sqrt{2}}{2} & 0  \\\\\n",
       " \\end{bmatrix}\n",
       "$$"
      ],
      "text/plain": [
       "<IPython.core.display.Latex object>"
      ]
     },
     "metadata": {},
     "output_type": "display_data"
    }
   ],
   "source": [
    "display((H ^ I ^ X).draw(\"latex\"))"
   ]
  },
  {
   "cell_type": "markdown",
   "id": "4e2472c8",
   "metadata": {},
   "source": [
    "Compound states can be evolved using compound operations as we would expect — just like we saw for single systems in the previous lesson. For example, the following code computes the state\n",
    "\n",
    "(H ⊗ I)∣ ϕ ⟩ for ∣ ϕ ⟩ = ∣ + ⟩ ⊗ ∣ −i ⟩\n",
    "\n",
    "∣ϕ⟩=∣+⟩⊗∣−i⟩ (which was already defined above)."
   ]
  },
  {
   "cell_type": "code",
   "execution_count": 13,
   "id": "f182c8c4",
   "metadata": {},
   "outputs": [
    {
     "data": {
      "text/latex": [
       "$$\\frac{\\sqrt{2}}{2} |00\\rangle- \\frac{\\sqrt{2} i}{2} |01\\rangle$$"
      ],
      "text/plain": [
       "<IPython.core.display.Latex object>"
      ]
     },
     "metadata": {},
     "output_type": "display_data"
    }
   ],
   "source": [
    "display(phi.evolve(H ^ I).draw(\"latex\"))"
   ]
  },
  {
   "cell_type": "code",
   "execution_count": null,
   "id": "d1c8b47b",
   "metadata": {},
   "outputs": [],
   "source": []
  },
  {
   "cell_type": "markdown",
   "id": "dbeddb99",
   "metadata": {},
   "source": [
    "Here is some code that defines a `CX` operation and calculates `CX∣ψ⟩` for ∣ψ⟩ = ∣+⟩ ⊗ ∣0⟩. \n",
    "\n",
    "To be clear, this is a `CX` operation where the left-hand qubit is the control and the right-hand qubit is the target. The result is the Bell state ∣ϕ⁺⟩.\n"
   ]
  },
  {
   "cell_type": "code",
   "execution_count": 14,
   "id": "21d5fd82",
   "metadata": {},
   "outputs": [
    {
     "data": {
      "text/latex": [
       "$$\\frac{\\sqrt{2}}{2} |00\\rangle+\\frac{\\sqrt{2}}{2} |11\\rangle$$"
      ],
      "text/plain": [
       "<IPython.core.display.Latex object>"
      ]
     },
     "metadata": {},
     "output_type": "display_data"
    }
   ],
   "source": [
    "# Create a 2-qubit operator\n",
    "CX = Operator(\n",
    "    [[1, 0, 0, 0],\n",
    "     [0, 1, 0, 0],\n",
    "     [0, 0, 0, 1],\n",
    "     [0, 0, 1, 0]])\n",
    "psi = plus.tensor(zero)\n",
    "display(psi.evolve(CX).draw(\"latex\"))"
   ]
  },
  {
   "cell_type": "markdown",
   "id": "461f3c15",
   "metadata": {},
   "source": [
    "# Partial Measurements\n",
    "In the previous lesson, we used the measure method to simulate a measurement of a quantum state vector. This method returns two items: the simulated measurement result, and the new Statevector given this measurement.\n",
    "\n",
    "By default, measure measures all qubits in the state vector. We can, alternatively, provide a list of integers as an argument, which causes only those qubit indices to be measured. To demonstrate this, the code below creates the state\n",
    "\n",
    "\\[\n",
    "\\begin{aligned}\n",
    "\\lvert w \\rangle = \\frac{\\lvert 001 \\rangle + \\lvert 010 \\rangle + \\lvert 100 \\rangle}{\\sqrt{3}}\n",
    "\\end{aligned}\n",
    "\\]\n"
   ]
  },
  {
   "cell_type": "code",
   "execution_count": 18,
   "id": "afe1980b",
   "metadata": {},
   "outputs": [
    {
     "data": {
      "text/latex": [
       "$$\\frac{\\sqrt{3}}{3} |001\\rangle+\\frac{\\sqrt{3}}{3} |010\\rangle+\\frac{\\sqrt{3}}{3} |100\\rangle$$"
      ],
      "text/plain": [
       "<IPython.core.display.Latex object>"
      ]
     },
     "metadata": {},
     "output_type": "display_data"
    },
    {
     "name": "stdout",
     "output_type": "stream",
     "text": [
      "Measured: 1\n",
      "State after measurement:\n"
     ]
    },
    {
     "data": {
      "text/latex": [
       "$$ |001\\rangle$$"
      ],
      "text/plain": [
       "<IPython.core.display.Latex object>"
      ]
     },
     "metadata": {},
     "output_type": "display_data"
    },
    {
     "name": "stdout",
     "output_type": "stream",
     "text": [
      "Measured: 00\n",
      "State after measurement:\n"
     ]
    },
    {
     "data": {
      "text/latex": [
       "$$ |100\\rangle$$"
      ],
      "text/plain": [
       "<IPython.core.display.Latex object>"
      ]
     },
     "metadata": {},
     "output_type": "display_data"
    }
   ],
   "source": [
    "#\n",
    "w = Statevector([0, 1, 1, 0, 1, 0, 0, 0] / sqrt(3))\n",
    "display(w.draw(\"latex\"))\n",
    "\n",
    "result, state = w.measure([0])\n",
    "print(f\"Measured: {result}\\nState after measurement:\")\n",
    "display(state.draw(\"latex\"))\n",
    "\n",
    "result, state = w.measure([0,1])\n",
    "print(f\"Measured: {result}\\nState after measurement:\")\n",
    "display(state.draw(\"latex\"))"
   ]
  },
  {
   "cell_type": "code",
   "execution_count": null,
   "id": "5ec10c13",
   "metadata": {},
   "outputs": [],
   "source": []
  }
 ],
 "metadata": {
  "kernelspec": {
   "display_name": ".venv",
   "language": "python",
   "name": "python3"
  },
  "language_info": {
   "codemirror_mode": {
    "name": "ipython",
    "version": 3
   },
   "file_extension": ".py",
   "mimetype": "text/x-python",
   "name": "python",
   "nbconvert_exporter": "python",
   "pygments_lexer": "ipython3",
   "version": "3.13.2"
  }
 },
 "nbformat": 4,
 "nbformat_minor": 5
}
