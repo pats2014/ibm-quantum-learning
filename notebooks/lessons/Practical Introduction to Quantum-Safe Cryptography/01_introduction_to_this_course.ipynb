{
 "cells": [
  {
   "cell_type": "markdown",
   "id": "07e4cdaf",
   "metadata": {},
   "source": [
    "# Introduction to this course \n",
    "## Table of Contents\n",
    "\n",
    "1. [Course Introduction](#course-introduction)  \n",
    "2. [Key Takeaways for This Course](#key-takeaways-for-this-course)  \n",
    "3. [Tips for Navigating This Course](#tips-for-navigating-this-course)  \n",
    "4. [Before You Begin](#before-you-begin)  \n",
    "5. [Lesson Structure](#lesson-structure)  \n",
    "6. [Running the Python Examples](#running-the-python-examples)  "
   ]
  },
  {
   "cell_type": "markdown",
   "id": "5f50ce58",
   "metadata": {},
   "source": [
    "## Course Introduction\n",
    "This training is designed for both expert and non-expert developers who want to learn about how quantum computing poses a risk to existing cryptography as new quantum algorithms are able to break existing encryption schemes.\n",
    "\n",
    "Specifically, the default information is geared towards individuals with programming knowledge but limited or no experience in cryptography or quantum concepts. Practical Python examples are given which demonstrate the mathematical principles of cryptography, and can be used for some experimentation to improve understanding. This also caters to those seeking a high-level overview of quantum cryptography's workings and its significance in the modern world.\n",
    "\n",
    "Readers desiring a deeper understanding of both quantum physics concepts and cryptography should explore our expandable sections and presentations, which delve into the foundational mathematical concepts of this topic.\n",
    "\n",
    "Through this course, readers will learn how even today's data is at risk as it can be collected now, and decrypted later. It will demonstrate how our existing algorithms are compromised and introduce the innovative techniques which protect against such threats through an agile approach."
   ]
  },
  {
   "cell_type": "markdown",
   "id": "3c1d1ef7",
   "metadata": {},
   "source": [
    "## Key Takeaways for This Course\n",
    "By the end of this course, you will have a better understanding of:\n",
    "\n",
    "- Cryptographic primitives that underpin current cryptographic systems:\n",
    "- Cryptographic Hashing\n",
    "- Asymmetric Cryptography\n",
    "- Symmetric Cryptography\n",
    "- The quantum threat to classical encryption schemes\n",
    "- Quantum-safe encryption schemes\n",
    "You will also have had the opportunity, if you wish, to run some example Python code demonstrating some of the approaches.\n",
    "\n",
    "Finally you can apply for a badge by passing an exam."
   ]
  },
  {
   "cell_type": "markdown",
   "id": "344b35c1",
   "metadata": {},
   "source": [
    "## Tips for Navigating This Course\n",
    "\n",
    "In this course, you can pace your learning however you prefer. The total duration is approximately 6–7 hours including the additional presentations, and running the sample code, though this time will vary depending on your existing knowledge and any links you follow. If you need to leave the course, you can easily return later.\n",
    "\n",
    "You can see where you are in the course material using the navigation on the left hand side of the main content. Individual lessons can be expanded to see a set of topics, and you can click to go back to previous topics.\n",
    "\n",
    "Additional References and hover-help can be found highlighted as you go through the material.\n"
   ]
  },
  {
   "cell_type": "markdown",
   "id": "1c40a5ca",
   "metadata": {},
   "source": [
    "## Before You Begin\n",
    "\n",
    "An introductory presentation is linked from the Helpful Materials section on the course overview page.\n",
    "\n",
    "This provides:\n",
    "\n",
    "An introduction to cryptography\n",
    "A maths primer\n",
    "If you are unfamilar with these topics, you may wish to review this presentation before starting the lessons, or return to it if you feel the need later.\n"
   ]
  },
  {
   "cell_type": "markdown",
   "id": "fcc4b85b",
   "metadata": {},
   "source": [
    "## Lesson Structure\n",
    "\n",
    "Each lesson will include:\n",
    "\n",
    "- An introduction including the learning objective for this lesson\n",
    "- Detail on the cryptography topic being presented including:\n",
    "    - An explanation of the topic and current algorithms\n",
    "    - Math explanations and examples. Some of these are in collapsible sections so you can skip if you do not wish to understand the math detail.\n",
    "    - Optional Python code examples that can be run (you will need to be logged in)\n",
    "    - Risks from classical computing algorithms\n",
    "    - Risks from quantum computing algorithms\n",
    "    - Approaches to mitigate this risk\n",
    "- A list of key takeaways from the lesson\n",
    "\n"
   ]
  },
  {
   "cell_type": "markdown",
   "id": "13038836",
   "metadata": {},
   "source": [
    "## Running the Python Examples\n",
    "\n",
    "The Python code has been run already so that readers browsing the text can see the results without additional steps. However, and in particular for those with an interest in software development, you are encouraged to run these examples yourself. You can also experiment with input parameters and explore the principles in an experimental way.\n",
    "\n",
    "When you run a Python cell for the first time, you will be prompted to log in to IBM Quantum.\n",
    "\n",
    "You should run each Python cell in order, from the beginning of the notebook. Later cells are typically dependent on earlier ones to set up libraries, variables, etc. Each cell has been written to produce some output after execution.\n",
    "\n",
    "> Important Note - The Python code examples are provided to demonstrate the mathematical principles of the algorithms being discussed. They are not intended to be used as actual implementations. It is essential to use well-supported and reviewed security libraries in any real-world usage.\n"
   ]
  }
 ],
 "metadata": {
  "language_info": {
   "name": "python"
  }
 },
 "nbformat": 4,
 "nbformat_minor": 5
}
