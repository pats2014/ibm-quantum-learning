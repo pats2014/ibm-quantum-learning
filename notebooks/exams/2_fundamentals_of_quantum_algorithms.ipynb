{
 "cells": [
  {
   "cell_type": "markdown",
   "id": "f82f0869",
   "metadata": {},
   "source": [
    "# Fundamentals of Quantum Algorithms\n",
    "\n",
    "Please assume that $\\Sigma = \\{0,1\\}$ denotes the binary alphabet whenever it arises in any of the questions.\n",
    "\n",
    "## Table of Contents\n",
    "- [Test](#test)\n",
    "    - [Question 1: Efficiency and Computational Cost](#question-1-efficiency-and-computational-cost)\n",
    "    - [Question 2: Deutsch-Jozsa for a Non-Promise Function](#question-2-deutsch-jozsa-for-a-non-promise-function)\n",
    "    - [Question 3: Grover's Algorithm on the Same Function](#question-3-grovers-algorithm-on-the-same-function)\n",
    "    - [Question 4: False Statement about the Query Model](#question-4-false-statement-about-the-query-model)\n",
    "    - [Question 5: Deutsch’s Original Algorithm](#question-5-deutschs-original-algorithm)\n",
    "    - [Question 6: Simon’s Algorithm on a Non-Promise Input](#question-6-simons-algorithm-on-a-non-promise-input)\n",
    "    - [Question 7: Quantum Simulation of Boolean Circuits](#question-7-quantum-simulation-of-boolean-circuits)\n",
    "    - [Question 8: Cost of Phase Estimation](#question-8-cost-of-phase-estimation)\n",
    "    - [Question 9: The Swap Test](#question-9-the-swap-test)\n",
    "    - [Question 10: Circuit Size and Depth](#question-10-circuit-size-and-depth)\n",
    "    - [Question 11: QFT Applied Twice](#question-11-qft-applied-twice)\n",
    "    - [Question 12: Grover's Algorithm on a Balanced Function](#question-12-grovers-algorithm-on-a-balanced-function)\n",
    "    - [Question 13: Operation within Grover's Algorithm](#question-13-operation-within-grovers-algorithm)\n",
    "    - [Question 14: False Statement about Unitary Matrices](#question-14-false-statement-about-unitary-matrices)\n",
    "    - [Question 15: Identify the Mystery Gate with Phase Estimation](#question-15-identify-the-mystery-gate-with-phase-estimation)\n",
    "    - [Question 16: Compute the Order](#question-16-compute-the-order)\n",
    "    - [Question 17: Factor an Integer Using the Order](#question-17-factor-an-integer-using-the-order)\n",
    "    - [Question 18: Universal Gate Sets](#question-18-universal-gate-sets)\n",
    "    - [Question 19: False Statement about Grover’s Algorithm](#question-19-false-statement-about-grovers-algorithm)\n",
    "    - [Question 20: Number of Grover Iterations](#question-20-number-of-grover-iterations)\n",
    "\n",
    "## Solutions\n",
    "- [Solutions](#solutions)\n",
    "    - [Solution 1: Efficiency and Computational Cost](#question-1-efficiency-and-computational-cost-solution)\n",
    "    - [Solution 2: Deutsch-Jozsa for a Non-Promise Function](#question-2-deutsch-jozsa-for-a-non-promise-function-solution)\n",
    "    - [Solution 3: Grover's Algorithm on the Same Function](#question-3-grovers-algorithm-on-the-same-function-solution)\n",
    "    - [Solution 4: False Statement about the Query Model](#question-4-false-statement-about-the-query-model-solution)\n",
    "    - [Solution 5: Deutsch’s Original Algorithm](#question-5-deutschs-original-algorithm-solution)\n",
    "    - [Solution 6: Simon’s Algorithm on a Non-Promise Input](#question-6-simons-algorithm-on-a-non-promise-input-solution)\n",
    "    - [Solution 7: Quantum Simulation of Boolean Circuits](#question-7-quantum-simulation-of-boolean-circuits-solution)\n",
    "    - [Solution 8: Cost of Phase Estimation](#question-8-cost-of-phase-estimation-solution)\n",
    "    - [Solution 9: The Swap Test](#question-9-the-swap-test-solution)\n",
    "    - [Solution 10: Circuit Size and Depth](#question-10-circuit-size-and-depth-solution)\n",
    "    - [Solution 11: QFT Applied Twice](#question-11-qft-applied-twice-solution)\n",
    "    - [Solution 12: Grover's Algorithm on a Balanced Function](#question-12-grovers-algorithm-on-a-balanced-function-solution)\n",
    "    - [Solution 13: Operation within Grover's Algorithm](#question-13-operation-within-grovers-algorithm-solution)\n",
    "    - [Solution 14: False Statement about Unitary Matrices](#question-14-false-statement-about-unitary-matrices-solution)\n",
    "    - [Solution 15: Identify the Mystery Gate with Phase Estimation](#question-15-identify-the-mystery-gate-with-phase-estimation-solution)\n",
    "    - [Solution 16: Compute the Order](#question-16-compute-the-order-solution)\n",
    "    - [Solution 17: Factor an Integer Using the Order](#question-17-factor-an-integer-using-the-order-solution)\n",
    "    - [Solution 18: Universal Gate Sets](#question-18-universal-gate-sets-solution)\n",
    "    - [Solution 19: False Statement about Grover’s Algorithm](#question-19-false-statement-about-grovers-algorithm-solution)\n",
    "    - [Solution 20: Number of Grover Iterations](#question-20-number-of-grover-iterations-solution)"
   ]
  },
  {
   "cell_type": "markdown",
   "id": "3543f611",
   "metadata": {
    "vscode": {
     "languageId": "plaintext"
    }
   },
   "source": [
    "## [Test](#test)"
   ]
  },
  {
   "cell_type": "markdown",
   "id": "b25d7fd4",
   "metadata": {},
   "source": [
    "## [Question 1: Efficiency and Computational Cost](#question-1-efficiency-and-computational-cost)\n",
    "**Find the true statements about efficiency and computational cost.**  \n",
    "The following statements are connected with efficiency and computational cost.  \n",
    "Select all of the statements that are **true**.\n",
    "\n",
    "1. There is currently no known efficient classical algorithm for computing the greatest common divisor of two positive integers.  \n",
    "2. *An elementary operation* is one involving a small number of bits or qubits that can be performed quickly and easily — such as computing the OR of two bits.  \n",
    "3. The *power algorithm* computes modular exponentiation with quadratic cost, assuming numbers are encoded using binary notation.  \n",
    "4. Formally speaking, when we consider the cost of a computation, it is understood that a specific encoding scheme has been selected for the inputs and outputs — but we usually don’t worry too much about the specifics.  \n",
    "5. The cost of performing integer addition scales linearly with the input size, assuming numbers are encoded using binary notation.  \n",
    "6. In practice, the identification of a polynomial-cost algorithm for a problem is the final step in terms of efficiency."
   ]
  },
  {
   "cell_type": "markdown",
   "id": "316d8bd1",
   "metadata": {},
   "source": [
    "## [Question 2: Deutsch-Jozsa for a Non-Promise Function](#question-2-deutsch-jozsa-for-a-non-promise-function)\n",
    "\n",
    "### Question 2 of 20 – Deutsch-Jozsa Algorithm Probability\n",
    "\n",
    "The Deutsch-Jozsa algorithm distinguishes perfectly between constant and balanced functions — but for this question we will consider what it does when given a function that is neither constant nor balanced. In particular, suppose $n >= 2$ and $f : \\Sigma^n \\to \\Sigma$ is a function that satisfies:\n",
    "\n",
    "$$\\left| \\{ x \\in \\Sigma^n : f(x) = 1 \\} \\right| = 2^{n-2}$$\n",
    "\n",
    "That is, exactly one-quarter of the binary strings of length $n$ casue $f$  to evaluate to $1$. Suppose that the Deutsch-Josza circuit is run for the function $f$m what is the probability to measure the all-zero string $0^n$? (i.e., all zeros)\n",
    "\n",
    "---\n",
    "\n",
    "Choose one:\n",
    "\n",
    "1. $0$  \n",
    "2. $1/4$  \n",
    "3. $1/2$  \n",
    "4. $3/4$  \n",
    "5. $1$\n",
    "\n"
   ]
  },
  {
   "cell_type": "markdown",
   "id": "af311d82",
   "metadata": {},
   "source": [
    "## [Question 3: Grover's Algorithm on the Same Function](#question-3-grovers-algorithm-on-the-same-function)\n",
    "\n",
    "Let $f : \\Sigma^n \\to \\Sigma$ be a function, for $n >= 2$ such that:\n",
    "\n",
    "$$\n",
    "\\left| \\{ x \\in \\Sigma^n : f(x) = 1 \\} \\right| = 2^{n-2}\n",
    "$$\n",
    "\n",
    "Suppose Grover’s algorithm is applied to this function for **4 iterations**. Followed by standard basis measurement as usual.\n",
    "\n",
    "**What is the probability to measure a string $x \\in \\Sigma^n$ satisfying $f(x) = 1$?**\n",
    "\n",
    "Choose one:\n",
    "\n",
    "1. $0$  \n",
    "2. $1/8$  \n",
    "3. $1/2$  \n",
    "4. $3/4$  \n",
    "5. $1$\n",
    "\n"
   ]
  },
  {
   "cell_type": "markdown",
   "id": "d737b3dd",
   "metadata": {},
   "source": [
    "## [Question 4: False Statement about the Query Model](#question-4-false-statement-about-the-query-model)\n",
    "\n",
    "\n",
    "Which of the following statements about the **query model of computation** is **false**?\n",
    "\n",
    "1. The query model is a useful tool for studying algorithms and computation, but it does not typically provide an accurate representation of computational problems having practical importance.\n",
    "\n",
    "2. In the context of the query model, the oracle (or black box) represents the problem input.\n",
    "\n",
    "3. When analyzing the efficiency of quantum query algorithms, the cost of constructing the query gates is typically taken into account.\n",
    "\n",
    "4. In the quantum setting, special consideration must be given to ensure that query gates are unitary.\n"
   ]
  },
  {
   "attachments": {
    "Deutsch-original.png": {
     "image/png": "[encoded data removed]"
    }
   },
   "cell_type": "markdown",
   "id": "a9b46b77",
   "metadata": {},
   "source": [
    "## [Question 5: Deutsch’s Original Algorithm](#question-5-deutschs-original-algorithm)\n",
    "\n",
    "\n",
    "The **original version** of the Deutsch algorithm from 1985 does **not** use the phase kickback trick.\n",
    "\n",
    "Instead, it uses a **two-qubit** oracle gate $U_f$ that maps:\n",
    "\n",
    "$$\n",
    "U_f |x\\rangle|y\\rangle = |x\\rangle|y \\oplus f(x)\\rangle\n",
    "$$\n",
    "\n",
    "The figure below shows the full quantum circuit, including Hadamard gates and the oracle, for $n = 1$ qubit.\n",
    "\n",
    "![Deutsch-original.png](attachment:Deutsch-original.png)\n",
    "\n",
    "**What is the probability that the measurement result of the first qubit is $0$?**\n",
    "\n",
    "Choose one:\n",
    "\n",
    "1. $0$  \n",
    "2. $1/4$  \n",
    "3. $1/2$  \n",
    "4. Depends on whether $f$ is constant or balanced  \n",
    "5. Always $1$\n",
    "\n"
   ]
  },
  {
   "cell_type": "markdown",
   "id": "2fd6ee1e",
   "metadata": {},
   "source": [
    "## [Question 6: Simon’s Algorithm on a Non-Promise Input](#question-6-simons-algorithm-on-a-non-promise-input)\n"
   ]
  },
  {
   "cell_type": "markdown",
   "id": "7f900293",
   "metadata": {},
   "source": [
    "## [Question 7: Quantum Simulation of Boolean Circuits](#question-7-quantum-simulation-of-boolean-circuits)\n"
   ]
  },
  {
   "cell_type": "markdown",
   "id": "4c6f720e",
   "metadata": {},
   "source": [
    "## [Question 8: Cost of Phase Estimation](#question-8-cost-of-phase-estimation)\n"
   ]
  },
  {
   "cell_type": "markdown",
   "id": "51f5856f",
   "metadata": {},
   "source": [
    "## [Question 9: The Swap Test](#question-9-the-swap-test)\n"
   ]
  },
  {
   "cell_type": "markdown",
   "id": "5ebbe672",
   "metadata": {},
   "source": [
    "## [Question 10: Circuit Size and Depth](#question-10-circuit-size-and-depth)\n"
   ]
  },
  {
   "cell_type": "markdown",
   "id": "412742e1",
   "metadata": {},
   "source": [
    "## [Question 11: QFT Applied Twice](#question-11-qft-applied-twice)\n"
   ]
  },
  {
   "cell_type": "markdown",
   "id": "357e6935",
   "metadata": {},
   "source": [
    "## [Question 12: Grover's Algorithm on a Balanced Function](#question-12-grovers-algorithm-on-a-balanced-function)\n"
   ]
  },
  {
   "cell_type": "markdown",
   "id": "6c3d0455",
   "metadata": {},
   "source": [
    "## [Question 13: Operation within Grover's Algorithm](#question-13-operation-within-grovers-algorithm)\n"
   ]
  },
  {
   "cell_type": "markdown",
   "id": "2b7fcb23",
   "metadata": {},
   "source": [
    "## [Question 14: False Statement about Unitary Matrices](#question-14-false-statement-about-unitary-matrices)\n"
   ]
  },
  {
   "cell_type": "markdown",
   "id": "94ecdfc8",
   "metadata": {},
   "source": [
    "## [Question 15: Identify the Mystery Gate with Phase Estimation](#question-15-identify-the-mystery-gate-with-phase-estimation)\n"
   ]
  },
  {
   "cell_type": "markdown",
   "id": "bbcd61c3",
   "metadata": {},
   "source": [
    "## [Question 16: Compute the Order](#question-16-compute-the-order)\n"
   ]
  },
  {
   "cell_type": "markdown",
   "id": "4ab9cb23",
   "metadata": {},
   "source": [
    "## [Question 17: Factor an Integer Using the Order](#question-17-factor-an-integer-using-the-order)\n"
   ]
  },
  {
   "cell_type": "markdown",
   "id": "e78c9821",
   "metadata": {},
   "source": [
    "## [Question 18: Universal Gate Sets](#question-18-universal-gate-sets)\n"
   ]
  },
  {
   "cell_type": "markdown",
   "id": "f7a9d14e",
   "metadata": {},
   "source": [
    "## [Question 19: False Statement about Grover’s Algorithm](#question-19-false-statement-about-grovers-algorithm)\n"
   ]
  },
  {
   "cell_type": "markdown",
   "id": "8b87538d",
   "metadata": {},
   "source": [
    "## [Question 20: Number of Grover Iterations](#question-20-number-of-grover-iterations)"
   ]
  },
  {
   "cell_type": "markdown",
   "id": "cf669858",
   "metadata": {},
   "source": [
    "## [Solutions](#solutions)"
   ]
  },
  {
   "cell_type": "markdown",
   "id": "ad2c8093",
   "metadata": {},
   "source": [
    "## [Solution 1: Efficiency and Computational Cost](#question-1-efficiency-and-computational-cost-solution)\n",
    "\n",
    "### ✅ Correct Answers:\n",
    "- **2**\n",
    "- **4**\n",
    "- **5**\n",
    "\n",
    "---\n",
    "\n",
    "### 🧠 Explanation:\n",
    "\n",
    "**Option 1 — False:**  \n",
    "There *is* an efficient classical algorithm: **Euclid's algorithm** for computing GCD. It runs in polynomial time in the size of the input (number of bits).\n",
    "\n",
    "**Option 2 — ✅ True:**  \n",
    "Elementary operations (like OR, AND) act on a few bits and are assumed to run in constant time. This fits the definition.\n",
    "\n",
    "**Option 3 — False:**  \n",
    "Modular exponentiation typically has **cubic** cost under naïve implementation (repeated multiplication). Assuming binary encoding, it's not accurate to call it **quadratic**.\n",
    "\n",
    "**Option 4 — ✅ True:**  \n",
    "In computational theory, encoding schemes (like binary) are fixed and standard. We usually abstract away the encoding when analyzing efficiency.\n",
    "\n",
    "**Option 5 — ✅ True:**  \n",
    "Adding two $ n $-bit binary numbers takes $ O(n) $ time. This is a linear operation under standard models.\n",
    "\n",
    "**Option 6 — False:**  \n",
    "Finding a polynomial-time algorithm is significant, but not the end. In practice, algorithm degree, constants, and real-world performance still matter.\n"
   ]
  },
  {
   "cell_type": "markdown",
   "id": "9bfc75ab",
   "metadata": {},
   "source": [
    "## [Solution 2: Deutsch-Jozsa for a Non-Promise Function](#question-2-deutsch-jozsa-for-a-non-promise-function-solution)\n",
    "\n",
    "### ✅ Correct Answer:\n",
    "**2. $1/4$**\n",
    "\n",
    "---\n",
    "\n",
    "### 🧠 Explanation:\n",
    "\n",
    "In the Deutsch-Jozsa algorithm, the probability of measuring the state $|0^n\\rangle$ is given by:\n",
    "\n",
    "$$\n",
    "\\left| \\frac{1}{2^n} \\sum_{x \\in \\{0,1\\}^n} (-1)^{f(x)} \\right|^2\n",
    "$$\n",
    "\n",
    "We are told that $f(x) = 1$ for $2^{n-2}$ values of $x$, so:\n",
    "\n",
    "- Number of $x$ with $f(x) = 0$ is $2^n - 2^{n-2} = 2^n \\cdot \\left(1 - \\frac{1}{4}\\right) = 2^n \\cdot \\frac{3}{4}$\n",
    "\n",
    "Now compute the sum:\n",
    "\n",
    "$$\n",
    "\\sum_x (-1)^{f(x)} = (+1) \\cdot \\left(\\frac{3}{4} \\cdot 2^n\\right) + (-1) \\cdot \\left(\\frac{1}{4} \\cdot 2^n\\right) = 2^n \\cdot \\left(\\frac{3}{4} - \\frac{1}{4}\\right) = 2^n \\cdot \\frac{1}{2}\n",
    "$$\n",
    "\n",
    "Now plug into the probability expression:\n",
    "\n",
    "$$\n",
    "\\left| \\frac{1}{2^n} \\cdot \\left(2^n \\cdot \\frac{1}{2}\\right) \\right|^2 = \\left(\\frac{1}{2}\\right)^2 = \\frac{1}{4}\n",
    "$$\n",
    "\n",
    "So the Deutsch-Jozsa algorithm outputs $0^n$ with **probability $1/4$**.\n",
    "\n"
   ]
  },
  {
   "cell_type": "code",
   "execution_count": 1,
   "id": "f9f0cee8",
   "metadata": {},
   "outputs": [
    {
     "name": "stdout",
     "output_type": "stream",
     "text": [
      "Measurement probabilities:\n",
      "{'1110': 122, '1000': 126, '1101': 124, '0001': 131, '0100': 133, '0110': 494, '0010': 129, '0000': 539, '1011': 123, '0111': 127}\n",
      "Probability of measuring 0000: 0.2632\n"
     ]
    },
    {
     "data": {
      "image/png": "[encoded data removed]",
      "text/plain": [
       "<Figure size 640x480 with 1 Axes>"
      ]
     },
     "execution_count": 1,
     "metadata": {},
     "output_type": "execute_result"
    }
   ],
   "source": [
    "from qiskit import QuantumCircuit, transpile\n",
    "from qiskit_aer import AerSimulator\n",
    "from qiskit.visualization import plot_histogram\n",
    "import numpy as np\n",
    "from collections import Counter\n",
    "\n",
    "def create_non_balanced_non_constant_oracle(n):\n",
    "    \"\"\"\n",
    "    Create an oracle where f(x) = 1 for 2^{n-2} specific inputs,\n",
    "    and f(x) = 0 otherwise.\n",
    "    This function returns a QuantumCircuit implementing this oracle.\n",
    "    \"\"\"\n",
    "    qc = QuantumCircuit(n + 1)\n",
    "\n",
    "    # Choose 2^{n-2} unique x values\n",
    "    num_marked = 2**(n-2)\n",
    "    marked_inputs = np.random.choice(2**n, num_marked, replace=False)\n",
    "\n",
    "    def apply_controlled_flip(qc, x_bin):\n",
    "        # Apply X gates to match the target state\n",
    "        for i, bit in enumerate(reversed(x_bin)):\n",
    "            if bit == '0':\n",
    "                qc.x(i)\n",
    "        qc.mcx(list(range(n)), n)\n",
    "        for i, bit in enumerate(reversed(x_bin)):\n",
    "            if bit == '0':\n",
    "                qc.x(i)\n",
    "\n",
    "    # Build oracle using multi-controlled NOTs\n",
    "    for x in marked_inputs:\n",
    "        x_bin = f\"{x:0{n}b}\"\n",
    "        apply_controlled_flip(qc, x_bin)\n",
    "\n",
    "    return qc\n",
    "\n",
    "def compile_circuit(function: QuantumCircuit):\n",
    "    n = function.num_qubits - 1\n",
    "    qc = QuantumCircuit(n + 1, n)\n",
    "    qc.x(n)\n",
    "    qc.h(range(n + 1))\n",
    "    qc.compose(function, inplace=True)\n",
    "    qc.h(range(n))\n",
    "    qc.measure(range(n), range(n))\n",
    "    return qc\n",
    "\n",
    "def simulate_measurements(qc, shots=1024):\n",
    "    simulator = AerSimulator()\n",
    "    transpiled = transpile(qc, simulator)\n",
    "    result = simulator.run(transpiled, shots=shots).result()\n",
    "    counts = result.get_counts()\n",
    "    return counts\n",
    "\n",
    "# -- Run for n = 4 qubits (i.e. 16 inputs, 2^{n-2} = 4 marked)\n",
    "n = 4\n",
    "oracle = create_non_balanced_non_constant_oracle(n)\n",
    "qc = compile_circuit(oracle)\n",
    "counts = simulate_measurements(qc, shots=2048)\n",
    "\n",
    "# Probability of measuring '0000'\n",
    "prob_0000 = counts.get('0000', 0) / 2048\n",
    "\n",
    "# Display results\n",
    "print(\"Measurement probabilities:\")\n",
    "print(counts)\n",
    "print(f\"Probability of measuring 0000: {prob_0000:.4f}\")\n",
    "\n",
    "# Optional: plot\n",
    "plot_histogram(counts)\n"
   ]
  },
  {
   "cell_type": "markdown",
   "id": "cef64893",
   "metadata": {},
   "source": [
    "## [Solution 3: Grover's Algorithm on the Same Function](#question-3-grovers-algorithm-on-the-same-function-solution)\n",
    "\n",
    "### ✅ Correct Answer:\n",
    "**5. $1$**\n",
    "\n",
    "---\n",
    "\n",
    "### 🧠 Explanation:\n",
    "\n",
    "Grover’s algorithm amplifies the amplitude of **marked states** (where $f(x) = 1$) using repeated applications of the **Grover operator**. After $r$ iterations, the probability of measuring a marked state is:\n",
    "\n",
    "$$\n",
    "\\sin^2\\left( (2r + 1) \\theta \\right)\n",
    "$$\n",
    "\n",
    "where $\\theta$ satisfies:\n",
    "\n",
    "$$\n",
    "\\sin^2(\\theta) = \\frac{M}{N}\n",
    "$$\n",
    "\n",
    "Here:\n",
    "\n",
    "- $N = 2^n$ (total number of inputs)  \n",
    "- $M = 2^{n-2}$ (number of marked inputs)  \n",
    "- So: $\\frac{M}{N} = \\frac{2^{n-2}}{2^n} = \\frac{1}{4}$  \n",
    "- Therefore: $\\theta = \\arcsin\\left( \\frac{1}{2} \\right) = \\frac{\\pi}{6}$\n",
    "\n",
    "Now apply $r = 4$ iterations:\n",
    "\n",
    "$$\n",
    "(2r + 1) \\theta = 9 \\cdot \\frac{\\pi}{6} = \\frac{3\\pi}{2}\n",
    "$$\n",
    "\n",
    "So the success probability is:\n",
    "\n",
    "$$\n",
    "\\sin^2\\left( \\frac{3\\pi}{2} \\right) = \\sin^2\\left(270^\\circ\\right) = (-1)^2 = \\boxed{1}\n",
    "$$\n",
    "\n",
    "Grover's algorithm will return a marked input with **100% certainty** after 4 iterations in this setup.\n",
    "\n"
   ]
  },
  {
   "cell_type": "code",
   "execution_count": null,
   "id": "3738bfe8",
   "metadata": {},
   "outputs": [
    {
     "ename": "ModuleNotFoundError",
     "evalue": "No module named 'qiskit_ibm_runtime'",
     "output_type": "error",
     "traceback": [
      "\u001b[31m---------------------------------------------------------------------------\u001b[39m",
      "\u001b[31mModuleNotFoundError\u001b[39m                       Traceback (most recent call last)",
      "\u001b[36mCell\u001b[39m\u001b[36m \u001b[39m\u001b[32mIn[2]\u001b[39m\u001b[32m, line 8\u001b[39m\n\u001b[32m      6\u001b[39m \u001b[38;5;28;01mfrom\u001b[39;00m\u001b[38;5;250m \u001b[39m\u001b[34;01mqiskit\u001b[39;00m\u001b[34;01m.\u001b[39;00m\u001b[34;01mcircuit\u001b[39;00m\u001b[34;01m.\u001b[39;00m\u001b[34;01mlibrary\u001b[39;00m\u001b[38;5;250m \u001b[39m\u001b[38;5;28;01mimport\u001b[39;00m GroverOperator, MCMT, ZGate\n\u001b[32m      7\u001b[39m \u001b[38;5;28;01mfrom\u001b[39;00m\u001b[38;5;250m \u001b[39m\u001b[34;01mqiskit\u001b[39;00m\u001b[34;01m.\u001b[39;00m\u001b[34;01mvisualization\u001b[39;00m\u001b[38;5;250m \u001b[39m\u001b[38;5;28;01mimport\u001b[39;00m plot_distribution\n\u001b[32m----> \u001b[39m\u001b[32m8\u001b[39m \u001b[38;5;28;01mfrom\u001b[39;00m\u001b[38;5;250m \u001b[39m\u001b[34;01mqiskit_ibm_runtime\u001b[39;00m\u001b[38;5;250m \u001b[39m\u001b[38;5;28;01mimport\u001b[39;00m QiskitRuntimeService, SamplerV2 \u001b[38;5;28;01mas\u001b[39;00m Sampler\n\u001b[32m      9\u001b[39m \u001b[38;5;28;01mfrom\u001b[39;00m\u001b[38;5;250m \u001b[39m\u001b[34;01mqiskit\u001b[39;00m\u001b[34;01m.\u001b[39;00m\u001b[34;01mtranspiler\u001b[39;00m\u001b[34;01m.\u001b[39;00m\u001b[34;01mpreset_passmanagers\u001b[39;00m\u001b[38;5;250m \u001b[39m\u001b[38;5;28;01mimport\u001b[39;00m generate_preset_pass_manager\n\u001b[32m     11\u001b[39m \u001b[38;5;66;03m# Set up IBM Quantum service and choose least busy backend\u001b[39;00m\n",
      "\u001b[31mModuleNotFoundError\u001b[39m: No module named 'qiskit_ibm_runtime'"
     ]
    }
   ],
   "source": [
    "# Built-in modules\n",
    "import math\n",
    "\n",
    "# Qiskit imports\n",
    "from qiskit import QuantumCircuit\n",
    "from qiskit.circuit.library import GroverOperator, MCMT, ZGate\n",
    "from qiskit.visualization import plot_distribution\n",
    "from qiskit_ibm_runtime import QiskitRuntimeService, SamplerV2 as Sampler\n",
    "from qiskit.transpiler.preset_passmanagers import generate_preset_pass_manager\n",
    "\n",
    "# Set up IBM Quantum service and choose least busy backend\n",
    "service = QiskitRuntimeService(channel=\"ibm_quantum\")\n",
    "backend = service.least_busy(operational=True, simulator=False)\n",
    "print(f\"Running on backend: {backend.name}\")\n",
    "\n",
    "# --- Step 1: Define Oracle ---\n",
    "def grover_oracle(marked_states):\n",
    "    \"\"\"\n",
    "    Create a Grover oracle circuit that marks the given states.\n",
    "    \"\"\"\n",
    "    if not isinstance(marked_states, list):\n",
    "        marked_states = [marked_states]\n",
    "\n",
    "    num_qubits = len(marked_states[0])\n",
    "    qc = QuantumCircuit(num_qubits)\n",
    "\n",
    "    for state in marked_states:\n",
    "        rev_state = state[::-1]  # Flip for Qiskit little-endian format\n",
    "        zero_inds = [i for i, bit in enumerate(rev_state) if bit == '0']\n",
    "        qc.x(zero_inds)\n",
    "        qc.compose(MCMT(ZGate(), num_qubits - 1, 1), inplace=True)\n",
    "        qc.x(zero_inds)\n",
    "\n",
    "    return qc\n",
    "\n",
    "# --- Step 2: Marked states for the function f(x) = 1 when x ∈ marked_states ---\n",
    "marked_states = [\"011\", \"100\"]  # Two marked states (M = 2), total 8 (N = 2^3)\n",
    "\n",
    "oracle = grover_oracle(marked_states)\n",
    "oracle.draw(output=\"mpl\", style=\"iqp\")\n",
    "\n",
    "# --- Step 3: Compute optimal number of Grover iterations ---\n",
    "N = 2**3  # total states\n",
    "M = len(marked_states)\n",
    "theta = math.asin(math.sqrt(M / N))  # sin^2(theta) = M / N\n",
    "optimal_num_iterations = int(round((math.pi / (4 * theta)) - 0.5))\n",
    "print(f\"Optimal Grover iterations: {optimal_num_iterations}\")\n",
    "\n",
    "# --- Step 4: Build Grover circuit ---\n",
    "grover_op = GroverOperator(oracle)\n",
    "\n",
    "qc = QuantumCircuit(grover_op.num_qubits)\n",
    "qc.h(range(grover_op.num_qubits))  # Create equal superposition\n",
    "qc.compose(grover_op.power(optimal_num_iterations), inplace=True)\n",
    "qc.measure_all()\n",
    "qc.draw(output=\"mpl\", style=\"iqp\")\n",
    "\n",
    "# --- Step 5: Transpile for hardware ---\n",
    "pm = generate_preset_pass_manager(target=backend.target, optimization_level=3)\n",
    "circuit_isa = pm.run(qc)\n",
    "\n",
    "# --- Step 6: Run with Qiskit Runtime Sampler ---\n",
    "sampler = Sampler(mode=backend)\n",
    "sampler.options.default_shots = 10_000\n",
    "\n",
    "result = sampler.run([circuit_isa]).result()\n",
    "dist = result[0].data.meas.get_counts()\n",
    "\n",
    "# --- Step 7: Display Results ---\n",
    "plot_distribution(dist, title=\"Grover's Algorithm Measurement Results\")\n"
   ]
  },
  {
   "cell_type": "markdown",
   "id": "0fe90ae4",
   "metadata": {},
   "source": [
    "## [Solution 4: False Statement about the Query Model](#question-4-false-statement-about-the-query-model-solution)\n",
    "\n",
    "\n",
    "### ✅ Correct Answer:\n",
    "**3. When analyzing the efficiency of quantum query algorithms, the cost of constructing the query gates is typically taken into account.**\n",
    "\n",
    "---\n",
    "\n",
    "### 🧠 Explanation:\n",
    "\n",
    "Let’s go through each option:\n",
    "\n",
    "**Option 1 — ✅ True**  \n",
    "The query model is a simplified, abstract model of computation that isolates the number of queries (oracle calls). While it provides deep theoretical insights, it doesn't model all real-world costs.\n",
    "\n",
    "**Option 2 — ✅ True**  \n",
    "Correct. In the query model, the oracle encapsulates the input. For example, in Grover's algorithm, the oracle tells you whether an input is a solution, without revealing the structure of the function.\n",
    "\n",
    "**Option 3 — ❌ False (Correct Answer)**  \n",
    "This is **false**. In the query model, we typically **do not** count the cost of constructing or implementing the oracle/query gate. The cost metric is solely the **number of queries** made to the black box.\n",
    "\n",
    "**Option 4 — ✅ True**  \n",
    "In quantum computing, all operations (including query gates) must be **unitary** to preserve the quantum state. Designing a valid quantum oracle always requires ensuring unitarity.\n"
   ]
  },
  {
   "cell_type": "markdown",
   "id": "c0991815",
   "metadata": {},
   "source": [
    "## [Solution 5: Deutsch’s Original Algorithm](#question-5-deutschs-original-algorithm-solution)\n",
    "\n",
    "### ✅ Correct Answer:\n",
    "**4. Depends on whether $f$ is constant or balanced**\n",
    "\n",
    "---\n",
    "\n",
    "### 🧠 Explanation:\n",
    "\n",
    "In the **original Deutsch algorithm**, the oracle $U_f$ maps:\n",
    "\n",
    "$$\n",
    "|x\\rangle|y\\rangle \\rightarrow |x\\rangle|y \\oplus f(x)\\rangle\n",
    "$$\n",
    "\n",
    "The input state is prepared as:\n",
    "\n",
    "$$\n",
    "|0\\rangle \\otimes |0\\rangle \\xrightarrow{H \\otimes H} \\frac{1}{2} \\sum_{x,y \\in \\{0,1\\}} |x\\rangle|y\\rangle\n",
    "$$\n",
    "\n",
    "After applying $U_f$, we get:\n",
    "\n",
    "$$\n",
    "\\frac{1}{2} \\sum_{x,y} |x\\rangle |y \\oplus f(x)\\rangle\n",
    "$$\n",
    "\n",
    "Next, we apply a Hadamard to the **first qubit** only and measure it.\n",
    "\n",
    "---\n",
    "\n",
    "Let’s analyze the output:\n",
    "\n",
    "- **If $f$ is constant**:\n",
    "  - Then $f(x) = 0$ or $f(x) = 1$ for all $x$\n",
    "  - The state remains symmetric, and interference leads to measuring the first qubit as **$0$ with probability 1**\n",
    "\n",
    "- **If $f$ is balanced**:\n",
    "  - Then $f(0) \\ne f(1)$\n",
    "  - The state evolves such that the first qubit has **equal probability** of being measured as $0$ or $1$\n",
    "  - So the probability of measuring $0$ is $1/2$\n",
    "\n",
    "---\n",
    "\n",
    "### 🎯 Conclusion:\n",
    "\n",
    "- If $f$ is **constant**, $\\Pr(0) = 1$\n",
    "- If $f$ is **balanced**, $\\Pr(0) = 1/2$\n",
    "\n",
    "Hence, the probability of measuring $0$ on the first qubit **depends on whether $f$ is constant or balanced**.\n"
   ]
  },
  {
   "cell_type": "code",
   "execution_count": 4,
   "id": "3107c822",
   "metadata": {},
   "outputs": [
    {
     "name": "stdout",
     "output_type": "stream",
     "text": [
      "Oracle case: constant_0\n",
      "Measurement counts (qubit 0): {'0': 1024}\n"
     ]
    },
    {
     "data": {
      "image/png": "[encoded data removed]",
      "text/plain": [
       "<Figure size 640x480 with 1 Axes>"
      ]
     },
     "metadata": {},
     "output_type": "display_data"
    },
    {
     "name": "stdout",
     "output_type": "stream",
     "text": [
      "Oracle case: constant_1\n",
      "Measurement counts (qubit 0): {'0': 1024}\n"
     ]
    },
    {
     "data": {
      "image/png": "[encoded data removed]",
      "text/plain": [
       "<Figure size 640x480 with 1 Axes>"
      ]
     },
     "metadata": {},
     "output_type": "display_data"
    },
    {
     "name": "stdout",
     "output_type": "stream",
     "text": [
      "Oracle case: balanced_01\n",
      "Measurement counts (qubit 0): {'0': 1024}\n"
     ]
    },
    {
     "data": {
      "image/png": "[encoded data removed]",
      "text/plain": [
       "<Figure size 640x480 with 1 Axes>"
      ]
     },
     "metadata": {},
     "output_type": "display_data"
    },
    {
     "name": "stdout",
     "output_type": "stream",
     "text": [
      "Oracle case: balanced_10\n",
      "Measurement counts (qubit 0): {'0': 1024}\n"
     ]
    },
    {
     "data": {
      "image/png": "[encoded data removed]",
      "text/plain": [
       "<Figure size 640x480 with 1 Axes>"
      ]
     },
     "metadata": {},
     "output_type": "display_data"
    }
   ],
   "source": [
    "from qiskit_aer import AerSimulator\n",
    "from qiskit.visualization import plot_histogram\n",
    "import matplotlib.pyplot as plt\n",
    "\n",
    "def deutsch_original(f_case=\"constant_0\"):\n",
    "    \"\"\"\n",
    "    Simulate Deutsch's original algorithm (1985) with a two-qubit oracle.\n",
    "    \n",
    "    Parameters:\n",
    "    - f_case: one of ['constant_0', 'constant_1', 'balanced_01', 'balanced_10']\n",
    "      Defines how the oracle behaves.\n",
    "    \n",
    "    Returns:\n",
    "    - result_counts: dictionary of measurement counts on the first qubit.\n",
    "    \"\"\"\n",
    "\n",
    "    # Step 1: Create quantum circuit with 2 qubits and 1 classical bit\n",
    "    qc = QuantumCircuit(2, 1)\n",
    "\n",
    "    # Step 2: Apply Hadamard to both qubits\n",
    "    qc.h(0)\n",
    "    qc.h(1)\n",
    "\n",
    "    # Step 3: Oracle implementation\n",
    "    if f_case == \"constant_0\":\n",
    "        pass  # Do nothing, f(x) = 0\n",
    "    elif f_case == \"constant_1\":\n",
    "        qc.x(1)  # Flip second qubit unconditionally, f(x) = 1\n",
    "    elif f_case == \"balanced_01\":\n",
    "        qc.cx(0, 1)  # f(0)=0, f(1)=1\n",
    "    elif f_case == \"balanced_10\":\n",
    "        qc.x(0)\n",
    "        qc.cx(0, 1)\n",
    "        qc.x(0)  # f(0)=1, f(1)=0\n",
    "    else:\n",
    "        raise ValueError(\"Invalid f_case value\")\n",
    "\n",
    "    # Step 4: Apply Hadamard to the first qubit\n",
    "    qc.h(0)\n",
    "\n",
    "    # Step 5: Measure the first qubit\n",
    "    qc.measure(0, 0)\n",
    "\n",
    "    # Step 6: Run the simulation\n",
    "    counts = simulate_measurements(qc, shots=1024)\n",
    "\n",
    "    # Visualize the result\n",
    "    print(f\"Oracle case: {f_case}\")\n",
    "    print(f\"Measurement counts (qubit 0): {counts}\")\n",
    "    plot_histogram(counts)\n",
    "    plt.title(f\"Deutsch Algorithm Result – {f_case}\")\n",
    "    plt.show()\n",
    "\n",
    "    return counts\n",
    "\n",
    "# Test all four oracle types\n",
    "for case in [\"constant_0\", \"constant_1\", \"balanced_01\", \"balanced_10\"]:\n",
    "    deutsch_original(case)\n"
   ]
  },
  {
   "cell_type": "markdown",
   "id": "83b0275c",
   "metadata": {},
   "source": [
    "## [Solution 6: Simon’s Algorithm on a Non-Promise Input](#question-6-simons-algorithm-on-a-non-promise-input-solution)\n"
   ]
  },
  {
   "cell_type": "markdown",
   "id": "18572c2f",
   "metadata": {},
   "source": [
    "## [Solution 7: Quantum Simulation of Boolean Circuits](#question-7-quantum-simulation-of-boolean-circuits-solution)\n"
   ]
  },
  {
   "cell_type": "markdown",
   "id": "04ba557b",
   "metadata": {},
   "source": [
    "## [Solution 8: Cost of Phase Estimation](#question-8-cost-of-phase-estimation-solution)\n"
   ]
  },
  {
   "cell_type": "markdown",
   "id": "b3216441",
   "metadata": {},
   "source": [
    "## [Solution 9: The Swap Test](#question-9-the-swap-test-solution)\n"
   ]
  },
  {
   "cell_type": "markdown",
   "id": "a7b72fc7",
   "metadata": {},
   "source": [
    "## [Solution 10: Circuit Size and Depth](#question-10-circuit-size-and-depth-solution)\n"
   ]
  },
  {
   "cell_type": "markdown",
   "id": "1beedc89",
   "metadata": {},
   "source": [
    "## [Solution 11: QFT Applied Twice](#question-11-qft-applied-twice-solution)\n"
   ]
  },
  {
   "cell_type": "markdown",
   "id": "536401ae",
   "metadata": {},
   "source": [
    "## [Solution 12: Grover's Algorithm on a Balanced Function](#question-12-grovers-algorithm-on-a-balanced-function-solution)\n"
   ]
  },
  {
   "cell_type": "markdown",
   "id": "a5921aa0",
   "metadata": {},
   "source": [
    "## [Solution 13: Operation within Grover's Algorithm](#question-13-operation-within-grovers-algorithm-solution)\n"
   ]
  },
  {
   "cell_type": "markdown",
   "id": "cb0e9efe",
   "metadata": {},
   "source": [
    "## [Solution 14: False Statement about Unitary Matrices](#question-14-false-statement-about-unitary-matrices-solution)\n"
   ]
  },
  {
   "cell_type": "markdown",
   "id": "32e7886c",
   "metadata": {},
   "source": [
    "## [Solution 15: Identify the Mystery Gate with Phase Estimation](#question-15-identify-the-mystery-gate-with-phase-estimation-solution)\n"
   ]
  },
  {
   "cell_type": "markdown",
   "id": "f2179334",
   "metadata": {},
   "source": [
    "## [Solution 16: Compute the Order](#question-16-compute-the-order-solution)\n"
   ]
  },
  {
   "cell_type": "markdown",
   "id": "da4820e9",
   "metadata": {},
   "source": [
    "## [Solution 17: Factor an Integer Using the Order](#question-17-factor-an-integer-using-the-order-solution)\n"
   ]
  },
  {
   "cell_type": "markdown",
   "id": "9e1beb92",
   "metadata": {},
   "source": [
    "## [Solution 18: Universal Gate Sets](#question-18-universal-gate-sets-solution)\n"
   ]
  },
  {
   "cell_type": "markdown",
   "id": "61c80c63",
   "metadata": {},
   "source": [
    "## [Solution 19: False Statement about Grover’s Algorithm](#question-19-false-statement-about-grovers-algorithm-solution)\n"
   ]
  },
  {
   "cell_type": "markdown",
   "id": "6e10b955",
   "metadata": {},
   "source": [
    "## [Solution 20: Number of Grover Iterations](#question-20-number-of-grover-iterations-solution)"
   ]
  },
  {
   "cell_type": "markdown",
   "id": "7be73087",
   "metadata": {},
   "source": []
  },
  {
   "cell_type": "markdown",
   "id": "6ac71af3",
   "metadata": {},
   "source": []
  }
 ],
 "metadata": {
  "kernelspec": {
   "display_name": ".venv",
   "language": "python",
   "name": "python3"
  },
  "language_info": {
   "codemirror_mode": {
    "name": "ipython",
    "version": 3
   },
   "file_extension": ".py",
   "mimetype": "text/x-python",
   "name": "python",
   "nbconvert_exporter": "python",
   "pygments_lexer": "ipython3",
   "version": "3.13.3"
  }
 },
 "nbformat": 4,
 "nbformat_minor": 5
}
