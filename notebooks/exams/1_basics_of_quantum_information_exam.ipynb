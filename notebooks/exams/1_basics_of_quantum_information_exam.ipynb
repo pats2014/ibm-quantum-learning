{
 "cells": [
  {
   "cell_type": "code",
   "execution_count": 1,
   "id": "96801cb5",
   "metadata": {},
   "outputs": [],
   "source": [
    "from qiskit import QuantumCircuit, QuantumRegister, ClassicalRegister\n",
    "from qiskit.quantum_info import Operator"
   ]
  },
  {
   "cell_type": "markdown",
   "id": "e74f4ca2",
   "metadata": {},
   "source": [
    "The variables listed represent objects from the Qiskit library, which is used for quantum computing. Here's an explanation of each variable:\n",
    "\n",
    "1. **Operator**: This is a class from `qiskit.quantum_info`. It represents a quantum operator, which can be used to describe unitary operations or other transformations in quantum mechanics.\n",
    "\n",
    "2. **Statevector**: This is another class from `qiskit.quantum_info`. It represents the state vector of a quantum system, which is a mathematical representation of the quantum state.\n",
    "\n",
    "3. **X**: This is a `QuantumRegister` object with 1 qubit, named \"X\". Quantum registers are used to hold qubits in a quantum circuit.\n",
    "\n",
    "4. **Y**: This is another `QuantumRegister` object with 1 qubit, named \"Y\".\n",
    "\n",
    "5. **circuit**: This is a `QuantumCircuit` object. It represents a quantum circuit that operates on the quantum registers `X` and `Y`. The circuit likely contains quantum gates and operations.\n",
    "\n",
    "6. **qc**: This is another `QuantumCircuit` object, separate from `circuit`. It represents a different quantum circuit.\n",
    "\n",
    "7. **state**: This is a `Statevector` object. It represents the quantum state of a system with 2 qubits. The state vector `[0.70710678+0.j, 0.+0.j, 0.+0.j, 0.70710678+0.j]` indicates a superposition state, with equal probability amplitudes for the first and last basis states.\n",
    "\n",
    "These variables are already defined in the Jupyter Notebook and can be used in subsequent cells without redefining them."
   ]
  },
  {
   "cell_type": "code",
   "execution_count": null,
   "id": "6730beea",
   "metadata": {},
   "outputs": [
    {
     "data": {
      "image/png": "[encoded data removed]",
      "text/plain": [
       "<Figure size 270.66x200.667 with 1 Axes>"
      ]
     },
     "metadata": {},
     "output_type": "display_data"
    },
    {
     "data": {
      "text/latex": [
       "$$\n",
       "\n",
       "\\begin{bmatrix}\n",
       "\\frac{\\sqrt{2}}{2} & \\frac{\\sqrt{2}}{2} & 0 & 0  \\\\\n",
       " 0 & 0 & - \\frac{\\sqrt{2}}{2} & \\frac{\\sqrt{2}}{2}  \\\\\n",
       " 0 & 0 & - \\frac{\\sqrt{2}}{2} & - \\frac{\\sqrt{2}}{2}  \\\\\n",
       " \\frac{\\sqrt{2}}{2} & - \\frac{\\sqrt{2}}{2} & 0 & 0  \\\\\n",
       " \\end{bmatrix}\n",
       "$$"
      ],
      "text/plain": [
       "<IPython.core.display.Latex object>"
      ]
     },
     "metadata": {},
     "output_type": "display_data"
    }
   ],
   "source": [
    "\n",
    "X = QuantumRegister(1, \"X\")\n",
    "Y = QuantumRegister(1, \"Y\")\n",
    "circuit = QuantumCircuit(Y,X)\n",
    "circuit.h(Y)\n",
    "circuit.z(X)\n",
    "circuit.cx(Y, X)\n",
    "\n",
    "display(circuit.draw(output=\"mpl\"))\n",
    "display(Operator.from_circuit(circuit).draw(\"latex\"))"
   ]
  },
  {
   "cell_type": "code",
   "execution_count": 2,
   "id": "f4be33bc",
   "metadata": {},
   "outputs": [
    {
     "data": {
      "image/png": "[encoded data removed]",
      "text/plain": [
       "<Figure size 370.906x200.667 with 1 Axes>"
      ]
     },
     "metadata": {},
     "output_type": "display_data"
    },
    {
     "data": {
      "text/latex": [
       "$$\n",
       "\n",
       "\\begin{bmatrix}\n",
       "\\frac{1}{2} & \\frac{1}{2} & \\frac{i}{2} & \\frac{i}{2}  \\\\\n",
       " - \\frac{1}{2} & \\frac{1}{2} & \\frac{i}{2} & - \\frac{i}{2}  \\\\\n",
       " \\frac{1}{2} & \\frac{1}{2} & - \\frac{i}{2} & - \\frac{i}{2}  \\\\\n",
       " - \\frac{1}{2} & \\frac{1}{2} & - \\frac{i}{2} & \\frac{i}{2}  \\\\\n",
       " \\end{bmatrix}\n",
       "$$"
      ],
      "text/plain": [
       "<IPython.core.display.Latex object>"
      ]
     },
     "metadata": {},
     "output_type": "display_data"
    }
   ],
   "source": [
    "qc = QuantumCircuit(2)\n",
    "qc.x(0)\n",
    "qc.s(1)\n",
    "qc.cx(1, 0)\n",
    "qc.h(0)\n",
    "qc.h(1)\n",
    "display(qc.draw(output=\"mpl\"))\n",
    "display(Operator.from_circuit(qc).draw(\"latex\"))"
   ]
  },
  {
   "cell_type": "code",
   "execution_count": null,
   "id": "0109c941",
   "metadata": {},
   "outputs": [],
   "source": [
    "def chsh_game(strategy):\n",
    "    # This function runs the CHSH game, using the strategy (a function\n",
    "    # from two bits to two bits), returning 1 for a win and 0 for a loss.\n",
    "\n",
    "    # Choose x and y randomly\n",
    "    x, y = random.randint(0, 2), random.randint(0, 2)\n",
    "\n",
    "    # Use the strategy to determine a and b\n",
    "    a, b = strategy(x, y)\n",
    "\n",
    "    # Decide if the strategy wins or loses\n",
    "    if (a != b) == (x & y):\n",
    "        return 1  # Win\n",
    "    return 0  # Lose"
   ]
  },
  {
   "cell_type": "code",
   "execution_count": null,
   "id": "408a43e2",
   "metadata": {},
   "outputs": [],
   "source": [
    "def chsh_circuit(x, y):\n",
    "    # This function creates a `QuantumCircuit` implementing the quantum\n",
    "    # strategy described above (including the e-bit preparation).\n",
    "\n",
    "    qc = QuantumCircuit(2, 2)\n",
    "\n",
    "    # Prepare an e-bit\n",
    "    qc.h(0)\n",
    "    qc.cx(0, 1)\n",
    "    qc.barrier()\n",
    "\n",
    "    # Alice's actions\n",
    "    if x == 0:\n",
    "        qc.ry(0, 0)\n",
    "    else:\n",
    "        qc.ry(-pi / 2, 0)\n",
    "    qc.measure(0, 0)\n",
    "\n",
    "    # Bob's actions\n",
    "    if y == 0:\n",
    "        qc.ry(-pi / 4, 1)\n",
    "    else:\n",
    "        qc.ry(pi / 4, 1)\n",
    "    qc.measure(1, 1)\n",
    "\n",
    "    return qc"
   ]
  }
 ],
 "metadata": {
  "kernelspec": {
   "display_name": ".venv",
   "language": "python",
   "name": "python3"
  },
  "language_info": {
   "codemirror_mode": {
    "name": "ipython",
    "version": 3
   },
   "file_extension": ".py",
   "mimetype": "text/x-python",
   "name": "python",
   "nbconvert_exporter": "python",
   "pygments_lexer": "ipython3",
   "version": "3.13.2"
  }
 },
 "nbformat": 4,
 "nbformat_minor": 5
}
